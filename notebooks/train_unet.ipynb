{
 "cells": [
  {
   "cell_type": "code",
   "execution_count": 1,
   "metadata": {},
   "outputs": [],
   "source": [
    "import pytorch_lightning as pl\n",
    "\n",
    "from torch.utils.data import DataLoader\n",
    "from pytorch_lightning.loggers import WandbLogger\n",
    "\n",
    "from src.data import RandomPatchesDataset\n",
    "from src.models import UNetLit"
   ]
  },
  {
   "cell_type": "code",
   "execution_count": 2,
   "metadata": {},
   "outputs": [
    {
     "name": "stdout",
     "output_type": "stream",
     "text": [
      "Succesfully loaded 38 images\n",
      "Succesfully loaded 4 images\n",
      "Succesfully loaded 37 images\n"
     ]
    }
   ],
   "source": [
    "batch_size = 50\n",
    "\n",
    "train_dataset = RandomPatchesDataset(\n",
    "    '../data/processed/train/img',\n",
    "    '../data/processed/train/mask',\n",
    ")\n",
    "train_data_loader = DataLoader(train_dataset, batch_size = batch_size)\n",
    "\n",
    "val_dataset = RandomPatchesDataset(\n",
    "    '../data/processed/val/img',\n",
    "    '../data/processed/val/mask',\n",
    ")\n",
    "val_data_loader = DataLoader(val_dataset, batch_size = batch_size)\n",
    "\n",
    "test_dataset = RandomPatchesDataset(\n",
    "    '../data/processed/test/img',\n",
    "    '../data/processed/test/mask',\n",
    ")\n",
    "test_data_loader = DataLoader(test_dataset, batch_size = batch_size)"
   ]
  },
  {
   "cell_type": "code",
   "execution_count": 3,
   "metadata": {},
   "outputs": [],
   "source": [
    "from backbones_unet.model.unet import Unet\n",
    "from backbones_unet.model.losses import DiceLoss\n",
    "from backbones_unet.utils.trainer import Trainer\n"
   ]
  },
  {
   "cell_type": "code",
   "execution_count": 4,
   "metadata": {},
   "outputs": [],
   "source": [
    "import pytorch_lightning as pl\n",
    "from typing import Dict, Any, Optional\n",
    "from pytorch_toolbelt.losses import BinaryFocalLoss\n",
    "from ternausnet.models import UNet11\n",
    "from torch.optim import Adam, lr_scheduler\n",
    "\n",
    "class UNetLit(pl.LightningModule):\n",
    "    \"\"\" A pytorch lightning wrapper for UNet11.\n",
    "    \"\"\"\n",
    "    def __init__(self, config: Optional[Dict[str, Any]] = None):\n",
    "        \"\"\"Initializes the model with hyperparameters.\n",
    "\n",
    "        Args:\n",
    "            config:\n",
    "                A dict of model hyperparameters. It should contain following fields:\n",
    "                lr - learning rate of Adam optimizer\n",
    "                eps - term added to denominator to improve numerical stability in Adam optimizer\n",
    "                step_size - period of learning rate decay in scheduler\n",
    "                gamma - multiplicative factor of learning rate decay in scheduler\n",
    "        \"\"\"\n",
    "        super().__init__()\n",
    "        if config:\n",
    "            self.lr = config[\"lr\"]\n",
    "            self.eps = config[\"eps\"]\n",
    "            self.step_size = config[\"step_size\"]\n",
    "            self.gamma = config[\"gamma\"]\n",
    "\n",
    "        self.model = Unet(\n",
    "            backbone='convnext_base', # backbone network name\n",
    "            in_channels=1,            # input channels (1 for gray-scale images, 3 for RGB, etc.)\n",
    "            num_classes=1,            # output channels (number of classes in your dataset)\n",
    "        )\n",
    "        self.loss_fn = BinaryFocalLoss()\n",
    "\n",
    "    def forward(self, x):\n",
    "        outputs = self.model(x)\n",
    "        return outputs\n",
    "\n",
    "    def configure_optimizers(self):\n",
    "        optimizer = Adam(self.model.parameters(), lr=self.lr, eps=self.eps)\n",
    "        scheduler = lr_scheduler.StepLR(optimizer, step_size=self.step_size, gamma=self.gamma)\n",
    "        return [optimizer], [scheduler]\n",
    "\n",
    "    def training_step(self, batch, batch_idx):\n",
    "        x, y = batch\n",
    "        x = x.float()\n",
    "        outputs = self(x)\n",
    "        loss = self.loss_fn(outputs, y)\n",
    "        preds = (outputs > 0.5).float()\n",
    "        self.log(\"train_loss\", loss)\n",
    "        self.log(\"train_acc\", (preds == y).float().mean(), on_step=False, on_epoch=True)\n",
    "        return loss\n",
    "\n",
    "    def validation_step(self, batch, batch_idx):\n",
    "        x, y = batch\n",
    "        x = x.float()\n",
    "        outputs = self(x)\n",
    "        loss = self.loss_fn(outputs, y)\n",
    "        preds = (outputs > 0.5).float()\n",
    "        self.log(\"val_loss\", loss)\n",
    "        self.log(\"val_acc\", (preds == y).float().mean(), on_step=False, on_epoch=True)\n",
    "        return loss\n",
    "\n",
    "    def test_step(self, batch, batch_idx):\n",
    "        x, y = batch\n",
    "        x = x.float()\n",
    "        outputs = self(x)\n",
    "        loss = self.loss_fn(outputs, y)\n",
    "        preds = (outputs > 0.5).float()\n",
    "        self.log(\"test_loss\", loss)\n",
    "        self.log(\"test_acc\", (preds == y).float().mean(), on_step=False, on_epoch=True)\n",
    "        return loss\n"
   ]
  },
  {
   "cell_type": "code",
   "execution_count": 5,
   "metadata": {},
   "outputs": [
    {
     "name": "stderr",
     "output_type": "stream",
     "text": [
      "GPU available: False, used: False\n",
      "TPU available: False, using: 0 TPU cores\n",
      "IPU available: False, using: 0 IPUs\n",
      "HPU available: False, using: 0 HPUs\n",
      "/home/urbans50/micromamba/envs/cell_nuclei_segmentation/lib/python3.10/site-packages/pytorch_lightning/trainer/connectors/logger_connector/logger_connector.py:67: UserWarning: Starting from v1.9.0, `tensorboardX` has been removed as a dependency of the `pytorch_lightning` package, due to potential conflicts with other packages in the ML ecosystem. For this reason, `logger=True` will use `CSVLogger` as the default logger, unless the `tensorboard` or `tensorboardX` packages are found. Please `pip install lightning[extra]` or one of them to enable TensorBoard support by default\n",
      "  warning_cache.warn(\n",
      "\n",
      "  | Name    | Type            | Params\n",
      "--------------------------------------------\n",
      "0 | model   | Unet            | 92.6 M\n",
      "1 | loss_fn | BinaryFocalLoss | 0     \n",
      "--------------------------------------------\n",
      "92.6 M    Trainable params\n",
      "0         Non-trainable params\n",
      "92.6 M    Total params\n",
      "370.589   Total estimated model params size (MB)\n"
     ]
    },
    {
     "data": {
      "application/vnd.jupyter.widget-view+json": {
       "model_id": "7065148fd97f49568b9424c65aa4b46e",
       "version_major": 2,
       "version_minor": 0
      },
      "text/plain": [
       "Sanity Checking: 0it [00:00, ?it/s]"
      ]
     },
     "metadata": {},
     "output_type": "display_data"
    },
    {
     "name": "stderr",
     "output_type": "stream",
     "text": [
      "/home/urbans50/micromamba/envs/cell_nuclei_segmentation/lib/python3.10/site-packages/pytorch_lightning/trainer/connectors/data_connector.py:430: PossibleUserWarning: The dataloader, val_dataloader, does not have many workers which may be a bottleneck. Consider increasing the value of the `num_workers` argument` (try 8 which is the number of cpus on this machine) in the `DataLoader` init to improve performance.\n",
      "  rank_zero_warn(\n",
      "/home/urbans50/micromamba/envs/cell_nuclei_segmentation/lib/python3.10/site-packages/pytorch_lightning/trainer/connectors/data_connector.py:430: PossibleUserWarning: The dataloader, train_dataloader, does not have many workers which may be a bottleneck. Consider increasing the value of the `num_workers` argument` (try 8 which is the number of cpus on this machine) in the `DataLoader` init to improve performance.\n",
      "  rank_zero_warn(\n"
     ]
    },
    {
     "data": {
      "application/vnd.jupyter.widget-view+json": {
       "model_id": "ae1202bb4df6407883df273a5a1934a4",
       "version_major": 2,
       "version_minor": 0
      },
      "text/plain": [
       "Training: 0it [00:00, ?it/s]"
      ]
     },
     "metadata": {},
     "output_type": "display_data"
    },
    {
     "name": "stderr",
     "output_type": "stream",
     "text": [
      "/home/urbans50/micromamba/envs/cell_nuclei_segmentation/lib/python3.10/site-packages/pytorch_lightning/trainer/call.py:54: UserWarning: Detected KeyboardInterrupt, attempting graceful shutdown...\n",
      "  rank_zero_warn(\"Detected KeyboardInterrupt, attempting graceful shutdown...\")\n"
     ]
    }
   ],
   "source": [
    "config = {\n",
    "    \"lr\": 0.01,\n",
    "    \"eps\": 1.0e-08,\n",
    "    \"step_size\": 4,\n",
    "    \"gamma\": 0.1\n",
    "}\n",
    "num_epochs = 10\n",
    "checkpoints_dir_path = './models'\n",
    "project = 'cell-nuclei-segmentation'\n",
    "gpus = 0\n",
    "\n",
    "model = UNetLit(config)\n",
    "checkpoint_callback = pl.callbacks.ModelCheckpoint(\n",
    "    monitor='val_acc',\n",
    "    dirpath=checkpoints_dir_path,\n",
    "    filename='model-{epoch:02d}-{val_acc:.2f}',\n",
    "    save_top_k=1,\n",
    "    mode='max',\n",
    ")\n",
    "\n",
    "trainer = pl.Trainer(\n",
    "#    logger=WandbLogger(save_dir=\"logs/\", project=project),\n",
    "    max_epochs=num_epochs,\n",
    "    callbacks=[checkpoint_callback],\n",
    "    )\n",
    "\n",
    "trainer.fit(model, train_data_loader, val_data_loader)"
   ]
  },
  {
   "cell_type": "code",
   "execution_count": null,
   "metadata": {},
   "outputs": [],
   "source": []
  }
 ],
 "metadata": {
  "kernelspec": {
   "display_name": "Python 3",
   "language": "python",
   "name": "python3"
  },
  "language_info": {
   "codemirror_mode": {
    "name": "ipython",
    "version": 3
   },
   "file_extension": ".py",
   "mimetype": "text/x-python",
   "name": "python",
   "nbconvert_exporter": "python",
   "pygments_lexer": "ipython3",
   "version": "3.10.11"
  },
  "orig_nbformat": 4
 },
 "nbformat": 4,
 "nbformat_minor": 2
}
