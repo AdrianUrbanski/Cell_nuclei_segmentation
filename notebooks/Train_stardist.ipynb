{
 "cells": [
  {
   "cell_type": "markdown",
   "metadata": {
    "id": "W9uhJ_nr4Q6H"
   },
   "source": [
    "# Installing requirements"
   ]
  },
  {
   "cell_type": "code",
   "execution_count": null,
   "metadata": {
    "colab": {
     "base_uri": "https://localhost:8080/"
    },
    "id": "0koGpnQPTZD8",
    "outputId": "51735cd4-7d10-4f34-a63b-6eba9afa6bb2"
   },
   "outputs": [
    {
     "output_type": "stream",
     "name": "stdout",
     "text": [
      "Looking in indexes: https://pypi.org/simple, https://us-python.pkg.dev/colab-wheels/public/simple/\n",
      "Collecting git+https://github.com/AdrianUrbanski/Cell_nuclei_segmentation.git\n",
      "  Cloning https://github.com/AdrianUrbanski/Cell_nuclei_segmentation.git to /tmp/pip-req-build-6o24xih1\n",
      "  Running command git clone --filter=blob:none --quiet https://github.com/AdrianUrbanski/Cell_nuclei_segmentation.git /tmp/pip-req-build-6o24xih1\n",
      "  Resolved https://github.com/AdrianUrbanski/Cell_nuclei_segmentation.git to commit bcc5e2208344be5fbfba5b736f96be167c82a65b\n",
      "  Preparing metadata (setup.py) ... \u001B[?25l\u001B[?25hdone\n",
      "Building wheels for collected packages: src\n",
      "  Building wheel for src (setup.py) ... \u001B[?25l\u001B[?25hdone\n",
      "  Created wheel for src: filename=src-0.1.0-py3-none-any.whl size=4392 sha256=e5b06fcead6d3f29a0bfb2ce9f78071bc74a2cd048e268d8856e1ceb7e00809f\n",
      "  Stored in directory: /tmp/pip-ephem-wheel-cache-yjl3svk8/wheels/05/26/e4/331bb032dbc294e55b1e141b7a6595a14c0e57d6c05184dc51\n",
      "Successfully built src\n",
      "Installing collected packages: src\n",
      "Successfully installed src-0.1.0\n"
     ]
    }
   ],
   "source": [
    "!pip install git+https://github.com/AdrianUrbanski/Cell_nuclei_segmentation.git"
   ]
  },
  {
   "cell_type": "code",
   "execution_count": null,
   "metadata": {
    "colab": {
     "base_uri": "https://localhost:8080/",
     "height": 1000
    },
    "id": "R5Z1GvM-TeV-",
    "outputId": "a43d9bb9-c0de-40db-8c9a-ebe256898e48"
   },
   "outputs": [
    {
     "output_type": "stream",
     "name": "stdout",
     "text": [
      "Looking in indexes: https://pypi.org/simple, https://us-python.pkg.dev/colab-wheels/public/simple/\n",
      "Collecting pytorch-lightning\n",
      "  Downloading pytorch_lightning-2.0.3-py3-none-any.whl (720 kB)\n",
      "\u001B[2K     \u001B[90m━━━━━━━━━━━━━━━━━━━━━━━━━━━━━━━━━━━━━━\u001B[0m \u001B[32m720.6/720.6 kB\u001B[0m \u001B[31m25.2 MB/s\u001B[0m eta \u001B[36m0:00:00\u001B[0m\n",
      "\u001B[?25hCollecting pytorch-toolbelt\n",
      "  Downloading pytorch_toolbelt-0.6.3-py3-none-any.whl (159 kB)\n",
      "\u001B[2K     \u001B[90m━━━━━━━━━━━━━━━━━━━━━━━━━━━━━━━━━━━━━━\u001B[0m \u001B[32m159.1/159.1 kB\u001B[0m \u001B[31m16.9 MB/s\u001B[0m eta \u001B[36m0:00:00\u001B[0m\n",
      "\u001B[?25hCollecting imagecodecs\n",
      "  Downloading imagecodecs-2023.3.16-cp310-cp310-manylinux_2_17_x86_64.manylinux2014_x86_64.whl (35.7 MB)\n",
      "\u001B[2K     \u001B[90m━━━━━━━━━━━━━━━━━━━━━━━━━━━━━━━━━━━━━━━━\u001B[0m \u001B[32m35.7/35.7 MB\u001B[0m \u001B[31m38.4 MB/s\u001B[0m eta \u001B[36m0:00:00\u001B[0m\n",
      "\u001B[?25hCollecting stardist\n",
      "  Downloading stardist-0.8.3-cp310-cp310-manylinux_2_17_x86_64.manylinux2014_x86_64.whl (3.0 MB)\n",
      "\u001B[2K     \u001B[90m━━━━━━━━━━━━━━━━━━━━━━━━━━━━━━━━━━━━━━━━\u001B[0m \u001B[32m3.0/3.0 MB\u001B[0m \u001B[31m69.0 MB/s\u001B[0m eta \u001B[36m0:00:00\u001B[0m\n",
      "\u001B[?25hCollecting wandb\n",
      "  Downloading wandb-0.15.4-py3-none-any.whl (2.1 MB)\n",
      "\u001B[2K     \u001B[90m━━━━━━━━━━━━━━━━━━━━━━━━━━━━━━━━━━━━━━━━\u001B[0m \u001B[32m2.1/2.1 MB\u001B[0m \u001B[31m62.4 MB/s\u001B[0m eta \u001B[36m0:00:00\u001B[0m\n",
      "\u001B[?25hCollecting gputools\n",
      "  Downloading gputools-0.2.14-py3-none-any.whl (136 kB)\n",
      "\u001B[2K     \u001B[90m━━━━━━━━━━━━━━━━━━━━━━━━━━━━━━━━━━━━━━\u001B[0m \u001B[32m136.8/136.8 kB\u001B[0m \u001B[31m13.0 MB/s\u001B[0m eta \u001B[36m0:00:00\u001B[0m\n",
      "\u001B[?25hRequirement already satisfied: numpy>=1.17.2 in /usr/local/lib/python3.10/dist-packages (from pytorch-lightning) (1.22.4)\n",
      "Requirement already satisfied: torch>=1.11.0 in /usr/local/lib/python3.10/dist-packages (from pytorch-lightning) (2.0.1+cu118)\n",
      "Requirement already satisfied: tqdm>=4.57.0 in /usr/local/lib/python3.10/dist-packages (from pytorch-lightning) (4.65.0)\n",
      "Requirement already satisfied: PyYAML>=5.4 in /usr/local/lib/python3.10/dist-packages (from pytorch-lightning) (6.0)\n",
      "Requirement already satisfied: fsspec[http]>2021.06.0 in /usr/local/lib/python3.10/dist-packages (from pytorch-lightning) (2023.4.0)\n",
      "Collecting torchmetrics>=0.7.0 (from pytorch-lightning)\n",
      "  Downloading torchmetrics-0.11.4-py3-none-any.whl (519 kB)\n",
      "\u001B[2K     \u001B[90m━━━━━━━━━━━━━━━━━━━━━━━━━━━━━━━━━━━━━━\u001B[0m \u001B[32m519.2/519.2 kB\u001B[0m \u001B[31m45.1 MB/s\u001B[0m eta \u001B[36m0:00:00\u001B[0m\n",
      "\u001B[?25hRequirement already satisfied: packaging>=17.1 in /usr/local/lib/python3.10/dist-packages (from pytorch-lightning) (23.1)\n",
      "Requirement already satisfied: typing-extensions>=4.0.0 in /usr/local/lib/python3.10/dist-packages (from pytorch-lightning) (4.5.0)\n",
      "Collecting lightning-utilities>=0.7.0 (from pytorch-lightning)\n",
      "  Downloading lightning_utilities-0.8.0-py3-none-any.whl (20 kB)\n",
      "Requirement already satisfied: torchvision in /usr/local/lib/python3.10/dist-packages (from pytorch-toolbelt) (0.15.2+cu118)\n",
      "Requirement already satisfied: scipy>=1.4.0 in /usr/local/lib/python3.10/dist-packages (from pytorch-toolbelt) (1.10.1)\n",
      "Requirement already satisfied: opencv-python>=4.1 in /usr/local/lib/python3.10/dist-packages (from pytorch-toolbelt) (4.7.0.72)\n",
      "Collecting csbdeep>=0.6.3 (from stardist)\n",
      "  Downloading csbdeep-0.7.3-py2.py3-none-any.whl (69 kB)\n",
      "\u001B[2K     \u001B[90m━━━━━━━━━━━━━━━━━━━━━━━━━━━━━━━━━━━━━━━━\u001B[0m \u001B[32m69.6/69.6 kB\u001B[0m \u001B[31m7.5 MB/s\u001B[0m eta \u001B[36m0:00:00\u001B[0m\n",
      "\u001B[?25hRequirement already satisfied: scikit-image in /usr/local/lib/python3.10/dist-packages (from stardist) (0.19.3)\n",
      "Requirement already satisfied: numba in /usr/local/lib/python3.10/dist-packages (from stardist) (0.56.4)\n",
      "Requirement already satisfied: imageio in /usr/local/lib/python3.10/dist-packages (from stardist) (2.25.1)\n",
      "Requirement already satisfied: Click!=8.0.0,>=7.0 in /usr/local/lib/python3.10/dist-packages (from wandb) (8.1.3)\n",
      "Collecting GitPython!=3.1.29,>=1.0.0 (from wandb)\n",
      "  Downloading GitPython-3.1.31-py3-none-any.whl (184 kB)\n",
      "\u001B[2K     \u001B[90m━━━━━━━━━━━━━━━━━━━━━━━━━━━━━━━━━━━━━━\u001B[0m \u001B[32m184.3/184.3 kB\u001B[0m \u001B[31m20.9 MB/s\u001B[0m eta \u001B[36m0:00:00\u001B[0m\n",
      "\u001B[?25hRequirement already satisfied: requests<3,>=2.0.0 in /usr/local/lib/python3.10/dist-packages (from wandb) (2.27.1)\n",
      "Requirement already satisfied: psutil>=5.0.0 in /usr/local/lib/python3.10/dist-packages (from wandb) (5.9.5)\n",
      "Collecting sentry-sdk>=1.0.0 (from wandb)\n",
      "  Downloading sentry_sdk-1.25.1-py2.py3-none-any.whl (206 kB)\n",
      "\u001B[2K     \u001B[90m━━━━━━━━━━━━━━━━━━━━━━━━━━━━━━━━━━━━━━\u001B[0m \u001B[32m206.7/206.7 kB\u001B[0m \u001B[31m23.2 MB/s\u001B[0m eta \u001B[36m0:00:00\u001B[0m\n",
      "\u001B[?25hCollecting docker-pycreds>=0.4.0 (from wandb)\n",
      "  Downloading docker_pycreds-0.4.0-py2.py3-none-any.whl (9.0 kB)\n",
      "Collecting pathtools (from wandb)\n",
      "  Downloading pathtools-0.1.2.tar.gz (11 kB)\n",
      "  Preparing metadata (setup.py) ... \u001B[?25l\u001B[?25hdone\n",
      "Collecting setproctitle (from wandb)\n",
      "  Downloading setproctitle-1.3.2-cp310-cp310-manylinux_2_5_x86_64.manylinux1_x86_64.manylinux_2_17_x86_64.manylinux2014_x86_64.whl (30 kB)\n",
      "Requirement already satisfied: setuptools in /usr/local/lib/python3.10/dist-packages (from wandb) (67.7.2)\n",
      "Requirement already satisfied: appdirs>=1.4.3 in /usr/local/lib/python3.10/dist-packages (from wandb) (1.4.4)\n",
      "Requirement already satisfied: protobuf!=4.21.0,<5,>=3.19.0 in /usr/local/lib/python3.10/dist-packages (from wandb) (3.20.3)\n",
      "Requirement already satisfied: six in /usr/local/lib/python3.10/dist-packages (from gputools) (1.16.0)\n",
      "Collecting pyopencl>=2016.1 (from gputools)\n",
      "  Downloading pyopencl-2023.1-cp310-cp310-manylinux_2_17_x86_64.manylinux2014_x86_64.whl (919 kB)\n",
      "\u001B[2K     \u001B[90m━━━━━━━━━━━━━━━━━━━━━━━━━━━━━━━━━━━━━━\u001B[0m \u001B[32m919.1/919.1 kB\u001B[0m \u001B[31m62.1 MB/s\u001B[0m eta \u001B[36m0:00:00\u001B[0m\n",
      "\u001B[?25hCollecting configparser (from gputools)\n",
      "  Downloading configparser-5.3.0-py3-none-any.whl (19 kB)\n",
      "Collecting reikna>=0.6.7 (from gputools)\n",
      "  Downloading reikna-0.8.0.tar.gz (191 kB)\n",
      "\u001B[2K     \u001B[90m━━━━━━━━━━━━━━━━━━━━━━━━━━━━━━━━━━━━━━\u001B[0m \u001B[32m191.9/191.9 kB\u001B[0m \u001B[31m23.8 MB/s\u001B[0m eta \u001B[36m0:00:00\u001B[0m\n",
      "\u001B[?25h  Preparing metadata (setup.py) ... \u001B[?25l\u001B[?25hdone\n",
      "Requirement already satisfied: matplotlib in /usr/local/lib/python3.10/dist-packages (from csbdeep>=0.6.3->stardist) (3.7.1)\n",
      "Requirement already satisfied: tifffile in /usr/local/lib/python3.10/dist-packages (from csbdeep>=0.6.3->stardist) (2023.4.12)\n",
      "Collecting aiohttp!=4.0.0a0,!=4.0.0a1 (from fsspec[http]>2021.06.0->pytorch-lightning)\n",
      "  Downloading aiohttp-3.8.4-cp310-cp310-manylinux_2_17_x86_64.manylinux2014_x86_64.whl (1.0 MB)\n",
      "\u001B[2K     \u001B[90m━━━━━━━━━━━━━━━━━━━━━━━━━━━━━━━━━━━━━━━━\u001B[0m \u001B[32m1.0/1.0 MB\u001B[0m \u001B[31m68.4 MB/s\u001B[0m eta \u001B[36m0:00:00\u001B[0m\n",
      "\u001B[?25hCollecting gitdb<5,>=4.0.1 (from GitPython!=3.1.29,>=1.0.0->wandb)\n",
      "  Downloading gitdb-4.0.10-py3-none-any.whl (62 kB)\n",
      "\u001B[2K     \u001B[90m━━━━━━━━━━━━━━━━━━━━━━━━━━━━━━━━━━━━━━━━\u001B[0m \u001B[32m62.7/62.7 kB\u001B[0m \u001B[31m7.7 MB/s\u001B[0m eta \u001B[36m0:00:00\u001B[0m\n",
      "\u001B[?25hCollecting pytools>=2021.2.7 (from pyopencl>=2016.1->gputools)\n",
      "  Downloading pytools-2022.1.14.tar.gz (74 kB)\n",
      "\u001B[2K     \u001B[90m━━━━━━━━━━━━━━━━━━━━━━━━━━━━━━━━━━━━━━━━\u001B[0m \u001B[32m74.6/74.6 kB\u001B[0m \u001B[31m8.9 MB/s\u001B[0m eta \u001B[36m0:00:00\u001B[0m\n",
      "\u001B[?25h  Preparing metadata (setup.py) ... \u001B[?25l\u001B[?25hdone\n",
      "Requirement already satisfied: platformdirs>=2.2.0 in /usr/local/lib/python3.10/dist-packages (from pyopencl>=2016.1->gputools) (3.3.0)\n",
      "Collecting mako>=0.8.0 (from reikna>=0.6.7->gputools)\n",
      "  Downloading Mako-1.2.4-py3-none-any.whl (78 kB)\n",
      "\u001B[2K     \u001B[90m━━━━━━━━━━━━━━━━━━━━━━━━━━━━━━━━━━━━━━━━\u001B[0m \u001B[32m78.7/78.7 kB\u001B[0m \u001B[31m10.8 MB/s\u001B[0m eta \u001B[36m0:00:00\u001B[0m\n",
      "\u001B[?25hCollecting funcsigs>=0.3 (from reikna>=0.6.7->gputools)\n",
      "  Downloading funcsigs-1.0.2-py2.py3-none-any.whl (17 kB)\n",
      "Requirement already satisfied: urllib3<1.27,>=1.21.1 in /usr/local/lib/python3.10/dist-packages (from requests<3,>=2.0.0->wandb) (1.26.15)\n",
      "Requirement already satisfied: certifi>=2017.4.17 in /usr/local/lib/python3.10/dist-packages (from requests<3,>=2.0.0->wandb) (2022.12.7)\n",
      "Requirement already satisfied: charset-normalizer~=2.0.0 in /usr/local/lib/python3.10/dist-packages (from requests<3,>=2.0.0->wandb) (2.0.12)\n",
      "Requirement already satisfied: idna<4,>=2.5 in /usr/local/lib/python3.10/dist-packages (from requests<3,>=2.0.0->wandb) (3.4)\n",
      "Requirement already satisfied: filelock in /usr/local/lib/python3.10/dist-packages (from torch>=1.11.0->pytorch-lightning) (3.12.0)\n",
      "Requirement already satisfied: sympy in /usr/local/lib/python3.10/dist-packages (from torch>=1.11.0->pytorch-lightning) (1.11.1)\n",
      "Requirement already satisfied: networkx in /usr/local/lib/python3.10/dist-packages (from torch>=1.11.0->pytorch-lightning) (3.1)\n",
      "Requirement already satisfied: jinja2 in /usr/local/lib/python3.10/dist-packages (from torch>=1.11.0->pytorch-lightning) (3.1.2)\n",
      "Requirement already satisfied: triton==2.0.0 in /usr/local/lib/python3.10/dist-packages (from torch>=1.11.0->pytorch-lightning) (2.0.0)\n",
      "Requirement already satisfied: cmake in /usr/local/lib/python3.10/dist-packages (from triton==2.0.0->torch>=1.11.0->pytorch-lightning) (3.25.2)\n",
      "Requirement already satisfied: lit in /usr/local/lib/python3.10/dist-packages (from triton==2.0.0->torch>=1.11.0->pytorch-lightning) (16.0.5)\n",
      "Requirement already satisfied: pillow>=8.3.2 in /usr/local/lib/python3.10/dist-packages (from imageio->stardist) (8.4.0)\n",
      "Requirement already satisfied: llvmlite<0.40,>=0.39.0dev0 in /usr/local/lib/python3.10/dist-packages (from numba->stardist) (0.39.1)\n",
      "Requirement already satisfied: PyWavelets>=1.1.1 in /usr/local/lib/python3.10/dist-packages (from scikit-image->stardist) (1.4.1)\n",
      "Requirement already satisfied: attrs>=17.3.0 in /usr/local/lib/python3.10/dist-packages (from aiohttp!=4.0.0a0,!=4.0.0a1->fsspec[http]>2021.06.0->pytorch-lightning) (23.1.0)\n",
      "Collecting multidict<7.0,>=4.5 (from aiohttp!=4.0.0a0,!=4.0.0a1->fsspec[http]>2021.06.0->pytorch-lightning)\n",
      "  Downloading multidict-6.0.4-cp310-cp310-manylinux_2_17_x86_64.manylinux2014_x86_64.whl (114 kB)\n",
      "\u001B[2K     \u001B[90m━━━━━━━━━━━━━━━━━━━━━━━━━━━━━━━━━━━━━━\u001B[0m \u001B[32m114.5/114.5 kB\u001B[0m \u001B[31m13.3 MB/s\u001B[0m eta \u001B[36m0:00:00\u001B[0m\n",
      "\u001B[?25hCollecting async-timeout<5.0,>=4.0.0a3 (from aiohttp!=4.0.0a0,!=4.0.0a1->fsspec[http]>2021.06.0->pytorch-lightning)\n",
      "  Downloading async_timeout-4.0.2-py3-none-any.whl (5.8 kB)\n",
      "Collecting yarl<2.0,>=1.0 (from aiohttp!=4.0.0a0,!=4.0.0a1->fsspec[http]>2021.06.0->pytorch-lightning)\n",
      "  Downloading yarl-1.9.2-cp310-cp310-manylinux_2_17_x86_64.manylinux2014_x86_64.whl (268 kB)\n",
      "\u001B[2K     \u001B[90m━━━━━━━━━━━━━━━━━━━━━━━━━━━━━━━━━━━━━━\u001B[0m \u001B[32m268.8/268.8 kB\u001B[0m \u001B[31m11.6 MB/s\u001B[0m eta \u001B[36m0:00:00\u001B[0m\n",
      "\u001B[?25hCollecting frozenlist>=1.1.1 (from aiohttp!=4.0.0a0,!=4.0.0a1->fsspec[http]>2021.06.0->pytorch-lightning)\n",
      "  Downloading frozenlist-1.3.3-cp310-cp310-manylinux_2_5_x86_64.manylinux1_x86_64.manylinux_2_17_x86_64.manylinux2014_x86_64.whl (149 kB)\n",
      "\u001B[2K     \u001B[90m━━━━━━━━━━━━━━━━━━━━━━━━━━━━━━━━━━━━━━\u001B[0m \u001B[32m149.6/149.6 kB\u001B[0m \u001B[31m17.1 MB/s\u001B[0m eta \u001B[36m0:00:00\u001B[0m\n",
      "\u001B[?25hCollecting aiosignal>=1.1.2 (from aiohttp!=4.0.0a0,!=4.0.0a1->fsspec[http]>2021.06.0->pytorch-lightning)\n",
      "  Downloading aiosignal-1.3.1-py3-none-any.whl (7.6 kB)\n",
      "Collecting smmap<6,>=3.0.1 (from gitdb<5,>=4.0.1->GitPython!=3.1.29,>=1.0.0->wandb)\n",
      "  Downloading smmap-5.0.0-py3-none-any.whl (24 kB)\n",
      "Requirement already satisfied: MarkupSafe>=0.9.2 in /usr/local/lib/python3.10/dist-packages (from mako>=0.8.0->reikna>=0.6.7->gputools) (2.1.2)\n",
      "Requirement already satisfied: contourpy>=1.0.1 in /usr/local/lib/python3.10/dist-packages (from matplotlib->csbdeep>=0.6.3->stardist) (1.0.7)\n",
      "Requirement already satisfied: cycler>=0.10 in /usr/local/lib/python3.10/dist-packages (from matplotlib->csbdeep>=0.6.3->stardist) (0.11.0)\n",
      "Requirement already satisfied: fonttools>=4.22.0 in /usr/local/lib/python3.10/dist-packages (from matplotlib->csbdeep>=0.6.3->stardist) (4.39.3)\n",
      "Requirement already satisfied: kiwisolver>=1.0.1 in /usr/local/lib/python3.10/dist-packages (from matplotlib->csbdeep>=0.6.3->stardist) (1.4.4)\n",
      "Requirement already satisfied: pyparsing>=2.3.1 in /usr/local/lib/python3.10/dist-packages (from matplotlib->csbdeep>=0.6.3->stardist) (3.0.9)\n",
      "Requirement already satisfied: python-dateutil>=2.7 in /usr/local/lib/python3.10/dist-packages (from matplotlib->csbdeep>=0.6.3->stardist) (2.8.2)\n",
      "Requirement already satisfied: mpmath>=0.19 in /usr/local/lib/python3.10/dist-packages (from sympy->torch>=1.11.0->pytorch-lightning) (1.3.0)\n",
      "Building wheels for collected packages: reikna, pathtools, pytools\n",
      "  Building wheel for reikna (setup.py) ... \u001B[?25l\u001B[?25hdone\n",
      "  Created wheel for reikna: filename=reikna-0.8.0-py3-none-any.whl size=122535 sha256=8b3472085acfef26b8b59af53e5bd9be59f4c8d886ec2a58ae052af15c4270e7\n",
      "  Stored in directory: /root/.cache/pip/wheels/05/e5/23/96cec119c5ae5226e520a32f5ff4aa410af8fa38564b250523\n",
      "  Building wheel for pathtools (setup.py) ... \u001B[?25l\u001B[?25hdone\n",
      "  Created wheel for pathtools: filename=pathtools-0.1.2-py3-none-any.whl size=8791 sha256=379788337a9508c6bb811539b330b416c17de43a01e662cb3914c513d916b68f\n",
      "  Stored in directory: /root/.cache/pip/wheels/e7/f3/22/152153d6eb222ee7a56ff8617d80ee5207207a8c00a7aab794\n",
      "  Building wheel for pytools (setup.py) ... \u001B[?25l\u001B[?25hdone\n",
      "  Created wheel for pytools: filename=pytools-2022.1.14-py2.py3-none-any.whl size=69855 sha256=5c74a01701198db6fb41fbbf51ea59e6d9e57b680942d2af38b93493c75fa68a\n",
      "  Stored in directory: /root/.cache/pip/wheels/19/02/16/aa2498ad7aa723a149ff7539f1918509661c0ae9d975b44b6d\n",
      "Successfully built reikna pathtools pytools\n",
      "Installing collected packages: pathtools, funcsigs, smmap, setproctitle, sentry-sdk, pytools, multidict, mako, lightning-utilities, imagecodecs, frozenlist, docker-pycreds, configparser, async-timeout, yarl, reikna, pyopencl, gitdb, aiosignal, gputools, GitPython, csbdeep, aiohttp, wandb, stardist, torchmetrics, pytorch-toolbelt, pytorch-lightning\n",
      "Successfully installed GitPython-3.1.31 aiohttp-3.8.4 aiosignal-1.3.1 async-timeout-4.0.2 configparser-5.3.0 csbdeep-0.7.3 docker-pycreds-0.4.0 frozenlist-1.3.3 funcsigs-1.0.2 gitdb-4.0.10 gputools-0.2.14 imagecodecs-2023.3.16 lightning-utilities-0.8.0 mako-1.2.4 multidict-6.0.4 pathtools-0.1.2 pyopencl-2023.1 pytools-2022.1.14 pytorch-lightning-2.0.3 pytorch-toolbelt-0.6.3 reikna-0.8.0 sentry-sdk-1.25.1 setproctitle-1.3.2 smmap-5.0.0 stardist-0.8.3 torchmetrics-0.11.4 wandb-0.15.4 yarl-1.9.2\n"
     ]
    },
    {
     "output_type": "display_data",
     "data": {
      "application/vnd.colab-display-data+json": {
       "pip_warning": {
        "packages": [
         "configparser"
        ]
       }
      }
     },
     "metadata": {}
    }
   ],
   "source": [
    "!pip install pytorch-lightning pytorch-toolbelt imagecodecs stardist wandb gputools"
   ]
  },
  {
   "cell_type": "markdown",
   "metadata": {
    "id": "AzY1LcSw4TjR"
   },
   "source": [
    "# Imports"
   ]
  },
  {
   "cell_type": "code",
   "execution_count": null,
   "metadata": {
    "id": "QSaRGPwUTmxS"
   },
   "outputs": [],
   "source": [
    "from google.colab import drive\n",
    "import pytorch_lightning as pl\n",
    "import wandb\n",
    "from os import listdir\n",
    "from os.path import isfile, join\n",
    "from torch.utils.data import DataLoader\n",
    "from pytorch_lightning.loggers import WandbLogger\n",
    "\n",
    "from src.data import RandomPatchesDataset\n",
    "from __future__ import annotations\n",
    "\n",
    "import numpy as np\n",
    "import imageio.v2 as imageio\n",
    "\n",
    "from torch.utils.data import IterableDataset\n",
    "from typing import Union, Optional\n",
    "from pathlib import Path\n",
    "from stardist.models import StarDist2D\n",
    "from stardist.data import test_image_nuclei_2d\n",
    "from stardist.plot import render_label\n",
    "from csbdeep.utils import normalize\n",
    "import matplotlib.pyplot as plt\n",
    "from stardist import fill_label_holes, random_label_cmap, calculate_extents, gputools_available\n",
    "from stardist.models import Config2D\n",
    "from src.metrics import calculate_dice, calculate_iou, calculate_map\n",
    "from src.utils import map_mask\n",
    "from tqdm import tqdm\n",
    "import pandas as pd"
   ]
  },
  {
   "cell_type": "markdown",
   "metadata": {
    "id": "fZcf8yN34UqF"
   },
   "source": [
    "# Mounting Google Drive"
   ]
  },
  {
   "cell_type": "code",
   "execution_count": null,
   "metadata": {
    "colab": {
     "base_uri": "https://localhost:8080/"
    },
    "id": "ZTcIpHsATlZl",
    "outputId": "ef8b89f9-18b8-4891-de79-466b271469e2"
   },
   "outputs": [
    {
     "output_type": "stream",
     "name": "stdout",
     "text": [
      "Drive already mounted at /content/drive; to attempt to forcibly remount, call drive.mount(\"/content/drive\", force_remount=True).\n"
     ]
    }
   ],
   "source": [
    "drive.mount('/content/drive')"
   ]
  },
  {
   "cell_type": "markdown",
   "metadata": {
    "id": "rz4QcUNo4d8f"
   },
   "source": [
    "# Loading data"
   ]
  },
  {
   "cell_type": "code",
   "execution_count": null,
   "metadata": {
    "id": "chG4GRbbTrAO"
   },
   "outputs": [],
   "source": [
    "PATH = '/content/drive/MyDrive/Colab Notebooks/Cell_segmentation/rescaled'\n",
    "files_names =  listdir(f'{PATH}/train/img')\n",
    "train_imgs = [imageio.imread(f'{PATH}/train/img/{f}') for f in files_names]\n",
    "train_masks = [imageio.imread(f'{PATH}/train/mask/{f}') for f in files_names]\n",
    "\n",
    "train_imgs = [normalize(img) if len(img.shape) == 2 else normalize(img[:, :, 0]) for img in train_imgs]\n",
    "train_masks = [img.astype(int) if len(img.shape) == 2 else img[:, :, 0].astype(int) for img in train_masks]\n",
    "\n",
    "files_names =  listdir(f'{PATH}/val/img')\n",
    "val_imgs = [imageio.imread(f'{PATH}/val/img/{f}') for f in files_names]\n",
    "val_masks = [imageio.imread(f'{PATH}/val/mask/{f}') for f in files_names]\n",
    "\n",
    "val_imgs = [normalize(img) if len(img.shape) == 2 else normalize(img[:, :, 0]) for img in val_imgs]\n",
    "val_masks = [img.astype(int) if len(img.shape) == 2 else img[:, :, 0].astype(int) for img in val_masks]\n",
    "\n",
    "files_names =  listdir(f'{PATH}/test/img')\n",
    "test_imgs = [imageio.imread(f'{PATH}/test/img/{f}') for f in files_names]\n",
    "test_masks = [imageio.imread(f'{PATH}/test/mask/{f}') for f in files_names]\n",
    "\n",
    "test_imgs = [normalize(img) if len(img.shape) == 2 else normalize(img[:, :, 0]) for img in test_imgs]\n",
    "test_masks = [img.astype(int) if len(img.shape) == 2 else img[:, :, 0].astype(int) for img in test_masks]"
   ]
  },
  {
   "cell_type": "markdown",
   "metadata": {
    "id": "kvCqaVxh5CT7"
   },
   "source": [
    "# Loading pretrained model"
   ]
  },
  {
   "cell_type": "code",
   "execution_count": null,
   "metadata": {
    "colab": {
     "base_uri": "https://localhost:8080/"
    },
    "id": "Kpo-nlblUTTs",
    "outputId": "614ae29a-5ce9-4d9e-dd10-3957f95f4303"
   },
   "outputs": [
    {
     "output_type": "stream",
     "name": "stdout",
     "text": [
      "Found model '2D_versatile_fluo' for 'StarDist2D'.\n",
      "Loading network weights from 'weights_best.h5'.\n",
      "Loading thresholds from 'thresholds.json'.\n",
      "Using default values: prob_thresh=0.479071, nms_thresh=0.3.\n"
     ]
    }
   ],
   "source": [
    "model = StarDist2D.from_pretrained('2D_versatile_fluo')"
   ]
  },
  {
   "cell_type": "code",
   "source": [
    "def evaluate(model, dataset):\n",
    "    metrics = []\n",
    "    for img, mask in tqdm(dataset):\n",
    "        pred = model.predict_instances(img)[0]\n",
    "        mask = np.squeeze(mask)\n",
    "        pred = map_mask(mask, pred)\n",
    "        metrics.append({\n",
    "            'dice': calculate_dice(mask, pred),\n",
    "            'iou': calculate_iou(mask, pred),\n",
    "            'map': calculate_map(mask, pred),\n",
    "            })\n",
    "    return pd.DataFrame(metrics)"
   ],
   "metadata": {
    "id": "b0JqhWTDQfGV"
   },
   "execution_count": null,
   "outputs": []
  },
  {
   "cell_type": "code",
   "source": [
    "results = evaluate(model, zip(train_imgs, train_masks))\n",
    "results.describe()"
   ],
   "metadata": {
    "colab": {
     "base_uri": "https://localhost:8080/",
     "height": 977
    },
    "id": "3fNRH-yAkT64",
    "outputId": "bb1e61ca-4aa5-4926-c850-bc4203b5fc71"
   },
   "execution_count": null,
   "outputs": [
    {
     "output_type": "stream",
     "name": "stderr",
     "text": [
      "\r0it [00:00, ?it/s]"
     ]
    },
    {
     "output_type": "stream",
     "name": "stdout",
     "text": [
      "1/1 [==============================] - 0s 259ms/step\n"
     ]
    },
    {
     "output_type": "stream",
     "name": "stderr",
     "text": [
      "\r1it [00:02,  2.69s/it]"
     ]
    },
    {
     "output_type": "stream",
     "name": "stdout",
     "text": [
      "1/1 [==============================] - 1s 946ms/step\n"
     ]
    },
    {
     "output_type": "stream",
     "name": "stderr",
     "text": [
      "\r2it [00:04,  2.10s/it]"
     ]
    },
    {
     "output_type": "stream",
     "name": "stdout",
     "text": [
      "1/1 [==============================] - 0s 28ms/step\n"
     ]
    },
    {
     "output_type": "stream",
     "name": "stderr",
     "text": [
      "\r3it [00:04,  1.22s/it]"
     ]
    },
    {
     "output_type": "stream",
     "name": "stdout",
     "text": [
      "1/1 [==============================] - 0s 32ms/step\n"
     ]
    },
    {
     "output_type": "stream",
     "name": "stderr",
     "text": [
      "\r4it [00:04,  1.16it/s]"
     ]
    },
    {
     "output_type": "stream",
     "name": "stdout",
     "text": [
      "1/1 [==============================] - 0s 23ms/step\n"
     ]
    },
    {
     "output_type": "stream",
     "name": "stderr",
     "text": [
      "\r5it [00:05,  1.60it/s]"
     ]
    },
    {
     "output_type": "stream",
     "name": "stdout",
     "text": [
      "1/1 [==============================] - 0s 29ms/step\n"
     ]
    },
    {
     "output_type": "stream",
     "name": "stderr",
     "text": [
      "\r6it [00:05,  2.18it/s]"
     ]
    },
    {
     "output_type": "stream",
     "name": "stdout",
     "text": [
      "1/1 [==============================] - 0s 26ms/step\n"
     ]
    },
    {
     "output_type": "stream",
     "name": "stderr",
     "text": [
      "\r7it [00:05,  2.67it/s]"
     ]
    },
    {
     "output_type": "stream",
     "name": "stdout",
     "text": [
      "1/1 [==============================] - 0s 24ms/step\n"
     ]
    },
    {
     "output_type": "stream",
     "name": "stderr",
     "text": [
      "\r8it [00:05,  2.89it/s]"
     ]
    },
    {
     "output_type": "stream",
     "name": "stdout",
     "text": [
      "1/1 [==============================] - 0s 24ms/step\n"
     ]
    },
    {
     "output_type": "stream",
     "name": "stderr",
     "text": [
      "\r9it [00:05,  3.53it/s]"
     ]
    },
    {
     "output_type": "stream",
     "name": "stdout",
     "text": [
      "1/1 [==============================] - 0s 32ms/step\n"
     ]
    },
    {
     "output_type": "stream",
     "name": "stderr",
     "text": [
      "\r10it [00:06,  4.03it/s]"
     ]
    },
    {
     "output_type": "stream",
     "name": "stdout",
     "text": [
      "1/1 [==============================] - 0s 37ms/step\n"
     ]
    },
    {
     "output_type": "stream",
     "name": "stderr",
     "text": [
      "\r11it [00:06,  3.56it/s]"
     ]
    },
    {
     "output_type": "stream",
     "name": "stdout",
     "text": [
      "1/1 [==============================] - 0s 36ms/step\n"
     ]
    },
    {
     "output_type": "stream",
     "name": "stderr",
     "text": [
      "\r12it [00:06,  3.76it/s]"
     ]
    },
    {
     "output_type": "stream",
     "name": "stdout",
     "text": [
      "1/1 [==============================] - 0s 60ms/step\n"
     ]
    },
    {
     "output_type": "stream",
     "name": "stderr",
     "text": [
      "\r13it [00:10,  1.41s/it]"
     ]
    },
    {
     "output_type": "stream",
     "name": "stdout",
     "text": [
      "1/1 [==============================] - 0s 38ms/step\n"
     ]
    },
    {
     "output_type": "stream",
     "name": "stderr",
     "text": [
      "\r14it [00:10,  1.09s/it]"
     ]
    },
    {
     "output_type": "stream",
     "name": "stdout",
     "text": [
      "1/1 [==============================] - 0s 36ms/step\n"
     ]
    },
    {
     "output_type": "stream",
     "name": "stderr",
     "text": [
      "\r15it [00:11,  1.19it/s]"
     ]
    },
    {
     "output_type": "stream",
     "name": "stdout",
     "text": [
      "1/1 [==============================] - 0s 35ms/step\n"
     ]
    },
    {
     "output_type": "stream",
     "name": "stderr",
     "text": [
      "\r16it [00:11,  1.55it/s]"
     ]
    },
    {
     "output_type": "stream",
     "name": "stdout",
     "text": [
      "1/1 [==============================] - 0s 36ms/step\n"
     ]
    },
    {
     "output_type": "stream",
     "name": "stderr",
     "text": [
      "\r17it [00:11,  1.88it/s]"
     ]
    },
    {
     "output_type": "stream",
     "name": "stdout",
     "text": [
      "1/1 [==============================] - 0s 40ms/step\n"
     ]
    },
    {
     "output_type": "stream",
     "name": "stderr",
     "text": [
      "\r18it [00:14,  1.21s/it]"
     ]
    },
    {
     "output_type": "stream",
     "name": "stdout",
     "text": [
      "1/1 [==============================] - 0s 24ms/step\n"
     ]
    },
    {
     "output_type": "stream",
     "name": "stderr",
     "text": [
      "\r19it [00:14,  1.09it/s]"
     ]
    },
    {
     "output_type": "stream",
     "name": "stdout",
     "text": [
      "1/1 [==============================] - 0s 30ms/step\n"
     ]
    },
    {
     "output_type": "stream",
     "name": "stderr",
     "text": [
      "\r20it [00:15,  1.39it/s]"
     ]
    },
    {
     "output_type": "stream",
     "name": "stdout",
     "text": [
      "1/1 [==============================] - 0s 25ms/step\n"
     ]
    },
    {
     "output_type": "stream",
     "name": "stderr",
     "text": [
      "\r21it [00:15,  1.77it/s]"
     ]
    },
    {
     "output_type": "stream",
     "name": "stdout",
     "text": [
      "1/1 [==============================] - 0s 24ms/step\n"
     ]
    },
    {
     "output_type": "stream",
     "name": "stderr",
     "text": [
      "\r22it [00:15,  2.23it/s]"
     ]
    },
    {
     "output_type": "stream",
     "name": "stdout",
     "text": [
      "1/1 [==============================] - 0s 24ms/step\n"
     ]
    },
    {
     "output_type": "stream",
     "name": "stderr",
     "text": [
      "\r23it [00:18,  1.19s/it]"
     ]
    },
    {
     "output_type": "stream",
     "name": "stdout",
     "text": [
      "1/1 [==============================] - 0s 25ms/step\n"
     ]
    },
    {
     "output_type": "stream",
     "name": "stderr",
     "text": [
      "\r24it [00:18,  1.11it/s]"
     ]
    },
    {
     "output_type": "stream",
     "name": "stdout",
     "text": [
      "1/1 [==============================] - 0s 22ms/step\n"
     ]
    },
    {
     "output_type": "stream",
     "name": "stderr",
     "text": [
      "\r25it [00:18,  1.45it/s]"
     ]
    },
    {
     "output_type": "stream",
     "name": "stdout",
     "text": [
      "1/1 [==============================] - 0s 26ms/step\n"
     ]
    },
    {
     "output_type": "stream",
     "name": "stderr",
     "text": [
      "\r26it [00:18,  1.86it/s]"
     ]
    },
    {
     "output_type": "stream",
     "name": "stdout",
     "text": [
      "1/1 [==============================] - 0s 22ms/step\n"
     ]
    },
    {
     "output_type": "stream",
     "name": "stderr",
     "text": [
      "\r27it [00:19,  2.16it/s]"
     ]
    },
    {
     "output_type": "stream",
     "name": "stdout",
     "text": [
      "1/1 [==============================] - 0s 22ms/step\n"
     ]
    },
    {
     "output_type": "stream",
     "name": "stderr",
     "text": [
      "\r28it [00:19,  2.53it/s]"
     ]
    },
    {
     "output_type": "stream",
     "name": "stdout",
     "text": [
      "1/1 [==============================] - 0s 26ms/step\n"
     ]
    },
    {
     "output_type": "stream",
     "name": "stderr",
     "text": [
      "\r29it [00:19,  2.88it/s]"
     ]
    },
    {
     "output_type": "stream",
     "name": "stdout",
     "text": [
      "1/1 [==============================] - 0s 26ms/step\n"
     ]
    },
    {
     "output_type": "stream",
     "name": "stderr",
     "text": [
      "\r30it [00:19,  2.98it/s]"
     ]
    },
    {
     "output_type": "stream",
     "name": "stdout",
     "text": [
      "1/1 [==============================] - 0s 22ms/step\n"
     ]
    },
    {
     "output_type": "stream",
     "name": "stderr",
     "text": [
      "\r31it [00:20,  3.29it/s]"
     ]
    },
    {
     "output_type": "stream",
     "name": "stdout",
     "text": [
      "1/1 [==============================] - 0s 23ms/step\n"
     ]
    },
    {
     "output_type": "stream",
     "name": "stderr",
     "text": [
      "\r32it [00:20,  3.67it/s]"
     ]
    },
    {
     "output_type": "stream",
     "name": "stdout",
     "text": [
      "1/1 [==============================] - 0s 24ms/step\n"
     ]
    },
    {
     "output_type": "stream",
     "name": "stderr",
     "text": [
      "\r33it [00:20,  4.32it/s]"
     ]
    },
    {
     "output_type": "stream",
     "name": "stdout",
     "text": [
      "1/1 [==============================] - 0s 22ms/step\n"
     ]
    },
    {
     "output_type": "stream",
     "name": "stderr",
     "text": [
      "\r34it [00:20,  4.78it/s]"
     ]
    },
    {
     "output_type": "stream",
     "name": "stdout",
     "text": [
      "1/1 [==============================] - 0s 22ms/step\n"
     ]
    },
    {
     "output_type": "stream",
     "name": "stderr",
     "text": [
      "\r35it [00:20,  5.23it/s]"
     ]
    },
    {
     "output_type": "stream",
     "name": "stdout",
     "text": [
      "1/1 [==============================] - 0s 24ms/step\n"
     ]
    },
    {
     "output_type": "stream",
     "name": "stderr",
     "text": [
      "\r36it [00:21,  5.28it/s]"
     ]
    },
    {
     "output_type": "stream",
     "name": "stdout",
     "text": [
      "1/1 [==============================] - 0s 25ms/step\n"
     ]
    },
    {
     "output_type": "stream",
     "name": "stderr",
     "text": [
      "\r37it [00:21,  5.25it/s]"
     ]
    },
    {
     "output_type": "stream",
     "name": "stdout",
     "text": [
      "1/1 [==============================] - 0s 24ms/step\n"
     ]
    },
    {
     "output_type": "stream",
     "name": "stderr",
     "text": [
      "38it [00:21,  1.77it/s]\n"
     ]
    },
    {
     "output_type": "execute_result",
     "data": {
      "text/plain": [
       "            dice        iou        map\n",
       "count  38.000000  38.000000  38.000000\n",
       "mean    0.934697   0.882247   0.863763\n",
       "std     0.056852   0.093373   0.098574\n",
       "min     0.777835   0.636441   0.606486\n",
       "25%     0.914843   0.843067   0.797019\n",
       "50%     0.963005   0.928650   0.897494\n",
       "75%     0.971974   0.945478   0.935915\n",
       "max     0.977691   0.956356   0.990763"
      ],
      "text/html": [
       "\n",
       "  <div id=\"df-1138c3a6-17b0-422f-81a8-c1f31e7722d6\">\n",
       "    <div class=\"colab-df-container\">\n",
       "      <div>\n",
       "<style scoped>\n",
       "    .dataframe tbody tr th:only-of-type {\n",
       "        vertical-align: middle;\n",
       "    }\n",
       "\n",
       "    .dataframe tbody tr th {\n",
       "        vertical-align: top;\n",
       "    }\n",
       "\n",
       "    .dataframe thead th {\n",
       "        text-align: right;\n",
       "    }\n",
       "</style>\n",
       "<table border=\"1\" class=\"dataframe\">\n",
       "  <thead>\n",
       "    <tr style=\"text-align: right;\">\n",
       "      <th></th>\n",
       "      <th>dice</th>\n",
       "      <th>iou</th>\n",
       "      <th>map</th>\n",
       "    </tr>\n",
       "  </thead>\n",
       "  <tbody>\n",
       "    <tr>\n",
       "      <th>count</th>\n",
       "      <td>38.000000</td>\n",
       "      <td>38.000000</td>\n",
       "      <td>38.000000</td>\n",
       "    </tr>\n",
       "    <tr>\n",
       "      <th>mean</th>\n",
       "      <td>0.934697</td>\n",
       "      <td>0.882247</td>\n",
       "      <td>0.863763</td>\n",
       "    </tr>\n",
       "    <tr>\n",
       "      <th>std</th>\n",
       "      <td>0.056852</td>\n",
       "      <td>0.093373</td>\n",
       "      <td>0.098574</td>\n",
       "    </tr>\n",
       "    <tr>\n",
       "      <th>min</th>\n",
       "      <td>0.777835</td>\n",
       "      <td>0.636441</td>\n",
       "      <td>0.606486</td>\n",
       "    </tr>\n",
       "    <tr>\n",
       "      <th>25%</th>\n",
       "      <td>0.914843</td>\n",
       "      <td>0.843067</td>\n",
       "      <td>0.797019</td>\n",
       "    </tr>\n",
       "    <tr>\n",
       "      <th>50%</th>\n",
       "      <td>0.963005</td>\n",
       "      <td>0.928650</td>\n",
       "      <td>0.897494</td>\n",
       "    </tr>\n",
       "    <tr>\n",
       "      <th>75%</th>\n",
       "      <td>0.971974</td>\n",
       "      <td>0.945478</td>\n",
       "      <td>0.935915</td>\n",
       "    </tr>\n",
       "    <tr>\n",
       "      <th>max</th>\n",
       "      <td>0.977691</td>\n",
       "      <td>0.956356</td>\n",
       "      <td>0.990763</td>\n",
       "    </tr>\n",
       "  </tbody>\n",
       "</table>\n",
       "</div>\n",
       "      <button class=\"colab-df-convert\" onclick=\"convertToInteractive('df-1138c3a6-17b0-422f-81a8-c1f31e7722d6')\"\n",
       "              title=\"Convert this dataframe to an interactive table.\"\n",
       "              style=\"display:none;\">\n",
       "        \n",
       "  <svg xmlns=\"http://www.w3.org/2000/svg\" height=\"24px\"viewBox=\"0 0 24 24\"\n",
       "       width=\"24px\">\n",
       "    <path d=\"M0 0h24v24H0V0z\" fill=\"none\"/>\n",
       "    <path d=\"M18.56 5.44l.94 2.06.94-2.06 2.06-.94-2.06-.94-.94-2.06-.94 2.06-2.06.94zm-11 1L8.5 8.5l.94-2.06 2.06-.94-2.06-.94L8.5 2.5l-.94 2.06-2.06.94zm10 10l.94 2.06.94-2.06 2.06-.94-2.06-.94-.94-2.06-.94 2.06-2.06.94z\"/><path d=\"M17.41 7.96l-1.37-1.37c-.4-.4-.92-.59-1.43-.59-.52 0-1.04.2-1.43.59L10.3 9.45l-7.72 7.72c-.78.78-.78 2.05 0 2.83L4 21.41c.39.39.9.59 1.41.59.51 0 1.02-.2 1.41-.59l7.78-7.78 2.81-2.81c.8-.78.8-2.07 0-2.86zM5.41 20L4 18.59l7.72-7.72 1.47 1.35L5.41 20z\"/>\n",
       "  </svg>\n",
       "      </button>\n",
       "      \n",
       "  <style>\n",
       "    .colab-df-container {\n",
       "      display:flex;\n",
       "      flex-wrap:wrap;\n",
       "      gap: 12px;\n",
       "    }\n",
       "\n",
       "    .colab-df-convert {\n",
       "      background-color: #E8F0FE;\n",
       "      border: none;\n",
       "      border-radius: 50%;\n",
       "      cursor: pointer;\n",
       "      display: none;\n",
       "      fill: #1967D2;\n",
       "      height: 32px;\n",
       "      padding: 0 0 0 0;\n",
       "      width: 32px;\n",
       "    }\n",
       "\n",
       "    .colab-df-convert:hover {\n",
       "      background-color: #E2EBFA;\n",
       "      box-shadow: 0px 1px 2px rgba(60, 64, 67, 0.3), 0px 1px 3px 1px rgba(60, 64, 67, 0.15);\n",
       "      fill: #174EA6;\n",
       "    }\n",
       "\n",
       "    [theme=dark] .colab-df-convert {\n",
       "      background-color: #3B4455;\n",
       "      fill: #D2E3FC;\n",
       "    }\n",
       "\n",
       "    [theme=dark] .colab-df-convert:hover {\n",
       "      background-color: #434B5C;\n",
       "      box-shadow: 0px 1px 3px 1px rgba(0, 0, 0, 0.15);\n",
       "      filter: drop-shadow(0px 1px 2px rgba(0, 0, 0, 0.3));\n",
       "      fill: #FFFFFF;\n",
       "    }\n",
       "  </style>\n",
       "\n",
       "      <script>\n",
       "        const buttonEl =\n",
       "          document.querySelector('#df-1138c3a6-17b0-422f-81a8-c1f31e7722d6 button.colab-df-convert');\n",
       "        buttonEl.style.display =\n",
       "          google.colab.kernel.accessAllowed ? 'block' : 'none';\n",
       "\n",
       "        async function convertToInteractive(key) {\n",
       "          const element = document.querySelector('#df-1138c3a6-17b0-422f-81a8-c1f31e7722d6');\n",
       "          const dataTable =\n",
       "            await google.colab.kernel.invokeFunction('convertToInteractive',\n",
       "                                                     [key], {});\n",
       "          if (!dataTable) return;\n",
       "\n",
       "          const docLinkHtml = 'Like what you see? Visit the ' +\n",
       "            '<a target=\"_blank\" href=https://colab.research.google.com/notebooks/data_table.ipynb>data table notebook</a>'\n",
       "            + ' to learn more about interactive tables.';\n",
       "          element.innerHTML = '';\n",
       "          dataTable['output_type'] = 'display_data';\n",
       "          await google.colab.output.renderOutput(dataTable, element);\n",
       "          const docLink = document.createElement('div');\n",
       "          docLink.innerHTML = docLinkHtml;\n",
       "          element.appendChild(docLink);\n",
       "        }\n",
       "      </script>\n",
       "    </div>\n",
       "  </div>\n",
       "  "
      ]
     },
     "metadata": {},
     "execution_count": 76
    }
   ]
  },
  {
   "cell_type": "code",
   "source": [
    "results = evaluate(model, zip(val_imgs, val_masks))\n",
    "results.describe()"
   ],
   "metadata": {
    "colab": {
     "base_uri": "https://localhost:8080/",
     "height": 387
    },
    "id": "_TKQnAilR2fY",
    "outputId": "63c11bc4-7c29-4075-bc29-9eca3edb03e5"
   },
   "execution_count": null,
   "outputs": [
    {
     "output_type": "stream",
     "name": "stderr",
     "text": [
      "\r0it [00:00, ?it/s]"
     ]
    },
    {
     "output_type": "stream",
     "name": "stdout",
     "text": [
      "1/1 [==============================] - 0s 26ms/step\n"
     ]
    },
    {
     "output_type": "stream",
     "name": "stderr",
     "text": [
      "\r1it [00:00,  6.42it/s]"
     ]
    },
    {
     "output_type": "stream",
     "name": "stdout",
     "text": [
      "1/1 [==============================] - 0s 27ms/step\n"
     ]
    },
    {
     "output_type": "stream",
     "name": "stderr",
     "text": [
      "\r2it [00:00,  4.93it/s]"
     ]
    },
    {
     "output_type": "stream",
     "name": "stdout",
     "text": [
      "1/1 [==============================] - 0s 40ms/step\n"
     ]
    },
    {
     "output_type": "stream",
     "name": "stderr",
     "text": [
      "\r3it [00:06,  2.91s/it]"
     ]
    },
    {
     "output_type": "stream",
     "name": "stdout",
     "text": [
      "1/1 [==============================] - 0s 26ms/step\n"
     ]
    },
    {
     "output_type": "stream",
     "name": "stderr",
     "text": [
      "4it [00:06,  1.70s/it]\n"
     ]
    },
    {
     "output_type": "execute_result",
     "data": {
      "text/plain": [
       "           dice       iou       map\n",
       "count  4.000000  4.000000  4.000000\n",
       "mean   0.896727  0.818451  0.821863\n",
       "std    0.071898  0.116032  0.103411\n",
       "min    0.800133  0.666852  0.681188\n",
       "25%    0.879143  0.787177  0.776027\n",
       "50%    0.906318  0.828686  0.850063\n",
       "75%    0.923901  0.859960  0.895899\n",
       "max    0.974138  0.949580  0.906136"
      ],
      "text/html": [
       "\n",
       "  <div id=\"df-63d9d411-07df-4d90-86b2-fa2deeed1bf6\">\n",
       "    <div class=\"colab-df-container\">\n",
       "      <div>\n",
       "<style scoped>\n",
       "    .dataframe tbody tr th:only-of-type {\n",
       "        vertical-align: middle;\n",
       "    }\n",
       "\n",
       "    .dataframe tbody tr th {\n",
       "        vertical-align: top;\n",
       "    }\n",
       "\n",
       "    .dataframe thead th {\n",
       "        text-align: right;\n",
       "    }\n",
       "</style>\n",
       "<table border=\"1\" class=\"dataframe\">\n",
       "  <thead>\n",
       "    <tr style=\"text-align: right;\">\n",
       "      <th></th>\n",
       "      <th>dice</th>\n",
       "      <th>iou</th>\n",
       "      <th>map</th>\n",
       "    </tr>\n",
       "  </thead>\n",
       "  <tbody>\n",
       "    <tr>\n",
       "      <th>count</th>\n",
       "      <td>4.000000</td>\n",
       "      <td>4.000000</td>\n",
       "      <td>4.000000</td>\n",
       "    </tr>\n",
       "    <tr>\n",
       "      <th>mean</th>\n",
       "      <td>0.896727</td>\n",
       "      <td>0.818451</td>\n",
       "      <td>0.821863</td>\n",
       "    </tr>\n",
       "    <tr>\n",
       "      <th>std</th>\n",
       "      <td>0.071898</td>\n",
       "      <td>0.116032</td>\n",
       "      <td>0.103411</td>\n",
       "    </tr>\n",
       "    <tr>\n",
       "      <th>min</th>\n",
       "      <td>0.800133</td>\n",
       "      <td>0.666852</td>\n",
       "      <td>0.681188</td>\n",
       "    </tr>\n",
       "    <tr>\n",
       "      <th>25%</th>\n",
       "      <td>0.879143</td>\n",
       "      <td>0.787177</td>\n",
       "      <td>0.776027</td>\n",
       "    </tr>\n",
       "    <tr>\n",
       "      <th>50%</th>\n",
       "      <td>0.906318</td>\n",
       "      <td>0.828686</td>\n",
       "      <td>0.850063</td>\n",
       "    </tr>\n",
       "    <tr>\n",
       "      <th>75%</th>\n",
       "      <td>0.923901</td>\n",
       "      <td>0.859960</td>\n",
       "      <td>0.895899</td>\n",
       "    </tr>\n",
       "    <tr>\n",
       "      <th>max</th>\n",
       "      <td>0.974138</td>\n",
       "      <td>0.949580</td>\n",
       "      <td>0.906136</td>\n",
       "    </tr>\n",
       "  </tbody>\n",
       "</table>\n",
       "</div>\n",
       "      <button class=\"colab-df-convert\" onclick=\"convertToInteractive('df-63d9d411-07df-4d90-86b2-fa2deeed1bf6')\"\n",
       "              title=\"Convert this dataframe to an interactive table.\"\n",
       "              style=\"display:none;\">\n",
       "        \n",
       "  <svg xmlns=\"http://www.w3.org/2000/svg\" height=\"24px\"viewBox=\"0 0 24 24\"\n",
       "       width=\"24px\">\n",
       "    <path d=\"M0 0h24v24H0V0z\" fill=\"none\"/>\n",
       "    <path d=\"M18.56 5.44l.94 2.06.94-2.06 2.06-.94-2.06-.94-.94-2.06-.94 2.06-2.06.94zm-11 1L8.5 8.5l.94-2.06 2.06-.94-2.06-.94L8.5 2.5l-.94 2.06-2.06.94zm10 10l.94 2.06.94-2.06 2.06-.94-2.06-.94-.94-2.06-.94 2.06-2.06.94z\"/><path d=\"M17.41 7.96l-1.37-1.37c-.4-.4-.92-.59-1.43-.59-.52 0-1.04.2-1.43.59L10.3 9.45l-7.72 7.72c-.78.78-.78 2.05 0 2.83L4 21.41c.39.39.9.59 1.41.59.51 0 1.02-.2 1.41-.59l7.78-7.78 2.81-2.81c.8-.78.8-2.07 0-2.86zM5.41 20L4 18.59l7.72-7.72 1.47 1.35L5.41 20z\"/>\n",
       "  </svg>\n",
       "      </button>\n",
       "      \n",
       "  <style>\n",
       "    .colab-df-container {\n",
       "      display:flex;\n",
       "      flex-wrap:wrap;\n",
       "      gap: 12px;\n",
       "    }\n",
       "\n",
       "    .colab-df-convert {\n",
       "      background-color: #E8F0FE;\n",
       "      border: none;\n",
       "      border-radius: 50%;\n",
       "      cursor: pointer;\n",
       "      display: none;\n",
       "      fill: #1967D2;\n",
       "      height: 32px;\n",
       "      padding: 0 0 0 0;\n",
       "      width: 32px;\n",
       "    }\n",
       "\n",
       "    .colab-df-convert:hover {\n",
       "      background-color: #E2EBFA;\n",
       "      box-shadow: 0px 1px 2px rgba(60, 64, 67, 0.3), 0px 1px 3px 1px rgba(60, 64, 67, 0.15);\n",
       "      fill: #174EA6;\n",
       "    }\n",
       "\n",
       "    [theme=dark] .colab-df-convert {\n",
       "      background-color: #3B4455;\n",
       "      fill: #D2E3FC;\n",
       "    }\n",
       "\n",
       "    [theme=dark] .colab-df-convert:hover {\n",
       "      background-color: #434B5C;\n",
       "      box-shadow: 0px 1px 3px 1px rgba(0, 0, 0, 0.15);\n",
       "      filter: drop-shadow(0px 1px 2px rgba(0, 0, 0, 0.3));\n",
       "      fill: #FFFFFF;\n",
       "    }\n",
       "  </style>\n",
       "\n",
       "      <script>\n",
       "        const buttonEl =\n",
       "          document.querySelector('#df-63d9d411-07df-4d90-86b2-fa2deeed1bf6 button.colab-df-convert');\n",
       "        buttonEl.style.display =\n",
       "          google.colab.kernel.accessAllowed ? 'block' : 'none';\n",
       "\n",
       "        async function convertToInteractive(key) {\n",
       "          const element = document.querySelector('#df-63d9d411-07df-4d90-86b2-fa2deeed1bf6');\n",
       "          const dataTable =\n",
       "            await google.colab.kernel.invokeFunction('convertToInteractive',\n",
       "                                                     [key], {});\n",
       "          if (!dataTable) return;\n",
       "\n",
       "          const docLinkHtml = 'Like what you see? Visit the ' +\n",
       "            '<a target=\"_blank\" href=https://colab.research.google.com/notebooks/data_table.ipynb>data table notebook</a>'\n",
       "            + ' to learn more about interactive tables.';\n",
       "          element.innerHTML = '';\n",
       "          dataTable['output_type'] = 'display_data';\n",
       "          await google.colab.output.renderOutput(dataTable, element);\n",
       "          const docLink = document.createElement('div');\n",
       "          docLink.innerHTML = docLinkHtml;\n",
       "          element.appendChild(docLink);\n",
       "        }\n",
       "      </script>\n",
       "    </div>\n",
       "  </div>\n",
       "  "
      ]
     },
     "metadata": {},
     "execution_count": 77
    }
   ]
  },
  {
   "cell_type": "code",
   "source": [
    "results = evaluate(model, zip(test_imgs, test_masks))\n",
    "results.describe()"
   ],
   "metadata": {
    "colab": {
     "base_uri": "https://localhost:8080/",
     "height": 960
    },
    "id": "2dp2B4LsR3Cg",
    "outputId": "cb25f661-3cad-45de-feb7-c66893a2eac1"
   },
   "execution_count": null,
   "outputs": [
    {
     "output_type": "stream",
     "name": "stderr",
     "text": [
      "\r0it [00:00, ?it/s]"
     ]
    },
    {
     "output_type": "stream",
     "name": "stdout",
     "text": [
      "1/1 [==============================] - 1s 724ms/step\n"
     ]
    },
    {
     "output_type": "stream",
     "name": "stderr",
     "text": [
      "\r1it [00:01,  1.39s/it]"
     ]
    },
    {
     "output_type": "stream",
     "name": "stdout",
     "text": [
      "1/1 [==============================] - 0s 28ms/step\n"
     ]
    },
    {
     "output_type": "stream",
     "name": "stderr",
     "text": [
      "\r2it [00:01,  1.51it/s]"
     ]
    },
    {
     "output_type": "stream",
     "name": "stdout",
     "text": [
      "1/1 [==============================] - 0s 402ms/step\n"
     ]
    },
    {
     "output_type": "stream",
     "name": "stderr",
     "text": [
      "\r3it [00:02,  1.73it/s]"
     ]
    },
    {
     "output_type": "stream",
     "name": "stdout",
     "text": [
      "1/1 [==============================] - 0s 22ms/step\n"
     ]
    },
    {
     "output_type": "stream",
     "name": "stderr",
     "text": [
      "\r4it [00:02,  2.43it/s]"
     ]
    },
    {
     "output_type": "stream",
     "name": "stdout",
     "text": [
      "1/1 [==============================] - 0s 25ms/step\n"
     ]
    },
    {
     "output_type": "stream",
     "name": "stderr",
     "text": [
      "\r5it [00:02,  2.94it/s]"
     ]
    },
    {
     "output_type": "stream",
     "name": "stdout",
     "text": [
      "1/1 [==============================] - 0s 52ms/step\n"
     ]
    },
    {
     "output_type": "stream",
     "name": "stderr",
     "text": [
      "\r6it [00:02,  3.21it/s]"
     ]
    },
    {
     "output_type": "stream",
     "name": "stdout",
     "text": [
      "1/1 [==============================] - 0s 25ms/step\n"
     ]
    },
    {
     "output_type": "stream",
     "name": "stderr",
     "text": [
      "\r7it [00:07,  1.78s/it]"
     ]
    },
    {
     "output_type": "stream",
     "name": "stdout",
     "text": [
      "1/1 [==============================] - 0s 23ms/step\n"
     ]
    },
    {
     "output_type": "stream",
     "name": "stderr",
     "text": [
      "\r8it [00:07,  1.28s/it]"
     ]
    },
    {
     "output_type": "stream",
     "name": "stdout",
     "text": [
      "1/1 [==============================] - 0s 25ms/step\n"
     ]
    },
    {
     "output_type": "stream",
     "name": "stderr",
     "text": [
      "\r9it [00:07,  1.08it/s]"
     ]
    },
    {
     "output_type": "stream",
     "name": "stdout",
     "text": [
      "1/1 [==============================] - 0s 75ms/step\n"
     ]
    },
    {
     "output_type": "stream",
     "name": "stderr",
     "text": [
      "\r10it [00:08,  1.29it/s]"
     ]
    },
    {
     "output_type": "stream",
     "name": "stdout",
     "text": [
      "1/1 [==============================] - 0s 31ms/step\n"
     ]
    },
    {
     "output_type": "stream",
     "name": "stderr",
     "text": [
      "\r11it [00:08,  1.59it/s]"
     ]
    },
    {
     "output_type": "stream",
     "name": "stdout",
     "text": [
      "1/1 [==============================] - 0s 23ms/step\n"
     ]
    },
    {
     "output_type": "stream",
     "name": "stderr",
     "text": [
      "\r12it [00:08,  1.98it/s]"
     ]
    },
    {
     "output_type": "stream",
     "name": "stdout",
     "text": [
      "1/1 [==============================] - 1s 697ms/step\n"
     ]
    },
    {
     "output_type": "stream",
     "name": "stderr",
     "text": [
      "\r13it [00:10,  1.25it/s]"
     ]
    },
    {
     "output_type": "stream",
     "name": "stdout",
     "text": [
      "1/1 [==============================] - 0s 56ms/step\n"
     ]
    },
    {
     "output_type": "stream",
     "name": "stderr",
     "text": [
      "\r14it [00:13,  1.61s/it]"
     ]
    },
    {
     "output_type": "stream",
     "name": "stdout",
     "text": [
      "1/1 [==============================] - 0s 38ms/step\n"
     ]
    },
    {
     "output_type": "stream",
     "name": "stderr",
     "text": [
      "\r15it [00:13,  1.18s/it]"
     ]
    },
    {
     "output_type": "stream",
     "name": "stdout",
     "text": [
      "1/1 [==============================] - 0s 37ms/step\n"
     ]
    },
    {
     "output_type": "stream",
     "name": "stderr",
     "text": [
      "\r16it [00:14,  1.05it/s]"
     ]
    },
    {
     "output_type": "stream",
     "name": "stdout",
     "text": [
      "1/1 [==============================] - 0s 39ms/step\n"
     ]
    },
    {
     "output_type": "stream",
     "name": "stderr",
     "text": [
      "\r17it [00:14,  1.28it/s]"
     ]
    },
    {
     "output_type": "stream",
     "name": "stdout",
     "text": [
      "1/1 [==============================] - 0s 34ms/step\n"
     ]
    },
    {
     "output_type": "stream",
     "name": "stderr",
     "text": [
      "\r18it [00:15,  1.43it/s]"
     ]
    },
    {
     "output_type": "stream",
     "name": "stdout",
     "text": [
      "1/1 [==============================] - 0s 40ms/step\n"
     ]
    },
    {
     "output_type": "stream",
     "name": "stderr",
     "text": [
      "\r19it [00:15,  1.68it/s]"
     ]
    },
    {
     "output_type": "stream",
     "name": "stdout",
     "text": [
      "1/1 [==============================] - 0s 23ms/step\n"
     ]
    },
    {
     "output_type": "stream",
     "name": "stderr",
     "text": [
      "\r20it [00:15,  1.98it/s]"
     ]
    },
    {
     "output_type": "stream",
     "name": "stdout",
     "text": [
      "1/1 [==============================] - 0s 22ms/step\n"
     ]
    },
    {
     "output_type": "stream",
     "name": "stderr",
     "text": [
      "\r21it [00:16,  2.30it/s]"
     ]
    },
    {
     "output_type": "stream",
     "name": "stdout",
     "text": [
      "1/1 [==============================] - 0s 29ms/step\n"
     ]
    },
    {
     "output_type": "stream",
     "name": "stderr",
     "text": [
      "\r22it [00:17,  1.19it/s]"
     ]
    },
    {
     "output_type": "stream",
     "name": "stdout",
     "text": [
      "1/1 [==============================] - 0s 23ms/step\n"
     ]
    },
    {
     "output_type": "stream",
     "name": "stderr",
     "text": [
      "\r23it [00:18,  1.46it/s]"
     ]
    },
    {
     "output_type": "stream",
     "name": "stdout",
     "text": [
      "1/1 [==============================] - 0s 23ms/step\n"
     ]
    },
    {
     "output_type": "stream",
     "name": "stderr",
     "text": [
      "\r24it [00:18,  1.90it/s]"
     ]
    },
    {
     "output_type": "stream",
     "name": "stdout",
     "text": [
      "1/1 [==============================] - 0s 24ms/step\n"
     ]
    },
    {
     "output_type": "stream",
     "name": "stderr",
     "text": [
      "\r25it [00:18,  2.15it/s]"
     ]
    },
    {
     "output_type": "stream",
     "name": "stdout",
     "text": [
      "1/1 [==============================] - 0s 24ms/step\n"
     ]
    },
    {
     "output_type": "stream",
     "name": "stderr",
     "text": [
      "\r26it [00:19,  2.38it/s]"
     ]
    },
    {
     "output_type": "stream",
     "name": "stdout",
     "text": [
      "1/1 [==============================] - 0s 22ms/step\n"
     ]
    },
    {
     "output_type": "stream",
     "name": "stderr",
     "text": [
      "\r27it [00:19,  3.01it/s]"
     ]
    },
    {
     "output_type": "stream",
     "name": "stdout",
     "text": [
      "1/1 [==============================] - 0s 24ms/step\n"
     ]
    },
    {
     "output_type": "stream",
     "name": "stderr",
     "text": [
      "\r28it [00:19,  2.98it/s]"
     ]
    },
    {
     "output_type": "stream",
     "name": "stdout",
     "text": [
      "1/1 [==============================] - 0s 22ms/step\n"
     ]
    },
    {
     "output_type": "stream",
     "name": "stderr",
     "text": [
      "\r29it [00:19,  2.92it/s]"
     ]
    },
    {
     "output_type": "stream",
     "name": "stdout",
     "text": [
      "1/1 [==============================] - 0s 24ms/step\n"
     ]
    },
    {
     "output_type": "stream",
     "name": "stderr",
     "text": [
      "\r30it [00:20,  1.82it/s]"
     ]
    },
    {
     "output_type": "stream",
     "name": "stdout",
     "text": [
      "1/1 [==============================] - 0s 24ms/step\n"
     ]
    },
    {
     "output_type": "stream",
     "name": "stderr",
     "text": [
      "\r31it [00:21,  2.16it/s]"
     ]
    },
    {
     "output_type": "stream",
     "name": "stdout",
     "text": [
      "1/1 [==============================] - 5s 5s/step\n"
     ]
    },
    {
     "output_type": "stream",
     "name": "stderr",
     "text": [
      "\r32it [00:58, 11.57s/it]"
     ]
    },
    {
     "output_type": "stream",
     "name": "stdout",
     "text": [
      "1/1 [==============================] - 0s 43ms/step\n"
     ]
    },
    {
     "output_type": "stream",
     "name": "stderr",
     "text": [
      "\r33it [00:58,  8.19s/it]"
     ]
    },
    {
     "output_type": "stream",
     "name": "stdout",
     "text": [
      "1/1 [==============================] - 0s 35ms/step\n"
     ]
    },
    {
     "output_type": "stream",
     "name": "stderr",
     "text": [
      "\r34it [00:59,  5.80s/it]"
     ]
    },
    {
     "output_type": "stream",
     "name": "stdout",
     "text": [
      "1/1 [==============================] - 0s 36ms/step\n"
     ]
    },
    {
     "output_type": "stream",
     "name": "stderr",
     "text": [
      "\r35it [00:59,  4.11s/it]"
     ]
    },
    {
     "output_type": "stream",
     "name": "stdout",
     "text": [
      "1/1 [==============================] - 0s 67ms/step\n"
     ]
    },
    {
     "output_type": "stream",
     "name": "stderr",
     "text": [
      "\r36it [00:59,  2.99s/it]"
     ]
    },
    {
     "output_type": "stream",
     "name": "stdout",
     "text": [
      "1/1 [==============================] - 0s 34ms/step\n"
     ]
    },
    {
     "output_type": "stream",
     "name": "stderr",
     "text": [
      "37it [01:00,  1.63s/it]\n"
     ]
    },
    {
     "output_type": "execute_result",
     "data": {
      "text/plain": [
       "            dice        iou        map\n",
       "count  37.000000  37.000000  37.000000\n",
       "mean    0.898460   0.824789   0.801871\n",
       "std     0.083374   0.124583   0.129267\n",
       "min     0.659571   0.492059   0.348845\n",
       "25%     0.880345   0.786264   0.733905\n",
       "50%     0.929052   0.867505   0.826724\n",
       "75%     0.953092   0.910388   0.884207\n",
       "max     0.975479   0.952131   0.980794"
      ],
      "text/html": [
       "\n",
       "  <div id=\"df-b176660a-e3f1-4c6c-9f9a-833cb94d60ce\">\n",
       "    <div class=\"colab-df-container\">\n",
       "      <div>\n",
       "<style scoped>\n",
       "    .dataframe tbody tr th:only-of-type {\n",
       "        vertical-align: middle;\n",
       "    }\n",
       "\n",
       "    .dataframe tbody tr th {\n",
       "        vertical-align: top;\n",
       "    }\n",
       "\n",
       "    .dataframe thead th {\n",
       "        text-align: right;\n",
       "    }\n",
       "</style>\n",
       "<table border=\"1\" class=\"dataframe\">\n",
       "  <thead>\n",
       "    <tr style=\"text-align: right;\">\n",
       "      <th></th>\n",
       "      <th>dice</th>\n",
       "      <th>iou</th>\n",
       "      <th>map</th>\n",
       "    </tr>\n",
       "  </thead>\n",
       "  <tbody>\n",
       "    <tr>\n",
       "      <th>count</th>\n",
       "      <td>37.000000</td>\n",
       "      <td>37.000000</td>\n",
       "      <td>37.000000</td>\n",
       "    </tr>\n",
       "    <tr>\n",
       "      <th>mean</th>\n",
       "      <td>0.898460</td>\n",
       "      <td>0.824789</td>\n",
       "      <td>0.801871</td>\n",
       "    </tr>\n",
       "    <tr>\n",
       "      <th>std</th>\n",
       "      <td>0.083374</td>\n",
       "      <td>0.124583</td>\n",
       "      <td>0.129267</td>\n",
       "    </tr>\n",
       "    <tr>\n",
       "      <th>min</th>\n",
       "      <td>0.659571</td>\n",
       "      <td>0.492059</td>\n",
       "      <td>0.348845</td>\n",
       "    </tr>\n",
       "    <tr>\n",
       "      <th>25%</th>\n",
       "      <td>0.880345</td>\n",
       "      <td>0.786264</td>\n",
       "      <td>0.733905</td>\n",
       "    </tr>\n",
       "    <tr>\n",
       "      <th>50%</th>\n",
       "      <td>0.929052</td>\n",
       "      <td>0.867505</td>\n",
       "      <td>0.826724</td>\n",
       "    </tr>\n",
       "    <tr>\n",
       "      <th>75%</th>\n",
       "      <td>0.953092</td>\n",
       "      <td>0.910388</td>\n",
       "      <td>0.884207</td>\n",
       "    </tr>\n",
       "    <tr>\n",
       "      <th>max</th>\n",
       "      <td>0.975479</td>\n",
       "      <td>0.952131</td>\n",
       "      <td>0.980794</td>\n",
       "    </tr>\n",
       "  </tbody>\n",
       "</table>\n",
       "</div>\n",
       "      <button class=\"colab-df-convert\" onclick=\"convertToInteractive('df-b176660a-e3f1-4c6c-9f9a-833cb94d60ce')\"\n",
       "              title=\"Convert this dataframe to an interactive table.\"\n",
       "              style=\"display:none;\">\n",
       "        \n",
       "  <svg xmlns=\"http://www.w3.org/2000/svg\" height=\"24px\"viewBox=\"0 0 24 24\"\n",
       "       width=\"24px\">\n",
       "    <path d=\"M0 0h24v24H0V0z\" fill=\"none\"/>\n",
       "    <path d=\"M18.56 5.44l.94 2.06.94-2.06 2.06-.94-2.06-.94-.94-2.06-.94 2.06-2.06.94zm-11 1L8.5 8.5l.94-2.06 2.06-.94-2.06-.94L8.5 2.5l-.94 2.06-2.06.94zm10 10l.94 2.06.94-2.06 2.06-.94-2.06-.94-.94-2.06-.94 2.06-2.06.94z\"/><path d=\"M17.41 7.96l-1.37-1.37c-.4-.4-.92-.59-1.43-.59-.52 0-1.04.2-1.43.59L10.3 9.45l-7.72 7.72c-.78.78-.78 2.05 0 2.83L4 21.41c.39.39.9.59 1.41.59.51 0 1.02-.2 1.41-.59l7.78-7.78 2.81-2.81c.8-.78.8-2.07 0-2.86zM5.41 20L4 18.59l7.72-7.72 1.47 1.35L5.41 20z\"/>\n",
       "  </svg>\n",
       "      </button>\n",
       "      \n",
       "  <style>\n",
       "    .colab-df-container {\n",
       "      display:flex;\n",
       "      flex-wrap:wrap;\n",
       "      gap: 12px;\n",
       "    }\n",
       "\n",
       "    .colab-df-convert {\n",
       "      background-color: #E8F0FE;\n",
       "      border: none;\n",
       "      border-radius: 50%;\n",
       "      cursor: pointer;\n",
       "      display: none;\n",
       "      fill: #1967D2;\n",
       "      height: 32px;\n",
       "      padding: 0 0 0 0;\n",
       "      width: 32px;\n",
       "    }\n",
       "\n",
       "    .colab-df-convert:hover {\n",
       "      background-color: #E2EBFA;\n",
       "      box-shadow: 0px 1px 2px rgba(60, 64, 67, 0.3), 0px 1px 3px 1px rgba(60, 64, 67, 0.15);\n",
       "      fill: #174EA6;\n",
       "    }\n",
       "\n",
       "    [theme=dark] .colab-df-convert {\n",
       "      background-color: #3B4455;\n",
       "      fill: #D2E3FC;\n",
       "    }\n",
       "\n",
       "    [theme=dark] .colab-df-convert:hover {\n",
       "      background-color: #434B5C;\n",
       "      box-shadow: 0px 1px 3px 1px rgba(0, 0, 0, 0.15);\n",
       "      filter: drop-shadow(0px 1px 2px rgba(0, 0, 0, 0.3));\n",
       "      fill: #FFFFFF;\n",
       "    }\n",
       "  </style>\n",
       "\n",
       "      <script>\n",
       "        const buttonEl =\n",
       "          document.querySelector('#df-b176660a-e3f1-4c6c-9f9a-833cb94d60ce button.colab-df-convert');\n",
       "        buttonEl.style.display =\n",
       "          google.colab.kernel.accessAllowed ? 'block' : 'none';\n",
       "\n",
       "        async function convertToInteractive(key) {\n",
       "          const element = document.querySelector('#df-b176660a-e3f1-4c6c-9f9a-833cb94d60ce');\n",
       "          const dataTable =\n",
       "            await google.colab.kernel.invokeFunction('convertToInteractive',\n",
       "                                                     [key], {});\n",
       "          if (!dataTable) return;\n",
       "\n",
       "          const docLinkHtml = 'Like what you see? Visit the ' +\n",
       "            '<a target=\"_blank\" href=https://colab.research.google.com/notebooks/data_table.ipynb>data table notebook</a>'\n",
       "            + ' to learn more about interactive tables.';\n",
       "          element.innerHTML = '';\n",
       "          dataTable['output_type'] = 'display_data';\n",
       "          await google.colab.output.renderOutput(dataTable, element);\n",
       "          const docLink = document.createElement('div');\n",
       "          docLink.innerHTML = docLinkHtml;\n",
       "          element.appendChild(docLink);\n",
       "        }\n",
       "      </script>\n",
       "    </div>\n",
       "  </div>\n",
       "  "
      ]
     },
     "metadata": {},
     "execution_count": 78
    }
   ]
  },
  {
   "cell_type": "code",
   "source": [
    "model.optimize_thresholds(val_imgs, val_masks)"
   ],
   "metadata": {
    "colab": {
     "base_uri": "https://localhost:8080/"
    },
    "id": "fxz6IBr5qAAJ",
    "outputId": "4a2927a1-41f9-45b9-c58a-0080eec65be7"
   },
   "execution_count": null,
   "outputs": [
    {
     "output_type": "stream",
     "name": "stdout",
     "text": [
      "1/1 [==============================] - 0s 37ms/step\n",
      "1/1 [==============================] - 0s 37ms/step\n",
      "1/1 [==============================] - 0s 36ms/step\n",
      "1/1 [==============================] - 0s 40ms/step\n",
      "1/1 [==============================] - 0s 36ms/step\n",
      "1/1 [==============================] - 0s 37ms/step\n",
      "1/1 [==============================] - 0s 40ms/step\n",
      "1/1 [==============================] - 0s 39ms/step\n",
      "1/1 [==============================] - 0s 37ms/step\n"
     ]
    },
    {
     "output_type": "stream",
     "name": "stderr",
     "text": [
      "NMS threshold = 0.3:  75%|███████▌  | 15/20 [00:08<00:02,  1.87it/s, 0.697 -> 0.677]\n",
      "NMS threshold = 0.4:  75%|███████▌  | 15/20 [00:10<00:03,  1.48it/s, 0.697 -> 0.677]\n",
      "NMS threshold = 0.5:  75%|███████▌  | 15/20 [00:07<00:02,  1.93it/s, 0.697 -> 0.676]\n"
     ]
    },
    {
     "output_type": "stream",
     "name": "stdout",
     "text": [
      "Using optimized values: prob_thresh=0.699184, nms_thresh=0.4.\n"
     ]
    },
    {
     "output_type": "execute_result",
     "data": {
      "text/plain": [
       "{'prob': 0.6991837498755761, 'nms': 0.4}"
      ]
     },
     "metadata": {},
     "execution_count": 79
    }
   ]
  },
  {
   "cell_type": "code",
   "source": [
    "results = evaluate(model, zip(train_imgs, train_masks))\n",
    "results.describe()"
   ],
   "metadata": {
    "colab": {
     "base_uri": "https://localhost:8080/",
     "height": 977
    },
    "id": "Fen2HhXJqCPx",
    "outputId": "17e4b412-69c9-4244-a699-070910dbfd23"
   },
   "execution_count": null,
   "outputs": [
    {
     "output_type": "stream",
     "name": "stderr",
     "text": [
      "\r0it [00:00, ?it/s]"
     ]
    },
    {
     "output_type": "stream",
     "name": "stdout",
     "text": [
      "1/1 [==============================] - 0s 28ms/step\n"
     ]
    },
    {
     "output_type": "stream",
     "name": "stderr",
     "text": [
      "\r1it [00:02,  2.31s/it]"
     ]
    },
    {
     "output_type": "stream",
     "name": "stdout",
     "text": [
      "1/1 [==============================] - 0s 33ms/step\n"
     ]
    },
    {
     "output_type": "stream",
     "name": "stderr",
     "text": [
      "\r2it [00:02,  1.09s/it]"
     ]
    },
    {
     "output_type": "stream",
     "name": "stdout",
     "text": [
      "1/1 [==============================] - 0s 37ms/step\n"
     ]
    },
    {
     "output_type": "stream",
     "name": "stderr",
     "text": [
      "\r3it [00:02,  1.47it/s]"
     ]
    },
    {
     "output_type": "stream",
     "name": "stdout",
     "text": [
      "1/1 [==============================] - 0s 36ms/step\n"
     ]
    },
    {
     "output_type": "stream",
     "name": "stderr",
     "text": [
      "\r4it [00:03,  1.81it/s]"
     ]
    },
    {
     "output_type": "stream",
     "name": "stdout",
     "text": [
      "1/1 [==============================] - 0s 36ms/step\n"
     ]
    },
    {
     "output_type": "stream",
     "name": "stderr",
     "text": [
      "\r5it [00:03,  2.26it/s]"
     ]
    },
    {
     "output_type": "stream",
     "name": "stdout",
     "text": [
      "1/1 [==============================] - 0s 44ms/step\n"
     ]
    },
    {
     "output_type": "stream",
     "name": "stderr",
     "text": [
      "\r6it [00:03,  2.84it/s]"
     ]
    },
    {
     "output_type": "stream",
     "name": "stdout",
     "text": [
      "1/1 [==============================] - 0s 34ms/step\n"
     ]
    },
    {
     "output_type": "stream",
     "name": "stderr",
     "text": [
      "\r7it [00:03,  3.11it/s]"
     ]
    },
    {
     "output_type": "stream",
     "name": "stdout",
     "text": [
      "1/1 [==============================] - 0s 35ms/step\n"
     ]
    },
    {
     "output_type": "stream",
     "name": "stderr",
     "text": [
      "\r8it [00:04,  3.20it/s]"
     ]
    },
    {
     "output_type": "stream",
     "name": "stdout",
     "text": [
      "1/1 [==============================] - 0s 35ms/step\n"
     ]
    },
    {
     "output_type": "stream",
     "name": "stderr",
     "text": [
      "\r9it [00:04,  3.71it/s]"
     ]
    },
    {
     "output_type": "stream",
     "name": "stdout",
     "text": [
      "1/1 [==============================] - 0s 36ms/step\n"
     ]
    },
    {
     "output_type": "stream",
     "name": "stderr",
     "text": [
      "\r10it [00:04,  4.17it/s]"
     ]
    },
    {
     "output_type": "stream",
     "name": "stdout",
     "text": [
      "1/1 [==============================] - 0s 37ms/step\n"
     ]
    },
    {
     "output_type": "stream",
     "name": "stderr",
     "text": [
      "\r11it [00:04,  4.10it/s]"
     ]
    },
    {
     "output_type": "stream",
     "name": "stdout",
     "text": [
      "1/1 [==============================] - 0s 38ms/step\n"
     ]
    },
    {
     "output_type": "stream",
     "name": "stderr",
     "text": [
      "\r12it [00:04,  4.34it/s]"
     ]
    },
    {
     "output_type": "stream",
     "name": "stdout",
     "text": [
      "1/1 [==============================] - 0s 35ms/step\n"
     ]
    },
    {
     "output_type": "stream",
     "name": "stderr",
     "text": [
      "\r13it [00:08,  1.13s/it]"
     ]
    },
    {
     "output_type": "stream",
     "name": "stdout",
     "text": [
      "1/1 [==============================] - 0s 21ms/step\n"
     ]
    },
    {
     "output_type": "stream",
     "name": "stderr",
     "text": [
      "\r14it [00:08,  1.20it/s]"
     ]
    },
    {
     "output_type": "stream",
     "name": "stdout",
     "text": [
      "1/1 [==============================] - 0s 22ms/step\n"
     ]
    },
    {
     "output_type": "stream",
     "name": "stderr",
     "text": [
      "\r15it [00:08,  1.61it/s]"
     ]
    },
    {
     "output_type": "stream",
     "name": "stdout",
     "text": [
      "1/1 [==============================] - 0s 24ms/step\n"
     ]
    },
    {
     "output_type": "stream",
     "name": "stderr",
     "text": [
      "\r16it [00:08,  2.14it/s]"
     ]
    },
    {
     "output_type": "stream",
     "name": "stdout",
     "text": [
      "1/1 [==============================] - 0s 23ms/step\n"
     ]
    },
    {
     "output_type": "stream",
     "name": "stderr",
     "text": [
      "\r17it [00:08,  2.72it/s]"
     ]
    },
    {
     "output_type": "stream",
     "name": "stdout",
     "text": [
      "1/1 [==============================] - 0s 25ms/step\n"
     ]
    },
    {
     "output_type": "stream",
     "name": "stderr",
     "text": [
      "\r18it [00:10,  1.03it/s]"
     ]
    },
    {
     "output_type": "stream",
     "name": "stdout",
     "text": [
      "1/1 [==============================] - 0s 24ms/step\n"
     ]
    },
    {
     "output_type": "stream",
     "name": "stderr",
     "text": [
      "\r19it [00:11,  1.37it/s]"
     ]
    },
    {
     "output_type": "stream",
     "name": "stdout",
     "text": [
      "1/1 [==============================] - 0s 22ms/step\n"
     ]
    },
    {
     "output_type": "stream",
     "name": "stderr",
     "text": [
      "\r20it [00:11,  1.78it/s]"
     ]
    },
    {
     "output_type": "stream",
     "name": "stdout",
     "text": [
      "1/1 [==============================] - 0s 24ms/step\n"
     ]
    },
    {
     "output_type": "stream",
     "name": "stderr",
     "text": [
      "\r21it [00:11,  2.28it/s]"
     ]
    },
    {
     "output_type": "stream",
     "name": "stdout",
     "text": [
      "1/1 [==============================] - 0s 25ms/step\n"
     ]
    },
    {
     "output_type": "stream",
     "name": "stderr",
     "text": [
      "\r22it [00:11,  2.84it/s]"
     ]
    },
    {
     "output_type": "stream",
     "name": "stdout",
     "text": [
      "1/1 [==============================] - 0s 23ms/step\n"
     ]
    },
    {
     "output_type": "stream",
     "name": "stderr",
     "text": [
      "\r23it [00:14,  1.00s/it]"
     ]
    },
    {
     "output_type": "stream",
     "name": "stdout",
     "text": [
      "1/1 [==============================] - 0s 25ms/step\n"
     ]
    },
    {
     "output_type": "stream",
     "name": "stderr",
     "text": [
      "\r24it [00:14,  1.32it/s]"
     ]
    },
    {
     "output_type": "stream",
     "name": "stdout",
     "text": [
      "1/1 [==============================] - 0s 25ms/step\n"
     ]
    },
    {
     "output_type": "stream",
     "name": "stderr",
     "text": [
      "\r25it [00:14,  1.74it/s]"
     ]
    },
    {
     "output_type": "stream",
     "name": "stdout",
     "text": [
      "1/1 [==============================] - 0s 25ms/step\n"
     ]
    },
    {
     "output_type": "stream",
     "name": "stderr",
     "text": [
      "\r26it [00:14,  2.21it/s]"
     ]
    },
    {
     "output_type": "stream",
     "name": "stdout",
     "text": [
      "1/1 [==============================] - 0s 24ms/step\n"
     ]
    },
    {
     "output_type": "stream",
     "name": "stderr",
     "text": [
      "\r27it [00:14,  2.64it/s]"
     ]
    },
    {
     "output_type": "stream",
     "name": "stdout",
     "text": [
      "1/1 [==============================] - 0s 31ms/step\n"
     ]
    },
    {
     "output_type": "stream",
     "name": "stderr",
     "text": [
      "\r28it [00:15,  3.12it/s]"
     ]
    },
    {
     "output_type": "stream",
     "name": "stdout",
     "text": [
      "1/1 [==============================] - 0s 24ms/step\n"
     ]
    },
    {
     "output_type": "stream",
     "name": "stderr",
     "text": [
      "\r29it [00:15,  3.62it/s]"
     ]
    },
    {
     "output_type": "stream",
     "name": "stdout",
     "text": [
      "1/1 [==============================] - 0s 30ms/step\n"
     ]
    },
    {
     "output_type": "stream",
     "name": "stderr",
     "text": [
      "\r30it [00:15,  3.91it/s]"
     ]
    },
    {
     "output_type": "stream",
     "name": "stdout",
     "text": [
      "1/1 [==============================] - 0s 22ms/step\n"
     ]
    },
    {
     "output_type": "stream",
     "name": "stderr",
     "text": [
      "\r31it [00:15,  4.32it/s]"
     ]
    },
    {
     "output_type": "stream",
     "name": "stdout",
     "text": [
      "1/1 [==============================] - 0s 31ms/step\n"
     ]
    },
    {
     "output_type": "stream",
     "name": "stderr",
     "text": [
      "\r32it [00:15,  4.86it/s]"
     ]
    },
    {
     "output_type": "stream",
     "name": "stdout",
     "text": [
      "1/1 [==============================] - 0s 26ms/step\n"
     ]
    },
    {
     "output_type": "stream",
     "name": "stderr",
     "text": [
      "\r33it [00:15,  5.57it/s]"
     ]
    },
    {
     "output_type": "stream",
     "name": "stdout",
     "text": [
      "1/1 [==============================] - 0s 23ms/step\n"
     ]
    },
    {
     "output_type": "stream",
     "name": "stderr",
     "text": [
      "\r34it [00:15,  5.95it/s]"
     ]
    },
    {
     "output_type": "stream",
     "name": "stdout",
     "text": [
      "1/1 [==============================] - 0s 26ms/step\n"
     ]
    },
    {
     "output_type": "stream",
     "name": "stderr",
     "text": [
      "\r35it [00:16,  6.42it/s]"
     ]
    },
    {
     "output_type": "stream",
     "name": "stdout",
     "text": [
      "1/1 [==============================] - 0s 26ms/step\n"
     ]
    },
    {
     "output_type": "stream",
     "name": "stderr",
     "text": [
      "\r36it [00:16,  6.51it/s]"
     ]
    },
    {
     "output_type": "stream",
     "name": "stdout",
     "text": [
      "1/1 [==============================] - 0s 26ms/step\n"
     ]
    },
    {
     "output_type": "stream",
     "name": "stderr",
     "text": [
      "\r37it [00:16,  6.37it/s]"
     ]
    },
    {
     "output_type": "stream",
     "name": "stdout",
     "text": [
      "1/1 [==============================] - 0s 23ms/step\n"
     ]
    },
    {
     "output_type": "stream",
     "name": "stderr",
     "text": [
      "38it [00:16,  2.29it/s]\n"
     ]
    },
    {
     "output_type": "execute_result",
     "data": {
      "text/plain": [
       "            dice        iou        map\n",
       "count  38.000000  38.000000  38.000000\n",
       "mean    0.934187   0.880961   0.864532\n",
       "std     0.054508   0.089637   0.076344\n",
       "min     0.785031   0.646132   0.688266\n",
       "25%     0.913662   0.841063   0.807465\n",
       "50%     0.961611   0.926061   0.881913\n",
       "75%     0.969300   0.940428   0.908005\n",
       "max     0.977691   0.956356   0.990763"
      ],
      "text/html": [
       "\n",
       "  <div id=\"df-708fb935-eb7c-4de8-9417-c6adada4c2ac\">\n",
       "    <div class=\"colab-df-container\">\n",
       "      <div>\n",
       "<style scoped>\n",
       "    .dataframe tbody tr th:only-of-type {\n",
       "        vertical-align: middle;\n",
       "    }\n",
       "\n",
       "    .dataframe tbody tr th {\n",
       "        vertical-align: top;\n",
       "    }\n",
       "\n",
       "    .dataframe thead th {\n",
       "        text-align: right;\n",
       "    }\n",
       "</style>\n",
       "<table border=\"1\" class=\"dataframe\">\n",
       "  <thead>\n",
       "    <tr style=\"text-align: right;\">\n",
       "      <th></th>\n",
       "      <th>dice</th>\n",
       "      <th>iou</th>\n",
       "      <th>map</th>\n",
       "    </tr>\n",
       "  </thead>\n",
       "  <tbody>\n",
       "    <tr>\n",
       "      <th>count</th>\n",
       "      <td>38.000000</td>\n",
       "      <td>38.000000</td>\n",
       "      <td>38.000000</td>\n",
       "    </tr>\n",
       "    <tr>\n",
       "      <th>mean</th>\n",
       "      <td>0.934187</td>\n",
       "      <td>0.880961</td>\n",
       "      <td>0.864532</td>\n",
       "    </tr>\n",
       "    <tr>\n",
       "      <th>std</th>\n",
       "      <td>0.054508</td>\n",
       "      <td>0.089637</td>\n",
       "      <td>0.076344</td>\n",
       "    </tr>\n",
       "    <tr>\n",
       "      <th>min</th>\n",
       "      <td>0.785031</td>\n",
       "      <td>0.646132</td>\n",
       "      <td>0.688266</td>\n",
       "    </tr>\n",
       "    <tr>\n",
       "      <th>25%</th>\n",
       "      <td>0.913662</td>\n",
       "      <td>0.841063</td>\n",
       "      <td>0.807465</td>\n",
       "    </tr>\n",
       "    <tr>\n",
       "      <th>50%</th>\n",
       "      <td>0.961611</td>\n",
       "      <td>0.926061</td>\n",
       "      <td>0.881913</td>\n",
       "    </tr>\n",
       "    <tr>\n",
       "      <th>75%</th>\n",
       "      <td>0.969300</td>\n",
       "      <td>0.940428</td>\n",
       "      <td>0.908005</td>\n",
       "    </tr>\n",
       "    <tr>\n",
       "      <th>max</th>\n",
       "      <td>0.977691</td>\n",
       "      <td>0.956356</td>\n",
       "      <td>0.990763</td>\n",
       "    </tr>\n",
       "  </tbody>\n",
       "</table>\n",
       "</div>\n",
       "      <button class=\"colab-df-convert\" onclick=\"convertToInteractive('df-708fb935-eb7c-4de8-9417-c6adada4c2ac')\"\n",
       "              title=\"Convert this dataframe to an interactive table.\"\n",
       "              style=\"display:none;\">\n",
       "        \n",
       "  <svg xmlns=\"http://www.w3.org/2000/svg\" height=\"24px\"viewBox=\"0 0 24 24\"\n",
       "       width=\"24px\">\n",
       "    <path d=\"M0 0h24v24H0V0z\" fill=\"none\"/>\n",
       "    <path d=\"M18.56 5.44l.94 2.06.94-2.06 2.06-.94-2.06-.94-.94-2.06-.94 2.06-2.06.94zm-11 1L8.5 8.5l.94-2.06 2.06-.94-2.06-.94L8.5 2.5l-.94 2.06-2.06.94zm10 10l.94 2.06.94-2.06 2.06-.94-2.06-.94-.94-2.06-.94 2.06-2.06.94z\"/><path d=\"M17.41 7.96l-1.37-1.37c-.4-.4-.92-.59-1.43-.59-.52 0-1.04.2-1.43.59L10.3 9.45l-7.72 7.72c-.78.78-.78 2.05 0 2.83L4 21.41c.39.39.9.59 1.41.59.51 0 1.02-.2 1.41-.59l7.78-7.78 2.81-2.81c.8-.78.8-2.07 0-2.86zM5.41 20L4 18.59l7.72-7.72 1.47 1.35L5.41 20z\"/>\n",
       "  </svg>\n",
       "      </button>\n",
       "      \n",
       "  <style>\n",
       "    .colab-df-container {\n",
       "      display:flex;\n",
       "      flex-wrap:wrap;\n",
       "      gap: 12px;\n",
       "    }\n",
       "\n",
       "    .colab-df-convert {\n",
       "      background-color: #E8F0FE;\n",
       "      border: none;\n",
       "      border-radius: 50%;\n",
       "      cursor: pointer;\n",
       "      display: none;\n",
       "      fill: #1967D2;\n",
       "      height: 32px;\n",
       "      padding: 0 0 0 0;\n",
       "      width: 32px;\n",
       "    }\n",
       "\n",
       "    .colab-df-convert:hover {\n",
       "      background-color: #E2EBFA;\n",
       "      box-shadow: 0px 1px 2px rgba(60, 64, 67, 0.3), 0px 1px 3px 1px rgba(60, 64, 67, 0.15);\n",
       "      fill: #174EA6;\n",
       "    }\n",
       "\n",
       "    [theme=dark] .colab-df-convert {\n",
       "      background-color: #3B4455;\n",
       "      fill: #D2E3FC;\n",
       "    }\n",
       "\n",
       "    [theme=dark] .colab-df-convert:hover {\n",
       "      background-color: #434B5C;\n",
       "      box-shadow: 0px 1px 3px 1px rgba(0, 0, 0, 0.15);\n",
       "      filter: drop-shadow(0px 1px 2px rgba(0, 0, 0, 0.3));\n",
       "      fill: #FFFFFF;\n",
       "    }\n",
       "  </style>\n",
       "\n",
       "      <script>\n",
       "        const buttonEl =\n",
       "          document.querySelector('#df-708fb935-eb7c-4de8-9417-c6adada4c2ac button.colab-df-convert');\n",
       "        buttonEl.style.display =\n",
       "          google.colab.kernel.accessAllowed ? 'block' : 'none';\n",
       "\n",
       "        async function convertToInteractive(key) {\n",
       "          const element = document.querySelector('#df-708fb935-eb7c-4de8-9417-c6adada4c2ac');\n",
       "          const dataTable =\n",
       "            await google.colab.kernel.invokeFunction('convertToInteractive',\n",
       "                                                     [key], {});\n",
       "          if (!dataTable) return;\n",
       "\n",
       "          const docLinkHtml = 'Like what you see? Visit the ' +\n",
       "            '<a target=\"_blank\" href=https://colab.research.google.com/notebooks/data_table.ipynb>data table notebook</a>'\n",
       "            + ' to learn more about interactive tables.';\n",
       "          element.innerHTML = '';\n",
       "          dataTable['output_type'] = 'display_data';\n",
       "          await google.colab.output.renderOutput(dataTable, element);\n",
       "          const docLink = document.createElement('div');\n",
       "          docLink.innerHTML = docLinkHtml;\n",
       "          element.appendChild(docLink);\n",
       "        }\n",
       "      </script>\n",
       "    </div>\n",
       "  </div>\n",
       "  "
      ]
     },
     "metadata": {},
     "execution_count": 80
    }
   ]
  },
  {
   "cell_type": "code",
   "source": [
    "results = evaluate(model, zip(val_imgs, val_masks))\n",
    "results.describe()"
   ],
   "metadata": {
    "colab": {
     "base_uri": "https://localhost:8080/",
     "height": 387
    },
    "id": "Bjq2QL7UqEHa",
    "outputId": "784beac5-714d-42d1-8db3-d82be2e838a1"
   },
   "execution_count": null,
   "outputs": [
    {
     "output_type": "stream",
     "name": "stderr",
     "text": [
      "\r0it [00:00, ?it/s]"
     ]
    },
    {
     "output_type": "stream",
     "name": "stdout",
     "text": [
      "1/1 [==============================] - 0s 24ms/step\n"
     ]
    },
    {
     "output_type": "stream",
     "name": "stderr",
     "text": [
      "\r1it [00:00,  7.57it/s]"
     ]
    },
    {
     "output_type": "stream",
     "name": "stdout",
     "text": [
      "1/1 [==============================] - 0s 23ms/step\n"
     ]
    },
    {
     "output_type": "stream",
     "name": "stderr",
     "text": [
      "\r2it [00:00,  6.41it/s]"
     ]
    },
    {
     "output_type": "stream",
     "name": "stdout",
     "text": [
      "1/1 [==============================] - 0s 27ms/step\n"
     ]
    },
    {
     "output_type": "stream",
     "name": "stderr",
     "text": [
      "\r3it [00:05,  2.27s/it]"
     ]
    },
    {
     "output_type": "stream",
     "name": "stdout",
     "text": [
      "1/1 [==============================] - 0s 37ms/step\n"
     ]
    },
    {
     "output_type": "stream",
     "name": "stderr",
     "text": [
      "4it [00:05,  1.36s/it]\n"
     ]
    },
    {
     "output_type": "execute_result",
     "data": {
      "text/plain": [
       "           dice       iou       map\n",
       "count  4.000000  4.000000  4.000000\n",
       "mean   0.897803  0.818958  0.841158\n",
       "std    0.062511  0.103584  0.086560\n",
       "min    0.821468  0.697027  0.763300\n",
       "25%    0.876481  0.781500  0.769022\n",
       "50%    0.897629  0.814283  0.835010\n",
       "75%    0.918951  0.851742  0.907146\n",
       "max    0.974485  0.950240  0.931314"
      ],
      "text/html": [
       "\n",
       "  <div id=\"df-78d01295-bb95-45bc-9752-5debbaa1a311\">\n",
       "    <div class=\"colab-df-container\">\n",
       "      <div>\n",
       "<style scoped>\n",
       "    .dataframe tbody tr th:only-of-type {\n",
       "        vertical-align: middle;\n",
       "    }\n",
       "\n",
       "    .dataframe tbody tr th {\n",
       "        vertical-align: top;\n",
       "    }\n",
       "\n",
       "    .dataframe thead th {\n",
       "        text-align: right;\n",
       "    }\n",
       "</style>\n",
       "<table border=\"1\" class=\"dataframe\">\n",
       "  <thead>\n",
       "    <tr style=\"text-align: right;\">\n",
       "      <th></th>\n",
       "      <th>dice</th>\n",
       "      <th>iou</th>\n",
       "      <th>map</th>\n",
       "    </tr>\n",
       "  </thead>\n",
       "  <tbody>\n",
       "    <tr>\n",
       "      <th>count</th>\n",
       "      <td>4.000000</td>\n",
       "      <td>4.000000</td>\n",
       "      <td>4.000000</td>\n",
       "    </tr>\n",
       "    <tr>\n",
       "      <th>mean</th>\n",
       "      <td>0.897803</td>\n",
       "      <td>0.818958</td>\n",
       "      <td>0.841158</td>\n",
       "    </tr>\n",
       "    <tr>\n",
       "      <th>std</th>\n",
       "      <td>0.062511</td>\n",
       "      <td>0.103584</td>\n",
       "      <td>0.086560</td>\n",
       "    </tr>\n",
       "    <tr>\n",
       "      <th>min</th>\n",
       "      <td>0.821468</td>\n",
       "      <td>0.697027</td>\n",
       "      <td>0.763300</td>\n",
       "    </tr>\n",
       "    <tr>\n",
       "      <th>25%</th>\n",
       "      <td>0.876481</td>\n",
       "      <td>0.781500</td>\n",
       "      <td>0.769022</td>\n",
       "    </tr>\n",
       "    <tr>\n",
       "      <th>50%</th>\n",
       "      <td>0.897629</td>\n",
       "      <td>0.814283</td>\n",
       "      <td>0.835010</td>\n",
       "    </tr>\n",
       "    <tr>\n",
       "      <th>75%</th>\n",
       "      <td>0.918951</td>\n",
       "      <td>0.851742</td>\n",
       "      <td>0.907146</td>\n",
       "    </tr>\n",
       "    <tr>\n",
       "      <th>max</th>\n",
       "      <td>0.974485</td>\n",
       "      <td>0.950240</td>\n",
       "      <td>0.931314</td>\n",
       "    </tr>\n",
       "  </tbody>\n",
       "</table>\n",
       "</div>\n",
       "      <button class=\"colab-df-convert\" onclick=\"convertToInteractive('df-78d01295-bb95-45bc-9752-5debbaa1a311')\"\n",
       "              title=\"Convert this dataframe to an interactive table.\"\n",
       "              style=\"display:none;\">\n",
       "        \n",
       "  <svg xmlns=\"http://www.w3.org/2000/svg\" height=\"24px\"viewBox=\"0 0 24 24\"\n",
       "       width=\"24px\">\n",
       "    <path d=\"M0 0h24v24H0V0z\" fill=\"none\"/>\n",
       "    <path d=\"M18.56 5.44l.94 2.06.94-2.06 2.06-.94-2.06-.94-.94-2.06-.94 2.06-2.06.94zm-11 1L8.5 8.5l.94-2.06 2.06-.94-2.06-.94L8.5 2.5l-.94 2.06-2.06.94zm10 10l.94 2.06.94-2.06 2.06-.94-2.06-.94-.94-2.06-.94 2.06-2.06.94z\"/><path d=\"M17.41 7.96l-1.37-1.37c-.4-.4-.92-.59-1.43-.59-.52 0-1.04.2-1.43.59L10.3 9.45l-7.72 7.72c-.78.78-.78 2.05 0 2.83L4 21.41c.39.39.9.59 1.41.59.51 0 1.02-.2 1.41-.59l7.78-7.78 2.81-2.81c.8-.78.8-2.07 0-2.86zM5.41 20L4 18.59l7.72-7.72 1.47 1.35L5.41 20z\"/>\n",
       "  </svg>\n",
       "      </button>\n",
       "      \n",
       "  <style>\n",
       "    .colab-df-container {\n",
       "      display:flex;\n",
       "      flex-wrap:wrap;\n",
       "      gap: 12px;\n",
       "    }\n",
       "\n",
       "    .colab-df-convert {\n",
       "      background-color: #E8F0FE;\n",
       "      border: none;\n",
       "      border-radius: 50%;\n",
       "      cursor: pointer;\n",
       "      display: none;\n",
       "      fill: #1967D2;\n",
       "      height: 32px;\n",
       "      padding: 0 0 0 0;\n",
       "      width: 32px;\n",
       "    }\n",
       "\n",
       "    .colab-df-convert:hover {\n",
       "      background-color: #E2EBFA;\n",
       "      box-shadow: 0px 1px 2px rgba(60, 64, 67, 0.3), 0px 1px 3px 1px rgba(60, 64, 67, 0.15);\n",
       "      fill: #174EA6;\n",
       "    }\n",
       "\n",
       "    [theme=dark] .colab-df-convert {\n",
       "      background-color: #3B4455;\n",
       "      fill: #D2E3FC;\n",
       "    }\n",
       "\n",
       "    [theme=dark] .colab-df-convert:hover {\n",
       "      background-color: #434B5C;\n",
       "      box-shadow: 0px 1px 3px 1px rgba(0, 0, 0, 0.15);\n",
       "      filter: drop-shadow(0px 1px 2px rgba(0, 0, 0, 0.3));\n",
       "      fill: #FFFFFF;\n",
       "    }\n",
       "  </style>\n",
       "\n",
       "      <script>\n",
       "        const buttonEl =\n",
       "          document.querySelector('#df-78d01295-bb95-45bc-9752-5debbaa1a311 button.colab-df-convert');\n",
       "        buttonEl.style.display =\n",
       "          google.colab.kernel.accessAllowed ? 'block' : 'none';\n",
       "\n",
       "        async function convertToInteractive(key) {\n",
       "          const element = document.querySelector('#df-78d01295-bb95-45bc-9752-5debbaa1a311');\n",
       "          const dataTable =\n",
       "            await google.colab.kernel.invokeFunction('convertToInteractive',\n",
       "                                                     [key], {});\n",
       "          if (!dataTable) return;\n",
       "\n",
       "          const docLinkHtml = 'Like what you see? Visit the ' +\n",
       "            '<a target=\"_blank\" href=https://colab.research.google.com/notebooks/data_table.ipynb>data table notebook</a>'\n",
       "            + ' to learn more about interactive tables.';\n",
       "          element.innerHTML = '';\n",
       "          dataTable['output_type'] = 'display_data';\n",
       "          await google.colab.output.renderOutput(dataTable, element);\n",
       "          const docLink = document.createElement('div');\n",
       "          docLink.innerHTML = docLinkHtml;\n",
       "          element.appendChild(docLink);\n",
       "        }\n",
       "      </script>\n",
       "    </div>\n",
       "  </div>\n",
       "  "
      ]
     },
     "metadata": {},
     "execution_count": 81
    }
   ]
  },
  {
   "cell_type": "code",
   "source": [
    "results = evaluate(model, zip(test_imgs, test_masks))\n",
    "results.describe()"
   ],
   "metadata": {
    "colab": {
     "base_uri": "https://localhost:8080/",
     "height": 960
    },
    "id": "gOn9VIFCqHEz",
    "outputId": "2a0edcb2-ed32-4680-a330-bbd82f700e61"
   },
   "execution_count": null,
   "outputs": [
    {
     "output_type": "stream",
     "name": "stderr",
     "text": [
      "\r0it [00:00, ?it/s]"
     ]
    },
    {
     "output_type": "stream",
     "name": "stdout",
     "text": [
      "1/1 [==============================] - 0s 38ms/step\n"
     ]
    },
    {
     "output_type": "stream",
     "name": "stderr",
     "text": [
      "\r1it [00:00,  5.31it/s]"
     ]
    },
    {
     "output_type": "stream",
     "name": "stdout",
     "text": [
      "1/1 [==============================] - 0s 37ms/step\n"
     ]
    },
    {
     "output_type": "stream",
     "name": "stderr",
     "text": [
      "\r2it [00:00,  5.25it/s]"
     ]
    },
    {
     "output_type": "stream",
     "name": "stdout",
     "text": [
      "1/1 [==============================] - 0s 33ms/step\n"
     ]
    },
    {
     "output_type": "stream",
     "name": "stderr",
     "text": [
      "\r3it [00:00,  6.02it/s]"
     ]
    },
    {
     "output_type": "stream",
     "name": "stdout",
     "text": [
      "1/1 [==============================] - 0s 50ms/step\n"
     ]
    },
    {
     "output_type": "stream",
     "name": "stderr",
     "text": [
      "\r4it [00:00,  5.66it/s]"
     ]
    },
    {
     "output_type": "stream",
     "name": "stdout",
     "text": [
      "1/1 [==============================] - 0s 36ms/step\n"
     ]
    },
    {
     "output_type": "stream",
     "name": "stderr",
     "text": [
      "\r5it [00:00,  4.96it/s]"
     ]
    },
    {
     "output_type": "stream",
     "name": "stdout",
     "text": [
      "1/1 [==============================] - 0s 34ms/step\n"
     ]
    },
    {
     "output_type": "stream",
     "name": "stderr",
     "text": [
      "\r6it [00:01,  4.30it/s]"
     ]
    },
    {
     "output_type": "stream",
     "name": "stdout",
     "text": [
      "1/1 [==============================] - 0s 37ms/step\n"
     ]
    },
    {
     "output_type": "stream",
     "name": "stderr",
     "text": [
      "\r7it [00:05,  1.67s/it]"
     ]
    },
    {
     "output_type": "stream",
     "name": "stdout",
     "text": [
      "1/1 [==============================] - 0s 24ms/step\n"
     ]
    },
    {
     "output_type": "stream",
     "name": "stderr",
     "text": [
      "\r8it [00:06,  1.18s/it]"
     ]
    },
    {
     "output_type": "stream",
     "name": "stdout",
     "text": [
      "1/1 [==============================] - 0s 22ms/step\n"
     ]
    },
    {
     "output_type": "stream",
     "name": "stderr",
     "text": [
      "\r9it [00:06,  1.18it/s]"
     ]
    },
    {
     "output_type": "stream",
     "name": "stdout",
     "text": [
      "1/1 [==============================] - 0s 24ms/step\n"
     ]
    },
    {
     "output_type": "stream",
     "name": "stderr",
     "text": [
      "\r10it [00:06,  1.49it/s]"
     ]
    },
    {
     "output_type": "stream",
     "name": "stdout",
     "text": [
      "1/1 [==============================] - 0s 25ms/step\n"
     ]
    },
    {
     "output_type": "stream",
     "name": "stderr",
     "text": [
      "\r11it [00:06,  1.84it/s]"
     ]
    },
    {
     "output_type": "stream",
     "name": "stdout",
     "text": [
      "1/1 [==============================] - 0s 24ms/step\n"
     ]
    },
    {
     "output_type": "stream",
     "name": "stderr",
     "text": [
      "\r12it [00:06,  2.29it/s]"
     ]
    },
    {
     "output_type": "stream",
     "name": "stdout",
     "text": [
      "1/1 [==============================] - 0s 23ms/step\n"
     ]
    },
    {
     "output_type": "stream",
     "name": "stderr",
     "text": [
      "\r13it [00:06,  2.89it/s]"
     ]
    },
    {
     "output_type": "stream",
     "name": "stdout",
     "text": [
      "1/1 [==============================] - 0s 24ms/step\n"
     ]
    },
    {
     "output_type": "stream",
     "name": "stderr",
     "text": [
      "\r14it [00:09,  1.09it/s]"
     ]
    },
    {
     "output_type": "stream",
     "name": "stdout",
     "text": [
      "1/1 [==============================] - 0s 24ms/step\n"
     ]
    },
    {
     "output_type": "stream",
     "name": "stderr",
     "text": [
      "\r15it [00:09,  1.49it/s]"
     ]
    },
    {
     "output_type": "stream",
     "name": "stdout",
     "text": [
      "1/1 [==============================] - 0s 23ms/step\n"
     ]
    },
    {
     "output_type": "stream",
     "name": "stderr",
     "text": [
      "\r16it [00:09,  1.91it/s]"
     ]
    },
    {
     "output_type": "stream",
     "name": "stdout",
     "text": [
      "1/1 [==============================] - 0s 28ms/step\n"
     ]
    },
    {
     "output_type": "stream",
     "name": "stderr",
     "text": [
      "\r17it [00:09,  2.33it/s]"
     ]
    },
    {
     "output_type": "stream",
     "name": "stdout",
     "text": [
      "1/1 [==============================] - 0s 23ms/step\n"
     ]
    },
    {
     "output_type": "stream",
     "name": "stderr",
     "text": [
      "\r18it [00:09,  2.69it/s]"
     ]
    },
    {
     "output_type": "stream",
     "name": "stdout",
     "text": [
      "1/1 [==============================] - 0s 24ms/step\n"
     ]
    },
    {
     "output_type": "stream",
     "name": "stderr",
     "text": [
      "\r19it [00:10,  3.19it/s]"
     ]
    },
    {
     "output_type": "stream",
     "name": "stdout",
     "text": [
      "1/1 [==============================] - 0s 22ms/step\n"
     ]
    },
    {
     "output_type": "stream",
     "name": "stderr",
     "text": [
      "\r20it [00:10,  3.50it/s]"
     ]
    },
    {
     "output_type": "stream",
     "name": "stdout",
     "text": [
      "1/1 [==============================] - 0s 23ms/step\n"
     ]
    },
    {
     "output_type": "stream",
     "name": "stderr",
     "text": [
      "\r21it [00:10,  3.68it/s]"
     ]
    },
    {
     "output_type": "stream",
     "name": "stdout",
     "text": [
      "1/1 [==============================] - 0s 25ms/step\n"
     ]
    },
    {
     "output_type": "stream",
     "name": "stderr",
     "text": [
      "\r22it [00:12,  1.53it/s]"
     ]
    },
    {
     "output_type": "stream",
     "name": "stdout",
     "text": [
      "1/1 [==============================] - 0s 34ms/step\n"
     ]
    },
    {
     "output_type": "stream",
     "name": "stderr",
     "text": [
      "\r23it [00:12,  1.69it/s]"
     ]
    },
    {
     "output_type": "stream",
     "name": "stdout",
     "text": [
      "1/1 [==============================] - 0s 35ms/step\n"
     ]
    },
    {
     "output_type": "stream",
     "name": "stderr",
     "text": [
      "\r24it [00:12,  2.12it/s]"
     ]
    },
    {
     "output_type": "stream",
     "name": "stdout",
     "text": [
      "1/1 [==============================] - 0s 50ms/step\n"
     ]
    },
    {
     "output_type": "stream",
     "name": "stderr",
     "text": [
      "\r25it [00:13,  2.11it/s]"
     ]
    },
    {
     "output_type": "stream",
     "name": "stdout",
     "text": [
      "1/1 [==============================] - 0s 54ms/step\n"
     ]
    },
    {
     "output_type": "stream",
     "name": "stderr",
     "text": [
      "\r26it [00:13,  2.07it/s]"
     ]
    },
    {
     "output_type": "stream",
     "name": "stdout",
     "text": [
      "1/1 [==============================] - 0s 51ms/step\n"
     ]
    },
    {
     "output_type": "stream",
     "name": "stderr",
     "text": [
      "\r27it [00:13,  2.45it/s]"
     ]
    },
    {
     "output_type": "stream",
     "name": "stdout",
     "text": [
      "1/1 [==============================] - 0s 56ms/step\n"
     ]
    },
    {
     "output_type": "stream",
     "name": "stderr",
     "text": [
      "\r28it [00:14,  2.31it/s]"
     ]
    },
    {
     "output_type": "stream",
     "name": "stdout",
     "text": [
      "1/1 [==============================] - 0s 42ms/step\n"
     ]
    },
    {
     "output_type": "stream",
     "name": "stderr",
     "text": [
      "\r29it [00:14,  2.21it/s]"
     ]
    },
    {
     "output_type": "stream",
     "name": "stdout",
     "text": [
      "1/1 [==============================] - 0s 78ms/step\n"
     ]
    },
    {
     "output_type": "stream",
     "name": "stderr",
     "text": [
      "\r30it [00:16,  1.34it/s]"
     ]
    },
    {
     "output_type": "stream",
     "name": "stdout",
     "text": [
      "1/1 [==============================] - 0s 33ms/step\n"
     ]
    },
    {
     "output_type": "stream",
     "name": "stderr",
     "text": [
      "\r31it [00:16,  1.60it/s]"
     ]
    },
    {
     "output_type": "stream",
     "name": "stdout",
     "text": [
      "1/1 [==============================] - 0s 61ms/step\n"
     ]
    },
    {
     "output_type": "stream",
     "name": "stderr",
     "text": [
      "\r32it [00:45,  9.12s/it]"
     ]
    },
    {
     "output_type": "stream",
     "name": "stdout",
     "text": [
      "1/1 [==============================] - 0s 25ms/step\n"
     ]
    },
    {
     "output_type": "stream",
     "name": "stderr",
     "text": [
      "\r33it [00:45,  6.43s/it]"
     ]
    },
    {
     "output_type": "stream",
     "name": "stdout",
     "text": [
      "1/1 [==============================] - 0s 22ms/step\n"
     ]
    },
    {
     "output_type": "stream",
     "name": "stderr",
     "text": [
      "\r34it [00:45,  4.54s/it]"
     ]
    },
    {
     "output_type": "stream",
     "name": "stdout",
     "text": [
      "1/1 [==============================] - 0s 22ms/step\n",
      "1/1 [==============================] - 0s 24ms/step\n"
     ]
    },
    {
     "output_type": "stream",
     "name": "stderr",
     "text": [
      "\r36it [00:46,  2.51s/it]"
     ]
    },
    {
     "output_type": "stream",
     "name": "stdout",
     "text": [
      "1/1 [==============================] - 0s 24ms/step\n"
     ]
    },
    {
     "output_type": "stream",
     "name": "stderr",
     "text": [
      "37it [00:46,  1.26s/it]\n"
     ]
    },
    {
     "output_type": "execute_result",
     "data": {
      "text/plain": [
       "            dice        iou        map\n",
       "count  37.000000  37.000000  37.000000\n",
       "mean    0.882012   0.803098   0.775942\n",
       "std     0.109546   0.149569   0.162970\n",
       "min     0.488422   0.323121   0.223828\n",
       "25%     0.868764   0.767978   0.748860\n",
       "50%     0.918997   0.850134   0.805414\n",
       "75%     0.948614   0.902250   0.869678\n",
       "max     0.977082   0.955192   0.981484"
      ],
      "text/html": [
       "\n",
       "  <div id=\"df-9e5b2572-dd86-486a-b0c0-9a736066fbe3\">\n",
       "    <div class=\"colab-df-container\">\n",
       "      <div>\n",
       "<style scoped>\n",
       "    .dataframe tbody tr th:only-of-type {\n",
       "        vertical-align: middle;\n",
       "    }\n",
       "\n",
       "    .dataframe tbody tr th {\n",
       "        vertical-align: top;\n",
       "    }\n",
       "\n",
       "    .dataframe thead th {\n",
       "        text-align: right;\n",
       "    }\n",
       "</style>\n",
       "<table border=\"1\" class=\"dataframe\">\n",
       "  <thead>\n",
       "    <tr style=\"text-align: right;\">\n",
       "      <th></th>\n",
       "      <th>dice</th>\n",
       "      <th>iou</th>\n",
       "      <th>map</th>\n",
       "    </tr>\n",
       "  </thead>\n",
       "  <tbody>\n",
       "    <tr>\n",
       "      <th>count</th>\n",
       "      <td>37.000000</td>\n",
       "      <td>37.000000</td>\n",
       "      <td>37.000000</td>\n",
       "    </tr>\n",
       "    <tr>\n",
       "      <th>mean</th>\n",
       "      <td>0.882012</td>\n",
       "      <td>0.803098</td>\n",
       "      <td>0.775942</td>\n",
       "    </tr>\n",
       "    <tr>\n",
       "      <th>std</th>\n",
       "      <td>0.109546</td>\n",
       "      <td>0.149569</td>\n",
       "      <td>0.162970</td>\n",
       "    </tr>\n",
       "    <tr>\n",
       "      <th>min</th>\n",
       "      <td>0.488422</td>\n",
       "      <td>0.323121</td>\n",
       "      <td>0.223828</td>\n",
       "    </tr>\n",
       "    <tr>\n",
       "      <th>25%</th>\n",
       "      <td>0.868764</td>\n",
       "      <td>0.767978</td>\n",
       "      <td>0.748860</td>\n",
       "    </tr>\n",
       "    <tr>\n",
       "      <th>50%</th>\n",
       "      <td>0.918997</td>\n",
       "      <td>0.850134</td>\n",
       "      <td>0.805414</td>\n",
       "    </tr>\n",
       "    <tr>\n",
       "      <th>75%</th>\n",
       "      <td>0.948614</td>\n",
       "      <td>0.902250</td>\n",
       "      <td>0.869678</td>\n",
       "    </tr>\n",
       "    <tr>\n",
       "      <th>max</th>\n",
       "      <td>0.977082</td>\n",
       "      <td>0.955192</td>\n",
       "      <td>0.981484</td>\n",
       "    </tr>\n",
       "  </tbody>\n",
       "</table>\n",
       "</div>\n",
       "      <button class=\"colab-df-convert\" onclick=\"convertToInteractive('df-9e5b2572-dd86-486a-b0c0-9a736066fbe3')\"\n",
       "              title=\"Convert this dataframe to an interactive table.\"\n",
       "              style=\"display:none;\">\n",
       "        \n",
       "  <svg xmlns=\"http://www.w3.org/2000/svg\" height=\"24px\"viewBox=\"0 0 24 24\"\n",
       "       width=\"24px\">\n",
       "    <path d=\"M0 0h24v24H0V0z\" fill=\"none\"/>\n",
       "    <path d=\"M18.56 5.44l.94 2.06.94-2.06 2.06-.94-2.06-.94-.94-2.06-.94 2.06-2.06.94zm-11 1L8.5 8.5l.94-2.06 2.06-.94-2.06-.94L8.5 2.5l-.94 2.06-2.06.94zm10 10l.94 2.06.94-2.06 2.06-.94-2.06-.94-.94-2.06-.94 2.06-2.06.94z\"/><path d=\"M17.41 7.96l-1.37-1.37c-.4-.4-.92-.59-1.43-.59-.52 0-1.04.2-1.43.59L10.3 9.45l-7.72 7.72c-.78.78-.78 2.05 0 2.83L4 21.41c.39.39.9.59 1.41.59.51 0 1.02-.2 1.41-.59l7.78-7.78 2.81-2.81c.8-.78.8-2.07 0-2.86zM5.41 20L4 18.59l7.72-7.72 1.47 1.35L5.41 20z\"/>\n",
       "  </svg>\n",
       "      </button>\n",
       "      \n",
       "  <style>\n",
       "    .colab-df-container {\n",
       "      display:flex;\n",
       "      flex-wrap:wrap;\n",
       "      gap: 12px;\n",
       "    }\n",
       "\n",
       "    .colab-df-convert {\n",
       "      background-color: #E8F0FE;\n",
       "      border: none;\n",
       "      border-radius: 50%;\n",
       "      cursor: pointer;\n",
       "      display: none;\n",
       "      fill: #1967D2;\n",
       "      height: 32px;\n",
       "      padding: 0 0 0 0;\n",
       "      width: 32px;\n",
       "    }\n",
       "\n",
       "    .colab-df-convert:hover {\n",
       "      background-color: #E2EBFA;\n",
       "      box-shadow: 0px 1px 2px rgba(60, 64, 67, 0.3), 0px 1px 3px 1px rgba(60, 64, 67, 0.15);\n",
       "      fill: #174EA6;\n",
       "    }\n",
       "\n",
       "    [theme=dark] .colab-df-convert {\n",
       "      background-color: #3B4455;\n",
       "      fill: #D2E3FC;\n",
       "    }\n",
       "\n",
       "    [theme=dark] .colab-df-convert:hover {\n",
       "      background-color: #434B5C;\n",
       "      box-shadow: 0px 1px 3px 1px rgba(0, 0, 0, 0.15);\n",
       "      filter: drop-shadow(0px 1px 2px rgba(0, 0, 0, 0.3));\n",
       "      fill: #FFFFFF;\n",
       "    }\n",
       "  </style>\n",
       "\n",
       "      <script>\n",
       "        const buttonEl =\n",
       "          document.querySelector('#df-9e5b2572-dd86-486a-b0c0-9a736066fbe3 button.colab-df-convert');\n",
       "        buttonEl.style.display =\n",
       "          google.colab.kernel.accessAllowed ? 'block' : 'none';\n",
       "\n",
       "        async function convertToInteractive(key) {\n",
       "          const element = document.querySelector('#df-9e5b2572-dd86-486a-b0c0-9a736066fbe3');\n",
       "          const dataTable =\n",
       "            await google.colab.kernel.invokeFunction('convertToInteractive',\n",
       "                                                     [key], {});\n",
       "          if (!dataTable) return;\n",
       "\n",
       "          const docLinkHtml = 'Like what you see? Visit the ' +\n",
       "            '<a target=\"_blank\" href=https://colab.research.google.com/notebooks/data_table.ipynb>data table notebook</a>'\n",
       "            + ' to learn more about interactive tables.';\n",
       "          element.innerHTML = '';\n",
       "          dataTable['output_type'] = 'display_data';\n",
       "          await google.colab.output.renderOutput(dataTable, element);\n",
       "          const docLink = document.createElement('div');\n",
       "          docLink.innerHTML = docLinkHtml;\n",
       "          element.appendChild(docLink);\n",
       "        }\n",
       "      </script>\n",
       "    </div>\n",
       "  </div>\n",
       "  "
      ]
     },
     "metadata": {},
     "execution_count": 82
    }
   ]
  },
  {
   "cell_type": "markdown",
   "metadata": {
    "id": "AWYFD2LL5dqF"
   },
   "source": [
    "# Finetuning pretrained model"
   ]
  },
  {
   "cell_type": "code",
   "execution_count": null,
   "metadata": {
    "colab": {
     "base_uri": "https://localhost:8080/"
    },
    "id": "klpOYQ2nbHvY",
    "outputId": "0c1f45c1-ad61-484e-c100-7c2ba7d58223"
   },
   "outputs": [
    {
     "output_type": "stream",
     "name": "stdout",
     "text": [
      "Epoch 1/20\n",
      "50/50 [==============================] - 26s 343ms/step - loss: 0.3983 - prob_loss: 0.1766 - dist_loss: 1.1086 - prob_kld: 0.0119 - dist_relevant_mae: 1.1080 - dist_relevant_mse: 6.1987 - dist_dist_iou_metric: 0.8978 - val_loss: 0.4492 - val_prob_loss: 0.2060 - val_dist_loss: 1.2160 - val_prob_kld: 0.0249 - val_dist_relevant_mae: 1.2154 - val_dist_relevant_mse: 4.9061 - val_dist_dist_iou_metric: 0.8736 - lr: 3.0000e-04\n",
      "Epoch 2/20\n",
      "50/50 [==============================] - 16s 328ms/step - loss: 0.3618 - prob_loss: 0.1739 - dist_loss: 0.9397 - prob_kld: 0.0102 - dist_relevant_mae: 0.9391 - dist_relevant_mse: 3.8642 - dist_dist_iou_metric: 0.9105 - val_loss: 0.4414 - val_prob_loss: 0.2009 - val_dist_loss: 1.2024 - val_prob_kld: 0.0198 - val_dist_relevant_mae: 1.2018 - val_dist_relevant_mse: 4.8469 - val_dist_dist_iou_metric: 0.8740 - lr: 3.0000e-04\n",
      "Epoch 3/20\n",
      "50/50 [==============================] - 19s 375ms/step - loss: 0.3563 - prob_loss: 0.1741 - dist_loss: 0.9111 - prob_kld: 0.0097 - dist_relevant_mae: 0.9105 - dist_relevant_mse: 3.3559 - dist_dist_iou_metric: 0.9129 - val_loss: 0.4444 - val_prob_loss: 0.2002 - val_dist_loss: 1.2209 - val_prob_kld: 0.0191 - val_dist_relevant_mae: 1.2202 - val_dist_relevant_mse: 5.0486 - val_dist_dist_iou_metric: 0.8734 - lr: 3.0000e-04\n",
      "Epoch 4/20\n",
      "50/50 [==============================] - 16s 327ms/step - loss: 0.3481 - prob_loss: 0.1737 - dist_loss: 0.8720 - prob_kld: 0.0089 - dist_relevant_mae: 0.8714 - dist_relevant_mse: 3.0462 - dist_dist_iou_metric: 0.9163 - val_loss: 0.4402 - val_prob_loss: 0.1993 - val_dist_loss: 1.2047 - val_prob_kld: 0.0182 - val_dist_relevant_mae: 1.2041 - val_dist_relevant_mse: 4.7791 - val_dist_dist_iou_metric: 0.8750 - lr: 3.0000e-04\n",
      "Epoch 5/20\n",
      "50/50 [==============================] - 16s 327ms/step - loss: 0.3416 - prob_loss: 0.1720 - dist_loss: 0.8480 - prob_kld: 0.0082 - dist_relevant_mae: 0.8475 - dist_relevant_mse: 2.7664 - dist_dist_iou_metric: 0.9188 - val_loss: 0.4338 - val_prob_loss: 0.1996 - val_dist_loss: 1.1709 - val_prob_kld: 0.0185 - val_dist_relevant_mae: 1.1703 - val_dist_relevant_mse: 4.4524 - val_dist_dist_iou_metric: 0.8781 - lr: 3.0000e-04\n",
      "Epoch 6/20\n",
      "50/50 [==============================] - 16s 323ms/step - loss: 0.3384 - prob_loss: 0.1726 - dist_loss: 0.8291 - prob_kld: 0.0081 - dist_relevant_mae: 0.8286 - dist_relevant_mse: 2.6246 - dist_dist_iou_metric: 0.9200 - val_loss: 0.4339 - val_prob_loss: 0.1984 - val_dist_loss: 1.1774 - val_prob_kld: 0.0173 - val_dist_relevant_mae: 1.1768 - val_dist_relevant_mse: 4.6642 - val_dist_dist_iou_metric: 0.8777 - lr: 3.0000e-04\n",
      "Epoch 7/20\n",
      "50/50 [==============================] - 16s 332ms/step - loss: 0.3331 - prob_loss: 0.1714 - dist_loss: 0.8086 - prob_kld: 0.0076 - dist_relevant_mae: 0.8080 - dist_relevant_mse: 2.3174 - dist_dist_iou_metric: 0.9209 - val_loss: 0.4364 - val_prob_loss: 0.1988 - val_dist_loss: 1.1882 - val_prob_kld: 0.0177 - val_dist_relevant_mae: 1.1875 - val_dist_relevant_mse: 4.7390 - val_dist_dist_iou_metric: 0.8780 - lr: 3.0000e-04\n",
      "Epoch 8/20\n",
      "50/50 [==============================] - 16s 326ms/step - loss: 0.3310 - prob_loss: 0.1713 - dist_loss: 0.7983 - prob_kld: 0.0075 - dist_relevant_mae: 0.7977 - dist_relevant_mse: 2.2287 - dist_dist_iou_metric: 0.9215 - val_loss: 0.4422 - val_prob_loss: 0.1997 - val_dist_loss: 1.2123 - val_prob_kld: 0.0186 - val_dist_relevant_mae: 1.2117 - val_dist_relevant_mse: 5.1755 - val_dist_dist_iou_metric: 0.8758 - lr: 3.0000e-04\n",
      "Epoch 9/20\n",
      "50/50 [==============================] - 16s 326ms/step - loss: 0.3302 - prob_loss: 0.1719 - dist_loss: 0.7915 - prob_kld: 0.0074 - dist_relevant_mae: 0.7909 - dist_relevant_mse: 2.1348 - dist_dist_iou_metric: 0.9236 - val_loss: 0.4399 - val_prob_loss: 0.1998 - val_dist_loss: 1.2006 - val_prob_kld: 0.0187 - val_dist_relevant_mae: 1.2000 - val_dist_relevant_mse: 5.0154 - val_dist_dist_iou_metric: 0.8757 - lr: 3.0000e-04\n",
      "Epoch 10/20\n",
      "50/50 [==============================] - 16s 326ms/step - loss: 0.3275 - prob_loss: 0.1714 - dist_loss: 0.7804 - prob_kld: 0.0071 - dist_relevant_mae: 0.7798 - dist_relevant_mse: 2.0699 - dist_dist_iou_metric: 0.9237 - val_loss: 0.4466 - val_prob_loss: 0.2016 - val_dist_loss: 1.2249 - val_prob_kld: 0.0205 - val_dist_relevant_mae: 1.2243 - val_dist_relevant_mse: 5.0808 - val_dist_dist_iou_metric: 0.8750 - lr: 3.0000e-04\n",
      "Epoch 11/20\n",
      "50/50 [==============================] - 16s 327ms/step - loss: 0.3297 - prob_loss: 0.1703 - dist_loss: 0.7971 - prob_kld: 0.0070 - dist_relevant_mae: 0.7965 - dist_relevant_mse: 2.1423 - dist_dist_iou_metric: 0.9217 - val_loss: 0.4444 - val_prob_loss: 0.2010 - val_dist_loss: 1.2169 - val_prob_kld: 0.0199 - val_dist_relevant_mae: 1.2163 - val_dist_relevant_mse: 4.9996 - val_dist_dist_iou_metric: 0.8751 - lr: 3.0000e-04\n",
      "Epoch 12/20\n",
      "50/50 [==============================] - 16s 324ms/step - loss: 0.3263 - prob_loss: 0.1732 - dist_loss: 0.7652 - prob_kld: 0.0071 - dist_relevant_mae: 0.7647 - dist_relevant_mse: 1.8893 - dist_dist_iou_metric: 0.9257 - val_loss: 0.4373 - val_prob_loss: 0.1987 - val_dist_loss: 1.1933 - val_prob_kld: 0.0175 - val_dist_relevant_mae: 1.1927 - val_dist_relevant_mse: 4.7193 - val_dist_dist_iou_metric: 0.8773 - lr: 3.0000e-04\n",
      "Epoch 13/20\n",
      "50/50 [==============================] - 16s 319ms/step - loss: 0.3238 - prob_loss: 0.1712 - dist_loss: 0.7628 - prob_kld: 0.0068 - dist_relevant_mae: 0.7622 - dist_relevant_mse: 1.9482 - dist_dist_iou_metric: 0.9252 - val_loss: 0.4454 - val_prob_loss: 0.1996 - val_dist_loss: 1.2290 - val_prob_kld: 0.0185 - val_dist_relevant_mae: 1.2284 - val_dist_relevant_mse: 5.1540 - val_dist_dist_iou_metric: 0.8743 - lr: 3.0000e-04\n",
      "Epoch 14/20\n",
      "50/50 [==============================] - 16s 316ms/step - loss: 0.3206 - prob_loss: 0.1710 - dist_loss: 0.7482 - prob_kld: 0.0063 - dist_relevant_mae: 0.7477 - dist_relevant_mse: 1.8328 - dist_dist_iou_metric: 0.9270 - val_loss: 0.4391 - val_prob_loss: 0.2002 - val_dist_loss: 1.1943 - val_prob_kld: 0.0191 - val_dist_relevant_mae: 1.1937 - val_dist_relevant_mse: 4.8785 - val_dist_dist_iou_metric: 0.8769 - lr: 3.0000e-04\n",
      "Epoch 15/20\n",
      "50/50 [==============================] - 16s 315ms/step - loss: 0.3192 - prob_loss: 0.1706 - dist_loss: 0.7430 - prob_kld: 0.0063 - dist_relevant_mae: 0.7424 - dist_relevant_mse: 1.8195 - dist_dist_iou_metric: 0.9272 - val_loss: 0.4415 - val_prob_loss: 0.1998 - val_dist_loss: 1.2085 - val_prob_kld: 0.0187 - val_dist_relevant_mae: 1.2079 - val_dist_relevant_mse: 5.0417 - val_dist_dist_iou_metric: 0.8757 - lr: 3.0000e-04\n",
      "Epoch 16/20\n",
      "50/50 [==============================] - 16s 329ms/step - loss: 0.3160 - prob_loss: 0.1711 - dist_loss: 0.7245 - prob_kld: 0.0062 - dist_relevant_mae: 0.7239 - dist_relevant_mse: 1.7069 - dist_dist_iou_metric: 0.9294 - val_loss: 0.4377 - val_prob_loss: 0.1983 - val_dist_loss: 1.1970 - val_prob_kld: 0.0172 - val_dist_relevant_mae: 1.1964 - val_dist_relevant_mse: 4.9035 - val_dist_dist_iou_metric: 0.8771 - lr: 3.0000e-04\n",
      "Epoch 17/20\n",
      "50/50 [==============================] - 16s 322ms/step - loss: 0.3155 - prob_loss: 0.1691 - dist_loss: 0.7319 - prob_kld: 0.0062 - dist_relevant_mae: 0.7314 - dist_relevant_mse: 1.7235 - dist_dist_iou_metric: 0.9282 - val_loss: 0.4392 - val_prob_loss: 0.2004 - val_dist_loss: 1.1940 - val_prob_kld: 0.0193 - val_dist_relevant_mae: 1.1934 - val_dist_relevant_mse: 4.8591 - val_dist_dist_iou_metric: 0.8769 - lr: 3.0000e-04\n",
      "Epoch 18/20\n",
      "50/50 [==============================] - 16s 315ms/step - loss: 0.3184 - prob_loss: 0.1723 - dist_loss: 0.7303 - prob_kld: 0.0060 - dist_relevant_mae: 0.7297 - dist_relevant_mse: 1.7196 - dist_dist_iou_metric: 0.9285 - val_loss: 0.4416 - val_prob_loss: 0.1994 - val_dist_loss: 1.2109 - val_prob_kld: 0.0183 - val_dist_relevant_mae: 1.2103 - val_dist_relevant_mse: 4.9746 - val_dist_dist_iou_metric: 0.8747 - lr: 3.0000e-04\n",
      "Epoch 19/20\n",
      "50/50 [==============================] - 16s 329ms/step - loss: 0.3123 - prob_loss: 0.1697 - dist_loss: 0.7128 - prob_kld: 0.0058 - dist_relevant_mae: 0.7123 - dist_relevant_mse: 1.6298 - dist_dist_iou_metric: 0.9299 - val_loss: 0.4412 - val_prob_loss: 0.1992 - val_dist_loss: 1.2101 - val_prob_kld: 0.0181 - val_dist_relevant_mae: 1.2095 - val_dist_relevant_mse: 4.8148 - val_dist_dist_iou_metric: 0.8756 - lr: 3.0000e-04\n",
      "Epoch 20/20\n",
      "50/50 [==============================] - 16s 320ms/step - loss: 0.3113 - prob_loss: 0.1700 - dist_loss: 0.7064 - prob_kld: 0.0059 - dist_relevant_mae: 0.7059 - dist_relevant_mse: 1.6020 - dist_dist_iou_metric: 0.9298 - val_loss: 0.4407 - val_prob_loss: 0.1999 - val_dist_loss: 1.2038 - val_prob_kld: 0.0188 - val_dist_relevant_mae: 1.2032 - val_dist_relevant_mse: 4.8809 - val_dist_dist_iou_metric: 0.8760 - lr: 3.0000e-04\n"
     ]
    },
    {
     "output_type": "execute_result",
     "data": {
      "text/plain": [
       "<keras.callbacks.History at 0x7f81a877c910>"
      ]
     },
     "metadata": {},
     "execution_count": 83
    }
   ],
   "source": [
    "model.train(train_imgs, train_masks, validation_data=(val_imgs, val_masks), augmenter=None, epochs=20, steps_per_epoch=50)"
   ]
  },
  {
   "cell_type": "code",
   "source": [
    "results = evaluate(model, zip(train_imgs, train_masks))\n",
    "results.describe()"
   ],
   "metadata": {
    "colab": {
     "base_uri": "https://localhost:8080/",
     "height": 977
    },
    "id": "hA5OYrvHjHF8",
    "outputId": "2b7281fe-396b-4918-d0f5-bbaad99745dd"
   },
   "execution_count": null,
   "outputs": [
    {
     "output_type": "stream",
     "name": "stderr",
     "text": [
      "\r0it [00:00, ?it/s]"
     ]
    },
    {
     "output_type": "stream",
     "name": "stdout",
     "text": [
      "1/1 [==============================] - 0s 220ms/step\n"
     ]
    },
    {
     "output_type": "stream",
     "name": "stderr",
     "text": [
      "\r1it [00:02,  2.33s/it]"
     ]
    },
    {
     "output_type": "stream",
     "name": "stdout",
     "text": [
      "1/1 [==============================] - 0s 342ms/step\n"
     ]
    },
    {
     "output_type": "stream",
     "name": "stderr",
     "text": [
      "\r2it [00:02,  1.29s/it]"
     ]
    },
    {
     "output_type": "stream",
     "name": "stdout",
     "text": [
      "1/1 [==============================] - 0s 42ms/step\n"
     ]
    },
    {
     "output_type": "stream",
     "name": "stderr",
     "text": [
      "\r3it [00:03,  1.26it/s]"
     ]
    },
    {
     "output_type": "stream",
     "name": "stdout",
     "text": [
      "1/1 [==============================] - 0s 40ms/step\n"
     ]
    },
    {
     "output_type": "stream",
     "name": "stderr",
     "text": [
      "\r4it [00:03,  1.65it/s]"
     ]
    },
    {
     "output_type": "stream",
     "name": "stdout",
     "text": [
      "1/1 [==============================] - 0s 38ms/step\n"
     ]
    },
    {
     "output_type": "stream",
     "name": "stderr",
     "text": [
      "\r5it [00:03,  2.11it/s]"
     ]
    },
    {
     "output_type": "stream",
     "name": "stdout",
     "text": [
      "1/1 [==============================] - 0s 39ms/step\n"
     ]
    },
    {
     "output_type": "stream",
     "name": "stderr",
     "text": [
      "\r6it [00:03,  2.71it/s]"
     ]
    },
    {
     "output_type": "stream",
     "name": "stdout",
     "text": [
      "1/1 [==============================] - 0s 37ms/step\n"
     ]
    },
    {
     "output_type": "stream",
     "name": "stderr",
     "text": [
      "\r7it [00:04,  2.97it/s]"
     ]
    },
    {
     "output_type": "stream",
     "name": "stdout",
     "text": [
      "1/1 [==============================] - 0s 38ms/step\n"
     ]
    },
    {
     "output_type": "stream",
     "name": "stderr",
     "text": [
      "\r8it [00:04,  3.07it/s]"
     ]
    },
    {
     "output_type": "stream",
     "name": "stdout",
     "text": [
      "1/1 [==============================] - 0s 40ms/step\n"
     ]
    },
    {
     "output_type": "stream",
     "name": "stderr",
     "text": [
      "\r9it [00:04,  3.58it/s]"
     ]
    },
    {
     "output_type": "stream",
     "name": "stdout",
     "text": [
      "1/1 [==============================] - 0s 42ms/step\n"
     ]
    },
    {
     "output_type": "stream",
     "name": "stderr",
     "text": [
      "\r10it [00:04,  3.97it/s]"
     ]
    },
    {
     "output_type": "stream",
     "name": "stdout",
     "text": [
      "1/1 [==============================] - 0s 34ms/step\n"
     ]
    },
    {
     "output_type": "stream",
     "name": "stderr",
     "text": [
      "\r11it [00:05,  3.93it/s]"
     ]
    },
    {
     "output_type": "stream",
     "name": "stdout",
     "text": [
      "1/1 [==============================] - 0s 58ms/step\n"
     ]
    },
    {
     "output_type": "stream",
     "name": "stderr",
     "text": [
      "\r12it [00:05,  3.91it/s]"
     ]
    },
    {
     "output_type": "stream",
     "name": "stdout",
     "text": [
      "1/1 [==============================] - 0s 47ms/step\n"
     ]
    },
    {
     "output_type": "stream",
     "name": "stderr",
     "text": [
      "\r13it [00:08,  1.06s/it]"
     ]
    },
    {
     "output_type": "stream",
     "name": "stdout",
     "text": [
      "1/1 [==============================] - 0s 24ms/step\n"
     ]
    },
    {
     "output_type": "stream",
     "name": "stderr",
     "text": [
      "\r14it [00:08,  1.26it/s]"
     ]
    },
    {
     "output_type": "stream",
     "name": "stdout",
     "text": [
      "1/1 [==============================] - 0s 22ms/step\n"
     ]
    },
    {
     "output_type": "stream",
     "name": "stderr",
     "text": [
      "\r15it [00:08,  1.69it/s]"
     ]
    },
    {
     "output_type": "stream",
     "name": "stdout",
     "text": [
      "1/1 [==============================] - 0s 22ms/step\n"
     ]
    },
    {
     "output_type": "stream",
     "name": "stderr",
     "text": [
      "\r16it [00:08,  2.23it/s]"
     ]
    },
    {
     "output_type": "stream",
     "name": "stdout",
     "text": [
      "1/1 [==============================] - 0s 26ms/step\n"
     ]
    },
    {
     "output_type": "stream",
     "name": "stderr",
     "text": [
      "\r17it [00:08,  2.80it/s]"
     ]
    },
    {
     "output_type": "stream",
     "name": "stdout",
     "text": [
      "1/1 [==============================] - 0s 34ms/step\n"
     ]
    },
    {
     "output_type": "stream",
     "name": "stderr",
     "text": [
      "\r18it [00:10,  1.08it/s]"
     ]
    },
    {
     "output_type": "stream",
     "name": "stdout",
     "text": [
      "1/1 [==============================] - 0s 24ms/step\n"
     ]
    },
    {
     "output_type": "stream",
     "name": "stderr",
     "text": [
      "\r19it [00:11,  1.44it/s]"
     ]
    },
    {
     "output_type": "stream",
     "name": "stdout",
     "text": [
      "1/1 [==============================] - 0s 23ms/step\n"
     ]
    },
    {
     "output_type": "stream",
     "name": "stderr",
     "text": [
      "\r20it [00:11,  1.84it/s]"
     ]
    },
    {
     "output_type": "stream",
     "name": "stdout",
     "text": [
      "1/1 [==============================] - 0s 24ms/step\n"
     ]
    },
    {
     "output_type": "stream",
     "name": "stderr",
     "text": [
      "\r21it [00:11,  2.36it/s]"
     ]
    },
    {
     "output_type": "stream",
     "name": "stdout",
     "text": [
      "1/1 [==============================] - 0s 26ms/step\n"
     ]
    },
    {
     "output_type": "stream",
     "name": "stderr",
     "text": [
      "\r22it [00:11,  2.89it/s]"
     ]
    },
    {
     "output_type": "stream",
     "name": "stdout",
     "text": [
      "1/1 [==============================] - 0s 27ms/step\n"
     ]
    },
    {
     "output_type": "stream",
     "name": "stderr",
     "text": [
      "\r23it [00:14,  1.04it/s]"
     ]
    },
    {
     "output_type": "stream",
     "name": "stdout",
     "text": [
      "1/1 [==============================] - 0s 26ms/step\n"
     ]
    },
    {
     "output_type": "stream",
     "name": "stderr",
     "text": [
      "\r24it [00:14,  1.38it/s]"
     ]
    },
    {
     "output_type": "stream",
     "name": "stdout",
     "text": [
      "1/1 [==============================] - 0s 23ms/step\n"
     ]
    },
    {
     "output_type": "stream",
     "name": "stderr",
     "text": [
      "\r25it [00:14,  1.81it/s]"
     ]
    },
    {
     "output_type": "stream",
     "name": "stdout",
     "text": [
      "1/1 [==============================] - 0s 24ms/step\n"
     ]
    },
    {
     "output_type": "stream",
     "name": "stderr",
     "text": [
      "\r26it [00:14,  2.26it/s]"
     ]
    },
    {
     "output_type": "stream",
     "name": "stdout",
     "text": [
      "1/1 [==============================] - 0s 25ms/step\n"
     ]
    },
    {
     "output_type": "stream",
     "name": "stderr",
     "text": [
      "\r27it [00:14,  2.68it/s]"
     ]
    },
    {
     "output_type": "stream",
     "name": "stdout",
     "text": [
      "1/1 [==============================] - 0s 26ms/step\n"
     ]
    },
    {
     "output_type": "stream",
     "name": "stderr",
     "text": [
      "\r28it [00:14,  3.16it/s]"
     ]
    },
    {
     "output_type": "stream",
     "name": "stdout",
     "text": [
      "1/1 [==============================] - 0s 23ms/step\n"
     ]
    },
    {
     "output_type": "stream",
     "name": "stderr",
     "text": [
      "\r29it [00:15,  3.64it/s]"
     ]
    },
    {
     "output_type": "stream",
     "name": "stdout",
     "text": [
      "1/1 [==============================] - 0s 24ms/step\n"
     ]
    },
    {
     "output_type": "stream",
     "name": "stderr",
     "text": [
      "\r30it [00:15,  3.94it/s]"
     ]
    },
    {
     "output_type": "stream",
     "name": "stdout",
     "text": [
      "1/1 [==============================] - 0s 26ms/step\n"
     ]
    },
    {
     "output_type": "stream",
     "name": "stderr",
     "text": [
      "\r31it [00:15,  4.35it/s]"
     ]
    },
    {
     "output_type": "stream",
     "name": "stdout",
     "text": [
      "1/1 [==============================] - 0s 29ms/step\n"
     ]
    },
    {
     "output_type": "stream",
     "name": "stderr",
     "text": [
      "\r32it [00:15,  4.82it/s]"
     ]
    },
    {
     "output_type": "stream",
     "name": "stdout",
     "text": [
      "1/1 [==============================] - 0s 25ms/step\n"
     ]
    },
    {
     "output_type": "stream",
     "name": "stderr",
     "text": [
      "\r33it [00:15,  5.45it/s]"
     ]
    },
    {
     "output_type": "stream",
     "name": "stdout",
     "text": [
      "1/1 [==============================] - 0s 26ms/step\n"
     ]
    },
    {
     "output_type": "stream",
     "name": "stderr",
     "text": [
      "\r34it [00:15,  5.73it/s]"
     ]
    },
    {
     "output_type": "stream",
     "name": "stdout",
     "text": [
      "1/1 [==============================] - 0s 27ms/step\n"
     ]
    },
    {
     "output_type": "stream",
     "name": "stderr",
     "text": [
      "\r35it [00:16,  6.19it/s]"
     ]
    },
    {
     "output_type": "stream",
     "name": "stdout",
     "text": [
      "1/1 [==============================] - 0s 27ms/step\n"
     ]
    },
    {
     "output_type": "stream",
     "name": "stderr",
     "text": [
      "\r36it [00:16,  6.19it/s]"
     ]
    },
    {
     "output_type": "stream",
     "name": "stdout",
     "text": [
      "1/1 [==============================] - 0s 29ms/step\n"
     ]
    },
    {
     "output_type": "stream",
     "name": "stderr",
     "text": [
      "\r37it [00:16,  6.16it/s]"
     ]
    },
    {
     "output_type": "stream",
     "name": "stdout",
     "text": [
      "1/1 [==============================] - 0s 24ms/step\n"
     ]
    },
    {
     "output_type": "stream",
     "name": "stderr",
     "text": [
      "38it [00:16,  2.29it/s]\n"
     ]
    },
    {
     "output_type": "execute_result",
     "data": {
      "text/plain": [
       "            dice        iou        map\n",
       "count  38.000000  38.000000  38.000000\n",
       "mean    0.963515   0.930617   0.912634\n",
       "std     0.024654   0.043956   0.045232\n",
       "min     0.885945   0.795244   0.811898\n",
       "25%     0.962991   0.928623   0.884983\n",
       "50%     0.973007   0.947433   0.918555\n",
       "75%     0.978367   0.957649   0.946553\n",
       "max     0.982669   0.965929   0.977922"
      ],
      "text/html": [
       "\n",
       "  <div id=\"df-eaa74620-d893-4178-9834-c0d8b5b631f4\">\n",
       "    <div class=\"colab-df-container\">\n",
       "      <div>\n",
       "<style scoped>\n",
       "    .dataframe tbody tr th:only-of-type {\n",
       "        vertical-align: middle;\n",
       "    }\n",
       "\n",
       "    .dataframe tbody tr th {\n",
       "        vertical-align: top;\n",
       "    }\n",
       "\n",
       "    .dataframe thead th {\n",
       "        text-align: right;\n",
       "    }\n",
       "</style>\n",
       "<table border=\"1\" class=\"dataframe\">\n",
       "  <thead>\n",
       "    <tr style=\"text-align: right;\">\n",
       "      <th></th>\n",
       "      <th>dice</th>\n",
       "      <th>iou</th>\n",
       "      <th>map</th>\n",
       "    </tr>\n",
       "  </thead>\n",
       "  <tbody>\n",
       "    <tr>\n",
       "      <th>count</th>\n",
       "      <td>38.000000</td>\n",
       "      <td>38.000000</td>\n",
       "      <td>38.000000</td>\n",
       "    </tr>\n",
       "    <tr>\n",
       "      <th>mean</th>\n",
       "      <td>0.963515</td>\n",
       "      <td>0.930617</td>\n",
       "      <td>0.912634</td>\n",
       "    </tr>\n",
       "    <tr>\n",
       "      <th>std</th>\n",
       "      <td>0.024654</td>\n",
       "      <td>0.043956</td>\n",
       "      <td>0.045232</td>\n",
       "    </tr>\n",
       "    <tr>\n",
       "      <th>min</th>\n",
       "      <td>0.885945</td>\n",
       "      <td>0.795244</td>\n",
       "      <td>0.811898</td>\n",
       "    </tr>\n",
       "    <tr>\n",
       "      <th>25%</th>\n",
       "      <td>0.962991</td>\n",
       "      <td>0.928623</td>\n",
       "      <td>0.884983</td>\n",
       "    </tr>\n",
       "    <tr>\n",
       "      <th>50%</th>\n",
       "      <td>0.973007</td>\n",
       "      <td>0.947433</td>\n",
       "      <td>0.918555</td>\n",
       "    </tr>\n",
       "    <tr>\n",
       "      <th>75%</th>\n",
       "      <td>0.978367</td>\n",
       "      <td>0.957649</td>\n",
       "      <td>0.946553</td>\n",
       "    </tr>\n",
       "    <tr>\n",
       "      <th>max</th>\n",
       "      <td>0.982669</td>\n",
       "      <td>0.965929</td>\n",
       "      <td>0.977922</td>\n",
       "    </tr>\n",
       "  </tbody>\n",
       "</table>\n",
       "</div>\n",
       "      <button class=\"colab-df-convert\" onclick=\"convertToInteractive('df-eaa74620-d893-4178-9834-c0d8b5b631f4')\"\n",
       "              title=\"Convert this dataframe to an interactive table.\"\n",
       "              style=\"display:none;\">\n",
       "        \n",
       "  <svg xmlns=\"http://www.w3.org/2000/svg\" height=\"24px\"viewBox=\"0 0 24 24\"\n",
       "       width=\"24px\">\n",
       "    <path d=\"M0 0h24v24H0V0z\" fill=\"none\"/>\n",
       "    <path d=\"M18.56 5.44l.94 2.06.94-2.06 2.06-.94-2.06-.94-.94-2.06-.94 2.06-2.06.94zm-11 1L8.5 8.5l.94-2.06 2.06-.94-2.06-.94L8.5 2.5l-.94 2.06-2.06.94zm10 10l.94 2.06.94-2.06 2.06-.94-2.06-.94-.94-2.06-.94 2.06-2.06.94z\"/><path d=\"M17.41 7.96l-1.37-1.37c-.4-.4-.92-.59-1.43-.59-.52 0-1.04.2-1.43.59L10.3 9.45l-7.72 7.72c-.78.78-.78 2.05 0 2.83L4 21.41c.39.39.9.59 1.41.59.51 0 1.02-.2 1.41-.59l7.78-7.78 2.81-2.81c.8-.78.8-2.07 0-2.86zM5.41 20L4 18.59l7.72-7.72 1.47 1.35L5.41 20z\"/>\n",
       "  </svg>\n",
       "      </button>\n",
       "      \n",
       "  <style>\n",
       "    .colab-df-container {\n",
       "      display:flex;\n",
       "      flex-wrap:wrap;\n",
       "      gap: 12px;\n",
       "    }\n",
       "\n",
       "    .colab-df-convert {\n",
       "      background-color: #E8F0FE;\n",
       "      border: none;\n",
       "      border-radius: 50%;\n",
       "      cursor: pointer;\n",
       "      display: none;\n",
       "      fill: #1967D2;\n",
       "      height: 32px;\n",
       "      padding: 0 0 0 0;\n",
       "      width: 32px;\n",
       "    }\n",
       "\n",
       "    .colab-df-convert:hover {\n",
       "      background-color: #E2EBFA;\n",
       "      box-shadow: 0px 1px 2px rgba(60, 64, 67, 0.3), 0px 1px 3px 1px rgba(60, 64, 67, 0.15);\n",
       "      fill: #174EA6;\n",
       "    }\n",
       "\n",
       "    [theme=dark] .colab-df-convert {\n",
       "      background-color: #3B4455;\n",
       "      fill: #D2E3FC;\n",
       "    }\n",
       "\n",
       "    [theme=dark] .colab-df-convert:hover {\n",
       "      background-color: #434B5C;\n",
       "      box-shadow: 0px 1px 3px 1px rgba(0, 0, 0, 0.15);\n",
       "      filter: drop-shadow(0px 1px 2px rgba(0, 0, 0, 0.3));\n",
       "      fill: #FFFFFF;\n",
       "    }\n",
       "  </style>\n",
       "\n",
       "      <script>\n",
       "        const buttonEl =\n",
       "          document.querySelector('#df-eaa74620-d893-4178-9834-c0d8b5b631f4 button.colab-df-convert');\n",
       "        buttonEl.style.display =\n",
       "          google.colab.kernel.accessAllowed ? 'block' : 'none';\n",
       "\n",
       "        async function convertToInteractive(key) {\n",
       "          const element = document.querySelector('#df-eaa74620-d893-4178-9834-c0d8b5b631f4');\n",
       "          const dataTable =\n",
       "            await google.colab.kernel.invokeFunction('convertToInteractive',\n",
       "                                                     [key], {});\n",
       "          if (!dataTable) return;\n",
       "\n",
       "          const docLinkHtml = 'Like what you see? Visit the ' +\n",
       "            '<a target=\"_blank\" href=https://colab.research.google.com/notebooks/data_table.ipynb>data table notebook</a>'\n",
       "            + ' to learn more about interactive tables.';\n",
       "          element.innerHTML = '';\n",
       "          dataTable['output_type'] = 'display_data';\n",
       "          await google.colab.output.renderOutput(dataTable, element);\n",
       "          const docLink = document.createElement('div');\n",
       "          docLink.innerHTML = docLinkHtml;\n",
       "          element.appendChild(docLink);\n",
       "        }\n",
       "      </script>\n",
       "    </div>\n",
       "  </div>\n",
       "  "
      ]
     },
     "metadata": {},
     "execution_count": 84
    }
   ]
  },
  {
   "cell_type": "code",
   "source": [
    "results = evaluate(model, zip(val_imgs, val_masks))\n",
    "results.describe()"
   ],
   "metadata": {
    "colab": {
     "base_uri": "https://localhost:8080/",
     "height": 387
    },
    "id": "exdcMkd4VEFy",
    "outputId": "97831620-2aa2-4565-962f-db4fc563b071"
   },
   "execution_count": null,
   "outputs": [
    {
     "output_type": "stream",
     "name": "stderr",
     "text": [
      "\r0it [00:00, ?it/s]"
     ]
    },
    {
     "output_type": "stream",
     "name": "stdout",
     "text": [
      "1/1 [==============================] - 0s 27ms/step\n"
     ]
    },
    {
     "output_type": "stream",
     "name": "stderr",
     "text": [
      "\r1it [00:00,  7.49it/s]"
     ]
    },
    {
     "output_type": "stream",
     "name": "stdout",
     "text": [
      "1/1 [==============================] - 0s 29ms/step\n"
     ]
    },
    {
     "output_type": "stream",
     "name": "stderr",
     "text": [
      "\r2it [00:00,  6.55it/s]"
     ]
    },
    {
     "output_type": "stream",
     "name": "stdout",
     "text": [
      "1/1 [==============================] - 0s 25ms/step\n"
     ]
    },
    {
     "output_type": "stream",
     "name": "stderr",
     "text": [
      "\r3it [00:04,  2.04s/it]"
     ]
    },
    {
     "output_type": "stream",
     "name": "stdout",
     "text": [
      "1/1 [==============================] - 0s 39ms/step\n"
     ]
    },
    {
     "output_type": "stream",
     "name": "stderr",
     "text": [
      "4it [00:04,  1.23s/it]\n"
     ]
    },
    {
     "output_type": "execute_result",
     "data": {
      "text/plain": [
       "           dice       iou       map\n",
       "count  4.000000  4.000000  4.000000\n",
       "mean   0.930258  0.872255  0.894737\n",
       "std    0.046907  0.080483  0.069132\n",
       "min    0.866572  0.764558  0.810742\n",
       "25%    0.912459  0.840073  0.852457\n",
       "50%    0.938959  0.885151  0.904112\n",
       "75%    0.956758  0.917333  0.946392\n",
       "max    0.976543  0.954161  0.959982"
      ],
      "text/html": [
       "\n",
       "  <div id=\"df-44381ebe-b17f-4902-ad11-8e2ce49f77d5\">\n",
       "    <div class=\"colab-df-container\">\n",
       "      <div>\n",
       "<style scoped>\n",
       "    .dataframe tbody tr th:only-of-type {\n",
       "        vertical-align: middle;\n",
       "    }\n",
       "\n",
       "    .dataframe tbody tr th {\n",
       "        vertical-align: top;\n",
       "    }\n",
       "\n",
       "    .dataframe thead th {\n",
       "        text-align: right;\n",
       "    }\n",
       "</style>\n",
       "<table border=\"1\" class=\"dataframe\">\n",
       "  <thead>\n",
       "    <tr style=\"text-align: right;\">\n",
       "      <th></th>\n",
       "      <th>dice</th>\n",
       "      <th>iou</th>\n",
       "      <th>map</th>\n",
       "    </tr>\n",
       "  </thead>\n",
       "  <tbody>\n",
       "    <tr>\n",
       "      <th>count</th>\n",
       "      <td>4.000000</td>\n",
       "      <td>4.000000</td>\n",
       "      <td>4.000000</td>\n",
       "    </tr>\n",
       "    <tr>\n",
       "      <th>mean</th>\n",
       "      <td>0.930258</td>\n",
       "      <td>0.872255</td>\n",
       "      <td>0.894737</td>\n",
       "    </tr>\n",
       "    <tr>\n",
       "      <th>std</th>\n",
       "      <td>0.046907</td>\n",
       "      <td>0.080483</td>\n",
       "      <td>0.069132</td>\n",
       "    </tr>\n",
       "    <tr>\n",
       "      <th>min</th>\n",
       "      <td>0.866572</td>\n",
       "      <td>0.764558</td>\n",
       "      <td>0.810742</td>\n",
       "    </tr>\n",
       "    <tr>\n",
       "      <th>25%</th>\n",
       "      <td>0.912459</td>\n",
       "      <td>0.840073</td>\n",
       "      <td>0.852457</td>\n",
       "    </tr>\n",
       "    <tr>\n",
       "      <th>50%</th>\n",
       "      <td>0.938959</td>\n",
       "      <td>0.885151</td>\n",
       "      <td>0.904112</td>\n",
       "    </tr>\n",
       "    <tr>\n",
       "      <th>75%</th>\n",
       "      <td>0.956758</td>\n",
       "      <td>0.917333</td>\n",
       "      <td>0.946392</td>\n",
       "    </tr>\n",
       "    <tr>\n",
       "      <th>max</th>\n",
       "      <td>0.976543</td>\n",
       "      <td>0.954161</td>\n",
       "      <td>0.959982</td>\n",
       "    </tr>\n",
       "  </tbody>\n",
       "</table>\n",
       "</div>\n",
       "      <button class=\"colab-df-convert\" onclick=\"convertToInteractive('df-44381ebe-b17f-4902-ad11-8e2ce49f77d5')\"\n",
       "              title=\"Convert this dataframe to an interactive table.\"\n",
       "              style=\"display:none;\">\n",
       "        \n",
       "  <svg xmlns=\"http://www.w3.org/2000/svg\" height=\"24px\"viewBox=\"0 0 24 24\"\n",
       "       width=\"24px\">\n",
       "    <path d=\"M0 0h24v24H0V0z\" fill=\"none\"/>\n",
       "    <path d=\"M18.56 5.44l.94 2.06.94-2.06 2.06-.94-2.06-.94-.94-2.06-.94 2.06-2.06.94zm-11 1L8.5 8.5l.94-2.06 2.06-.94-2.06-.94L8.5 2.5l-.94 2.06-2.06.94zm10 10l.94 2.06.94-2.06 2.06-.94-2.06-.94-.94-2.06-.94 2.06-2.06.94z\"/><path d=\"M17.41 7.96l-1.37-1.37c-.4-.4-.92-.59-1.43-.59-.52 0-1.04.2-1.43.59L10.3 9.45l-7.72 7.72c-.78.78-.78 2.05 0 2.83L4 21.41c.39.39.9.59 1.41.59.51 0 1.02-.2 1.41-.59l7.78-7.78 2.81-2.81c.8-.78.8-2.07 0-2.86zM5.41 20L4 18.59l7.72-7.72 1.47 1.35L5.41 20z\"/>\n",
       "  </svg>\n",
       "      </button>\n",
       "      \n",
       "  <style>\n",
       "    .colab-df-container {\n",
       "      display:flex;\n",
       "      flex-wrap:wrap;\n",
       "      gap: 12px;\n",
       "    }\n",
       "\n",
       "    .colab-df-convert {\n",
       "      background-color: #E8F0FE;\n",
       "      border: none;\n",
       "      border-radius: 50%;\n",
       "      cursor: pointer;\n",
       "      display: none;\n",
       "      fill: #1967D2;\n",
       "      height: 32px;\n",
       "      padding: 0 0 0 0;\n",
       "      width: 32px;\n",
       "    }\n",
       "\n",
       "    .colab-df-convert:hover {\n",
       "      background-color: #E2EBFA;\n",
       "      box-shadow: 0px 1px 2px rgba(60, 64, 67, 0.3), 0px 1px 3px 1px rgba(60, 64, 67, 0.15);\n",
       "      fill: #174EA6;\n",
       "    }\n",
       "\n",
       "    [theme=dark] .colab-df-convert {\n",
       "      background-color: #3B4455;\n",
       "      fill: #D2E3FC;\n",
       "    }\n",
       "\n",
       "    [theme=dark] .colab-df-convert:hover {\n",
       "      background-color: #434B5C;\n",
       "      box-shadow: 0px 1px 3px 1px rgba(0, 0, 0, 0.15);\n",
       "      filter: drop-shadow(0px 1px 2px rgba(0, 0, 0, 0.3));\n",
       "      fill: #FFFFFF;\n",
       "    }\n",
       "  </style>\n",
       "\n",
       "      <script>\n",
       "        const buttonEl =\n",
       "          document.querySelector('#df-44381ebe-b17f-4902-ad11-8e2ce49f77d5 button.colab-df-convert');\n",
       "        buttonEl.style.display =\n",
       "          google.colab.kernel.accessAllowed ? 'block' : 'none';\n",
       "\n",
       "        async function convertToInteractive(key) {\n",
       "          const element = document.querySelector('#df-44381ebe-b17f-4902-ad11-8e2ce49f77d5');\n",
       "          const dataTable =\n",
       "            await google.colab.kernel.invokeFunction('convertToInteractive',\n",
       "                                                     [key], {});\n",
       "          if (!dataTable) return;\n",
       "\n",
       "          const docLinkHtml = 'Like what you see? Visit the ' +\n",
       "            '<a target=\"_blank\" href=https://colab.research.google.com/notebooks/data_table.ipynb>data table notebook</a>'\n",
       "            + ' to learn more about interactive tables.';\n",
       "          element.innerHTML = '';\n",
       "          dataTable['output_type'] = 'display_data';\n",
       "          await google.colab.output.renderOutput(dataTable, element);\n",
       "          const docLink = document.createElement('div');\n",
       "          docLink.innerHTML = docLinkHtml;\n",
       "          element.appendChild(docLink);\n",
       "        }\n",
       "      </script>\n",
       "    </div>\n",
       "  </div>\n",
       "  "
      ]
     },
     "metadata": {},
     "execution_count": 85
    }
   ]
  },
  {
   "cell_type": "code",
   "source": [
    "results = evaluate(model, zip(test_imgs, test_masks))\n",
    "results.describe()"
   ],
   "metadata": {
    "colab": {
     "base_uri": "https://localhost:8080/",
     "height": 960
    },
    "id": "DdzvjKugVIyY",
    "outputId": "f6511db0-b6d3-4ec0-e64b-dd1ee28a1a35"
   },
   "execution_count": null,
   "outputs": [
    {
     "output_type": "stream",
     "name": "stderr",
     "text": [
      "\r0it [00:00, ?it/s]"
     ]
    },
    {
     "output_type": "stream",
     "name": "stdout",
     "text": [
      "1/1 [==============================] - 0s 38ms/step\n"
     ]
    },
    {
     "output_type": "stream",
     "name": "stderr",
     "text": [
      "\r1it [00:00,  5.12it/s]"
     ]
    },
    {
     "output_type": "stream",
     "name": "stdout",
     "text": [
      "1/1 [==============================] - 0s 35ms/step\n"
     ]
    },
    {
     "output_type": "stream",
     "name": "stderr",
     "text": [
      "\r2it [00:00,  5.19it/s]"
     ]
    },
    {
     "output_type": "stream",
     "name": "stdout",
     "text": [
      "1/1 [==============================] - 0s 41ms/step\n"
     ]
    },
    {
     "output_type": "stream",
     "name": "stderr",
     "text": [
      "\r3it [00:00,  5.96it/s]"
     ]
    },
    {
     "output_type": "stream",
     "name": "stdout",
     "text": [
      "1/1 [==============================] - 0s 41ms/step\n"
     ]
    },
    {
     "output_type": "stream",
     "name": "stderr",
     "text": [
      "\r4it [00:00,  5.83it/s]"
     ]
    },
    {
     "output_type": "stream",
     "name": "stdout",
     "text": [
      "1/1 [==============================] - 0s 37ms/step\n"
     ]
    },
    {
     "output_type": "stream",
     "name": "stderr",
     "text": [
      "\r5it [00:00,  5.01it/s]"
     ]
    },
    {
     "output_type": "stream",
     "name": "stdout",
     "text": [
      "1/1 [==============================] - 0s 65ms/step\n"
     ]
    },
    {
     "output_type": "stream",
     "name": "stderr",
     "text": [
      "\r6it [00:01,  4.19it/s]"
     ]
    },
    {
     "output_type": "stream",
     "name": "stdout",
     "text": [
      "1/1 [==============================] - 0s 41ms/step\n"
     ]
    },
    {
     "output_type": "stream",
     "name": "stderr",
     "text": [
      "\r7it [00:06,  1.93s/it]"
     ]
    },
    {
     "output_type": "stream",
     "name": "stdout",
     "text": [
      "1/1 [==============================] - 0s 24ms/step\n"
     ]
    },
    {
     "output_type": "stream",
     "name": "stderr",
     "text": [
      "\r8it [00:06,  1.36s/it]"
     ]
    },
    {
     "output_type": "stream",
     "name": "stdout",
     "text": [
      "1/1 [==============================] - 0s 25ms/step\n"
     ]
    },
    {
     "output_type": "stream",
     "name": "stderr",
     "text": [
      "\r9it [00:06,  1.02it/s]"
     ]
    },
    {
     "output_type": "stream",
     "name": "stdout",
     "text": [
      "1/1 [==============================] - 0s 25ms/step\n"
     ]
    },
    {
     "output_type": "stream",
     "name": "stderr",
     "text": [
      "\r10it [00:07,  1.28it/s]"
     ]
    },
    {
     "output_type": "stream",
     "name": "stdout",
     "text": [
      "1/1 [==============================] - 0s 24ms/step\n"
     ]
    },
    {
     "output_type": "stream",
     "name": "stderr",
     "text": [
      "\r11it [00:07,  1.63it/s]"
     ]
    },
    {
     "output_type": "stream",
     "name": "stdout",
     "text": [
      "1/1 [==============================] - 0s 23ms/step\n"
     ]
    },
    {
     "output_type": "stream",
     "name": "stderr",
     "text": [
      "\r12it [00:07,  2.07it/s]"
     ]
    },
    {
     "output_type": "stream",
     "name": "stdout",
     "text": [
      "1/1 [==============================] - 0s 24ms/step\n"
     ]
    },
    {
     "output_type": "stream",
     "name": "stderr",
     "text": [
      "\r13it [00:07,  2.65it/s]"
     ]
    },
    {
     "output_type": "stream",
     "name": "stdout",
     "text": [
      "1/1 [==============================] - 0s 25ms/step\n"
     ]
    },
    {
     "output_type": "stream",
     "name": "stderr",
     "text": [
      "\r14it [00:09,  1.11it/s]"
     ]
    },
    {
     "output_type": "stream",
     "name": "stdout",
     "text": [
      "1/1 [==============================] - 0s 23ms/step\n"
     ]
    },
    {
     "output_type": "stream",
     "name": "stderr",
     "text": [
      "\r15it [00:10,  1.52it/s]"
     ]
    },
    {
     "output_type": "stream",
     "name": "stdout",
     "text": [
      "1/1 [==============================] - 0s 25ms/step\n"
     ]
    },
    {
     "output_type": "stream",
     "name": "stderr",
     "text": [
      "\r16it [00:10,  1.94it/s]"
     ]
    },
    {
     "output_type": "stream",
     "name": "stdout",
     "text": [
      "1/1 [==============================] - 0s 26ms/step\n"
     ]
    },
    {
     "output_type": "stream",
     "name": "stderr",
     "text": [
      "\r17it [00:10,  2.36it/s]"
     ]
    },
    {
     "output_type": "stream",
     "name": "stdout",
     "text": [
      "1/1 [==============================] - 0s 29ms/step\n"
     ]
    },
    {
     "output_type": "stream",
     "name": "stderr",
     "text": [
      "\r18it [00:10,  2.70it/s]"
     ]
    },
    {
     "output_type": "stream",
     "name": "stdout",
     "text": [
      "1/1 [==============================] - 0s 23ms/step\n"
     ]
    },
    {
     "output_type": "stream",
     "name": "stderr",
     "text": [
      "\r19it [00:10,  3.20it/s]"
     ]
    },
    {
     "output_type": "stream",
     "name": "stdout",
     "text": [
      "1/1 [==============================] - 0s 22ms/step\n"
     ]
    },
    {
     "output_type": "stream",
     "name": "stderr",
     "text": [
      "\r20it [00:11,  3.64it/s]"
     ]
    },
    {
     "output_type": "stream",
     "name": "stdout",
     "text": [
      "1/1 [==============================] - 0s 24ms/step\n"
     ]
    },
    {
     "output_type": "stream",
     "name": "stderr",
     "text": [
      "\r21it [00:11,  3.74it/s]"
     ]
    },
    {
     "output_type": "stream",
     "name": "stdout",
     "text": [
      "1/1 [==============================] - 0s 27ms/step\n"
     ]
    },
    {
     "output_type": "stream",
     "name": "stderr",
     "text": [
      "\r22it [00:12,  1.72it/s]"
     ]
    },
    {
     "output_type": "stream",
     "name": "stdout",
     "text": [
      "1/1 [==============================] - 0s 36ms/step\n"
     ]
    },
    {
     "output_type": "stream",
     "name": "stderr",
     "text": [
      "\r23it [00:13,  1.89it/s]"
     ]
    },
    {
     "output_type": "stream",
     "name": "stdout",
     "text": [
      "1/1 [==============================] - 0s 34ms/step\n"
     ]
    },
    {
     "output_type": "stream",
     "name": "stderr",
     "text": [
      "\r24it [00:13,  2.36it/s]"
     ]
    },
    {
     "output_type": "stream",
     "name": "stdout",
     "text": [
      "1/1 [==============================] - 0s 36ms/step\n"
     ]
    },
    {
     "output_type": "stream",
     "name": "stderr",
     "text": [
      "\r25it [00:13,  2.33it/s]"
     ]
    },
    {
     "output_type": "stream",
     "name": "stdout",
     "text": [
      "1/1 [==============================] - 0s 35ms/step\n"
     ]
    },
    {
     "output_type": "stream",
     "name": "stderr",
     "text": [
      "\r26it [00:14,  2.38it/s]"
     ]
    },
    {
     "output_type": "stream",
     "name": "stdout",
     "text": [
      "1/1 [==============================] - 0s 36ms/step\n"
     ]
    },
    {
     "output_type": "stream",
     "name": "stderr",
     "text": [
      "\r27it [00:14,  2.93it/s]"
     ]
    },
    {
     "output_type": "stream",
     "name": "stdout",
     "text": [
      "1/1 [==============================] - 0s 36ms/step\n"
     ]
    },
    {
     "output_type": "stream",
     "name": "stderr",
     "text": [
      "\r28it [00:14,  2.71it/s]"
     ]
    },
    {
     "output_type": "stream",
     "name": "stdout",
     "text": [
      "1/1 [==============================] - 0s 35ms/step\n"
     ]
    },
    {
     "output_type": "stream",
     "name": "stderr",
     "text": [
      "\r29it [00:15,  2.50it/s]"
     ]
    },
    {
     "output_type": "stream",
     "name": "stdout",
     "text": [
      "1/1 [==============================] - 0s 35ms/step\n"
     ]
    },
    {
     "output_type": "stream",
     "name": "stderr",
     "text": [
      "\r30it [00:16,  1.49it/s]"
     ]
    },
    {
     "output_type": "stream",
     "name": "stdout",
     "text": [
      "1/1 [==============================] - 0s 48ms/step\n"
     ]
    },
    {
     "output_type": "stream",
     "name": "stderr",
     "text": [
      "\r31it [00:16,  1.79it/s]"
     ]
    },
    {
     "output_type": "stream",
     "name": "stdout",
     "text": [
      "1/1 [==============================] - 0s 55ms/step\n"
     ]
    },
    {
     "output_type": "stream",
     "name": "stderr",
     "text": [
      "\r32it [00:44,  8.71s/it]"
     ]
    },
    {
     "output_type": "stream",
     "name": "stdout",
     "text": [
      "1/1 [==============================] - 0s 38ms/step\n"
     ]
    },
    {
     "output_type": "stream",
     "name": "stderr",
     "text": [
      "\r33it [00:44,  6.17s/it]"
     ]
    },
    {
     "output_type": "stream",
     "name": "stdout",
     "text": [
      "1/1 [==============================] - 0s 51ms/step\n"
     ]
    },
    {
     "output_type": "stream",
     "name": "stderr",
     "text": [
      "\r34it [00:44,  4.38s/it]"
     ]
    },
    {
     "output_type": "stream",
     "name": "stdout",
     "text": [
      "1/1 [==============================] - 0s 36ms/step\n"
     ]
    },
    {
     "output_type": "stream",
     "name": "stderr",
     "text": [
      "\r35it [00:45,  3.11s/it]"
     ]
    },
    {
     "output_type": "stream",
     "name": "stdout",
     "text": [
      "1/1 [==============================] - 0s 36ms/step\n"
     ]
    },
    {
     "output_type": "stream",
     "name": "stderr",
     "text": [
      "\r36it [00:45,  2.25s/it]"
     ]
    },
    {
     "output_type": "stream",
     "name": "stdout",
     "text": [
      "1/1 [==============================] - 0s 34ms/step\n"
     ]
    },
    {
     "output_type": "stream",
     "name": "stderr",
     "text": [
      "37it [00:45,  1.24s/it]\n"
     ]
    },
    {
     "output_type": "execute_result",
     "data": {
      "text/plain": [
       "            dice        iou        map\n",
       "count  37.000000  37.000000  37.000000\n",
       "mean    0.886134   0.812382   0.774262\n",
       "std     0.123226   0.158473   0.178109\n",
       "min     0.336831   0.202523   0.122239\n",
       "25%     0.874658   0.777237   0.726592\n",
       "50%     0.919596   0.851159   0.818914\n",
       "75%     0.953632   0.911373   0.876371\n",
       "max     0.980305   0.961372   0.970823"
      ],
      "text/html": [
       "\n",
       "  <div id=\"df-eb07863d-25c4-4f84-8268-e59b9779b3cc\">\n",
       "    <div class=\"colab-df-container\">\n",
       "      <div>\n",
       "<style scoped>\n",
       "    .dataframe tbody tr th:only-of-type {\n",
       "        vertical-align: middle;\n",
       "    }\n",
       "\n",
       "    .dataframe tbody tr th {\n",
       "        vertical-align: top;\n",
       "    }\n",
       "\n",
       "    .dataframe thead th {\n",
       "        text-align: right;\n",
       "    }\n",
       "</style>\n",
       "<table border=\"1\" class=\"dataframe\">\n",
       "  <thead>\n",
       "    <tr style=\"text-align: right;\">\n",
       "      <th></th>\n",
       "      <th>dice</th>\n",
       "      <th>iou</th>\n",
       "      <th>map</th>\n",
       "    </tr>\n",
       "  </thead>\n",
       "  <tbody>\n",
       "    <tr>\n",
       "      <th>count</th>\n",
       "      <td>37.000000</td>\n",
       "      <td>37.000000</td>\n",
       "      <td>37.000000</td>\n",
       "    </tr>\n",
       "    <tr>\n",
       "      <th>mean</th>\n",
       "      <td>0.886134</td>\n",
       "      <td>0.812382</td>\n",
       "      <td>0.774262</td>\n",
       "    </tr>\n",
       "    <tr>\n",
       "      <th>std</th>\n",
       "      <td>0.123226</td>\n",
       "      <td>0.158473</td>\n",
       "      <td>0.178109</td>\n",
       "    </tr>\n",
       "    <tr>\n",
       "      <th>min</th>\n",
       "      <td>0.336831</td>\n",
       "      <td>0.202523</td>\n",
       "      <td>0.122239</td>\n",
       "    </tr>\n",
       "    <tr>\n",
       "      <th>25%</th>\n",
       "      <td>0.874658</td>\n",
       "      <td>0.777237</td>\n",
       "      <td>0.726592</td>\n",
       "    </tr>\n",
       "    <tr>\n",
       "      <th>50%</th>\n",
       "      <td>0.919596</td>\n",
       "      <td>0.851159</td>\n",
       "      <td>0.818914</td>\n",
       "    </tr>\n",
       "    <tr>\n",
       "      <th>75%</th>\n",
       "      <td>0.953632</td>\n",
       "      <td>0.911373</td>\n",
       "      <td>0.876371</td>\n",
       "    </tr>\n",
       "    <tr>\n",
       "      <th>max</th>\n",
       "      <td>0.980305</td>\n",
       "      <td>0.961372</td>\n",
       "      <td>0.970823</td>\n",
       "    </tr>\n",
       "  </tbody>\n",
       "</table>\n",
       "</div>\n",
       "      <button class=\"colab-df-convert\" onclick=\"convertToInteractive('df-eb07863d-25c4-4f84-8268-e59b9779b3cc')\"\n",
       "              title=\"Convert this dataframe to an interactive table.\"\n",
       "              style=\"display:none;\">\n",
       "        \n",
       "  <svg xmlns=\"http://www.w3.org/2000/svg\" height=\"24px\"viewBox=\"0 0 24 24\"\n",
       "       width=\"24px\">\n",
       "    <path d=\"M0 0h24v24H0V0z\" fill=\"none\"/>\n",
       "    <path d=\"M18.56 5.44l.94 2.06.94-2.06 2.06-.94-2.06-.94-.94-2.06-.94 2.06-2.06.94zm-11 1L8.5 8.5l.94-2.06 2.06-.94-2.06-.94L8.5 2.5l-.94 2.06-2.06.94zm10 10l.94 2.06.94-2.06 2.06-.94-2.06-.94-.94-2.06-.94 2.06-2.06.94z\"/><path d=\"M17.41 7.96l-1.37-1.37c-.4-.4-.92-.59-1.43-.59-.52 0-1.04.2-1.43.59L10.3 9.45l-7.72 7.72c-.78.78-.78 2.05 0 2.83L4 21.41c.39.39.9.59 1.41.59.51 0 1.02-.2 1.41-.59l7.78-7.78 2.81-2.81c.8-.78.8-2.07 0-2.86zM5.41 20L4 18.59l7.72-7.72 1.47 1.35L5.41 20z\"/>\n",
       "  </svg>\n",
       "      </button>\n",
       "      \n",
       "  <style>\n",
       "    .colab-df-container {\n",
       "      display:flex;\n",
       "      flex-wrap:wrap;\n",
       "      gap: 12px;\n",
       "    }\n",
       "\n",
       "    .colab-df-convert {\n",
       "      background-color: #E8F0FE;\n",
       "      border: none;\n",
       "      border-radius: 50%;\n",
       "      cursor: pointer;\n",
       "      display: none;\n",
       "      fill: #1967D2;\n",
       "      height: 32px;\n",
       "      padding: 0 0 0 0;\n",
       "      width: 32px;\n",
       "    }\n",
       "\n",
       "    .colab-df-convert:hover {\n",
       "      background-color: #E2EBFA;\n",
       "      box-shadow: 0px 1px 2px rgba(60, 64, 67, 0.3), 0px 1px 3px 1px rgba(60, 64, 67, 0.15);\n",
       "      fill: #174EA6;\n",
       "    }\n",
       "\n",
       "    [theme=dark] .colab-df-convert {\n",
       "      background-color: #3B4455;\n",
       "      fill: #D2E3FC;\n",
       "    }\n",
       "\n",
       "    [theme=dark] .colab-df-convert:hover {\n",
       "      background-color: #434B5C;\n",
       "      box-shadow: 0px 1px 3px 1px rgba(0, 0, 0, 0.15);\n",
       "      filter: drop-shadow(0px 1px 2px rgba(0, 0, 0, 0.3));\n",
       "      fill: #FFFFFF;\n",
       "    }\n",
       "  </style>\n",
       "\n",
       "      <script>\n",
       "        const buttonEl =\n",
       "          document.querySelector('#df-eb07863d-25c4-4f84-8268-e59b9779b3cc button.colab-df-convert');\n",
       "        buttonEl.style.display =\n",
       "          google.colab.kernel.accessAllowed ? 'block' : 'none';\n",
       "\n",
       "        async function convertToInteractive(key) {\n",
       "          const element = document.querySelector('#df-eb07863d-25c4-4f84-8268-e59b9779b3cc');\n",
       "          const dataTable =\n",
       "            await google.colab.kernel.invokeFunction('convertToInteractive',\n",
       "                                                     [key], {});\n",
       "          if (!dataTable) return;\n",
       "\n",
       "          const docLinkHtml = 'Like what you see? Visit the ' +\n",
       "            '<a target=\"_blank\" href=https://colab.research.google.com/notebooks/data_table.ipynb>data table notebook</a>'\n",
       "            + ' to learn more about interactive tables.';\n",
       "          element.innerHTML = '';\n",
       "          dataTable['output_type'] = 'display_data';\n",
       "          await google.colab.output.renderOutput(dataTable, element);\n",
       "          const docLink = document.createElement('div');\n",
       "          docLink.innerHTML = docLinkHtml;\n",
       "          element.appendChild(docLink);\n",
       "        }\n",
       "      </script>\n",
       "    </div>\n",
       "  </div>\n",
       "  "
      ]
     },
     "metadata": {},
     "execution_count": 86
    }
   ]
  },
  {
   "cell_type": "code",
   "source": [
    "model.optimize_thresholds(val_imgs, val_masks)"
   ],
   "metadata": {
    "colab": {
     "base_uri": "https://localhost:8080/"
    },
    "id": "44cNTtitqRiQ",
    "outputId": "da268e8a-13d8-4951-ff9c-f235cb649e36"
   },
   "execution_count": null,
   "outputs": [
    {
     "output_type": "stream",
     "name": "stdout",
     "text": [
      "1/1 [==============================] - 0s 37ms/step\n",
      "1/1 [==============================] - 0s 36ms/step\n",
      "1/1 [==============================] - 0s 36ms/step\n",
      "1/1 [==============================] - 0s 35ms/step\n",
      "1/1 [==============================] - 0s 41ms/step\n",
      "1/1 [==============================] - 0s 38ms/step\n",
      "1/1 [==============================] - 0s 35ms/step\n"
     ]
    },
    {
     "output_type": "stream",
     "name": "stderr",
     "text": [
      "NMS threshold = 0.3:  75%|███████▌  | 15/20 [00:11<00:03,  1.32it/s, 0.584 -> 0.775]\n",
      "NMS threshold = 0.4:  75%|███████▌  | 15/20 [00:12<00:04,  1.23it/s, 0.603 -> 0.774]\n",
      "NMS threshold = 0.5:  75%|███████▌  | 15/20 [00:11<00:03,  1.27it/s, 0.603 -> 0.775]\n"
     ]
    },
    {
     "output_type": "stream",
     "name": "stdout",
     "text": [
      "Using optimized values: prob_thresh=0.600259, nms_thresh=0.5.\n"
     ]
    },
    {
     "output_type": "execute_result",
     "data": {
      "text/plain": [
       "{'prob': 0.6002591733977455, 'nms': 0.5}"
      ]
     },
     "metadata": {},
     "execution_count": 87
    }
   ]
  },
  {
   "cell_type": "code",
   "source": [
    "results = evaluate(model, zip(train_imgs, train_masks))\n",
    "results.describe()"
   ],
   "metadata": {
    "colab": {
     "base_uri": "https://localhost:8080/",
     "height": 977
    },
    "id": "z4eUl-eqqV_x",
    "outputId": "48ebfe9a-688b-4fd1-ccd4-73d7ca4c3850"
   },
   "execution_count": null,
   "outputs": [
    {
     "output_type": "stream",
     "name": "stderr",
     "text": [
      "\r0it [00:00, ?it/s]"
     ]
    },
    {
     "output_type": "stream",
     "name": "stdout",
     "text": [
      "1/1 [==============================] - 0s 41ms/step\n"
     ]
    },
    {
     "output_type": "stream",
     "name": "stderr",
     "text": [
      "\r1it [00:02,  2.41s/it]"
     ]
    },
    {
     "output_type": "stream",
     "name": "stdout",
     "text": [
      "1/1 [==============================] - 0s 29ms/step\n"
     ]
    },
    {
     "output_type": "stream",
     "name": "stderr",
     "text": [
      "\r2it [00:02,  1.10s/it]"
     ]
    },
    {
     "output_type": "stream",
     "name": "stdout",
     "text": [
      "1/1 [==============================] - 0s 25ms/step\n"
     ]
    },
    {
     "output_type": "stream",
     "name": "stderr",
     "text": [
      "\r3it [00:02,  1.51it/s]"
     ]
    },
    {
     "output_type": "stream",
     "name": "stdout",
     "text": [
      "1/1 [==============================] - 0s 26ms/step\n"
     ]
    },
    {
     "output_type": "stream",
     "name": "stderr",
     "text": [
      "\r4it [00:02,  2.03it/s]"
     ]
    },
    {
     "output_type": "stream",
     "name": "stdout",
     "text": [
      "1/1 [==============================] - 0s 22ms/step\n"
     ]
    },
    {
     "output_type": "stream",
     "name": "stderr",
     "text": [
      "\r5it [00:03,  2.65it/s]"
     ]
    },
    {
     "output_type": "stream",
     "name": "stdout",
     "text": [
      "1/1 [==============================] - 0s 26ms/step\n"
     ]
    },
    {
     "output_type": "stream",
     "name": "stderr",
     "text": [
      "\r6it [00:03,  3.47it/s]"
     ]
    },
    {
     "output_type": "stream",
     "name": "stdout",
     "text": [
      "1/1 [==============================] - 0s 26ms/step\n"
     ]
    },
    {
     "output_type": "stream",
     "name": "stderr",
     "text": [
      "\r7it [00:03,  3.95it/s]"
     ]
    },
    {
     "output_type": "stream",
     "name": "stdout",
     "text": [
      "1/1 [==============================] - 0s 31ms/step\n"
     ]
    },
    {
     "output_type": "stream",
     "name": "stderr",
     "text": [
      "\r8it [00:03,  4.05it/s]"
     ]
    },
    {
     "output_type": "stream",
     "name": "stdout",
     "text": [
      "1/1 [==============================] - 0s 27ms/step\n"
     ]
    },
    {
     "output_type": "stream",
     "name": "stderr",
     "text": [
      "\r9it [00:03,  4.78it/s]"
     ]
    },
    {
     "output_type": "stream",
     "name": "stdout",
     "text": [
      "1/1 [==============================] - 0s 23ms/step\n"
     ]
    },
    {
     "output_type": "stream",
     "name": "stderr",
     "text": [
      "\r10it [00:03,  5.43it/s]"
     ]
    },
    {
     "output_type": "stream",
     "name": "stdout",
     "text": [
      "1/1 [==============================] - 0s 23ms/step\n"
     ]
    },
    {
     "output_type": "stream",
     "name": "stderr",
     "text": [
      "\r11it [00:04,  5.47it/s]"
     ]
    },
    {
     "output_type": "stream",
     "name": "stdout",
     "text": [
      "1/1 [==============================] - 0s 22ms/step\n"
     ]
    },
    {
     "output_type": "stream",
     "name": "stderr",
     "text": [
      "\r12it [00:04,  5.88it/s]"
     ]
    },
    {
     "output_type": "stream",
     "name": "stdout",
     "text": [
      "1/1 [==============================] - 0s 27ms/step\n"
     ]
    },
    {
     "output_type": "stream",
     "name": "stderr",
     "text": [
      "\r13it [00:06,  1.18it/s]"
     ]
    },
    {
     "output_type": "stream",
     "name": "stdout",
     "text": [
      "1/1 [==============================] - 0s 23ms/step\n"
     ]
    },
    {
     "output_type": "stream",
     "name": "stderr",
     "text": [
      "\r14it [00:06,  1.54it/s]"
     ]
    },
    {
     "output_type": "stream",
     "name": "stdout",
     "text": [
      "1/1 [==============================] - 0s 26ms/step\n"
     ]
    },
    {
     "output_type": "stream",
     "name": "stderr",
     "text": [
      "\r15it [00:06,  2.01it/s]"
     ]
    },
    {
     "output_type": "stream",
     "name": "stdout",
     "text": [
      "1/1 [==============================] - 0s 25ms/step\n"
     ]
    },
    {
     "output_type": "stream",
     "name": "stderr",
     "text": [
      "\r16it [00:07,  2.61it/s]"
     ]
    },
    {
     "output_type": "stream",
     "name": "stdout",
     "text": [
      "1/1 [==============================] - 0s 24ms/step\n"
     ]
    },
    {
     "output_type": "stream",
     "name": "stderr",
     "text": [
      "\r17it [00:07,  3.13it/s]"
     ]
    },
    {
     "output_type": "stream",
     "name": "stdout",
     "text": [
      "1/1 [==============================] - 0s 30ms/step\n"
     ]
    },
    {
     "output_type": "stream",
     "name": "stderr",
     "text": [
      "\r18it [00:09,  1.11it/s]"
     ]
    },
    {
     "output_type": "stream",
     "name": "stdout",
     "text": [
      "1/1 [==============================] - 0s 23ms/step\n"
     ]
    },
    {
     "output_type": "stream",
     "name": "stderr",
     "text": [
      "\r19it [00:09,  1.45it/s]"
     ]
    },
    {
     "output_type": "stream",
     "name": "stdout",
     "text": [
      "1/1 [==============================] - 0s 24ms/step\n"
     ]
    },
    {
     "output_type": "stream",
     "name": "stderr",
     "text": [
      "\r20it [00:09,  1.83it/s]"
     ]
    },
    {
     "output_type": "stream",
     "name": "stdout",
     "text": [
      "1/1 [==============================] - 0s 27ms/step\n"
     ]
    },
    {
     "output_type": "stream",
     "name": "stderr",
     "text": [
      "\r21it [00:10,  2.31it/s]"
     ]
    },
    {
     "output_type": "stream",
     "name": "stdout",
     "text": [
      "1/1 [==============================] - 0s 23ms/step\n"
     ]
    },
    {
     "output_type": "stream",
     "name": "stderr",
     "text": [
      "\r22it [00:10,  2.82it/s]"
     ]
    },
    {
     "output_type": "stream",
     "name": "stdout",
     "text": [
      "1/1 [==============================] - 0s 26ms/step\n"
     ]
    },
    {
     "output_type": "stream",
     "name": "stderr",
     "text": [
      "\r23it [00:12,  1.06s/it]"
     ]
    },
    {
     "output_type": "stream",
     "name": "stdout",
     "text": [
      "1/1 [==============================] - 0s 41ms/step\n"
     ]
    },
    {
     "output_type": "stream",
     "name": "stderr",
     "text": [
      "\r24it [00:13,  1.19it/s]"
     ]
    },
    {
     "output_type": "stream",
     "name": "stdout",
     "text": [
      "1/1 [==============================] - 0s 38ms/step\n"
     ]
    },
    {
     "output_type": "stream",
     "name": "stderr",
     "text": [
      "\r25it [00:13,  1.50it/s]"
     ]
    },
    {
     "output_type": "stream",
     "name": "stdout",
     "text": [
      "1/1 [==============================] - 0s 36ms/step\n"
     ]
    },
    {
     "output_type": "stream",
     "name": "stderr",
     "text": [
      "\r26it [00:13,  1.88it/s]"
     ]
    },
    {
     "output_type": "stream",
     "name": "stdout",
     "text": [
      "1/1 [==============================] - 0s 35ms/step\n"
     ]
    },
    {
     "output_type": "stream",
     "name": "stderr",
     "text": [
      "\r27it [00:14,  2.04it/s]"
     ]
    },
    {
     "output_type": "stream",
     "name": "stdout",
     "text": [
      "1/1 [==============================] - 0s 35ms/step\n"
     ]
    },
    {
     "output_type": "stream",
     "name": "stderr",
     "text": [
      "\r28it [00:14,  2.27it/s]"
     ]
    },
    {
     "output_type": "stream",
     "name": "stdout",
     "text": [
      "1/1 [==============================] - 0s 38ms/step\n"
     ]
    },
    {
     "output_type": "stream",
     "name": "stderr",
     "text": [
      "\r29it [00:14,  2.44it/s]"
     ]
    },
    {
     "output_type": "stream",
     "name": "stdout",
     "text": [
      "1/1 [==============================] - 0s 34ms/step\n"
     ]
    },
    {
     "output_type": "stream",
     "name": "stderr",
     "text": [
      "\r30it [00:15,  2.48it/s]"
     ]
    },
    {
     "output_type": "stream",
     "name": "stdout",
     "text": [
      "1/1 [==============================] - 0s 39ms/step\n"
     ]
    },
    {
     "output_type": "stream",
     "name": "stderr",
     "text": [
      "\r31it [00:15,  2.66it/s]"
     ]
    },
    {
     "output_type": "stream",
     "name": "stdout",
     "text": [
      "1/1 [==============================] - 0s 41ms/step\n"
     ]
    },
    {
     "output_type": "stream",
     "name": "stderr",
     "text": [
      "\r32it [00:15,  2.95it/s]"
     ]
    },
    {
     "output_type": "stream",
     "name": "stdout",
     "text": [
      "1/1 [==============================] - 0s 37ms/step\n"
     ]
    },
    {
     "output_type": "stream",
     "name": "stderr",
     "text": [
      "\r33it [00:15,  3.37it/s]"
     ]
    },
    {
     "output_type": "stream",
     "name": "stdout",
     "text": [
      "1/1 [==============================] - 0s 35ms/step\n"
     ]
    },
    {
     "output_type": "stream",
     "name": "stderr",
     "text": [
      "\r34it [00:16,  3.64it/s]"
     ]
    },
    {
     "output_type": "stream",
     "name": "stdout",
     "text": [
      "1/1 [==============================] - 0s 38ms/step\n"
     ]
    },
    {
     "output_type": "stream",
     "name": "stderr",
     "text": [
      "\r35it [00:16,  3.91it/s]"
     ]
    },
    {
     "output_type": "stream",
     "name": "stdout",
     "text": [
      "1/1 [==============================] - 0s 37ms/step\n"
     ]
    },
    {
     "output_type": "stream",
     "name": "stderr",
     "text": [
      "\r36it [00:16,  3.86it/s]"
     ]
    },
    {
     "output_type": "stream",
     "name": "stdout",
     "text": [
      "1/1 [==============================] - 0s 36ms/step\n"
     ]
    },
    {
     "output_type": "stream",
     "name": "stderr",
     "text": [
      "\r37it [00:16,  3.81it/s]"
     ]
    },
    {
     "output_type": "stream",
     "name": "stdout",
     "text": [
      "1/1 [==============================] - 0s 36ms/step\n"
     ]
    },
    {
     "output_type": "stream",
     "name": "stderr",
     "text": [
      "38it [00:17,  2.19it/s]\n"
     ]
    },
    {
     "output_type": "execute_result",
     "data": {
      "text/plain": [
       "            dice        iou        map\n",
       "count  38.000000  38.000000  38.000000\n",
       "mean    0.964142   0.931737   0.921954\n",
       "std     0.023982   0.043062   0.040175\n",
       "min     0.896633   0.812633   0.820040\n",
       "25%     0.960926   0.924792   0.901528\n",
       "50%     0.973543   0.948450   0.925047\n",
       "75%     0.979676   0.960162   0.956777\n",
       "max     0.982669   0.965929   0.977922"
      ],
      "text/html": [
       "\n",
       "  <div id=\"df-7597a6f2-4763-4207-a8ef-ff015bfc80e4\">\n",
       "    <div class=\"colab-df-container\">\n",
       "      <div>\n",
       "<style scoped>\n",
       "    .dataframe tbody tr th:only-of-type {\n",
       "        vertical-align: middle;\n",
       "    }\n",
       "\n",
       "    .dataframe tbody tr th {\n",
       "        vertical-align: top;\n",
       "    }\n",
       "\n",
       "    .dataframe thead th {\n",
       "        text-align: right;\n",
       "    }\n",
       "</style>\n",
       "<table border=\"1\" class=\"dataframe\">\n",
       "  <thead>\n",
       "    <tr style=\"text-align: right;\">\n",
       "      <th></th>\n",
       "      <th>dice</th>\n",
       "      <th>iou</th>\n",
       "      <th>map</th>\n",
       "    </tr>\n",
       "  </thead>\n",
       "  <tbody>\n",
       "    <tr>\n",
       "      <th>count</th>\n",
       "      <td>38.000000</td>\n",
       "      <td>38.000000</td>\n",
       "      <td>38.000000</td>\n",
       "    </tr>\n",
       "    <tr>\n",
       "      <th>mean</th>\n",
       "      <td>0.964142</td>\n",
       "      <td>0.931737</td>\n",
       "      <td>0.921954</td>\n",
       "    </tr>\n",
       "    <tr>\n",
       "      <th>std</th>\n",
       "      <td>0.023982</td>\n",
       "      <td>0.043062</td>\n",
       "      <td>0.040175</td>\n",
       "    </tr>\n",
       "    <tr>\n",
       "      <th>min</th>\n",
       "      <td>0.896633</td>\n",
       "      <td>0.812633</td>\n",
       "      <td>0.820040</td>\n",
       "    </tr>\n",
       "    <tr>\n",
       "      <th>25%</th>\n",
       "      <td>0.960926</td>\n",
       "      <td>0.924792</td>\n",
       "      <td>0.901528</td>\n",
       "    </tr>\n",
       "    <tr>\n",
       "      <th>50%</th>\n",
       "      <td>0.973543</td>\n",
       "      <td>0.948450</td>\n",
       "      <td>0.925047</td>\n",
       "    </tr>\n",
       "    <tr>\n",
       "      <th>75%</th>\n",
       "      <td>0.979676</td>\n",
       "      <td>0.960162</td>\n",
       "      <td>0.956777</td>\n",
       "    </tr>\n",
       "    <tr>\n",
       "      <th>max</th>\n",
       "      <td>0.982669</td>\n",
       "      <td>0.965929</td>\n",
       "      <td>0.977922</td>\n",
       "    </tr>\n",
       "  </tbody>\n",
       "</table>\n",
       "</div>\n",
       "      <button class=\"colab-df-convert\" onclick=\"convertToInteractive('df-7597a6f2-4763-4207-a8ef-ff015bfc80e4')\"\n",
       "              title=\"Convert this dataframe to an interactive table.\"\n",
       "              style=\"display:none;\">\n",
       "        \n",
       "  <svg xmlns=\"http://www.w3.org/2000/svg\" height=\"24px\"viewBox=\"0 0 24 24\"\n",
       "       width=\"24px\">\n",
       "    <path d=\"M0 0h24v24H0V0z\" fill=\"none\"/>\n",
       "    <path d=\"M18.56 5.44l.94 2.06.94-2.06 2.06-.94-2.06-.94-.94-2.06-.94 2.06-2.06.94zm-11 1L8.5 8.5l.94-2.06 2.06-.94-2.06-.94L8.5 2.5l-.94 2.06-2.06.94zm10 10l.94 2.06.94-2.06 2.06-.94-2.06-.94-.94-2.06-.94 2.06-2.06.94z\"/><path d=\"M17.41 7.96l-1.37-1.37c-.4-.4-.92-.59-1.43-.59-.52 0-1.04.2-1.43.59L10.3 9.45l-7.72 7.72c-.78.78-.78 2.05 0 2.83L4 21.41c.39.39.9.59 1.41.59.51 0 1.02-.2 1.41-.59l7.78-7.78 2.81-2.81c.8-.78.8-2.07 0-2.86zM5.41 20L4 18.59l7.72-7.72 1.47 1.35L5.41 20z\"/>\n",
       "  </svg>\n",
       "      </button>\n",
       "      \n",
       "  <style>\n",
       "    .colab-df-container {\n",
       "      display:flex;\n",
       "      flex-wrap:wrap;\n",
       "      gap: 12px;\n",
       "    }\n",
       "\n",
       "    .colab-df-convert {\n",
       "      background-color: #E8F0FE;\n",
       "      border: none;\n",
       "      border-radius: 50%;\n",
       "      cursor: pointer;\n",
       "      display: none;\n",
       "      fill: #1967D2;\n",
       "      height: 32px;\n",
       "      padding: 0 0 0 0;\n",
       "      width: 32px;\n",
       "    }\n",
       "\n",
       "    .colab-df-convert:hover {\n",
       "      background-color: #E2EBFA;\n",
       "      box-shadow: 0px 1px 2px rgba(60, 64, 67, 0.3), 0px 1px 3px 1px rgba(60, 64, 67, 0.15);\n",
       "      fill: #174EA6;\n",
       "    }\n",
       "\n",
       "    [theme=dark] .colab-df-convert {\n",
       "      background-color: #3B4455;\n",
       "      fill: #D2E3FC;\n",
       "    }\n",
       "\n",
       "    [theme=dark] .colab-df-convert:hover {\n",
       "      background-color: #434B5C;\n",
       "      box-shadow: 0px 1px 3px 1px rgba(0, 0, 0, 0.15);\n",
       "      filter: drop-shadow(0px 1px 2px rgba(0, 0, 0, 0.3));\n",
       "      fill: #FFFFFF;\n",
       "    }\n",
       "  </style>\n",
       "\n",
       "      <script>\n",
       "        const buttonEl =\n",
       "          document.querySelector('#df-7597a6f2-4763-4207-a8ef-ff015bfc80e4 button.colab-df-convert');\n",
       "        buttonEl.style.display =\n",
       "          google.colab.kernel.accessAllowed ? 'block' : 'none';\n",
       "\n",
       "        async function convertToInteractive(key) {\n",
       "          const element = document.querySelector('#df-7597a6f2-4763-4207-a8ef-ff015bfc80e4');\n",
       "          const dataTable =\n",
       "            await google.colab.kernel.invokeFunction('convertToInteractive',\n",
       "                                                     [key], {});\n",
       "          if (!dataTable) return;\n",
       "\n",
       "          const docLinkHtml = 'Like what you see? Visit the ' +\n",
       "            '<a target=\"_blank\" href=https://colab.research.google.com/notebooks/data_table.ipynb>data table notebook</a>'\n",
       "            + ' to learn more about interactive tables.';\n",
       "          element.innerHTML = '';\n",
       "          dataTable['output_type'] = 'display_data';\n",
       "          await google.colab.output.renderOutput(dataTable, element);\n",
       "          const docLink = document.createElement('div');\n",
       "          docLink.innerHTML = docLinkHtml;\n",
       "          element.appendChild(docLink);\n",
       "        }\n",
       "      </script>\n",
       "    </div>\n",
       "  </div>\n",
       "  "
      ]
     },
     "metadata": {},
     "execution_count": 88
    }
   ]
  },
  {
   "cell_type": "code",
   "source": [
    "results = evaluate(model, zip(val_imgs, val_masks))\n",
    "results.describe()"
   ],
   "metadata": {
    "colab": {
     "base_uri": "https://localhost:8080/",
     "height": 387
    },
    "id": "GNmtRMS5qWRr",
    "outputId": "aba9c4fd-83c5-4de7-eb53-714095952dfc"
   },
   "execution_count": null,
   "outputs": [
    {
     "output_type": "stream",
     "name": "stderr",
     "text": [
      "\r0it [00:00, ?it/s]"
     ]
    },
    {
     "output_type": "stream",
     "name": "stdout",
     "text": [
      "1/1 [==============================] - 0s 37ms/step\n"
     ]
    },
    {
     "output_type": "stream",
     "name": "stderr",
     "text": [
      "\r1it [00:00,  4.87it/s]"
     ]
    },
    {
     "output_type": "stream",
     "name": "stdout",
     "text": [
      "1/1 [==============================] - 0s 41ms/step\n"
     ]
    },
    {
     "output_type": "stream",
     "name": "stderr",
     "text": [
      "\r2it [00:00,  3.84it/s]"
     ]
    },
    {
     "output_type": "stream",
     "name": "stdout",
     "text": [
      "1/1 [==============================] - 0s 46ms/step\n"
     ]
    },
    {
     "output_type": "stream",
     "name": "stderr",
     "text": [
      "\r3it [00:04,  1.78s/it]"
     ]
    },
    {
     "output_type": "stream",
     "name": "stdout",
     "text": [
      "1/1 [==============================] - 0s 25ms/step\n"
     ]
    },
    {
     "output_type": "stream",
     "name": "stderr",
     "text": [
      "4it [00:04,  1.08s/it]\n"
     ]
    },
    {
     "output_type": "execute_result",
     "data": {
      "text/plain": [
       "           dice       iou       map\n",
       "count  4.000000  4.000000  4.000000\n",
       "mean   0.929801  0.871731  0.899068\n",
       "std    0.049454  0.084299  0.061093\n",
       "min    0.860991  0.755913  0.835435\n",
       "25%    0.913877  0.842823  0.853103\n",
       "50%    0.940834  0.888425  0.900427\n",
       "75%    0.956758  0.917333  0.946392\n",
       "max    0.976543  0.954161  0.959982"
      ],
      "text/html": [
       "\n",
       "  <div id=\"df-308eeb3d-520c-4680-ad61-f956b241d412\">\n",
       "    <div class=\"colab-df-container\">\n",
       "      <div>\n",
       "<style scoped>\n",
       "    .dataframe tbody tr th:only-of-type {\n",
       "        vertical-align: middle;\n",
       "    }\n",
       "\n",
       "    .dataframe tbody tr th {\n",
       "        vertical-align: top;\n",
       "    }\n",
       "\n",
       "    .dataframe thead th {\n",
       "        text-align: right;\n",
       "    }\n",
       "</style>\n",
       "<table border=\"1\" class=\"dataframe\">\n",
       "  <thead>\n",
       "    <tr style=\"text-align: right;\">\n",
       "      <th></th>\n",
       "      <th>dice</th>\n",
       "      <th>iou</th>\n",
       "      <th>map</th>\n",
       "    </tr>\n",
       "  </thead>\n",
       "  <tbody>\n",
       "    <tr>\n",
       "      <th>count</th>\n",
       "      <td>4.000000</td>\n",
       "      <td>4.000000</td>\n",
       "      <td>4.000000</td>\n",
       "    </tr>\n",
       "    <tr>\n",
       "      <th>mean</th>\n",
       "      <td>0.929801</td>\n",
       "      <td>0.871731</td>\n",
       "      <td>0.899068</td>\n",
       "    </tr>\n",
       "    <tr>\n",
       "      <th>std</th>\n",
       "      <td>0.049454</td>\n",
       "      <td>0.084299</td>\n",
       "      <td>0.061093</td>\n",
       "    </tr>\n",
       "    <tr>\n",
       "      <th>min</th>\n",
       "      <td>0.860991</td>\n",
       "      <td>0.755913</td>\n",
       "      <td>0.835435</td>\n",
       "    </tr>\n",
       "    <tr>\n",
       "      <th>25%</th>\n",
       "      <td>0.913877</td>\n",
       "      <td>0.842823</td>\n",
       "      <td>0.853103</td>\n",
       "    </tr>\n",
       "    <tr>\n",
       "      <th>50%</th>\n",
       "      <td>0.940834</td>\n",
       "      <td>0.888425</td>\n",
       "      <td>0.900427</td>\n",
       "    </tr>\n",
       "    <tr>\n",
       "      <th>75%</th>\n",
       "      <td>0.956758</td>\n",
       "      <td>0.917333</td>\n",
       "      <td>0.946392</td>\n",
       "    </tr>\n",
       "    <tr>\n",
       "      <th>max</th>\n",
       "      <td>0.976543</td>\n",
       "      <td>0.954161</td>\n",
       "      <td>0.959982</td>\n",
       "    </tr>\n",
       "  </tbody>\n",
       "</table>\n",
       "</div>\n",
       "      <button class=\"colab-df-convert\" onclick=\"convertToInteractive('df-308eeb3d-520c-4680-ad61-f956b241d412')\"\n",
       "              title=\"Convert this dataframe to an interactive table.\"\n",
       "              style=\"display:none;\">\n",
       "        \n",
       "  <svg xmlns=\"http://www.w3.org/2000/svg\" height=\"24px\"viewBox=\"0 0 24 24\"\n",
       "       width=\"24px\">\n",
       "    <path d=\"M0 0h24v24H0V0z\" fill=\"none\"/>\n",
       "    <path d=\"M18.56 5.44l.94 2.06.94-2.06 2.06-.94-2.06-.94-.94-2.06-.94 2.06-2.06.94zm-11 1L8.5 8.5l.94-2.06 2.06-.94-2.06-.94L8.5 2.5l-.94 2.06-2.06.94zm10 10l.94 2.06.94-2.06 2.06-.94-2.06-.94-.94-2.06-.94 2.06-2.06.94z\"/><path d=\"M17.41 7.96l-1.37-1.37c-.4-.4-.92-.59-1.43-.59-.52 0-1.04.2-1.43.59L10.3 9.45l-7.72 7.72c-.78.78-.78 2.05 0 2.83L4 21.41c.39.39.9.59 1.41.59.51 0 1.02-.2 1.41-.59l7.78-7.78 2.81-2.81c.8-.78.8-2.07 0-2.86zM5.41 20L4 18.59l7.72-7.72 1.47 1.35L5.41 20z\"/>\n",
       "  </svg>\n",
       "      </button>\n",
       "      \n",
       "  <style>\n",
       "    .colab-df-container {\n",
       "      display:flex;\n",
       "      flex-wrap:wrap;\n",
       "      gap: 12px;\n",
       "    }\n",
       "\n",
       "    .colab-df-convert {\n",
       "      background-color: #E8F0FE;\n",
       "      border: none;\n",
       "      border-radius: 50%;\n",
       "      cursor: pointer;\n",
       "      display: none;\n",
       "      fill: #1967D2;\n",
       "      height: 32px;\n",
       "      padding: 0 0 0 0;\n",
       "      width: 32px;\n",
       "    }\n",
       "\n",
       "    .colab-df-convert:hover {\n",
       "      background-color: #E2EBFA;\n",
       "      box-shadow: 0px 1px 2px rgba(60, 64, 67, 0.3), 0px 1px 3px 1px rgba(60, 64, 67, 0.15);\n",
       "      fill: #174EA6;\n",
       "    }\n",
       "\n",
       "    [theme=dark] .colab-df-convert {\n",
       "      background-color: #3B4455;\n",
       "      fill: #D2E3FC;\n",
       "    }\n",
       "\n",
       "    [theme=dark] .colab-df-convert:hover {\n",
       "      background-color: #434B5C;\n",
       "      box-shadow: 0px 1px 3px 1px rgba(0, 0, 0, 0.15);\n",
       "      filter: drop-shadow(0px 1px 2px rgba(0, 0, 0, 0.3));\n",
       "      fill: #FFFFFF;\n",
       "    }\n",
       "  </style>\n",
       "\n",
       "      <script>\n",
       "        const buttonEl =\n",
       "          document.querySelector('#df-308eeb3d-520c-4680-ad61-f956b241d412 button.colab-df-convert');\n",
       "        buttonEl.style.display =\n",
       "          google.colab.kernel.accessAllowed ? 'block' : 'none';\n",
       "\n",
       "        async function convertToInteractive(key) {\n",
       "          const element = document.querySelector('#df-308eeb3d-520c-4680-ad61-f956b241d412');\n",
       "          const dataTable =\n",
       "            await google.colab.kernel.invokeFunction('convertToInteractive',\n",
       "                                                     [key], {});\n",
       "          if (!dataTable) return;\n",
       "\n",
       "          const docLinkHtml = 'Like what you see? Visit the ' +\n",
       "            '<a target=\"_blank\" href=https://colab.research.google.com/notebooks/data_table.ipynb>data table notebook</a>'\n",
       "            + ' to learn more about interactive tables.';\n",
       "          element.innerHTML = '';\n",
       "          dataTable['output_type'] = 'display_data';\n",
       "          await google.colab.output.renderOutput(dataTable, element);\n",
       "          const docLink = document.createElement('div');\n",
       "          docLink.innerHTML = docLinkHtml;\n",
       "          element.appendChild(docLink);\n",
       "        }\n",
       "      </script>\n",
       "    </div>\n",
       "  </div>\n",
       "  "
      ]
     },
     "metadata": {},
     "execution_count": 89
    }
   ]
  },
  {
   "cell_type": "code",
   "source": [
    "results = evaluate(model, zip(test_imgs, test_masks))\n",
    "results.describe()"
   ],
   "metadata": {
    "colab": {
     "base_uri": "https://localhost:8080/",
     "height": 960
    },
    "id": "O7Yyx8aqqWmB",
    "outputId": "bac01c96-0157-49bf-d6cf-b41addc689fd"
   },
   "execution_count": null,
   "outputs": [
    {
     "output_type": "stream",
     "name": "stderr",
     "text": [
      "\r0it [00:00, ?it/s]"
     ]
    },
    {
     "output_type": "stream",
     "name": "stdout",
     "text": [
      "1/1 [==============================] - 0s 28ms/step\n"
     ]
    },
    {
     "output_type": "stream",
     "name": "stderr",
     "text": [
      "\r1it [00:00,  7.82it/s]"
     ]
    },
    {
     "output_type": "stream",
     "name": "stdout",
     "text": [
      "1/1 [==============================] - 0s 29ms/step\n"
     ]
    },
    {
     "output_type": "stream",
     "name": "stderr",
     "text": [
      "\r2it [00:00,  7.70it/s]"
     ]
    },
    {
     "output_type": "stream",
     "name": "stdout",
     "text": [
      "1/1 [==============================] - 0s 31ms/step\n"
     ]
    },
    {
     "output_type": "stream",
     "name": "stderr",
     "text": [
      "\r3it [00:00,  7.51it/s]"
     ]
    },
    {
     "output_type": "stream",
     "name": "stdout",
     "text": [
      "1/1 [==============================] - 0s 24ms/step\n"
     ]
    },
    {
     "output_type": "stream",
     "name": "stderr",
     "text": [
      "\r4it [00:00,  7.84it/s]"
     ]
    },
    {
     "output_type": "stream",
     "name": "stdout",
     "text": [
      "1/1 [==============================] - 0s 27ms/step\n"
     ]
    },
    {
     "output_type": "stream",
     "name": "stderr",
     "text": [
      "\r5it [00:00,  6.67it/s]"
     ]
    },
    {
     "output_type": "stream",
     "name": "stdout",
     "text": [
      "1/1 [==============================] - 0s 27ms/step\n"
     ]
    },
    {
     "output_type": "stream",
     "name": "stderr",
     "text": [
      "\r6it [00:00,  6.11it/s]"
     ]
    },
    {
     "output_type": "stream",
     "name": "stdout",
     "text": [
      "1/1 [==============================] - 0s 26ms/step\n"
     ]
    },
    {
     "output_type": "stream",
     "name": "stderr",
     "text": [
      "\r7it [00:06,  1.78s/it]"
     ]
    },
    {
     "output_type": "stream",
     "name": "stdout",
     "text": [
      "1/1 [==============================] - 0s 24ms/step\n"
     ]
    },
    {
     "output_type": "stream",
     "name": "stderr",
     "text": [
      "\r8it [00:06,  1.27s/it]"
     ]
    },
    {
     "output_type": "stream",
     "name": "stdout",
     "text": [
      "1/1 [==============================] - 0s 25ms/step\n"
     ]
    },
    {
     "output_type": "stream",
     "name": "stderr",
     "text": [
      "\r9it [00:06,  1.09it/s]"
     ]
    },
    {
     "output_type": "stream",
     "name": "stdout",
     "text": [
      "1/1 [==============================] - 0s 43ms/step\n"
     ]
    },
    {
     "output_type": "stream",
     "name": "stderr",
     "text": [
      "\r10it [00:06,  1.24it/s]"
     ]
    },
    {
     "output_type": "stream",
     "name": "stdout",
     "text": [
      "1/1 [==============================] - 0s 42ms/step\n"
     ]
    },
    {
     "output_type": "stream",
     "name": "stderr",
     "text": [
      "\r11it [00:07,  1.50it/s]"
     ]
    },
    {
     "output_type": "stream",
     "name": "stdout",
     "text": [
      "1/1 [==============================] - 0s 41ms/step\n"
     ]
    },
    {
     "output_type": "stream",
     "name": "stderr",
     "text": [
      "\r12it [00:07,  1.77it/s]"
     ]
    },
    {
     "output_type": "stream",
     "name": "stdout",
     "text": [
      "1/1 [==============================] - 0s 39ms/step\n"
     ]
    },
    {
     "output_type": "stream",
     "name": "stderr",
     "text": [
      "\r13it [00:07,  2.16it/s]"
     ]
    },
    {
     "output_type": "stream",
     "name": "stdout",
     "text": [
      "1/1 [==============================] - 0s 42ms/step\n"
     ]
    },
    {
     "output_type": "stream",
     "name": "stderr",
     "text": [
      "\r14it [00:10,  1.21s/it]"
     ]
    },
    {
     "output_type": "stream",
     "name": "stdout",
     "text": [
      "1/1 [==============================] - 0s 36ms/step\n"
     ]
    },
    {
     "output_type": "stream",
     "name": "stderr",
     "text": [
      "\r15it [00:10,  1.12it/s]"
     ]
    },
    {
     "output_type": "stream",
     "name": "stdout",
     "text": [
      "1/1 [==============================] - 0s 45ms/step\n"
     ]
    },
    {
     "output_type": "stream",
     "name": "stderr",
     "text": [
      "\r16it [00:11,  1.38it/s]"
     ]
    },
    {
     "output_type": "stream",
     "name": "stdout",
     "text": [
      "1/1 [==============================] - 0s 36ms/step\n"
     ]
    },
    {
     "output_type": "stream",
     "name": "stderr",
     "text": [
      "\r17it [00:11,  1.63it/s]"
     ]
    },
    {
     "output_type": "stream",
     "name": "stdout",
     "text": [
      "1/1 [==============================] - 0s 45ms/step\n"
     ]
    },
    {
     "output_type": "stream",
     "name": "stderr",
     "text": [
      "\r18it [00:12,  1.78it/s]"
     ]
    },
    {
     "output_type": "stream",
     "name": "stdout",
     "text": [
      "1/1 [==============================] - 0s 38ms/step\n"
     ]
    },
    {
     "output_type": "stream",
     "name": "stderr",
     "text": [
      "\r19it [00:12,  2.06it/s]"
     ]
    },
    {
     "output_type": "stream",
     "name": "stdout",
     "text": [
      "1/1 [==============================] - 0s 36ms/step\n"
     ]
    },
    {
     "output_type": "stream",
     "name": "stderr",
     "text": [
      "\r20it [00:12,  2.25it/s]"
     ]
    },
    {
     "output_type": "stream",
     "name": "stdout",
     "text": [
      "1/1 [==============================] - 0s 25ms/step\n"
     ]
    },
    {
     "output_type": "stream",
     "name": "stderr",
     "text": [
      "\r21it [00:12,  2.55it/s]"
     ]
    },
    {
     "output_type": "stream",
     "name": "stdout",
     "text": [
      "1/1 [==============================] - 0s 32ms/step\n"
     ]
    },
    {
     "output_type": "stream",
     "name": "stderr",
     "text": [
      "\r22it [00:14,  1.51it/s]"
     ]
    },
    {
     "output_type": "stream",
     "name": "stdout",
     "text": [
      "1/1 [==============================] - 0s 25ms/step\n"
     ]
    },
    {
     "output_type": "stream",
     "name": "stderr",
     "text": [
      "\r23it [00:14,  1.79it/s]"
     ]
    },
    {
     "output_type": "stream",
     "name": "stdout",
     "text": [
      "1/1 [==============================] - 0s 23ms/step\n"
     ]
    },
    {
     "output_type": "stream",
     "name": "stderr",
     "text": [
      "\r24it [00:14,  2.32it/s]"
     ]
    },
    {
     "output_type": "stream",
     "name": "stdout",
     "text": [
      "1/1 [==============================] - 0s 24ms/step\n"
     ]
    },
    {
     "output_type": "stream",
     "name": "stderr",
     "text": [
      "\r25it [00:15,  2.50it/s]"
     ]
    },
    {
     "output_type": "stream",
     "name": "stdout",
     "text": [
      "1/1 [==============================] - 0s 22ms/step\n"
     ]
    },
    {
     "output_type": "stream",
     "name": "stderr",
     "text": [
      "\r26it [00:15,  2.63it/s]"
     ]
    },
    {
     "output_type": "stream",
     "name": "stdout",
     "text": [
      "1/1 [==============================] - 0s 23ms/step\n"
     ]
    },
    {
     "output_type": "stream",
     "name": "stderr",
     "text": [
      "\r27it [00:15,  3.33it/s]"
     ]
    },
    {
     "output_type": "stream",
     "name": "stdout",
     "text": [
      "1/1 [==============================] - 0s 23ms/step\n"
     ]
    },
    {
     "output_type": "stream",
     "name": "stderr",
     "text": [
      "\r28it [00:15,  3.26it/s]"
     ]
    },
    {
     "output_type": "stream",
     "name": "stdout",
     "text": [
      "1/1 [==============================] - 0s 24ms/step\n"
     ]
    },
    {
     "output_type": "stream",
     "name": "stderr",
     "text": [
      "\r29it [00:16,  3.21it/s]"
     ]
    },
    {
     "output_type": "stream",
     "name": "stdout",
     "text": [
      "1/1 [==============================] - 0s 33ms/step\n"
     ]
    },
    {
     "output_type": "stream",
     "name": "stderr",
     "text": [
      "\r30it [00:16,  2.09it/s]"
     ]
    },
    {
     "output_type": "stream",
     "name": "stdout",
     "text": [
      "1/1 [==============================] - 0s 24ms/step\n"
     ]
    },
    {
     "output_type": "stream",
     "name": "stderr",
     "text": [
      "\r31it [00:17,  2.52it/s]"
     ]
    },
    {
     "output_type": "stream",
     "name": "stdout",
     "text": [
      "1/1 [==============================] - 0s 36ms/step\n"
     ]
    },
    {
     "output_type": "stream",
     "name": "stderr",
     "text": [
      "\r32it [00:45,  8.78s/it]"
     ]
    },
    {
     "output_type": "stream",
     "name": "stdout",
     "text": [
      "1/1 [==============================] - 0s 26ms/step\n"
     ]
    },
    {
     "output_type": "stream",
     "name": "stderr",
     "text": [
      "\r33it [00:45,  6.20s/it]"
     ]
    },
    {
     "output_type": "stream",
     "name": "stdout",
     "text": [
      "1/1 [==============================] - 0s 29ms/step\n"
     ]
    },
    {
     "output_type": "stream",
     "name": "stderr",
     "text": [
      "\r34it [00:45,  4.39s/it]"
     ]
    },
    {
     "output_type": "stream",
     "name": "stdout",
     "text": [
      "1/1 [==============================] - 0s 22ms/step\n"
     ]
    },
    {
     "output_type": "stream",
     "name": "stderr",
     "text": [
      "\r35it [00:45,  3.11s/it]"
     ]
    },
    {
     "output_type": "stream",
     "name": "stdout",
     "text": [
      "1/1 [==============================] - 0s 23ms/step\n"
     ]
    },
    {
     "output_type": "stream",
     "name": "stderr",
     "text": [
      "\r36it [00:46,  2.23s/it]"
     ]
    },
    {
     "output_type": "stream",
     "name": "stdout",
     "text": [
      "1/1 [==============================] - 0s 22ms/step\n"
     ]
    },
    {
     "output_type": "stream",
     "name": "stderr",
     "text": [
      "37it [00:46,  1.26s/it]\n"
     ]
    },
    {
     "output_type": "execute_result",
     "data": {
      "text/plain": [
       "            dice        iou        map\n",
       "count  37.000000  37.000000  37.000000\n",
       "mean    0.898668   0.829267   0.795487\n",
       "std     0.105242   0.144106   0.168333\n",
       "min     0.456170   0.295480   0.194695\n",
       "25%     0.894930   0.809841   0.786378\n",
       "50%     0.938889   0.884818   0.837217\n",
       "75%     0.956307   0.916273   0.888814\n",
       "max     0.980305   0.961372   0.970823"
      ],
      "text/html": [
       "\n",
       "  <div id=\"df-a4c15977-b817-4d95-b31a-dcbcc1cf7350\">\n",
       "    <div class=\"colab-df-container\">\n",
       "      <div>\n",
       "<style scoped>\n",
       "    .dataframe tbody tr th:only-of-type {\n",
       "        vertical-align: middle;\n",
       "    }\n",
       "\n",
       "    .dataframe tbody tr th {\n",
       "        vertical-align: top;\n",
       "    }\n",
       "\n",
       "    .dataframe thead th {\n",
       "        text-align: right;\n",
       "    }\n",
       "</style>\n",
       "<table border=\"1\" class=\"dataframe\">\n",
       "  <thead>\n",
       "    <tr style=\"text-align: right;\">\n",
       "      <th></th>\n",
       "      <th>dice</th>\n",
       "      <th>iou</th>\n",
       "      <th>map</th>\n",
       "    </tr>\n",
       "  </thead>\n",
       "  <tbody>\n",
       "    <tr>\n",
       "      <th>count</th>\n",
       "      <td>37.000000</td>\n",
       "      <td>37.000000</td>\n",
       "      <td>37.000000</td>\n",
       "    </tr>\n",
       "    <tr>\n",
       "      <th>mean</th>\n",
       "      <td>0.898668</td>\n",
       "      <td>0.829267</td>\n",
       "      <td>0.795487</td>\n",
       "    </tr>\n",
       "    <tr>\n",
       "      <th>std</th>\n",
       "      <td>0.105242</td>\n",
       "      <td>0.144106</td>\n",
       "      <td>0.168333</td>\n",
       "    </tr>\n",
       "    <tr>\n",
       "      <th>min</th>\n",
       "      <td>0.456170</td>\n",
       "      <td>0.295480</td>\n",
       "      <td>0.194695</td>\n",
       "    </tr>\n",
       "    <tr>\n",
       "      <th>25%</th>\n",
       "      <td>0.894930</td>\n",
       "      <td>0.809841</td>\n",
       "      <td>0.786378</td>\n",
       "    </tr>\n",
       "    <tr>\n",
       "      <th>50%</th>\n",
       "      <td>0.938889</td>\n",
       "      <td>0.884818</td>\n",
       "      <td>0.837217</td>\n",
       "    </tr>\n",
       "    <tr>\n",
       "      <th>75%</th>\n",
       "      <td>0.956307</td>\n",
       "      <td>0.916273</td>\n",
       "      <td>0.888814</td>\n",
       "    </tr>\n",
       "    <tr>\n",
       "      <th>max</th>\n",
       "      <td>0.980305</td>\n",
       "      <td>0.961372</td>\n",
       "      <td>0.970823</td>\n",
       "    </tr>\n",
       "  </tbody>\n",
       "</table>\n",
       "</div>\n",
       "      <button class=\"colab-df-convert\" onclick=\"convertToInteractive('df-a4c15977-b817-4d95-b31a-dcbcc1cf7350')\"\n",
       "              title=\"Convert this dataframe to an interactive table.\"\n",
       "              style=\"display:none;\">\n",
       "        \n",
       "  <svg xmlns=\"http://www.w3.org/2000/svg\" height=\"24px\"viewBox=\"0 0 24 24\"\n",
       "       width=\"24px\">\n",
       "    <path d=\"M0 0h24v24H0V0z\" fill=\"none\"/>\n",
       "    <path d=\"M18.56 5.44l.94 2.06.94-2.06 2.06-.94-2.06-.94-.94-2.06-.94 2.06-2.06.94zm-11 1L8.5 8.5l.94-2.06 2.06-.94-2.06-.94L8.5 2.5l-.94 2.06-2.06.94zm10 10l.94 2.06.94-2.06 2.06-.94-2.06-.94-.94-2.06-.94 2.06-2.06.94z\"/><path d=\"M17.41 7.96l-1.37-1.37c-.4-.4-.92-.59-1.43-.59-.52 0-1.04.2-1.43.59L10.3 9.45l-7.72 7.72c-.78.78-.78 2.05 0 2.83L4 21.41c.39.39.9.59 1.41.59.51 0 1.02-.2 1.41-.59l7.78-7.78 2.81-2.81c.8-.78.8-2.07 0-2.86zM5.41 20L4 18.59l7.72-7.72 1.47 1.35L5.41 20z\"/>\n",
       "  </svg>\n",
       "      </button>\n",
       "      \n",
       "  <style>\n",
       "    .colab-df-container {\n",
       "      display:flex;\n",
       "      flex-wrap:wrap;\n",
       "      gap: 12px;\n",
       "    }\n",
       "\n",
       "    .colab-df-convert {\n",
       "      background-color: #E8F0FE;\n",
       "      border: none;\n",
       "      border-radius: 50%;\n",
       "      cursor: pointer;\n",
       "      display: none;\n",
       "      fill: #1967D2;\n",
       "      height: 32px;\n",
       "      padding: 0 0 0 0;\n",
       "      width: 32px;\n",
       "    }\n",
       "\n",
       "    .colab-df-convert:hover {\n",
       "      background-color: #E2EBFA;\n",
       "      box-shadow: 0px 1px 2px rgba(60, 64, 67, 0.3), 0px 1px 3px 1px rgba(60, 64, 67, 0.15);\n",
       "      fill: #174EA6;\n",
       "    }\n",
       "\n",
       "    [theme=dark] .colab-df-convert {\n",
       "      background-color: #3B4455;\n",
       "      fill: #D2E3FC;\n",
       "    }\n",
       "\n",
       "    [theme=dark] .colab-df-convert:hover {\n",
       "      background-color: #434B5C;\n",
       "      box-shadow: 0px 1px 3px 1px rgba(0, 0, 0, 0.15);\n",
       "      filter: drop-shadow(0px 1px 2px rgba(0, 0, 0, 0.3));\n",
       "      fill: #FFFFFF;\n",
       "    }\n",
       "  </style>\n",
       "\n",
       "      <script>\n",
       "        const buttonEl =\n",
       "          document.querySelector('#df-a4c15977-b817-4d95-b31a-dcbcc1cf7350 button.colab-df-convert');\n",
       "        buttonEl.style.display =\n",
       "          google.colab.kernel.accessAllowed ? 'block' : 'none';\n",
       "\n",
       "        async function convertToInteractive(key) {\n",
       "          const element = document.querySelector('#df-a4c15977-b817-4d95-b31a-dcbcc1cf7350');\n",
       "          const dataTable =\n",
       "            await google.colab.kernel.invokeFunction('convertToInteractive',\n",
       "                                                     [key], {});\n",
       "          if (!dataTable) return;\n",
       "\n",
       "          const docLinkHtml = 'Like what you see? Visit the ' +\n",
       "            '<a target=\"_blank\" href=https://colab.research.google.com/notebooks/data_table.ipynb>data table notebook</a>'\n",
       "            + ' to learn more about interactive tables.';\n",
       "          element.innerHTML = '';\n",
       "          dataTable['output_type'] = 'display_data';\n",
       "          await google.colab.output.renderOutput(dataTable, element);\n",
       "          const docLink = document.createElement('div');\n",
       "          docLink.innerHTML = docLinkHtml;\n",
       "          element.appendChild(docLink);\n",
       "        }\n",
       "      </script>\n",
       "    </div>\n",
       "  </div>\n",
       "  "
      ]
     },
     "metadata": {},
     "execution_count": 90
    }
   ]
  },
  {
   "cell_type": "code",
   "execution_count": null,
   "metadata": {
    "colab": {
     "base_uri": "https://localhost:8080/"
    },
    "id": "YD_xH1kT-TZ4",
    "outputId": "605bccbd-690e-467e-e4d1-7a18efc4eb24"
   },
   "outputs": [
    {
     "output_type": "stream",
     "name": "stdout",
     "text": [
      "median object size:      [36. 37.]\n",
      "network field of view :  [94 94]\n"
     ]
    }
   ],
   "source": [
    "median_size = calculate_extents(list(train_masks), np.median)\n",
    "fov = np.array(model._axes_tile_overlap('YX'))\n",
    "print(f\"median object size:      {median_size}\")\n",
    "print(f\"network field of view :  {fov}\")\n",
    "if any(median_size > fov):\n",
    "    print(\"WARNING: median object size larger than field of view of the neural network.\")"
   ]
  },
  {
   "cell_type": "markdown",
   "metadata": {
    "id": "BSgWz6AUDSUP"
   },
   "source": [
    "# Training model from scratch"
   ]
  },
  {
   "cell_type": "code",
   "execution_count": null,
   "metadata": {
    "id": "V0OQGQACDs7g"
   },
   "outputs": [],
   "source": [
    "conf = Config2D (\n",
    "    use_gpu = False,\n",
    "    n_channel_in = 1,\n",
    "    n_rays=32,\n",
    "    unet_n_depth=3,\n",
    "    grid=(4,4)\n",
    ")"
   ]
  },
  {
   "cell_type": "code",
   "execution_count": null,
   "metadata": {
    "colab": {
     "base_uri": "https://localhost:8080/"
    },
    "id": "rq32CDgbDX3R",
    "outputId": "f8b631a6-991d-4c77-d486-222dff502b93"
   },
   "outputs": [
    {
     "output_type": "stream",
     "name": "stderr",
     "text": [
      "base_model.py (149): output path for model already exists, files may be overwritten: /content/models/stardist\n"
     ]
    },
    {
     "output_type": "stream",
     "name": "stdout",
     "text": [
      "Loading thresholds from 'thresholds.json'.\n",
      "Using default values: prob_thresh=0.537376, nms_thresh=0.4.\n",
      "1/1 [==============================] - 0s 237ms/step\n",
      "1/1 [==============================] - 0s 32ms/step\n",
      "median object size:      [36. 37.]\n",
      "network field of view :  [185 181]\n"
     ]
    }
   ],
   "source": [
    "model = StarDist2D(conf, name='stardist', basedir='models')\n",
    "median_size = calculate_extents(list(train_masks), np.median)\n",
    "fov = np.array(model._axes_tile_overlap('YX'))\n",
    "print(f\"median object size:      {median_size}\")\n",
    "print(f\"network field of view :  {fov}\")\n",
    "if any(median_size > fov):\n",
    "    print(\"WARNING: median object size larger than field of view of the neural network.\")"
   ]
  },
  {
   "cell_type": "code",
   "execution_count": null,
   "metadata": {
    "colab": {
     "base_uri": "https://localhost:8080/"
    },
    "id": "FfSU0WRjGQLn",
    "outputId": "a7a836ce-b516-4276-c9bb-d54e980d3610"
   },
   "outputs": [
    {
     "output_type": "stream",
     "name": "stdout",
     "text": [
      "Epoch 1/200\n",
      "3/3 [==============================] - 0s 6ms/step\n",
      "200/200 [==============================] - 27s 82ms/step - loss: 2.8206 - prob_loss: 0.4739 - dist_loss: 11.7337 - prob_kld: 0.3012 - dist_relevant_mae: 11.7326 - dist_relevant_mse: 244.3708 - dist_dist_iou_metric: 0.2697 - val_loss: 2.4193 - val_prob_loss: 0.4512 - val_dist_loss: 9.8402 - val_prob_kld: 0.2743 - val_dist_relevant_mae: 9.8388 - val_dist_relevant_mse: 178.1137 - val_dist_dist_iou_metric: 0.3675 - lr: 3.0000e-04\n",
      "Epoch 2/200\n",
      "3/3 [==============================] - 0s 6ms/step\n",
      "200/200 [==============================] - 14s 71ms/step - loss: 1.6836 - prob_loss: 0.2586 - dist_loss: 7.1254 - prob_kld: 0.0872 - dist_relevant_mae: 7.1244 - dist_relevant_mse: 104.9519 - dist_dist_iou_metric: 0.4767 - val_loss: 1.5030 - val_prob_loss: 0.2537 - val_dist_loss: 6.2468 - val_prob_kld: 0.0767 - val_dist_relevant_mae: 6.2458 - val_dist_relevant_mse: 84.5618 - val_dist_dist_iou_metric: 0.5335 - lr: 3.0000e-04\n",
      "Epoch 3/200\n",
      "3/3 [==============================] - 0s 6ms/step\n",
      "200/200 [==============================] - 14s 71ms/step - loss: 1.0728 - prob_loss: 0.2111 - dist_loss: 4.3087 - prob_kld: 0.0400 - dist_relevant_mae: 4.3079 - dist_relevant_mse: 43.8895 - dist_dist_iou_metric: 0.6392 - val_loss: 1.2871 - val_prob_loss: 0.2567 - val_dist_loss: 5.1517 - val_prob_kld: 0.0798 - val_dist_relevant_mae: 5.1510 - val_dist_relevant_mse: 57.4352 - val_dist_dist_iou_metric: 0.5574 - lr: 3.0000e-04\n",
      "Epoch 4/200\n",
      "3/3 [==============================] - 0s 6ms/step\n",
      "200/200 [==============================] - 14s 71ms/step - loss: 0.9454 - prob_loss: 0.2065 - dist_loss: 3.6942 - prob_kld: 0.0351 - dist_relevant_mae: 3.6936 - dist_relevant_mse: 33.7239 - dist_dist_iou_metric: 0.6784 - val_loss: 1.0915 - val_prob_loss: 0.2506 - val_dist_loss: 4.2045 - val_prob_kld: 0.0736 - val_dist_relevant_mae: 4.2038 - val_dist_relevant_mse: 40.5842 - val_dist_dist_iou_metric: 0.6280 - lr: 3.0000e-04\n",
      "Epoch 5/200\n",
      "3/3 [==============================] - 0s 7ms/step\n",
      "200/200 [==============================] - 13s 63ms/step - loss: 0.8481 - prob_loss: 0.2050 - dist_loss: 3.2154 - prob_kld: 0.0326 - dist_relevant_mae: 3.2147 - dist_relevant_mse: 26.8539 - dist_dist_iou_metric: 0.7133 - val_loss: 1.0236 - val_prob_loss: 0.2374 - val_dist_loss: 3.9308 - val_prob_kld: 0.0605 - val_dist_relevant_mae: 3.9301 - val_dist_relevant_mse: 36.0692 - val_dist_dist_iou_metric: 0.6532 - lr: 3.0000e-04\n",
      "Epoch 6/200\n",
      "3/3 [==============================] - 0s 6ms/step\n",
      "200/200 [==============================] - 13s 63ms/step - loss: 0.7948 - prob_loss: 0.2027 - dist_loss: 2.9608 - prob_kld: 0.0297 - dist_relevant_mae: 2.9602 - dist_relevant_mse: 23.2146 - dist_dist_iou_metric: 0.7334 - val_loss: 0.9930 - val_prob_loss: 0.2410 - val_dist_loss: 3.7603 - val_prob_kld: 0.0640 - val_dist_relevant_mae: 3.7596 - val_dist_relevant_mse: 33.4513 - val_dist_dist_iou_metric: 0.6621 - lr: 3.0000e-04\n",
      "Epoch 7/200\n",
      "3/3 [==============================] - 0s 6ms/step\n",
      "200/200 [==============================] - 14s 72ms/step - loss: 0.7606 - prob_loss: 0.1986 - dist_loss: 2.8101 - prob_kld: 0.0275 - dist_relevant_mae: 2.8095 - dist_relevant_mse: 20.9595 - dist_dist_iou_metric: 0.7444 - val_loss: 0.9193 - val_prob_loss: 0.2365 - val_dist_loss: 3.4140 - val_prob_kld: 0.0596 - val_dist_relevant_mae: 3.4133 - val_dist_relevant_mse: 28.7037 - val_dist_dist_iou_metric: 0.6868 - lr: 3.0000e-04\n",
      "Epoch 8/200\n",
      "3/3 [==============================] - 0s 6ms/step\n",
      "200/200 [==============================] - 14s 71ms/step - loss: 0.7173 - prob_loss: 0.1989 - dist_loss: 2.5922 - prob_kld: 0.0268 - dist_relevant_mae: 2.5915 - dist_relevant_mse: 18.5293 - dist_dist_iou_metric: 0.7603 - val_loss: 0.9039 - val_prob_loss: 0.2358 - val_dist_loss: 3.3404 - val_prob_kld: 0.0589 - val_dist_relevant_mae: 3.3397 - val_dist_relevant_mse: 26.6580 - val_dist_dist_iou_metric: 0.6868 - lr: 3.0000e-04\n",
      "Epoch 9/200\n",
      "3/3 [==============================] - 0s 6ms/step\n",
      "200/200 [==============================] - 14s 71ms/step - loss: 0.6966 - prob_loss: 0.1969 - dist_loss: 2.4986 - prob_kld: 0.0254 - dist_relevant_mae: 2.4980 - dist_relevant_mse: 17.1462 - dist_dist_iou_metric: 0.7674 - val_loss: 1.0885 - val_prob_loss: 0.2375 - val_dist_loss: 4.2551 - val_prob_kld: 0.0606 - val_dist_relevant_mae: 4.2544 - val_dist_relevant_mse: 40.9061 - val_dist_dist_iou_metric: 0.6336 - lr: 3.0000e-04\n",
      "Epoch 10/200\n",
      "3/3 [==============================] - 0s 8ms/step\n",
      "200/200 [==============================] - 13s 63ms/step - loss: 0.6867 - prob_loss: 0.1968 - dist_loss: 2.4498 - prob_kld: 0.0257 - dist_relevant_mae: 2.4492 - dist_relevant_mse: 16.5149 - dist_dist_iou_metric: 0.7699 - val_loss: 0.8275 - val_prob_loss: 0.2333 - val_dist_loss: 2.9708 - val_prob_kld: 0.0564 - val_dist_relevant_mae: 2.9702 - val_dist_relevant_mse: 22.6004 - val_dist_dist_iou_metric: 0.7169 - lr: 3.0000e-04\n",
      "Epoch 11/200\n",
      "3/3 [==============================] - 0s 6ms/step\n",
      "200/200 [==============================] - 13s 65ms/step - loss: 0.6397 - prob_loss: 0.1947 - dist_loss: 2.2250 - prob_kld: 0.0232 - dist_relevant_mae: 2.2244 - dist_relevant_mse: 14.1628 - dist_dist_iou_metric: 0.7869 - val_loss: 0.8086 - val_prob_loss: 0.2299 - val_dist_loss: 2.8934 - val_prob_kld: 0.0529 - val_dist_relevant_mae: 2.8928 - val_dist_relevant_mse: 21.3471 - val_dist_dist_iou_metric: 0.7217 - lr: 3.0000e-04\n",
      "Epoch 12/200\n",
      "3/3 [==============================] - 0s 6ms/step\n",
      "200/200 [==============================] - 14s 72ms/step - loss: 0.6263 - prob_loss: 0.1965 - dist_loss: 2.1491 - prob_kld: 0.0248 - dist_relevant_mae: 2.1486 - dist_relevant_mse: 13.3174 - dist_dist_iou_metric: 0.7939 - val_loss: 0.8750 - val_prob_loss: 0.2347 - val_dist_loss: 3.2018 - val_prob_kld: 0.0577 - val_dist_relevant_mae: 3.2012 - val_dist_relevant_mse: 25.5755 - val_dist_dist_iou_metric: 0.6988 - lr: 3.0000e-04\n",
      "Epoch 13/200\n",
      "3/3 [==============================] - 0s 6ms/step\n",
      "200/200 [==============================] - 14s 72ms/step - loss: 0.6062 - prob_loss: 0.1946 - dist_loss: 2.0583 - prob_kld: 0.0220 - dist_relevant_mae: 2.0578 - dist_relevant_mse: 12.4373 - dist_dist_iou_metric: 0.8001 - val_loss: 0.8998 - val_prob_loss: 0.2318 - val_dist_loss: 3.3400 - val_prob_kld: 0.0548 - val_dist_relevant_mae: 3.3394 - val_dist_relevant_mse: 24.5711 - val_dist_dist_iou_metric: 0.7040 - lr: 3.0000e-04\n",
      "Epoch 14/200\n",
      "3/3 [==============================] - 0s 6ms/step\n",
      "200/200 [==============================] - 15s 73ms/step - loss: 0.5796 - prob_loss: 0.1922 - dist_loss: 1.9366 - prob_kld: 0.0212 - dist_relevant_mae: 1.9361 - dist_relevant_mse: 11.2069 - dist_dist_iou_metric: 0.8112 - val_loss: 0.8071 - val_prob_loss: 0.2252 - val_dist_loss: 2.9094 - val_prob_kld: 0.0483 - val_dist_relevant_mae: 2.9088 - val_dist_relevant_mse: 20.9583 - val_dist_dist_iou_metric: 0.7214 - lr: 3.0000e-04\n",
      "Epoch 15/200\n",
      "3/3 [==============================] - 0s 8ms/step\n",
      "200/200 [==============================] - 12s 62ms/step - loss: 0.5682 - prob_loss: 0.1908 - dist_loss: 1.8870 - prob_kld: 0.0208 - dist_relevant_mae: 1.8864 - dist_relevant_mse: 10.6107 - dist_dist_iou_metric: 0.8146 - val_loss: 0.7678 - val_prob_loss: 0.2274 - val_dist_loss: 2.7020 - val_prob_kld: 0.0505 - val_dist_relevant_mae: 2.7015 - val_dist_relevant_mse: 19.1288 - val_dist_dist_iou_metric: 0.7387 - lr: 3.0000e-04\n",
      "Epoch 16/200\n",
      "3/3 [==============================] - 0s 6ms/step\n",
      "200/200 [==============================] - 13s 64ms/step - loss: 0.5613 - prob_loss: 0.1911 - dist_loss: 1.8509 - prob_kld: 0.0202 - dist_relevant_mae: 1.8504 - dist_relevant_mse: 10.1283 - dist_dist_iou_metric: 0.8186 - val_loss: 0.7717 - val_prob_loss: 0.2260 - val_dist_loss: 2.7285 - val_prob_kld: 0.0491 - val_dist_relevant_mae: 2.7279 - val_dist_relevant_mse: 19.6505 - val_dist_dist_iou_metric: 0.7389 - lr: 3.0000e-04\n",
      "Epoch 17/200\n",
      "3/3 [==============================] - 0s 6ms/step\n",
      "200/200 [==============================] - 14s 72ms/step - loss: 0.5535 - prob_loss: 0.1921 - dist_loss: 1.8070 - prob_kld: 0.0199 - dist_relevant_mae: 1.8064 - dist_relevant_mse: 9.7508 - dist_dist_iou_metric: 0.8237 - val_loss: 0.7751 - val_prob_loss: 0.2289 - val_dist_loss: 2.7310 - val_prob_kld: 0.0520 - val_dist_relevant_mae: 2.7304 - val_dist_relevant_mse: 18.9342 - val_dist_dist_iou_metric: 0.7360 - lr: 3.0000e-04\n",
      "Epoch 18/200\n",
      "3/3 [==============================] - 0s 7ms/step\n",
      "200/200 [==============================] - 14s 72ms/step - loss: 0.5342 - prob_loss: 0.1919 - dist_loss: 1.7118 - prob_kld: 0.0202 - dist_relevant_mae: 1.7113 - dist_relevant_mse: 8.9493 - dist_dist_iou_metric: 0.8315 - val_loss: 0.7273 - val_prob_loss: 0.2264 - val_dist_loss: 2.5043 - val_prob_kld: 0.0495 - val_dist_relevant_mae: 2.5037 - val_dist_relevant_mse: 16.7364 - val_dist_dist_iou_metric: 0.7507 - lr: 3.0000e-04\n",
      "Epoch 19/200\n",
      "3/3 [==============================] - 0s 7ms/step\n",
      "200/200 [==============================] - 14s 71ms/step - loss: 0.5235 - prob_loss: 0.1908 - dist_loss: 1.6633 - prob_kld: 0.0191 - dist_relevant_mae: 1.6628 - dist_relevant_mse: 8.3972 - dist_dist_iou_metric: 0.8351 - val_loss: 0.7519 - val_prob_loss: 0.2281 - val_dist_loss: 2.6192 - val_prob_kld: 0.0511 - val_dist_relevant_mae: 2.6186 - val_dist_relevant_mse: 17.7690 - val_dist_dist_iou_metric: 0.7429 - lr: 3.0000e-04\n",
      "Epoch 20/200\n",
      "3/3 [==============================] - 0s 7ms/step\n",
      "200/200 [==============================] - 17s 86ms/step - loss: 0.5430 - prob_loss: 0.1919 - dist_loss: 1.7555 - prob_kld: 0.0207 - dist_relevant_mae: 1.7550 - dist_relevant_mse: 8.7795 - dist_dist_iou_metric: 0.8276 - val_loss: 0.8585 - val_prob_loss: 0.2209 - val_dist_loss: 3.1881 - val_prob_kld: 0.0440 - val_dist_relevant_mae: 3.1876 - val_dist_relevant_mse: 23.6310 - val_dist_dist_iou_metric: 0.7051 - lr: 3.0000e-04\n",
      "Epoch 21/200\n",
      "3/3 [==============================] - 0s 8ms/step\n",
      "200/200 [==============================] - 12s 61ms/step - loss: 0.5545 - prob_loss: 0.1916 - dist_loss: 1.8144 - prob_kld: 0.0191 - dist_relevant_mae: 1.8139 - dist_relevant_mse: 9.1014 - dist_dist_iou_metric: 0.8239 - val_loss: 0.6930 - val_prob_loss: 0.2261 - val_dist_loss: 2.3345 - val_prob_kld: 0.0491 - val_dist_relevant_mae: 2.3340 - val_dist_relevant_mse: 14.6838 - val_dist_dist_iou_metric: 0.7644 - lr: 3.0000e-04\n",
      "Epoch 22/200\n",
      "3/3 [==============================] - 0s 11ms/step\n",
      "200/200 [==============================] - 13s 67ms/step - loss: 0.4943 - prob_loss: 0.1878 - dist_loss: 1.5327 - prob_kld: 0.0171 - dist_relevant_mae: 1.5322 - dist_relevant_mse: 7.2488 - dist_dist_iou_metric: 0.8466 - val_loss: 0.6868 - val_prob_loss: 0.2197 - val_dist_loss: 2.3358 - val_prob_kld: 0.0427 - val_dist_relevant_mae: 2.3353 - val_dist_relevant_mse: 14.6190 - val_dist_dist_iou_metric: 0.7651 - lr: 3.0000e-04\n",
      "Epoch 23/200\n",
      "3/3 [==============================] - 0s 6ms/step\n",
      "200/200 [==============================] - 14s 72ms/step - loss: 0.4921 - prob_loss: 0.1885 - dist_loss: 1.5182 - prob_kld: 0.0170 - dist_relevant_mae: 1.5177 - dist_relevant_mse: 7.0762 - dist_dist_iou_metric: 0.8486 - val_loss: 0.6771 - val_prob_loss: 0.2194 - val_dist_loss: 2.2883 - val_prob_kld: 0.0425 - val_dist_relevant_mae: 2.2877 - val_dist_relevant_mse: 14.4650 - val_dist_dist_iou_metric: 0.7673 - lr: 3.0000e-04\n",
      "Epoch 24/200\n",
      "3/3 [==============================] - 0s 6ms/step\n",
      "200/200 [==============================] - 14s 72ms/step - loss: 0.4867 - prob_loss: 0.1887 - dist_loss: 1.4901 - prob_kld: 0.0175 - dist_relevant_mae: 1.4896 - dist_relevant_mse: 6.8739 - dist_dist_iou_metric: 0.8509 - val_loss: 0.6745 - val_prob_loss: 0.2193 - val_dist_loss: 2.2759 - val_prob_kld: 0.0424 - val_dist_relevant_mae: 2.2753 - val_dist_relevant_mse: 14.1905 - val_dist_dist_iou_metric: 0.7704 - lr: 3.0000e-04\n",
      "Epoch 25/200\n",
      "3/3 [==============================] - 0s 9ms/step\n",
      "200/200 [==============================] - 14s 72ms/step - loss: 0.4800 - prob_loss: 0.1890 - dist_loss: 1.4547 - prob_kld: 0.0168 - dist_relevant_mae: 1.4541 - dist_relevant_mse: 6.5623 - dist_dist_iou_metric: 0.8542 - val_loss: 0.6617 - val_prob_loss: 0.2178 - val_dist_loss: 2.2195 - val_prob_kld: 0.0409 - val_dist_relevant_mae: 2.2190 - val_dist_relevant_mse: 13.5016 - val_dist_dist_iou_metric: 0.7748 - lr: 3.0000e-04\n",
      "Epoch 26/200\n",
      "3/3 [==============================] - 0s 7ms/step\n",
      "200/200 [==============================] - 12s 61ms/step - loss: 0.4918 - prob_loss: 0.1877 - dist_loss: 1.5203 - prob_kld: 0.0168 - dist_relevant_mae: 1.5198 - dist_relevant_mse: 6.7570 - dist_dist_iou_metric: 0.8483 - val_loss: 0.6574 - val_prob_loss: 0.2177 - val_dist_loss: 2.1989 - val_prob_kld: 0.0407 - val_dist_relevant_mae: 2.1984 - val_dist_relevant_mse: 13.1962 - val_dist_dist_iou_metric: 0.7763 - lr: 3.0000e-04\n",
      "Epoch 27/200\n",
      "3/3 [==============================] - 0s 6ms/step\n",
      "200/200 [==============================] - 13s 67ms/step - loss: 0.4829 - prob_loss: 0.1895 - dist_loss: 1.4670 - prob_kld: 0.0161 - dist_relevant_mae: 1.4665 - dist_relevant_mse: 6.4732 - dist_dist_iou_metric: 0.8538 - val_loss: 0.6977 - val_prob_loss: 0.2176 - val_dist_loss: 2.4005 - val_prob_kld: 0.0406 - val_dist_relevant_mae: 2.3999 - val_dist_relevant_mse: 14.6965 - val_dist_dist_iou_metric: 0.7667 - lr: 3.0000e-04\n",
      "Epoch 28/200\n",
      "3/3 [==============================] - 0s 6ms/step\n",
      "200/200 [==============================] - 14s 72ms/step - loss: 0.4668 - prob_loss: 0.1887 - dist_loss: 1.3901 - prob_kld: 0.0162 - dist_relevant_mae: 1.3896 - dist_relevant_mse: 6.0001 - dist_dist_iou_metric: 0.8604 - val_loss: 0.6676 - val_prob_loss: 0.2200 - val_dist_loss: 2.2375 - val_prob_kld: 0.0431 - val_dist_relevant_mae: 2.2370 - val_dist_relevant_mse: 13.6474 - val_dist_dist_iou_metric: 0.7755 - lr: 3.0000e-04\n",
      "Epoch 29/200\n",
      "3/3 [==============================] - 0s 7ms/step\n",
      "200/200 [==============================] - 14s 72ms/step - loss: 0.4670 - prob_loss: 0.1869 - dist_loss: 1.4006 - prob_kld: 0.0160 - dist_relevant_mae: 1.4001 - dist_relevant_mse: 5.9216 - dist_dist_iou_metric: 0.8587 - val_loss: 0.6561 - val_prob_loss: 0.2175 - val_dist_loss: 2.1929 - val_prob_kld: 0.0405 - val_dist_relevant_mae: 2.1924 - val_dist_relevant_mse: 13.2750 - val_dist_dist_iou_metric: 0.7795 - lr: 3.0000e-04\n",
      "Epoch 30/200\n",
      "3/3 [==============================] - 0s 8ms/step\n",
      "200/200 [==============================] - 14s 71ms/step - loss: 0.4581 - prob_loss: 0.1856 - dist_loss: 1.3624 - prob_kld: 0.0147 - dist_relevant_mae: 1.3619 - dist_relevant_mse: 5.6947 - dist_dist_iou_metric: 0.8630 - val_loss: 0.6368 - val_prob_loss: 0.2164 - val_dist_loss: 2.1020 - val_prob_kld: 0.0395 - val_dist_relevant_mae: 2.1015 - val_dist_relevant_mse: 11.9266 - val_dist_dist_iou_metric: 0.7840 - lr: 3.0000e-04\n",
      "Epoch 31/200\n",
      "3/3 [==============================] - 0s 7ms/step\n",
      "200/200 [==============================] - 12s 60ms/step - loss: 0.4597 - prob_loss: 0.1868 - dist_loss: 1.3647 - prob_kld: 0.0148 - dist_relevant_mae: 1.3642 - dist_relevant_mse: 5.6896 - dist_dist_iou_metric: 0.8629 - val_loss: 0.6635 - val_prob_loss: 0.2180 - val_dist_loss: 2.2275 - val_prob_kld: 0.0411 - val_dist_relevant_mae: 2.2270 - val_dist_relevant_mse: 13.7693 - val_dist_dist_iou_metric: 0.7758 - lr: 3.0000e-04\n",
      "Epoch 32/200\n",
      "3/3 [==============================] - 0s 6ms/step\n",
      "200/200 [==============================] - 13s 67ms/step - loss: 0.4513 - prob_loss: 0.1863 - dist_loss: 1.3251 - prob_kld: 0.0143 - dist_relevant_mae: 1.3246 - dist_relevant_mse: 5.3768 - dist_dist_iou_metric: 0.8665 - val_loss: 0.6401 - val_prob_loss: 0.2165 - val_dist_loss: 2.1182 - val_prob_kld: 0.0395 - val_dist_relevant_mae: 2.1177 - val_dist_relevant_mse: 12.5929 - val_dist_dist_iou_metric: 0.7844 - lr: 3.0000e-04\n",
      "Epoch 33/200\n",
      "3/3 [==============================] - 0s 6ms/step\n",
      "200/200 [==============================] - 14s 72ms/step - loss: 0.4490 - prob_loss: 0.1866 - dist_loss: 1.3119 - prob_kld: 0.0145 - dist_relevant_mae: 1.3114 - dist_relevant_mse: 5.2443 - dist_dist_iou_metric: 0.8681 - val_loss: 0.6292 - val_prob_loss: 0.2155 - val_dist_loss: 2.0681 - val_prob_kld: 0.0386 - val_dist_relevant_mae: 2.0677 - val_dist_relevant_mse: 11.9249 - val_dist_dist_iou_metric: 0.7880 - lr: 3.0000e-04\n",
      "Epoch 34/200\n",
      "3/3 [==============================] - 0s 7ms/step\n",
      "200/200 [==============================] - 14s 72ms/step - loss: 0.4605 - prob_loss: 0.1865 - dist_loss: 1.3701 - prob_kld: 0.0142 - dist_relevant_mae: 1.3696 - dist_relevant_mse: 5.5532 - dist_dist_iou_metric: 0.8633 - val_loss: 0.6274 - val_prob_loss: 0.2169 - val_dist_loss: 2.0522 - val_prob_kld: 0.0400 - val_dist_relevant_mae: 2.0517 - val_dist_relevant_mse: 11.8511 - val_dist_dist_iou_metric: 0.7880 - lr: 3.0000e-04\n",
      "Epoch 35/200\n",
      "3/3 [==============================] - 0s 10ms/step\n",
      "200/200 [==============================] - 14s 68ms/step - loss: 0.4422 - prob_loss: 0.1842 - dist_loss: 1.2904 - prob_kld: 0.0144 - dist_relevant_mae: 1.2900 - dist_relevant_mse: 5.0888 - dist_dist_iou_metric: 0.8687 - val_loss: 0.6434 - val_prob_loss: 0.2172 - val_dist_loss: 2.1306 - val_prob_kld: 0.0403 - val_dist_relevant_mae: 2.1301 - val_dist_relevant_mse: 12.8438 - val_dist_dist_iou_metric: 0.7835 - lr: 3.0000e-04\n",
      "Epoch 36/200\n",
      "3/3 [==============================] - 0s 9ms/step\n",
      "200/200 [==============================] - 12s 62ms/step - loss: 0.4472 - prob_loss: 0.1829 - dist_loss: 1.3214 - prob_kld: 0.0137 - dist_relevant_mae: 1.3210 - dist_relevant_mse: 5.1640 - dist_dist_iou_metric: 0.8669 - val_loss: 0.6717 - val_prob_loss: 0.2199 - val_dist_loss: 2.2588 - val_prob_kld: 0.0430 - val_dist_relevant_mae: 2.2582 - val_dist_relevant_mse: 13.8607 - val_dist_dist_iou_metric: 0.7744 - lr: 3.0000e-04\n",
      "Epoch 37/200\n",
      "3/3 [==============================] - 0s 6ms/step\n",
      "200/200 [==============================] - 14s 70ms/step - loss: 0.4462 - prob_loss: 0.1862 - dist_loss: 1.3000 - prob_kld: 0.0153 - dist_relevant_mae: 1.2995 - dist_relevant_mse: 5.0783 - dist_dist_iou_metric: 0.8691 - val_loss: 0.6251 - val_prob_loss: 0.2176 - val_dist_loss: 2.0375 - val_prob_kld: 0.0406 - val_dist_relevant_mae: 2.0370 - val_dist_relevant_mse: 11.9364 - val_dist_dist_iou_metric: 0.7915 - lr: 3.0000e-04\n",
      "Epoch 38/200\n",
      "3/3 [==============================] - 0s 7ms/step\n",
      "200/200 [==============================] - 15s 73ms/step - loss: 0.4281 - prob_loss: 0.1847 - dist_loss: 1.2169 - prob_kld: 0.0129 - dist_relevant_mae: 1.2164 - dist_relevant_mse: 4.6580 - dist_dist_iou_metric: 0.8762 - val_loss: 0.6193 - val_prob_loss: 0.2170 - val_dist_loss: 2.0114 - val_prob_kld: 0.0401 - val_dist_relevant_mae: 2.0109 - val_dist_relevant_mse: 11.5475 - val_dist_dist_iou_metric: 0.7940 - lr: 3.0000e-04\n",
      "Epoch 39/200\n",
      "3/3 [==============================] - 0s 10ms/step\n",
      "200/200 [==============================] - 16s 80ms/step - loss: 0.4257 - prob_loss: 0.1848 - dist_loss: 1.2045 - prob_kld: 0.0130 - dist_relevant_mae: 1.2041 - dist_relevant_mse: 4.6055 - dist_dist_iou_metric: 0.8779 - val_loss: 0.6160 - val_prob_loss: 0.2160 - val_dist_loss: 1.9999 - val_prob_kld: 0.0391 - val_dist_relevant_mae: 1.9994 - val_dist_relevant_mse: 11.1995 - val_dist_dist_iou_metric: 0.7941 - lr: 3.0000e-04\n",
      "Epoch 40/200\n",
      "3/3 [==============================] - 0s 6ms/step\n",
      "200/200 [==============================] - 16s 79ms/step - loss: 0.4256 - prob_loss: 0.1844 - dist_loss: 1.2059 - prob_kld: 0.0125 - dist_relevant_mae: 1.2055 - dist_relevant_mse: 4.4912 - dist_dist_iou_metric: 0.8782 - val_loss: 0.6312 - val_prob_loss: 0.2196 - val_dist_loss: 2.0579 - val_prob_kld: 0.0426 - val_dist_relevant_mae: 2.0574 - val_dist_relevant_mse: 12.1597 - val_dist_dist_iou_metric: 0.7922 - lr: 3.0000e-04\n",
      "Epoch 41/200\n",
      "3/3 [==============================] - 0s 10ms/step\n",
      "200/200 [==============================] - 14s 72ms/step - loss: 0.4516 - prob_loss: 0.1861 - dist_loss: 1.3274 - prob_kld: 0.0139 - dist_relevant_mae: 1.3269 - dist_relevant_mse: 5.0163 - dist_dist_iou_metric: 0.8675 - val_loss: 0.6059 - val_prob_loss: 0.2150 - val_dist_loss: 1.9544 - val_prob_kld: 0.0381 - val_dist_relevant_mae: 1.9539 - val_dist_relevant_mse: 10.7248 - val_dist_dist_iou_metric: 0.7981 - lr: 3.0000e-04\n",
      "Epoch 42/200\n",
      "3/3 [==============================] - 0s 10ms/step\n",
      "200/200 [==============================] - 13s 62ms/step - loss: 0.4211 - prob_loss: 0.1846 - dist_loss: 1.1824 - prob_kld: 0.0125 - dist_relevant_mae: 1.1819 - dist_relevant_mse: 4.4061 - dist_dist_iou_metric: 0.8794 - val_loss: 0.6037 - val_prob_loss: 0.2166 - val_dist_loss: 1.9352 - val_prob_kld: 0.0397 - val_dist_relevant_mae: 1.9347 - val_dist_relevant_mse: 10.5076 - val_dist_dist_iou_metric: 0.8008 - lr: 3.0000e-04\n",
      "Epoch 43/200\n",
      "3/3 [==============================] - 0s 7ms/step\n",
      "200/200 [==============================] - 14s 68ms/step - loss: 0.4202 - prob_loss: 0.1841 - dist_loss: 1.1804 - prob_kld: 0.0128 - dist_relevant_mae: 1.1799 - dist_relevant_mse: 4.2718 - dist_dist_iou_metric: 0.8796 - val_loss: 0.6069 - val_prob_loss: 0.2148 - val_dist_loss: 1.9607 - val_prob_kld: 0.0378 - val_dist_relevant_mae: 1.9603 - val_dist_relevant_mse: 10.8153 - val_dist_dist_iou_metric: 0.7963 - lr: 3.0000e-04\n",
      "Epoch 44/200\n",
      "3/3 [==============================] - 0s 7ms/step\n",
      "200/200 [==============================] - 15s 73ms/step - loss: 0.4134 - prob_loss: 0.1845 - dist_loss: 1.1445 - prob_kld: 0.0124 - dist_relevant_mae: 1.1440 - dist_relevant_mse: 4.1044 - dist_dist_iou_metric: 0.8826 - val_loss: 0.5946 - val_prob_loss: 0.2130 - val_dist_loss: 1.9075 - val_prob_kld: 0.0361 - val_dist_relevant_mae: 1.9070 - val_dist_relevant_mse: 10.3112 - val_dist_dist_iou_metric: 0.8028 - lr: 3.0000e-04\n",
      "Epoch 45/200\n",
      "3/3 [==============================] - 0s 7ms/step\n",
      "200/200 [==============================] - 15s 73ms/step - loss: 0.4116 - prob_loss: 0.1843 - dist_loss: 1.1364 - prob_kld: 0.0123 - dist_relevant_mae: 1.1359 - dist_relevant_mse: 4.0590 - dist_dist_iou_metric: 0.8841 - val_loss: 0.6069 - val_prob_loss: 0.2179 - val_dist_loss: 1.9447 - val_prob_kld: 0.0410 - val_dist_relevant_mae: 1.9443 - val_dist_relevant_mse: 10.6571 - val_dist_dist_iou_metric: 0.7990 - lr: 3.0000e-04\n",
      "Epoch 46/200\n",
      "3/3 [==============================] - 0s 7ms/step\n",
      "200/200 [==============================] - 15s 73ms/step - loss: 0.4299 - prob_loss: 0.1862 - dist_loss: 1.2182 - prob_kld: 0.0133 - dist_relevant_mae: 1.2177 - dist_relevant_mse: 4.3233 - dist_dist_iou_metric: 0.8770 - val_loss: 0.6072 - val_prob_loss: 0.2165 - val_dist_loss: 1.9538 - val_prob_kld: 0.0395 - val_dist_relevant_mae: 1.9533 - val_dist_relevant_mse: 10.6063 - val_dist_dist_iou_metric: 0.8001 - lr: 3.0000e-04\n",
      "Epoch 47/200\n",
      "3/3 [==============================] - 0s 6ms/step\n",
      "200/200 [==============================] - 13s 67ms/step - loss: 0.4203 - prob_loss: 0.1855 - dist_loss: 1.1742 - prob_kld: 0.0130 - dist_relevant_mae: 1.1737 - dist_relevant_mse: 4.1638 - dist_dist_iou_metric: 0.8814 - val_loss: 0.6225 - val_prob_loss: 0.2140 - val_dist_loss: 2.0424 - val_prob_kld: 0.0370 - val_dist_relevant_mae: 2.0420 - val_dist_relevant_mse: 11.3828 - val_dist_dist_iou_metric: 0.7918 - lr: 3.0000e-04\n",
      "Epoch 48/200\n",
      "3/3 [==============================] - 0s 7ms/step\n",
      "200/200 [==============================] - 13s 64ms/step - loss: 0.4144 - prob_loss: 0.1839 - dist_loss: 1.1528 - prob_kld: 0.0126 - dist_relevant_mae: 1.1523 - dist_relevant_mse: 4.0341 - dist_dist_iou_metric: 0.8823 - val_loss: 0.6014 - val_prob_loss: 0.2178 - val_dist_loss: 1.9179 - val_prob_kld: 0.0408 - val_dist_relevant_mae: 1.9175 - val_dist_relevant_mse: 10.3172 - val_dist_dist_iou_metric: 0.8007 - lr: 3.0000e-04\n",
      "Epoch 49/200\n",
      "3/3 [==============================] - 0s 5ms/step\n",
      "200/200 [==============================] - 15s 73ms/step - loss: 0.4119 - prob_loss: 0.1854 - dist_loss: 1.1324 - prob_kld: 0.0129 - dist_relevant_mae: 1.1319 - dist_relevant_mse: 3.9798 - dist_dist_iou_metric: 0.8846 - val_loss: 0.5950 - val_prob_loss: 0.2158 - val_dist_loss: 1.8960 - val_prob_kld: 0.0389 - val_dist_relevant_mae: 1.8955 - val_dist_relevant_mse: 10.4833 - val_dist_dist_iou_metric: 0.8032 - lr: 3.0000e-04\n",
      "Epoch 50/200\n",
      "3/3 [==============================] - 0s 7ms/step\n",
      "200/200 [==============================] - 14s 72ms/step - loss: 0.4024 - prob_loss: 0.1831 - dist_loss: 1.0966 - prob_kld: 0.0119 - dist_relevant_mae: 1.0962 - dist_relevant_mse: 3.7477 - dist_dist_iou_metric: 0.8872 - val_loss: 0.6104 - val_prob_loss: 0.2191 - val_dist_loss: 1.9569 - val_prob_kld: 0.0421 - val_dist_relevant_mae: 1.9564 - val_dist_relevant_mse: 10.9913 - val_dist_dist_iou_metric: 0.7979 - lr: 3.0000e-04\n",
      "Epoch 51/200\n",
      "3/3 [==============================] - 0s 7ms/step\n",
      "200/200 [==============================] - 15s 73ms/step - loss: 0.4123 - prob_loss: 0.1848 - dist_loss: 1.1376 - prob_kld: 0.0120 - dist_relevant_mae: 1.1371 - dist_relevant_mse: 3.9011 - dist_dist_iou_metric: 0.8851 - val_loss: 0.5930 - val_prob_loss: 0.2175 - val_dist_loss: 1.8776 - val_prob_kld: 0.0405 - val_dist_relevant_mae: 1.8771 - val_dist_relevant_mse: 9.9995 - val_dist_dist_iou_metric: 0.8054 - lr: 3.0000e-04\n",
      "Epoch 52/200\n",
      "3/3 [==============================] - 0s 7ms/step\n",
      "200/200 [==============================] - 13s 67ms/step - loss: 0.4018 - prob_loss: 0.1837 - dist_loss: 1.0908 - prob_kld: 0.0118 - dist_relevant_mae: 1.0903 - dist_relevant_mse: 3.6732 - dist_dist_iou_metric: 0.8881 - val_loss: 0.5909 - val_prob_loss: 0.2150 - val_dist_loss: 1.8797 - val_prob_kld: 0.0380 - val_dist_relevant_mae: 1.8792 - val_dist_relevant_mse: 10.2438 - val_dist_dist_iou_metric: 0.8041 - lr: 3.0000e-04\n",
      "Epoch 53/200\n",
      "3/3 [==============================] - 0s 7ms/step\n",
      "200/200 [==============================] - 13s 64ms/step - loss: 0.3995 - prob_loss: 0.1825 - dist_loss: 1.0848 - prob_kld: 0.0119 - dist_relevant_mae: 1.0843 - dist_relevant_mse: 3.6495 - dist_dist_iou_metric: 0.8898 - val_loss: 0.5990 - val_prob_loss: 0.2149 - val_dist_loss: 1.9206 - val_prob_kld: 0.0379 - val_dist_relevant_mae: 1.9201 - val_dist_relevant_mse: 10.0326 - val_dist_dist_iou_metric: 0.7997 - lr: 3.0000e-04\n",
      "Epoch 54/200\n",
      "3/3 [==============================] - 0s 7ms/step\n",
      "200/200 [==============================] - 15s 73ms/step - loss: 0.4085 - prob_loss: 0.1824 - dist_loss: 1.1307 - prob_kld: 0.0120 - dist_relevant_mae: 1.1302 - dist_relevant_mse: 3.8037 - dist_dist_iou_metric: 0.8858 - val_loss: 0.5825 - val_prob_loss: 0.2148 - val_dist_loss: 1.8383 - val_prob_kld: 0.0379 - val_dist_relevant_mae: 1.8378 - val_dist_relevant_mse: 9.9466 - val_dist_dist_iou_metric: 0.8088 - lr: 3.0000e-04\n",
      "Epoch 55/200\n",
      "3/3 [==============================] - 0s 6ms/step\n",
      "200/200 [==============================] - 15s 73ms/step - loss: 0.4069 - prob_loss: 0.1824 - dist_loss: 1.1222 - prob_kld: 0.0114 - dist_relevant_mae: 1.1217 - dist_relevant_mse: 3.7560 - dist_dist_iou_metric: 0.8864 - val_loss: 0.5833 - val_prob_loss: 0.2144 - val_dist_loss: 1.8444 - val_prob_kld: 0.0375 - val_dist_relevant_mae: 1.8440 - val_dist_relevant_mse: 9.7375 - val_dist_dist_iou_metric: 0.8079 - lr: 3.0000e-04\n",
      "Epoch 56/200\n",
      "3/3 [==============================] - 0s 7ms/step\n",
      "200/200 [==============================] - 14s 73ms/step - loss: 0.3967 - prob_loss: 0.1834 - dist_loss: 1.0669 - prob_kld: 0.0115 - dist_relevant_mae: 1.0664 - dist_relevant_mse: 3.5396 - dist_dist_iou_metric: 0.8909 - val_loss: 0.6007 - val_prob_loss: 0.2146 - val_dist_loss: 1.9309 - val_prob_kld: 0.0376 - val_dist_relevant_mae: 1.9304 - val_dist_relevant_mse: 10.0597 - val_dist_dist_iou_metric: 0.8023 - lr: 3.0000e-04\n",
      "Epoch 57/200\n",
      "3/3 [==============================] - 0s 10ms/step\n",
      "200/200 [==============================] - 13s 67ms/step - loss: 0.3946 - prob_loss: 0.1826 - dist_loss: 1.0598 - prob_kld: 0.0114 - dist_relevant_mae: 1.0593 - dist_relevant_mse: 3.4788 - dist_dist_iou_metric: 0.8913 - val_loss: 0.5873 - val_prob_loss: 0.2155 - val_dist_loss: 1.8589 - val_prob_kld: 0.0386 - val_dist_relevant_mae: 1.8584 - val_dist_relevant_mse: 10.0653 - val_dist_dist_iou_metric: 0.8078 - lr: 3.0000e-04\n",
      "Epoch 58/200\n",
      "3/3 [==============================] - 0s 10ms/step\n",
      "200/200 [==============================] - 13s 66ms/step - loss: 0.3911 - prob_loss: 0.1844 - dist_loss: 1.0339 - prob_kld: 0.0114 - dist_relevant_mae: 1.0335 - dist_relevant_mse: 3.3723 - dist_dist_iou_metric: 0.8949 - val_loss: 0.5692 - val_prob_loss: 0.2147 - val_dist_loss: 1.7723 - val_prob_kld: 0.0378 - val_dist_relevant_mae: 1.7718 - val_dist_relevant_mse: 9.1079 - val_dist_dist_iou_metric: 0.8128 - lr: 3.0000e-04\n",
      "Epoch 59/200\n",
      "3/3 [==============================] - 0s 8ms/step\n",
      "200/200 [==============================] - 18s 90ms/step - loss: 0.4003 - prob_loss: 0.1832 - dist_loss: 1.0857 - prob_kld: 0.0120 - dist_relevant_mae: 1.0853 - dist_relevant_mse: 3.5419 - dist_dist_iou_metric: 0.8894 - val_loss: 0.5824 - val_prob_loss: 0.2190 - val_dist_loss: 1.8167 - val_prob_kld: 0.0421 - val_dist_relevant_mae: 1.8162 - val_dist_relevant_mse: 9.4926 - val_dist_dist_iou_metric: 0.8101 - lr: 3.0000e-04\n",
      "Epoch 60/200\n",
      "3/3 [==============================] - 0s 6ms/step\n",
      "200/200 [==============================] - 15s 74ms/step - loss: 0.3950 - prob_loss: 0.1835 - dist_loss: 1.0577 - prob_kld: 0.0121 - dist_relevant_mae: 1.0572 - dist_relevant_mse: 3.4038 - dist_dist_iou_metric: 0.8927 - val_loss: 0.5984 - val_prob_loss: 0.2165 - val_dist_loss: 1.9094 - val_prob_kld: 0.0396 - val_dist_relevant_mae: 1.9089 - val_dist_relevant_mse: 9.8592 - val_dist_dist_iou_metric: 0.8041 - lr: 3.0000e-04\n",
      "Epoch 61/200\n",
      "3/3 [==============================] - 0s 8ms/step\n",
      "200/200 [==============================] - 14s 72ms/step - loss: 0.3921 - prob_loss: 0.1824 - dist_loss: 1.0490 - prob_kld: 0.0113 - dist_relevant_mae: 1.0485 - dist_relevant_mse: 3.3600 - dist_dist_iou_metric: 0.8930 - val_loss: 0.6212 - val_prob_loss: 0.2138 - val_dist_loss: 2.0371 - val_prob_kld: 0.0369 - val_dist_relevant_mae: 2.0366 - val_dist_relevant_mse: 10.8093 - val_dist_dist_iou_metric: 0.7971 - lr: 3.0000e-04\n",
      "Epoch 62/200\n",
      "3/3 [==============================] - 0s 6ms/step\n",
      "200/200 [==============================] - 13s 64ms/step - loss: 0.4039 - prob_loss: 0.1851 - dist_loss: 1.0937 - prob_kld: 0.0119 - dist_relevant_mae: 1.0932 - dist_relevant_mse: 3.5130 - dist_dist_iou_metric: 0.8891 - val_loss: 0.5733 - val_prob_loss: 0.2141 - val_dist_loss: 1.7961 - val_prob_kld: 0.0371 - val_dist_relevant_mae: 1.7956 - val_dist_relevant_mse: 9.5122 - val_dist_dist_iou_metric: 0.8122 - lr: 3.0000e-04\n",
      "Epoch 63/200\n",
      "3/3 [==============================] - 0s 7ms/step\n",
      "200/200 [==============================] - 14s 69ms/step - loss: 0.3867 - prob_loss: 0.1832 - dist_loss: 1.0177 - prob_kld: 0.0123 - dist_relevant_mae: 1.0172 - dist_relevant_mse: 3.2389 - dist_dist_iou_metric: 0.8960 - val_loss: 0.5948 - val_prob_loss: 0.2236 - val_dist_loss: 1.8559 - val_prob_kld: 0.0467 - val_dist_relevant_mae: 1.8554 - val_dist_relevant_mse: 9.7340 - val_dist_dist_iou_metric: 0.8075 - lr: 3.0000e-04\n",
      "Epoch 64/200\n",
      "3/3 [==============================] - 0s 9ms/step\n",
      "200/200 [==============================] - 15s 73ms/step - loss: 0.3838 - prob_loss: 0.1832 - dist_loss: 1.0027 - prob_kld: 0.0111 - dist_relevant_mae: 1.0023 - dist_relevant_mse: 3.1562 - dist_dist_iou_metric: 0.8975 - val_loss: 0.5692 - val_prob_loss: 0.2147 - val_dist_loss: 1.7728 - val_prob_kld: 0.0377 - val_dist_relevant_mae: 1.7723 - val_dist_relevant_mse: 9.1695 - val_dist_dist_iou_metric: 0.8151 - lr: 3.0000e-04\n",
      "Epoch 65/200\n",
      "3/3 [==============================] - 0s 6ms/step\n",
      "200/200 [==============================] - 14s 73ms/step - loss: 0.3775 - prob_loss: 0.1819 - dist_loss: 0.9783 - prob_kld: 0.0107 - dist_relevant_mae: 0.9779 - dist_relevant_mse: 3.0682 - dist_dist_iou_metric: 0.8997 - val_loss: 0.5606 - val_prob_loss: 0.2153 - val_dist_loss: 1.7265 - val_prob_kld: 0.0384 - val_dist_relevant_mae: 1.7260 - val_dist_relevant_mse: 8.5664 - val_dist_dist_iou_metric: 0.8172 - lr: 3.0000e-04\n",
      "Epoch 66/200\n",
      "3/3 [==============================] - 0s 7ms/step\n",
      "200/200 [==============================] - 14s 72ms/step - loss: 0.3841 - prob_loss: 0.1814 - dist_loss: 1.0136 - prob_kld: 0.0110 - dist_relevant_mae: 1.0132 - dist_relevant_mse: 3.1296 - dist_dist_iou_metric: 0.8966 - val_loss: 0.5620 - val_prob_loss: 0.2148 - val_dist_loss: 1.7361 - val_prob_kld: 0.0378 - val_dist_relevant_mae: 1.7356 - val_dist_relevant_mse: 8.9759 - val_dist_dist_iou_metric: 0.8176 - lr: 3.0000e-04\n",
      "Epoch 67/200\n",
      "3/3 [==============================] - 0s 6ms/step\n",
      "200/200 [==============================] - 12s 62ms/step - loss: 0.3827 - prob_loss: 0.1849 - dist_loss: 0.9886 - prob_kld: 0.0109 - dist_relevant_mae: 0.9882 - dist_relevant_mse: 3.0736 - dist_dist_iou_metric: 0.8990 - val_loss: 0.5658 - val_prob_loss: 0.2152 - val_dist_loss: 1.7529 - val_prob_kld: 0.0383 - val_dist_relevant_mae: 1.7524 - val_dist_relevant_mse: 9.2268 - val_dist_dist_iou_metric: 0.8151 - lr: 3.0000e-04\n",
      "Epoch 68/200\n",
      "3/3 [==============================] - 0s 7ms/step\n",
      "200/200 [==============================] - 13s 67ms/step - loss: 0.3783 - prob_loss: 0.1815 - dist_loss: 0.9841 - prob_kld: 0.0109 - dist_relevant_mae: 0.9836 - dist_relevant_mse: 3.0496 - dist_dist_iou_metric: 0.8994 - val_loss: 0.5650 - val_prob_loss: 0.2159 - val_dist_loss: 1.7454 - val_prob_kld: 0.0390 - val_dist_relevant_mae: 1.7449 - val_dist_relevant_mse: 9.0057 - val_dist_dist_iou_metric: 0.8151 - lr: 3.0000e-04\n",
      "Epoch 69/200\n",
      "3/3 [==============================] - 0s 7ms/step\n",
      "200/200 [==============================] - 15s 73ms/step - loss: 0.3984 - prob_loss: 0.1827 - dist_loss: 1.0784 - prob_kld: 0.0113 - dist_relevant_mae: 1.0779 - dist_relevant_mse: 3.3901 - dist_dist_iou_metric: 0.8910 - val_loss: 0.5619 - val_prob_loss: 0.2167 - val_dist_loss: 1.7260 - val_prob_kld: 0.0398 - val_dist_relevant_mae: 1.7255 - val_dist_relevant_mse: 8.8068 - val_dist_dist_iou_metric: 0.8169 - lr: 3.0000e-04\n",
      "Epoch 70/200\n",
      "3/3 [==============================] - 0s 9ms/step\n",
      "200/200 [==============================] - 14s 72ms/step - loss: 0.3831 - prob_loss: 0.1815 - dist_loss: 1.0080 - prob_kld: 0.0107 - dist_relevant_mae: 1.0075 - dist_relevant_mse: 3.0973 - dist_dist_iou_metric: 0.8976 - val_loss: 0.5576 - val_prob_loss: 0.2146 - val_dist_loss: 1.7151 - val_prob_kld: 0.0376 - val_dist_relevant_mae: 1.7146 - val_dist_relevant_mse: 8.5915 - val_dist_dist_iou_metric: 0.8200 - lr: 3.0000e-04\n",
      "Epoch 71/200\n",
      "3/3 [==============================] - 0s 12ms/step\n",
      "200/200 [==============================] - 14s 71ms/step - loss: 0.3742 - prob_loss: 0.1817 - dist_loss: 0.9622 - prob_kld: 0.0103 - dist_relevant_mae: 0.9617 - dist_relevant_mse: 2.8997 - dist_dist_iou_metric: 0.9021 - val_loss: 0.5638 - val_prob_loss: 0.2147 - val_dist_loss: 1.7455 - val_prob_kld: 0.0378 - val_dist_relevant_mae: 1.7450 - val_dist_relevant_mse: 8.9324 - val_dist_dist_iou_metric: 0.8174 - lr: 3.0000e-04\n",
      "Epoch 72/200\n",
      "3/3 [==============================] - 0s 8ms/step\n",
      "200/200 [==============================] - 13s 63ms/step - loss: 0.3688 - prob_loss: 0.1811 - dist_loss: 0.9384 - prob_kld: 0.0104 - dist_relevant_mae: 0.9380 - dist_relevant_mse: 2.8326 - dist_dist_iou_metric: 0.9036 - val_loss: 0.5555 - val_prob_loss: 0.2161 - val_dist_loss: 1.6972 - val_prob_kld: 0.0391 - val_dist_relevant_mae: 1.6968 - val_dist_relevant_mse: 8.3673 - val_dist_dist_iou_metric: 0.8215 - lr: 3.0000e-04\n",
      "Epoch 73/200\n",
      "3/3 [==============================] - 0s 7ms/step\n",
      "200/200 [==============================] - 14s 68ms/step - loss: 0.3797 - prob_loss: 0.1846 - dist_loss: 0.9755 - prob_kld: 0.0111 - dist_relevant_mae: 0.9750 - dist_relevant_mse: 2.9590 - dist_dist_iou_metric: 0.9002 - val_loss: 0.5807 - val_prob_loss: 0.2161 - val_dist_loss: 1.8231 - val_prob_kld: 0.0391 - val_dist_relevant_mae: 1.8226 - val_dist_relevant_mse: 9.6532 - val_dist_dist_iou_metric: 0.8113 - lr: 3.0000e-04\n",
      "Epoch 74/200\n",
      "3/3 [==============================] - 0s 7ms/step\n",
      "200/200 [==============================] - 15s 74ms/step - loss: 0.3777 - prob_loss: 0.1824 - dist_loss: 0.9762 - prob_kld: 0.0104 - dist_relevant_mae: 0.9758 - dist_relevant_mse: 2.9093 - dist_dist_iou_metric: 0.9008 - val_loss: 0.5462 - val_prob_loss: 0.2134 - val_dist_loss: 1.6641 - val_prob_kld: 0.0364 - val_dist_relevant_mae: 1.6637 - val_dist_relevant_mse: 8.3602 - val_dist_dist_iou_metric: 0.8229 - lr: 3.0000e-04\n",
      "Epoch 75/200\n",
      "3/3 [==============================] - 0s 7ms/step\n",
      "200/200 [==============================] - 15s 74ms/step - loss: 0.3809 - prob_loss: 0.1829 - dist_loss: 0.9899 - prob_kld: 0.0108 - dist_relevant_mae: 0.9894 - dist_relevant_mse: 2.9228 - dist_dist_iou_metric: 0.8998 - val_loss: 0.5606 - val_prob_loss: 0.2142 - val_dist_loss: 1.7320 - val_prob_kld: 0.0373 - val_dist_relevant_mae: 1.7315 - val_dist_relevant_mse: 8.7687 - val_dist_dist_iou_metric: 0.8178 - lr: 3.0000e-04\n",
      "Epoch 76/200\n",
      "3/3 [==============================] - 0s 10ms/step\n",
      "200/200 [==============================] - 14s 71ms/step - loss: 0.3771 - prob_loss: 0.1814 - dist_loss: 0.9785 - prob_kld: 0.0105 - dist_relevant_mae: 0.9781 - dist_relevant_mse: 2.9493 - dist_dist_iou_metric: 0.9001 - val_loss: 0.5583 - val_prob_loss: 0.2153 - val_dist_loss: 1.7153 - val_prob_kld: 0.0383 - val_dist_relevant_mae: 1.7148 - val_dist_relevant_mse: 8.8256 - val_dist_dist_iou_metric: 0.8199 - lr: 3.0000e-04\n",
      "Epoch 77/200\n",
      "3/3 [==============================] - 0s 8ms/step\n",
      "200/200 [==============================] - 13s 63ms/step - loss: 0.3699 - prob_loss: 0.1814 - dist_loss: 0.9423 - prob_kld: 0.0107 - dist_relevant_mae: 0.9418 - dist_relevant_mse: 2.8041 - dist_dist_iou_metric: 0.9032 - val_loss: 0.5520 - val_prob_loss: 0.2142 - val_dist_loss: 1.6888 - val_prob_kld: 0.0373 - val_dist_relevant_mae: 1.6884 - val_dist_relevant_mse: 8.6776 - val_dist_dist_iou_metric: 0.8200 - lr: 3.0000e-04\n",
      "Epoch 78/200\n",
      "3/3 [==============================] - 0s 8ms/step\n",
      "200/200 [==============================] - 17s 85ms/step - loss: 0.3681 - prob_loss: 0.1822 - dist_loss: 0.9296 - prob_kld: 0.0105 - dist_relevant_mae: 0.9291 - dist_relevant_mse: 2.7294 - dist_dist_iou_metric: 0.9043 - val_loss: 0.5637 - val_prob_loss: 0.2137 - val_dist_loss: 1.7503 - val_prob_kld: 0.0367 - val_dist_relevant_mae: 1.7499 - val_dist_relevant_mse: 8.8663 - val_dist_dist_iou_metric: 0.8169 - lr: 3.0000e-04\n",
      "Epoch 79/200\n",
      "3/3 [==============================] - 0s 7ms/step\n",
      "200/200 [==============================] - 14s 72ms/step - loss: 0.3684 - prob_loss: 0.1827 - dist_loss: 0.9285 - prob_kld: 0.0103 - dist_relevant_mae: 0.9280 - dist_relevant_mse: 2.7138 - dist_dist_iou_metric: 0.9050 - val_loss: 0.5547 - val_prob_loss: 0.2148 - val_dist_loss: 1.6994 - val_prob_kld: 0.0378 - val_dist_relevant_mae: 1.6990 - val_dist_relevant_mse: 8.5697 - val_dist_dist_iou_metric: 0.8210 - lr: 3.0000e-04\n",
      "Epoch 80/200\n",
      "3/3 [==============================] - 0s 8ms/step\n",
      "200/200 [==============================] - 15s 73ms/step - loss: 0.3690 - prob_loss: 0.1832 - dist_loss: 0.9291 - prob_kld: 0.0121 - dist_relevant_mae: 0.9286 - dist_relevant_mse: 2.7395 - dist_dist_iou_metric: 0.9042 - val_loss: 0.5538 - val_prob_loss: 0.2162 - val_dist_loss: 1.6882 - val_prob_kld: 0.0392 - val_dist_relevant_mae: 1.6878 - val_dist_relevant_mse: 8.6527 - val_dist_dist_iou_metric: 0.8211 - lr: 3.0000e-04\n",
      "Epoch 81/200\n",
      "3/3 [==============================] - 0s 8ms/step\n",
      "200/200 [==============================] - 13s 64ms/step - loss: 0.3631 - prob_loss: 0.1800 - dist_loss: 0.9153 - prob_kld: 0.0101 - dist_relevant_mae: 0.9149 - dist_relevant_mse: 2.6564 - dist_dist_iou_metric: 0.9060 - val_loss: 0.5563 - val_prob_loss: 0.2157 - val_dist_loss: 1.7033 - val_prob_kld: 0.0387 - val_dist_relevant_mae: 1.7028 - val_dist_relevant_mse: 8.8916 - val_dist_dist_iou_metric: 0.8220 - lr: 3.0000e-04\n",
      "Epoch 82/200\n",
      "3/3 [==============================] - 0s 8ms/step\n",
      "200/200 [==============================] - 13s 66ms/step - loss: 0.3708 - prob_loss: 0.1834 - dist_loss: 0.9367 - prob_kld: 0.0103 - dist_relevant_mae: 0.9363 - dist_relevant_mse: 2.7007 - dist_dist_iou_metric: 0.9042 - val_loss: 0.5525 - val_prob_loss: 0.2131 - val_dist_loss: 1.6966 - val_prob_kld: 0.0362 - val_dist_relevant_mae: 1.6961 - val_dist_relevant_mse: 8.5263 - val_dist_dist_iou_metric: 0.8191 - lr: 3.0000e-04\n",
      "Epoch 83/200\n",
      "3/3 [==============================] - 0s 6ms/step\n",
      "200/200 [==============================] - 14s 72ms/step - loss: 0.3688 - prob_loss: 0.1810 - dist_loss: 0.9391 - prob_kld: 0.0106 - dist_relevant_mae: 0.9387 - dist_relevant_mse: 2.6990 - dist_dist_iou_metric: 0.9037 - val_loss: 0.5471 - val_prob_loss: 0.2139 - val_dist_loss: 1.6663 - val_prob_kld: 0.0369 - val_dist_relevant_mae: 1.6658 - val_dist_relevant_mse: 8.3812 - val_dist_dist_iou_metric: 0.8235 - lr: 3.0000e-04\n",
      "Epoch 84/200\n",
      "3/3 [==============================] - 0s 7ms/step\n",
      "200/200 [==============================] - 15s 74ms/step - loss: 0.3677 - prob_loss: 0.1820 - dist_loss: 0.9285 - prob_kld: 0.0099 - dist_relevant_mae: 0.9280 - dist_relevant_mse: 2.6581 - dist_dist_iou_metric: 0.9049 - val_loss: 0.5568 - val_prob_loss: 0.2135 - val_dist_loss: 1.7165 - val_prob_kld: 0.0366 - val_dist_relevant_mae: 1.7160 - val_dist_relevant_mse: 8.7162 - val_dist_dist_iou_metric: 0.8201 - lr: 3.0000e-04\n",
      "Epoch 85/200\n",
      "3/3 [==============================] - 0s 10ms/step\n",
      "200/200 [==============================] - 15s 73ms/step - loss: 0.3660 - prob_loss: 0.1815 - dist_loss: 0.9227 - prob_kld: 0.0099 - dist_relevant_mae: 0.9223 - dist_relevant_mse: 2.6616 - dist_dist_iou_metric: 0.9053 - val_loss: 0.5624 - val_prob_loss: 0.2164 - val_dist_loss: 1.7300 - val_prob_kld: 0.0395 - val_dist_relevant_mae: 1.7295 - val_dist_relevant_mse: 8.5694 - val_dist_dist_iou_metric: 0.8207 - lr: 3.0000e-04\n",
      "Epoch 86/200\n",
      "3/3 [==============================] - 0s 11ms/step\n",
      "200/200 [==============================] - 13s 63ms/step - loss: 0.3859 - prob_loss: 0.1811 - dist_loss: 1.0239 - prob_kld: 0.0108 - dist_relevant_mae: 1.0234 - dist_relevant_mse: 3.0149 - dist_dist_iou_metric: 0.8973 - val_loss: 0.5465 - val_prob_loss: 0.2136 - val_dist_loss: 1.6645 - val_prob_kld: 0.0367 - val_dist_relevant_mae: 1.6641 - val_dist_relevant_mse: 8.4388 - val_dist_dist_iou_metric: 0.8241 - lr: 3.0000e-04\n",
      "Epoch 87/200\n",
      "3/3 [==============================] - 0s 8ms/step\n",
      "200/200 [==============================] - 14s 69ms/step - loss: 0.3582 - prob_loss: 0.1807 - dist_loss: 0.8873 - prob_kld: 0.0097 - dist_relevant_mae: 0.8868 - dist_relevant_mse: 2.4991 - dist_dist_iou_metric: 0.9091 - val_loss: 0.5450 - val_prob_loss: 0.2142 - val_dist_loss: 1.6540 - val_prob_kld: 0.0373 - val_dist_relevant_mae: 1.6535 - val_dist_relevant_mse: 8.1937 - val_dist_dist_iou_metric: 0.8249 - lr: 3.0000e-04\n",
      "Epoch 88/200\n",
      "3/3 [==============================] - 0s 9ms/step\n",
      "200/200 [==============================] - 15s 74ms/step - loss: 0.3734 - prob_loss: 0.1810 - dist_loss: 0.9620 - prob_kld: 0.0103 - dist_relevant_mae: 0.9615 - dist_relevant_mse: 2.7627 - dist_dist_iou_metric: 0.9017 - val_loss: 0.5569 - val_prob_loss: 0.2142 - val_dist_loss: 1.7133 - val_prob_kld: 0.0373 - val_dist_relevant_mae: 1.7128 - val_dist_relevant_mse: 8.8335 - val_dist_dist_iou_metric: 0.8207 - lr: 3.0000e-04\n",
      "Epoch 89/200\n",
      "3/3 [==============================] - 0s 8ms/step\n",
      "200/200 [==============================] - 15s 77ms/step - loss: 0.3604 - prob_loss: 0.1810 - dist_loss: 0.8968 - prob_kld: 0.0100 - dist_relevant_mae: 0.8963 - dist_relevant_mse: 2.5556 - dist_dist_iou_metric: 0.9081 - val_loss: 0.5455 - val_prob_loss: 0.2144 - val_dist_loss: 1.6554 - val_prob_kld: 0.0375 - val_dist_relevant_mae: 1.6549 - val_dist_relevant_mse: 8.2642 - val_dist_dist_iou_metric: 0.8248 - lr: 3.0000e-04\n",
      "Epoch 90/200\n",
      "3/3 [==============================] - 0s 9ms/step\n",
      "200/200 [==============================] - 15s 73ms/step - loss: 0.3572 - prob_loss: 0.1793 - dist_loss: 0.8896 - prob_kld: 0.0098 - dist_relevant_mae: 0.8891 - dist_relevant_mse: 2.4932 - dist_dist_iou_metric: 0.9077 - val_loss: 0.5416 - val_prob_loss: 0.2123 - val_dist_loss: 1.6462 - val_prob_kld: 0.0354 - val_dist_relevant_mae: 1.6458 - val_dist_relevant_mse: 8.1377 - val_dist_dist_iou_metric: 0.8274 - lr: 3.0000e-04\n",
      "Epoch 91/200\n",
      "3/3 [==============================] - 0s 6ms/step\n",
      "200/200 [==============================] - 13s 63ms/step - loss: 0.3559 - prob_loss: 0.1804 - dist_loss: 0.8775 - prob_kld: 0.0096 - dist_relevant_mae: 0.8770 - dist_relevant_mse: 2.4835 - dist_dist_iou_metric: 0.9097 - val_loss: 0.5371 - val_prob_loss: 0.2126 - val_dist_loss: 1.6226 - val_prob_kld: 0.0357 - val_dist_relevant_mae: 1.6221 - val_dist_relevant_mse: 8.1520 - val_dist_dist_iou_metric: 0.8283 - lr: 3.0000e-04\n",
      "Epoch 92/200\n",
      "3/3 [==============================] - 0s 11ms/step\n",
      "200/200 [==============================] - 13s 65ms/step - loss: 0.3546 - prob_loss: 0.1802 - dist_loss: 0.8722 - prob_kld: 0.0096 - dist_relevant_mae: 0.8718 - dist_relevant_mse: 2.4400 - dist_dist_iou_metric: 0.9105 - val_loss: 0.5461 - val_prob_loss: 0.2153 - val_dist_loss: 1.6536 - val_prob_kld: 0.0384 - val_dist_relevant_mae: 1.6531 - val_dist_relevant_mse: 8.5828 - val_dist_dist_iou_metric: 0.8266 - lr: 3.0000e-04\n",
      "Epoch 93/200\n",
      "3/3 [==============================] - 0s 8ms/step\n",
      "200/200 [==============================] - 14s 73ms/step - loss: 0.3545 - prob_loss: 0.1799 - dist_loss: 0.8730 - prob_kld: 0.0094 - dist_relevant_mae: 0.8726 - dist_relevant_mse: 2.3890 - dist_dist_iou_metric: 0.9105 - val_loss: 0.5391 - val_prob_loss: 0.2133 - val_dist_loss: 1.6291 - val_prob_kld: 0.0363 - val_dist_relevant_mae: 1.6286 - val_dist_relevant_mse: 8.2455 - val_dist_dist_iou_metric: 0.8276 - lr: 3.0000e-04\n",
      "Epoch 94/200\n",
      "3/3 [==============================] - 0s 8ms/step\n",
      "200/200 [==============================] - 15s 73ms/step - loss: 0.3639 - prob_loss: 0.1824 - dist_loss: 0.9072 - prob_kld: 0.0098 - dist_relevant_mae: 0.9067 - dist_relevant_mse: 2.5155 - dist_dist_iou_metric: 0.9072 - val_loss: 0.5367 - val_prob_loss: 0.2114 - val_dist_loss: 1.6264 - val_prob_kld: 0.0345 - val_dist_relevant_mae: 1.6259 - val_dist_relevant_mse: 7.9824 - val_dist_dist_iou_metric: 0.8285 - lr: 3.0000e-04\n",
      "Epoch 95/200\n",
      "3/3 [==============================] - 0s 11ms/step\n",
      "200/200 [==============================] - 15s 74ms/step - loss: 0.3573 - prob_loss: 0.1797 - dist_loss: 0.8879 - prob_kld: 0.0097 - dist_relevant_mae: 0.8874 - dist_relevant_mse: 2.4676 - dist_dist_iou_metric: 0.9094 - val_loss: 0.5306 - val_prob_loss: 0.2145 - val_dist_loss: 1.5804 - val_prob_kld: 0.0376 - val_dist_relevant_mae: 1.5800 - val_dist_relevant_mse: 7.6860 - val_dist_dist_iou_metric: 0.8314 - lr: 3.0000e-04\n",
      "Epoch 96/200\n",
      "3/3 [==============================] - 0s 10ms/step\n",
      "200/200 [==============================] - 13s 64ms/step - loss: 0.3609 - prob_loss: 0.1817 - dist_loss: 0.8959 - prob_kld: 0.0100 - dist_relevant_mae: 0.8954 - dist_relevant_mse: 2.4712 - dist_dist_iou_metric: 0.9086 - val_loss: 0.5495 - val_prob_loss: 0.2132 - val_dist_loss: 1.6816 - val_prob_kld: 0.0363 - val_dist_relevant_mae: 1.6811 - val_dist_relevant_mse: 8.4510 - val_dist_dist_iou_metric: 0.8217 - lr: 3.0000e-04\n",
      "Epoch 97/200\n",
      "3/3 [==============================] - 0s 6ms/step\n",
      "200/200 [==============================] - 17s 83ms/step - loss: 0.3595 - prob_loss: 0.1793 - dist_loss: 0.9010 - prob_kld: 0.0095 - dist_relevant_mae: 0.9005 - dist_relevant_mse: 2.4902 - dist_dist_iou_metric: 0.9079 - val_loss: 0.5438 - val_prob_loss: 0.2132 - val_dist_loss: 1.6533 - val_prob_kld: 0.0362 - val_dist_relevant_mae: 1.6528 - val_dist_relevant_mse: 8.2287 - val_dist_dist_iou_metric: 0.8258 - lr: 3.0000e-04\n",
      "Epoch 98/200\n",
      "3/3 [==============================] - 0s 8ms/step\n",
      "200/200 [==============================] - 15s 74ms/step - loss: 0.3590 - prob_loss: 0.1823 - dist_loss: 0.8831 - prob_kld: 0.0103 - dist_relevant_mae: 0.8826 - dist_relevant_mse: 2.4260 - dist_dist_iou_metric: 0.9096 - val_loss: 0.5861 - val_prob_loss: 0.2134 - val_dist_loss: 1.8635 - val_prob_kld: 0.0365 - val_dist_relevant_mae: 1.8630 - val_dist_relevant_mse: 9.1723 - val_dist_dist_iou_metric: 0.8034 - lr: 3.0000e-04\n",
      "Epoch 99/200\n",
      "3/3 [==============================] - 0s 5ms/step\n",
      "200/200 [==============================] - 15s 75ms/step - loss: 0.3617 - prob_loss: 0.1823 - dist_loss: 0.8970 - prob_kld: 0.0099 - dist_relevant_mae: 0.8965 - dist_relevant_mse: 2.5066 - dist_dist_iou_metric: 0.9084 - val_loss: 0.5300 - val_prob_loss: 0.2138 - val_dist_loss: 1.5809 - val_prob_kld: 0.0369 - val_dist_relevant_mae: 1.5804 - val_dist_relevant_mse: 7.9107 - val_dist_dist_iou_metric: 0.8305 - lr: 3.0000e-04\n",
      "Epoch 100/200\n",
      "3/3 [==============================] - 0s 8ms/step\n",
      "200/200 [==============================] - 15s 74ms/step - loss: 0.3523 - prob_loss: 0.1822 - dist_loss: 0.8503 - prob_kld: 0.0093 - dist_relevant_mae: 0.8499 - dist_relevant_mse: 2.3375 - dist_dist_iou_metric: 0.9127 - val_loss: 0.5479 - val_prob_loss: 0.2141 - val_dist_loss: 1.6687 - val_prob_kld: 0.0372 - val_dist_relevant_mae: 1.6682 - val_dist_relevant_mse: 8.4408 - val_dist_dist_iou_metric: 0.8242 - lr: 3.0000e-04\n",
      "Epoch 101/200\n",
      "3/3 [==============================] - 0s 7ms/step\n",
      "200/200 [==============================] - 13s 64ms/step - loss: 0.3502 - prob_loss: 0.1797 - dist_loss: 0.8523 - prob_kld: 0.0094 - dist_relevant_mae: 0.8519 - dist_relevant_mse: 2.3012 - dist_dist_iou_metric: 0.9123 - val_loss: 0.5502 - val_prob_loss: 0.2133 - val_dist_loss: 1.6844 - val_prob_kld: 0.0364 - val_dist_relevant_mae: 1.6839 - val_dist_relevant_mse: 8.4922 - val_dist_dist_iou_metric: 0.8245 - lr: 3.0000e-04\n",
      "Epoch 102/200\n",
      "3/3 [==============================] - 0s 8ms/step\n",
      "200/200 [==============================] - 14s 69ms/step - loss: 0.3608 - prob_loss: 0.1813 - dist_loss: 0.8979 - prob_kld: 0.0096 - dist_relevant_mae: 0.8974 - dist_relevant_mse: 2.4401 - dist_dist_iou_metric: 0.9086 - val_loss: 0.5704 - val_prob_loss: 0.2128 - val_dist_loss: 1.7881 - val_prob_kld: 0.0358 - val_dist_relevant_mae: 1.7877 - val_dist_relevant_mse: 8.8864 - val_dist_dist_iou_metric: 0.8166 - lr: 3.0000e-04\n",
      "Epoch 103/200\n",
      "3/3 [==============================] - 0s 10ms/step\n",
      "200/200 [==============================] - 15s 75ms/step - loss: 0.3580 - prob_loss: 0.1810 - dist_loss: 0.8846 - prob_kld: 0.0101 - dist_relevant_mae: 0.8841 - dist_relevant_mse: 2.4217 - dist_dist_iou_metric: 0.9101 - val_loss: 0.5395 - val_prob_loss: 0.2126 - val_dist_loss: 1.6342 - val_prob_kld: 0.0357 - val_dist_relevant_mae: 1.6338 - val_dist_relevant_mse: 8.0732 - val_dist_dist_iou_metric: 0.8285 - lr: 3.0000e-04\n",
      "Epoch 104/200\n",
      "3/3 [==============================] - 0s 8ms/step\n",
      "200/200 [==============================] - 15s 74ms/step - loss: 0.3465 - prob_loss: 0.1798 - dist_loss: 0.8332 - prob_kld: 0.0091 - dist_relevant_mae: 0.8327 - dist_relevant_mse: 2.2240 - dist_dist_iou_metric: 0.9146 - val_loss: 0.5376 - val_prob_loss: 0.2134 - val_dist_loss: 1.6208 - val_prob_kld: 0.0365 - val_dist_relevant_mae: 1.6203 - val_dist_relevant_mse: 8.1190 - val_dist_dist_iou_metric: 0.8290 - lr: 3.0000e-04\n",
      "Epoch 105/200\n",
      "3/3 [==============================] - 0s 8ms/step\n",
      "200/200 [==============================] - 15s 74ms/step - loss: 0.3531 - prob_loss: 0.1810 - dist_loss: 0.8606 - prob_kld: 0.0095 - dist_relevant_mae: 0.8602 - dist_relevant_mse: 2.3259 - dist_dist_iou_metric: 0.9120 - val_loss: 0.5369 - val_prob_loss: 0.2140 - val_dist_loss: 1.6145 - val_prob_kld: 0.0371 - val_dist_relevant_mae: 1.6140 - val_dist_relevant_mse: 8.2008 - val_dist_dist_iou_metric: 0.8278 - lr: 3.0000e-04\n",
      "Epoch 106/200\n",
      "3/3 [==============================] - 0s 7ms/step\n",
      "200/200 [==============================] - 13s 67ms/step - loss: 0.3588 - prob_loss: 0.1809 - dist_loss: 0.8894 - prob_kld: 0.0095 - dist_relevant_mae: 0.8889 - dist_relevant_mse: 2.4004 - dist_dist_iou_metric: 0.9088 - val_loss: 0.5319 - val_prob_loss: 0.2157 - val_dist_loss: 1.5811 - val_prob_kld: 0.0387 - val_dist_relevant_mae: 1.5806 - val_dist_relevant_mse: 7.8908 - val_dist_dist_iou_metric: 0.8318 - lr: 3.0000e-04\n",
      "Epoch 107/200\n",
      "3/3 [==============================] - 0s 9ms/step\n",
      "200/200 [==============================] - 13s 65ms/step - loss: 0.3480 - prob_loss: 0.1815 - dist_loss: 0.8324 - prob_kld: 0.0092 - dist_relevant_mae: 0.8319 - dist_relevant_mse: 2.2013 - dist_dist_iou_metric: 0.9153 - val_loss: 0.5308 - val_prob_loss: 0.2119 - val_dist_loss: 1.5948 - val_prob_kld: 0.0350 - val_dist_relevant_mae: 1.5943 - val_dist_relevant_mse: 8.0313 - val_dist_dist_iou_metric: 0.8304 - lr: 3.0000e-04\n",
      "Epoch 108/200\n",
      "3/3 [==============================] - 0s 8ms/step\n",
      "200/200 [==============================] - 15s 73ms/step - loss: 0.3504 - prob_loss: 0.1814 - dist_loss: 0.8450 - prob_kld: 0.0093 - dist_relevant_mae: 0.8446 - dist_relevant_mse: 2.2521 - dist_dist_iou_metric: 0.9134 - val_loss: 0.5329 - val_prob_loss: 0.2136 - val_dist_loss: 1.5964 - val_prob_kld: 0.0367 - val_dist_relevant_mae: 1.5959 - val_dist_relevant_mse: 8.1002 - val_dist_dist_iou_metric: 0.8303 - lr: 3.0000e-04\n",
      "Epoch 109/200\n",
      "3/3 [==============================] - 0s 8ms/step\n",
      "200/200 [==============================] - 15s 73ms/step - loss: 0.3505 - prob_loss: 0.1815 - dist_loss: 0.8453 - prob_kld: 0.0096 - dist_relevant_mae: 0.8449 - dist_relevant_mse: 2.2632 - dist_dist_iou_metric: 0.9130 - val_loss: 0.5233 - val_prob_loss: 0.2130 - val_dist_loss: 1.5515 - val_prob_kld: 0.0361 - val_dist_relevant_mae: 1.5510 - val_dist_relevant_mse: 7.8439 - val_dist_dist_iou_metric: 0.8346 - lr: 3.0000e-04\n",
      "Epoch 110/200\n",
      "3/3 [==============================] - 0s 10ms/step\n",
      "200/200 [==============================] - 15s 74ms/step - loss: 0.3499 - prob_loss: 0.1814 - dist_loss: 0.8422 - prob_kld: 0.0091 - dist_relevant_mae: 0.8417 - dist_relevant_mse: 2.2213 - dist_dist_iou_metric: 0.9135 - val_loss: 0.5421 - val_prob_loss: 0.2178 - val_dist_loss: 1.6212 - val_prob_kld: 0.0409 - val_dist_relevant_mae: 1.6207 - val_dist_relevant_mse: 8.5292 - val_dist_dist_iou_metric: 0.8293 - lr: 3.0000e-04\n",
      "Epoch 111/200\n",
      "3/3 [==============================] - 0s 9ms/step\n",
      "200/200 [==============================] - 14s 68ms/step - loss: 0.3606 - prob_loss: 0.1821 - dist_loss: 0.8928 - prob_kld: 0.0102 - dist_relevant_mae: 0.8923 - dist_relevant_mse: 2.3963 - dist_dist_iou_metric: 0.9093 - val_loss: 0.5376 - val_prob_loss: 0.2131 - val_dist_loss: 1.6227 - val_prob_kld: 0.0362 - val_dist_relevant_mae: 1.6222 - val_dist_relevant_mse: 8.8287 - val_dist_dist_iou_metric: 0.8287 - lr: 3.0000e-04\n",
      "Epoch 112/200\n",
      "3/3 [==============================] - 0s 9ms/step\n",
      "200/200 [==============================] - 13s 65ms/step - loss: 0.3535 - prob_loss: 0.1807 - dist_loss: 0.8640 - prob_kld: 0.0091 - dist_relevant_mae: 0.8636 - dist_relevant_mse: 2.2997 - dist_dist_iou_metric: 0.9108 - val_loss: 0.5307 - val_prob_loss: 0.2131 - val_dist_loss: 1.5877 - val_prob_kld: 0.0362 - val_dist_relevant_mae: 1.5873 - val_dist_relevant_mse: 8.0414 - val_dist_dist_iou_metric: 0.8315 - lr: 3.0000e-04\n",
      "Epoch 113/200\n",
      "3/3 [==============================] - 0s 9ms/step\n",
      "200/200 [==============================] - 15s 74ms/step - loss: 0.3540 - prob_loss: 0.1811 - dist_loss: 0.8646 - prob_kld: 0.0092 - dist_relevant_mae: 0.8641 - dist_relevant_mse: 2.2846 - dist_dist_iou_metric: 0.9115 - val_loss: 0.5388 - val_prob_loss: 0.2132 - val_dist_loss: 1.6283 - val_prob_kld: 0.0362 - val_dist_relevant_mae: 1.6278 - val_dist_relevant_mse: 8.4663 - val_dist_dist_iou_metric: 0.8281 - lr: 3.0000e-04\n",
      "Epoch 114/200\n",
      "3/3 [==============================] - 0s 8ms/step\n",
      "200/200 [==============================] - 15s 75ms/step - loss: 0.3492 - prob_loss: 0.1813 - dist_loss: 0.8396 - prob_kld: 0.0093 - dist_relevant_mae: 0.8392 - dist_relevant_mse: 2.1826 - dist_dist_iou_metric: 0.9136 - val_loss: 0.5904 - val_prob_loss: 0.2186 - val_dist_loss: 1.8588 - val_prob_kld: 0.0417 - val_dist_relevant_mae: 1.8583 - val_dist_relevant_mse: 9.3636 - val_dist_dist_iou_metric: 0.8139 - lr: 3.0000e-04\n",
      "Epoch 115/200\n",
      "3/3 [==============================] - 0s 8ms/step\n",
      "200/200 [==============================] - 16s 80ms/step - loss: 0.3511 - prob_loss: 0.1817 - dist_loss: 0.8474 - prob_kld: 0.0097 - dist_relevant_mae: 0.8470 - dist_relevant_mse: 2.2211 - dist_dist_iou_metric: 0.9133 - val_loss: 0.5303 - val_prob_loss: 0.2127 - val_dist_loss: 1.5881 - val_prob_kld: 0.0358 - val_dist_relevant_mae: 1.5876 - val_dist_relevant_mse: 7.8575 - val_dist_dist_iou_metric: 0.8320 - lr: 3.0000e-04\n",
      "Epoch 116/200\n",
      "3/3 [==============================] - 0s 7ms/step\n",
      "200/200 [==============================] - 15s 77ms/step - loss: 0.3476 - prob_loss: 0.1807 - dist_loss: 0.8344 - prob_kld: 0.0092 - dist_relevant_mae: 0.8339 - dist_relevant_mse: 2.1527 - dist_dist_iou_metric: 0.9150 - val_loss: 0.5280 - val_prob_loss: 0.2149 - val_dist_loss: 1.5656 - val_prob_kld: 0.0379 - val_dist_relevant_mae: 1.5652 - val_dist_relevant_mse: 7.7297 - val_dist_dist_iou_metric: 0.8346 - lr: 3.0000e-04\n",
      "Epoch 117/200\n",
      "3/3 [==============================] - 0s 7ms/step\n",
      "200/200 [==============================] - 13s 65ms/step - loss: 0.3455 - prob_loss: 0.1805 - dist_loss: 0.8254 - prob_kld: 0.0091 - dist_relevant_mae: 0.8249 - dist_relevant_mse: 2.1583 - dist_dist_iou_metric: 0.9148 - val_loss: 0.5421 - val_prob_loss: 0.2170 - val_dist_loss: 1.6252 - val_prob_kld: 0.0401 - val_dist_relevant_mae: 1.6247 - val_dist_relevant_mse: 8.3759 - val_dist_dist_iou_metric: 0.8271 - lr: 3.0000e-04\n",
      "Epoch 118/200\n",
      "3/3 [==============================] - 0s 9ms/step\n",
      "200/200 [==============================] - 14s 71ms/step - loss: 0.3417 - prob_loss: 0.1789 - dist_loss: 0.8141 - prob_kld: 0.0091 - dist_relevant_mae: 0.8137 - dist_relevant_mse: 2.0749 - dist_dist_iou_metric: 0.9161 - val_loss: 0.5232 - val_prob_loss: 0.2130 - val_dist_loss: 1.5506 - val_prob_kld: 0.0361 - val_dist_relevant_mae: 1.5501 - val_dist_relevant_mse: 7.5907 - val_dist_dist_iou_metric: 0.8349 - lr: 3.0000e-04\n",
      "Epoch 119/200\n",
      "3/3 [==============================] - 0s 9ms/step\n",
      "200/200 [==============================] - 15s 74ms/step - loss: 0.3450 - prob_loss: 0.1796 - dist_loss: 0.8270 - prob_kld: 0.0087 - dist_relevant_mae: 0.8265 - dist_relevant_mse: 2.1471 - dist_dist_iou_metric: 0.9153 - val_loss: 0.5285 - val_prob_loss: 0.2130 - val_dist_loss: 1.5777 - val_prob_kld: 0.0361 - val_dist_relevant_mae: 1.5772 - val_dist_relevant_mse: 8.0866 - val_dist_dist_iou_metric: 0.8327 - lr: 3.0000e-04\n",
      "Epoch 120/200\n",
      "3/3 [==============================] - 0s 7ms/step\n",
      "200/200 [==============================] - 15s 73ms/step - loss: 0.3495 - prob_loss: 0.1823 - dist_loss: 0.8359 - prob_kld: 0.0092 - dist_relevant_mae: 0.8354 - dist_relevant_mse: 2.1613 - dist_dist_iou_metric: 0.9150 - val_loss: 0.5333 - val_prob_loss: 0.2138 - val_dist_loss: 1.5975 - val_prob_kld: 0.0368 - val_dist_relevant_mae: 1.5971 - val_dist_relevant_mse: 7.9306 - val_dist_dist_iou_metric: 0.8304 - lr: 3.0000e-04\n",
      "Epoch 121/200\n",
      "3/3 [==============================] - 0s 10ms/step\n",
      "200/200 [==============================] - 14s 69ms/step - loss: 0.3452 - prob_loss: 0.1804 - dist_loss: 0.8240 - prob_kld: 0.0087 - dist_relevant_mae: 0.8235 - dist_relevant_mse: 2.0936 - dist_dist_iou_metric: 0.9160 - val_loss: 0.5372 - val_prob_loss: 0.2135 - val_dist_loss: 1.6188 - val_prob_kld: 0.0365 - val_dist_relevant_mae: 1.6183 - val_dist_relevant_mse: 8.2488 - val_dist_dist_iou_metric: 0.8296 - lr: 3.0000e-04\n",
      "Epoch 122/200\n",
      "3/3 [==============================] - 0s 11ms/step\n",
      "200/200 [==============================] - 12s 62ms/step - loss: 0.3521 - prob_loss: 0.1795 - dist_loss: 0.8634 - prob_kld: 0.0087 - dist_relevant_mae: 0.8630 - dist_relevant_mse: 2.2212 - dist_dist_iou_metric: 0.9121 - val_loss: 0.5389 - val_prob_loss: 0.2151 - val_dist_loss: 1.6191 - val_prob_kld: 0.0381 - val_dist_relevant_mae: 1.6187 - val_dist_relevant_mse: 8.2694 - val_dist_dist_iou_metric: 0.8292 - lr: 3.0000e-04\n",
      "Epoch 123/200\n",
      "3/3 [==============================] - 0s 9ms/step\n",
      "200/200 [==============================] - 14s 71ms/step - loss: 0.3406 - prob_loss: 0.1816 - dist_loss: 0.7950 - prob_kld: 0.0088 - dist_relevant_mae: 0.7945 - dist_relevant_mse: 2.0543 - dist_dist_iou_metric: 0.9177 - val_loss: 0.5296 - val_prob_loss: 0.2129 - val_dist_loss: 1.5836 - val_prob_kld: 0.0360 - val_dist_relevant_mae: 1.5831 - val_dist_relevant_mse: 8.0905 - val_dist_dist_iou_metric: 0.8319 - lr: 3.0000e-04\n",
      "Epoch 124/200\n",
      "3/3 [==============================] - 0s 9ms/step\n",
      "200/200 [==============================] - 15s 73ms/step - loss: 0.3370 - prob_loss: 0.1797 - dist_loss: 0.7867 - prob_kld: 0.0082 - dist_relevant_mae: 0.7862 - dist_relevant_mse: 1.9926 - dist_dist_iou_metric: 0.9195 - val_loss: 0.5244 - val_prob_loss: 0.2137 - val_dist_loss: 1.5532 - val_prob_kld: 0.0368 - val_dist_relevant_mae: 1.5528 - val_dist_relevant_mse: 7.5667 - val_dist_dist_iou_metric: 0.8349 - lr: 3.0000e-04\n",
      "Epoch 125/200\n",
      "3/3 [==============================] - 0s 11ms/step\n",
      "200/200 [==============================] - 15s 73ms/step - loss: 0.3509 - prob_loss: 0.1799 - dist_loss: 0.8549 - prob_kld: 0.0087 - dist_relevant_mae: 0.8544 - dist_relevant_mse: 2.1717 - dist_dist_iou_metric: 0.9131 - val_loss: 0.5301 - val_prob_loss: 0.2129 - val_dist_loss: 1.5858 - val_prob_kld: 0.0360 - val_dist_relevant_mae: 1.5853 - val_dist_relevant_mse: 7.7803 - val_dist_dist_iou_metric: 0.8319 - lr: 3.0000e-04\n",
      "Epoch 126/200\n",
      "3/3 [==============================] - 0s 7ms/step\n",
      "200/200 [==============================] - 13s 68ms/step - loss: 0.3454 - prob_loss: 0.1818 - dist_loss: 0.8181 - prob_kld: 0.0095 - dist_relevant_mae: 0.8176 - dist_relevant_mse: 2.0857 - dist_dist_iou_metric: 0.9164 - val_loss: 0.5324 - val_prob_loss: 0.2126 - val_dist_loss: 1.5992 - val_prob_kld: 0.0356 - val_dist_relevant_mae: 1.5987 - val_dist_relevant_mse: 7.7230 - val_dist_dist_iou_metric: 0.8314 - lr: 3.0000e-04\n",
      "Epoch 127/200\n",
      "3/3 [==============================] - 0s 8ms/step\n",
      "200/200 [==============================] - 13s 64ms/step - loss: 0.3372 - prob_loss: 0.1789 - dist_loss: 0.7915 - prob_kld: 0.0084 - dist_relevant_mae: 0.7911 - dist_relevant_mse: 2.0230 - dist_dist_iou_metric: 0.9182 - val_loss: 0.5241 - val_prob_loss: 0.2124 - val_dist_loss: 1.5585 - val_prob_kld: 0.0355 - val_dist_relevant_mae: 1.5581 - val_dist_relevant_mse: 7.5276 - val_dist_dist_iou_metric: 0.8337 - lr: 3.0000e-04\n",
      "Epoch 128/200\n",
      "3/3 [==============================] - 0s 6ms/step\n",
      "200/200 [==============================] - 15s 74ms/step - loss: 0.3454 - prob_loss: 0.1800 - dist_loss: 0.8271 - prob_kld: 0.0084 - dist_relevant_mae: 0.8267 - dist_relevant_mse: 2.0921 - dist_dist_iou_metric: 0.9157 - val_loss: 0.5495 - val_prob_loss: 0.2158 - val_dist_loss: 1.6685 - val_prob_kld: 0.0388 - val_dist_relevant_mae: 1.6680 - val_dist_relevant_mse: 8.9472 - val_dist_dist_iou_metric: 0.8243 - lr: 3.0000e-04\n",
      "Epoch 129/200\n",
      "3/3 [==============================] - 0s 6ms/step\n",
      "200/200 [==============================] - 15s 73ms/step - loss: 0.3479 - prob_loss: 0.1812 - dist_loss: 0.8337 - prob_kld: 0.0090 - dist_relevant_mae: 0.8333 - dist_relevant_mse: 2.1160 - dist_dist_iou_metric: 0.9145 - val_loss: 0.5284 - val_prob_loss: 0.2136 - val_dist_loss: 1.5740 - val_prob_kld: 0.0367 - val_dist_relevant_mae: 1.5735 - val_dist_relevant_mse: 8.0409 - val_dist_dist_iou_metric: 0.8333 - lr: 3.0000e-04\n",
      "Epoch 130/200\n",
      "3/3 [==============================] - 0s 7ms/step\n",
      "200/200 [==============================] - 15s 73ms/step - loss: 0.3395 - prob_loss: 0.1800 - dist_loss: 0.7978 - prob_kld: 0.0083 - dist_relevant_mae: 0.7973 - dist_relevant_mse: 2.0028 - dist_dist_iou_metric: 0.9182 - val_loss: 0.5253 - val_prob_loss: 0.2138 - val_dist_loss: 1.5575 - val_prob_kld: 0.0369 - val_dist_relevant_mae: 1.5570 - val_dist_relevant_mse: 7.8333 - val_dist_dist_iou_metric: 0.8344 - lr: 3.0000e-04\n",
      "Epoch 131/200\n",
      "3/3 [==============================] - 0s 8ms/step\n",
      "200/200 [==============================] - 13s 66ms/step - loss: 0.3381 - prob_loss: 0.1780 - dist_loss: 0.8007 - prob_kld: 0.0082 - dist_relevant_mae: 0.8002 - dist_relevant_mse: 2.0006 - dist_dist_iou_metric: 0.9176 - val_loss: 0.5410 - val_prob_loss: 0.2128 - val_dist_loss: 1.6411 - val_prob_kld: 0.0358 - val_dist_relevant_mae: 1.6407 - val_dist_relevant_mse: 8.2247 - val_dist_dist_iou_metric: 0.8263 - lr: 3.0000e-04\n",
      "Epoch 132/200\n",
      "3/3 [==============================] - 0s 9ms/step\n",
      "200/200 [==============================] - 13s 66ms/step - loss: 0.3389 - prob_loss: 0.1796 - dist_loss: 0.7962 - prob_kld: 0.0083 - dist_relevant_mae: 0.7957 - dist_relevant_mse: 1.9792 - dist_dist_iou_metric: 0.9178 - val_loss: 0.5416 - val_prob_loss: 0.2127 - val_dist_loss: 1.6445 - val_prob_kld: 0.0358 - val_dist_relevant_mae: 1.6440 - val_dist_relevant_mse: 8.1286 - val_dist_dist_iou_metric: 0.8295 - lr: 3.0000e-04\n",
      "Epoch 133/200\n",
      "3/3 [==============================] - 0s 8ms/step\n",
      "200/200 [==============================] - 15s 74ms/step - loss: 0.3336 - prob_loss: 0.1789 - dist_loss: 0.7732 - prob_kld: 0.0081 - dist_relevant_mae: 0.7728 - dist_relevant_mse: 1.9260 - dist_dist_iou_metric: 0.9203 - val_loss: 0.5234 - val_prob_loss: 0.2119 - val_dist_loss: 1.5571 - val_prob_kld: 0.0350 - val_dist_relevant_mae: 1.5566 - val_dist_relevant_mse: 7.9095 - val_dist_dist_iou_metric: 0.8349 - lr: 3.0000e-04\n",
      "Epoch 134/200\n",
      "3/3 [==============================] - 0s 12ms/step\n",
      "200/200 [==============================] - 18s 90ms/step - loss: 0.3355 - prob_loss: 0.1789 - dist_loss: 0.7826 - prob_kld: 0.0083 - dist_relevant_mae: 0.7821 - dist_relevant_mse: 1.9209 - dist_dist_iou_metric: 0.9193 - val_loss: 0.5294 - val_prob_loss: 0.2144 - val_dist_loss: 1.5755 - val_prob_kld: 0.0374 - val_dist_relevant_mae: 1.5750 - val_dist_relevant_mse: 7.6337 - val_dist_dist_iou_metric: 0.8350 - lr: 3.0000e-04\n",
      "Epoch 135/200\n",
      "3/3 [==============================] - 0s 8ms/step\n",
      "200/200 [==============================] - 15s 74ms/step - loss: 0.3388 - prob_loss: 0.1807 - dist_loss: 0.7904 - prob_kld: 0.0085 - dist_relevant_mae: 0.7900 - dist_relevant_mse: 1.9655 - dist_dist_iou_metric: 0.9184 - val_loss: 0.5626 - val_prob_loss: 0.2195 - val_dist_loss: 1.7152 - val_prob_kld: 0.0426 - val_dist_relevant_mae: 1.7147 - val_dist_relevant_mse: 8.9192 - val_dist_dist_iou_metric: 0.8230 - lr: 3.0000e-04\n",
      "Epoch 136/200\n",
      "3/3 [==============================] - 0s 7ms/step\n",
      "200/200 [==============================] - 14s 68ms/step - loss: 0.3376 - prob_loss: 0.1801 - dist_loss: 0.7876 - prob_kld: 0.0085 - dist_relevant_mae: 0.7871 - dist_relevant_mse: 1.9357 - dist_dist_iou_metric: 0.9193 - val_loss: 0.5228 - val_prob_loss: 0.2157 - val_dist_loss: 1.5352 - val_prob_kld: 0.0388 - val_dist_relevant_mae: 1.5348 - val_dist_relevant_mse: 7.7422 - val_dist_dist_iou_metric: 0.8358 - lr: 3.0000e-04\n",
      "Epoch 137/200\n",
      "3/3 [==============================] - 0s 7ms/step\n",
      "200/200 [==============================] - 13s 66ms/step - loss: 0.3355 - prob_loss: 0.1793 - dist_loss: 0.7809 - prob_kld: 0.0084 - dist_relevant_mae: 0.7804 - dist_relevant_mse: 1.9115 - dist_dist_iou_metric: 0.9196 - val_loss: 0.5412 - val_prob_loss: 0.2162 - val_dist_loss: 1.6253 - val_prob_kld: 0.0392 - val_dist_relevant_mae: 1.6248 - val_dist_relevant_mse: 8.3623 - val_dist_dist_iou_metric: 0.8301 - lr: 3.0000e-04\n",
      "Epoch 138/200\n",
      "3/3 [==============================] - 0s 9ms/step\n",
      "200/200 [==============================] - 15s 75ms/step - loss: 0.3405 - prob_loss: 0.1808 - dist_loss: 0.7986 - prob_kld: 0.0090 - dist_relevant_mae: 0.7981 - dist_relevant_mse: 1.9651 - dist_dist_iou_metric: 0.9178 - val_loss: 0.5354 - val_prob_loss: 0.2130 - val_dist_loss: 1.6123 - val_prob_kld: 0.0360 - val_dist_relevant_mae: 1.6118 - val_dist_relevant_mse: 8.1335 - val_dist_dist_iou_metric: 0.8311 - lr: 3.0000e-04\n",
      "Epoch 139/200\n",
      "3/3 [==============================] - 0s 10ms/step\n",
      "200/200 [==============================] - 15s 75ms/step - loss: 0.3365 - prob_loss: 0.1809 - dist_loss: 0.7779 - prob_kld: 0.0084 - dist_relevant_mae: 0.7775 - dist_relevant_mse: 1.9125 - dist_dist_iou_metric: 0.9194 - val_loss: 0.5347 - val_prob_loss: 0.2134 - val_dist_loss: 1.6062 - val_prob_kld: 0.0365 - val_dist_relevant_mae: 1.6058 - val_dist_relevant_mse: 8.3192 - val_dist_dist_iou_metric: 0.8312 - lr: 3.0000e-04\n",
      "Epoch 140/200\n",
      "3/3 [==============================] - 0s 10ms/step\n",
      "200/200 [==============================] - 15s 74ms/step - loss: 0.3390 - prob_loss: 0.1794 - dist_loss: 0.7979 - prob_kld: 0.0083 - dist_relevant_mae: 0.7975 - dist_relevant_mse: 1.9825 - dist_dist_iou_metric: 0.9187 - val_loss: 0.5204 - val_prob_loss: 0.2136 - val_dist_loss: 1.5338 - val_prob_kld: 0.0367 - val_dist_relevant_mae: 1.5333 - val_dist_relevant_mse: 7.7507 - val_dist_dist_iou_metric: 0.8371 - lr: 3.0000e-04\n",
      "Epoch 141/200\n",
      "3/3 [==============================] - 0s 7ms/step\n",
      "200/200 [==============================] - 14s 69ms/step - loss: 0.3326 - prob_loss: 0.1781 - dist_loss: 0.7724 - prob_kld: 0.0080 - dist_relevant_mae: 0.7719 - dist_relevant_mse: 1.8965 - dist_dist_iou_metric: 0.9203 - val_loss: 0.5276 - val_prob_loss: 0.2131 - val_dist_loss: 1.5721 - val_prob_kld: 0.0362 - val_dist_relevant_mae: 1.5717 - val_dist_relevant_mse: 8.1433 - val_dist_dist_iou_metric: 0.8352 - lr: 3.0000e-04\n",
      "Epoch 142/200\n",
      "3/3 [==============================] - 0s 9ms/step\n",
      "200/200 [==============================] - 13s 66ms/step - loss: 0.3373 - prob_loss: 0.1803 - dist_loss: 0.7850 - prob_kld: 0.0083 - dist_relevant_mae: 0.7846 - dist_relevant_mse: 1.9412 - dist_dist_iou_metric: 0.9190 - val_loss: 0.5226 - val_prob_loss: 0.2124 - val_dist_loss: 1.5511 - val_prob_kld: 0.0354 - val_dist_relevant_mae: 1.5507 - val_dist_relevant_mse: 7.6566 - val_dist_dist_iou_metric: 0.8363 - lr: 3.0000e-04\n",
      "Epoch 143/200\n",
      "3/3 [==============================] - 0s 9ms/step\n",
      "200/200 [==============================] - 15s 74ms/step - loss: 0.3355 - prob_loss: 0.1791 - dist_loss: 0.7816 - prob_kld: 0.0080 - dist_relevant_mae: 0.7811 - dist_relevant_mse: 1.9190 - dist_dist_iou_metric: 0.9194 - val_loss: 0.5279 - val_prob_loss: 0.2141 - val_dist_loss: 1.5691 - val_prob_kld: 0.0372 - val_dist_relevant_mae: 1.5686 - val_dist_relevant_mse: 8.5414 - val_dist_dist_iou_metric: 0.8344 - lr: 3.0000e-04\n",
      "Epoch 144/200\n",
      "3/3 [==============================] - 0s 5ms/step\n",
      "200/200 [==============================] - 15s 75ms/step - loss: 0.3358 - prob_loss: 0.1805 - dist_loss: 0.7766 - prob_kld: 0.0088 - dist_relevant_mae: 0.7762 - dist_relevant_mse: 1.8856 - dist_dist_iou_metric: 0.9202 - val_loss: 0.5248 - val_prob_loss: 0.2150 - val_dist_loss: 1.5490 - val_prob_kld: 0.0381 - val_dist_relevant_mae: 1.5485 - val_dist_relevant_mse: 7.8554 - val_dist_dist_iou_metric: 0.8368 - lr: 3.0000e-04\n",
      "Epoch 145/200\n",
      "3/3 [==============================] - 0s 9ms/step\n",
      "200/200 [==============================] - 15s 75ms/step - loss: 0.3293 - prob_loss: 0.1778 - dist_loss: 0.7578 - prob_kld: 0.0080 - dist_relevant_mae: 0.7573 - dist_relevant_mse: 1.8178 - dist_dist_iou_metric: 0.9217 - val_loss: 0.5121 - val_prob_loss: 0.2129 - val_dist_loss: 1.4962 - val_prob_kld: 0.0359 - val_dist_relevant_mae: 1.4958 - val_dist_relevant_mse: 7.3786 - val_dist_dist_iou_metric: 0.8412 - lr: 3.0000e-04\n",
      "Epoch 146/200\n",
      "3/3 [==============================] - 0s 7ms/step\n",
      "200/200 [==============================] - 14s 71ms/step - loss: 0.3417 - prob_loss: 0.1805 - dist_loss: 0.8059 - prob_kld: 0.0083 - dist_relevant_mae: 0.8055 - dist_relevant_mse: 1.9468 - dist_dist_iou_metric: 0.9179 - val_loss: 0.5338 - val_prob_loss: 0.2147 - val_dist_loss: 1.5958 - val_prob_kld: 0.0377 - val_dist_relevant_mae: 1.5953 - val_dist_relevant_mse: 8.1784 - val_dist_dist_iou_metric: 0.8316 - lr: 3.0000e-04\n",
      "Epoch 147/200\n",
      "3/3 [==============================] - 0s 9ms/step\n",
      "200/200 [==============================] - 13s 64ms/step - loss: 0.3337 - prob_loss: 0.1778 - dist_loss: 0.7794 - prob_kld: 0.0080 - dist_relevant_mae: 0.7790 - dist_relevant_mse: 1.8712 - dist_dist_iou_metric: 0.9196 - val_loss: 0.5358 - val_prob_loss: 0.2127 - val_dist_loss: 1.6157 - val_prob_kld: 0.0357 - val_dist_relevant_mae: 1.6153 - val_dist_relevant_mse: 7.9528 - val_dist_dist_iou_metric: 0.8320 - lr: 3.0000e-04\n",
      "Epoch 148/200\n",
      "3/3 [==============================] - 0s 9ms/step\n",
      "200/200 [==============================] - 15s 75ms/step - loss: 0.3356 - prob_loss: 0.1796 - dist_loss: 0.7801 - prob_kld: 0.0081 - dist_relevant_mae: 0.7796 - dist_relevant_mse: 1.8865 - dist_dist_iou_metric: 0.9197 - val_loss: 0.5157 - val_prob_loss: 0.2120 - val_dist_loss: 1.5184 - val_prob_kld: 0.0351 - val_dist_relevant_mae: 1.5179 - val_dist_relevant_mse: 7.5373 - val_dist_dist_iou_metric: 0.8385 - lr: 3.0000e-04\n",
      "Epoch 149/200\n",
      "3/3 [==============================] - 0s 7ms/step\n",
      "200/200 [==============================] - 16s 78ms/step - loss: 0.3296 - prob_loss: 0.1796 - dist_loss: 0.7501 - prob_kld: 0.0078 - dist_relevant_mae: 0.7496 - dist_relevant_mse: 1.7896 - dist_dist_iou_metric: 0.9227 - val_loss: 0.5190 - val_prob_loss: 0.2136 - val_dist_loss: 1.5269 - val_prob_kld: 0.0367 - val_dist_relevant_mae: 1.5265 - val_dist_relevant_mse: 7.5159 - val_dist_dist_iou_metric: 0.8396 - lr: 3.0000e-04\n",
      "Epoch 150/200\n",
      "3/3 [==============================] - 0s 8ms/step\n",
      "200/200 [==============================] - 15s 77ms/step - loss: 0.3356 - prob_loss: 0.1782 - dist_loss: 0.7866 - prob_kld: 0.0080 - dist_relevant_mae: 0.7862 - dist_relevant_mse: 1.9150 - dist_dist_iou_metric: 0.9197 - val_loss: 0.5342 - val_prob_loss: 0.2162 - val_dist_loss: 1.5901 - val_prob_kld: 0.0393 - val_dist_relevant_mae: 1.5897 - val_dist_relevant_mse: 8.1446 - val_dist_dist_iou_metric: 0.8350 - lr: 3.0000e-04\n",
      "Epoch 151/200\n",
      "3/3 [==============================] - 0s 7ms/step\n",
      "200/200 [==============================] - 15s 77ms/step - loss: 0.3391 - prob_loss: 0.1798 - dist_loss: 0.7962 - prob_kld: 0.0088 - dist_relevant_mae: 0.7957 - dist_relevant_mse: 1.9393 - dist_dist_iou_metric: 0.9181 - val_loss: 0.5146 - val_prob_loss: 0.2129 - val_dist_loss: 1.5085 - val_prob_kld: 0.0360 - val_dist_relevant_mae: 1.5081 - val_dist_relevant_mse: 7.4288 - val_dist_dist_iou_metric: 0.8408 - lr: 3.0000e-04\n",
      "Epoch 152/200\n",
      "3/3 [==============================] - 0s 12ms/step\n",
      "200/200 [==============================] - 15s 74ms/step - loss: 0.3325 - prob_loss: 0.1795 - dist_loss: 0.7646 - prob_kld: 0.0079 - dist_relevant_mae: 0.7641 - dist_relevant_mse: 1.8230 - dist_dist_iou_metric: 0.9214 - val_loss: 0.5189 - val_prob_loss: 0.2142 - val_dist_loss: 1.5234 - val_prob_kld: 0.0373 - val_dist_relevant_mae: 1.5230 - val_dist_relevant_mse: 7.7368 - val_dist_dist_iou_metric: 0.8389 - lr: 3.0000e-04\n",
      "Epoch 153/200\n",
      "3/3 [==============================] - 0s 11ms/step\n",
      "200/200 [==============================] - 16s 80ms/step - loss: 0.3367 - prob_loss: 0.1806 - dist_loss: 0.7807 - prob_kld: 0.0080 - dist_relevant_mae: 0.7803 - dist_relevant_mse: 1.8996 - dist_dist_iou_metric: 0.9195 - val_loss: 0.5267 - val_prob_loss: 0.2139 - val_dist_loss: 1.5643 - val_prob_kld: 0.0369 - val_dist_relevant_mae: 1.5638 - val_dist_relevant_mse: 8.2503 - val_dist_dist_iou_metric: 0.8355 - lr: 3.0000e-04\n",
      "Epoch 154/200\n",
      "3/3 [==============================] - 0s 8ms/step\n",
      "200/200 [==============================] - 15s 77ms/step - loss: 0.3336 - prob_loss: 0.1799 - dist_loss: 0.7684 - prob_kld: 0.0081 - dist_relevant_mae: 0.7679 - dist_relevant_mse: 1.8388 - dist_dist_iou_metric: 0.9212 - val_loss: 0.5314 - val_prob_loss: 0.2149 - val_dist_loss: 1.5825 - val_prob_kld: 0.0379 - val_dist_relevant_mae: 1.5820 - val_dist_relevant_mse: 8.6445 - val_dist_dist_iou_metric: 0.8349 - lr: 3.0000e-04\n",
      "Epoch 155/200\n",
      "3/3 [==============================] - 0s 10ms/step\n",
      "200/200 [==============================] - 16s 78ms/step - loss: 0.3378 - prob_loss: 0.1841 - dist_loss: 0.7684 - prob_kld: 0.0097 - dist_relevant_mae: 0.7679 - dist_relevant_mse: 1.8540 - dist_dist_iou_metric: 0.9204 - val_loss: 0.5806 - val_prob_loss: 0.2233 - val_dist_loss: 1.7869 - val_prob_kld: 0.0463 - val_dist_relevant_mae: 1.7864 - val_dist_relevant_mse: 9.7481 - val_dist_dist_iou_metric: 0.8210 - lr: 3.0000e-04\n",
      "Epoch 156/200\n",
      "3/3 [==============================] - 0s 10ms/step\n",
      "200/200 [==============================] - 15s 73ms/step - loss: 0.3517 - prob_loss: 0.1810 - dist_loss: 0.8533 - prob_kld: 0.0101 - dist_relevant_mae: 0.8529 - dist_relevant_mse: 2.1088 - dist_dist_iou_metric: 0.9134 - val_loss: 0.5202 - val_prob_loss: 0.2147 - val_dist_loss: 1.5271 - val_prob_kld: 0.0378 - val_dist_relevant_mae: 1.5266 - val_dist_relevant_mse: 7.7262 - val_dist_dist_iou_metric: 0.8378 - lr: 3.0000e-04\n",
      "Epoch 157/200\n",
      "3/3 [==============================] - 0s 6ms/step\n",
      "200/200 [==============================] - 13s 67ms/step - loss: 0.3300 - prob_loss: 0.1788 - dist_loss: 0.7561 - prob_kld: 0.0077 - dist_relevant_mae: 0.7556 - dist_relevant_mse: 1.7676 - dist_dist_iou_metric: 0.9220 - val_loss: 0.5241 - val_prob_loss: 0.2132 - val_dist_loss: 1.5541 - val_prob_kld: 0.0363 - val_dist_relevant_mae: 1.5536 - val_dist_relevant_mse: 7.9827 - val_dist_dist_iou_metric: 0.8350 - lr: 3.0000e-04\n",
      "Epoch 158/200\n",
      "3/3 [==============================] - 0s 8ms/step\n",
      "200/200 [==============================] - 14s 72ms/step - loss: 0.3310 - prob_loss: 0.1788 - dist_loss: 0.7610 - prob_kld: 0.0075 - dist_relevant_mae: 0.7606 - dist_relevant_mse: 1.8118 - dist_dist_iou_metric: 0.9219 - val_loss: 0.5126 - val_prob_loss: 0.2134 - val_dist_loss: 1.4961 - val_prob_kld: 0.0364 - val_dist_relevant_mae: 1.4956 - val_dist_relevant_mse: 7.6040 - val_dist_dist_iou_metric: 0.8410 - lr: 3.0000e-04\n",
      "Epoch 159/200\n",
      "3/3 [==============================] - 0s 11ms/step\n",
      "200/200 [==============================] - 15s 77ms/step - loss: 0.3306 - prob_loss: 0.1796 - dist_loss: 0.7551 - prob_kld: 0.0077 - dist_relevant_mae: 0.7546 - dist_relevant_mse: 1.7997 - dist_dist_iou_metric: 0.9228 - val_loss: 0.5159 - val_prob_loss: 0.2141 - val_dist_loss: 1.5090 - val_prob_kld: 0.0371 - val_dist_relevant_mae: 1.5086 - val_dist_relevant_mse: 7.4674 - val_dist_dist_iou_metric: 0.8402 - lr: 3.0000e-04\n",
      "Epoch 160/200\n",
      "3/3 [==============================] - 0s 7ms/step\n",
      "200/200 [==============================] - 15s 76ms/step - loss: 0.3297 - prob_loss: 0.1781 - dist_loss: 0.7579 - prob_kld: 0.0076 - dist_relevant_mae: 0.7574 - dist_relevant_mse: 1.7687 - dist_dist_iou_metric: 0.9217 - val_loss: 0.5276 - val_prob_loss: 0.2136 - val_dist_loss: 1.5700 - val_prob_kld: 0.0367 - val_dist_relevant_mae: 1.5695 - val_dist_relevant_mse: 8.1593 - val_dist_dist_iou_metric: 0.8346 - lr: 3.0000e-04\n",
      "Epoch 161/200\n",
      "3/3 [==============================] - 0s 7ms/step\n",
      "200/200 [==============================] - 15s 75ms/step - loss: 0.3325 - prob_loss: 0.1795 - dist_loss: 0.7649 - prob_kld: 0.0078 - dist_relevant_mae: 0.7645 - dist_relevant_mse: 1.7926 - dist_dist_iou_metric: 0.9215 - val_loss: 0.5313 - val_prob_loss: 0.2138 - val_dist_loss: 1.5876 - val_prob_kld: 0.0369 - val_dist_relevant_mae: 1.5871 - val_dist_relevant_mse: 8.9478 - val_dist_dist_iou_metric: 0.8338 - lr: 3.0000e-04\n",
      "Epoch 162/200\n",
      "3/3 [==============================] - 0s 11ms/step\n",
      "200/200 [==============================] - 14s 68ms/step - loss: 0.3284 - prob_loss: 0.1807 - dist_loss: 0.7385 - prob_kld: 0.0078 - dist_relevant_mae: 0.7380 - dist_relevant_mse: 1.7559 - dist_dist_iou_metric: 0.9238 - val_loss: 0.5096 - val_prob_loss: 0.2114 - val_dist_loss: 1.4911 - val_prob_kld: 0.0344 - val_dist_relevant_mae: 1.4907 - val_dist_relevant_mse: 7.3878 - val_dist_dist_iou_metric: 0.8415 - lr: 3.0000e-04\n",
      "Epoch 163/200\n",
      "3/3 [==============================] - 0s 8ms/step\n",
      "200/200 [==============================] - 14s 71ms/step - loss: 0.3302 - prob_loss: 0.1791 - dist_loss: 0.7555 - prob_kld: 0.0080 - dist_relevant_mae: 0.7551 - dist_relevant_mse: 1.7763 - dist_dist_iou_metric: 0.9224 - val_loss: 0.5291 - val_prob_loss: 0.2191 - val_dist_loss: 1.5504 - val_prob_kld: 0.0421 - val_dist_relevant_mae: 1.5500 - val_dist_relevant_mse: 8.0026 - val_dist_dist_iou_metric: 0.8386 - lr: 3.0000e-04\n",
      "Epoch 164/200\n",
      "3/3 [==============================] - 0s 10ms/step\n",
      "200/200 [==============================] - 15s 78ms/step - loss: 0.3335 - prob_loss: 0.1805 - dist_loss: 0.7651 - prob_kld: 0.0080 - dist_relevant_mae: 0.7646 - dist_relevant_mse: 1.8111 - dist_dist_iou_metric: 0.9215 - val_loss: 0.5409 - val_prob_loss: 0.2130 - val_dist_loss: 1.6395 - val_prob_kld: 0.0360 - val_dist_relevant_mae: 1.6391 - val_dist_relevant_mse: 8.0206 - val_dist_dist_iou_metric: 0.8332 - lr: 3.0000e-04\n",
      "Epoch 165/200\n",
      "3/3 [==============================] - 0s 7ms/step\n",
      "200/200 [==============================] - 15s 77ms/step - loss: 0.3283 - prob_loss: 0.1786 - dist_loss: 0.7486 - prob_kld: 0.0074 - dist_relevant_mae: 0.7481 - dist_relevant_mse: 1.7431 - dist_dist_iou_metric: 0.9231 - val_loss: 0.5143 - val_prob_loss: 0.2116 - val_dist_loss: 1.5133 - val_prob_kld: 0.0347 - val_dist_relevant_mae: 1.5129 - val_dist_relevant_mse: 7.7769 - val_dist_dist_iou_metric: 0.8415 - lr: 3.0000e-04\n",
      "Epoch 166/200\n",
      "3/3 [==============================] - 0s 9ms/step\n",
      "200/200 [==============================] - 15s 75ms/step - loss: 0.3273 - prob_loss: 0.1797 - dist_loss: 0.7383 - prob_kld: 0.0074 - dist_relevant_mae: 0.7379 - dist_relevant_mse: 1.7193 - dist_dist_iou_metric: 0.9241 - val_loss: 0.5220 - val_prob_loss: 0.2115 - val_dist_loss: 1.5526 - val_prob_kld: 0.0346 - val_dist_relevant_mae: 1.5521 - val_dist_relevant_mse: 8.2501 - val_dist_dist_iou_metric: 0.8386 - lr: 3.0000e-04\n",
      "Epoch 167/200\n",
      "3/3 [==============================] - 0s 11ms/step\n",
      "200/200 [==============================] - 14s 72ms/step - loss: 0.3343 - prob_loss: 0.1800 - dist_loss: 0.7717 - prob_kld: 0.0079 - dist_relevant_mae: 0.7713 - dist_relevant_mse: 1.7995 - dist_dist_iou_metric: 0.9209 - val_loss: 0.5143 - val_prob_loss: 0.2138 - val_dist_loss: 1.5027 - val_prob_kld: 0.0368 - val_dist_relevant_mae: 1.5022 - val_dist_relevant_mse: 7.7385 - val_dist_dist_iou_metric: 0.8422 - lr: 3.0000e-04\n",
      "Epoch 168/200\n",
      "3/3 [==============================] - 0s 7ms/step\n",
      "200/200 [==============================] - 13s 67ms/step - loss: 0.3302 - prob_loss: 0.1801 - dist_loss: 0.7508 - prob_kld: 0.0077 - dist_relevant_mae: 0.7504 - dist_relevant_mse: 1.7354 - dist_dist_iou_metric: 0.9231 - val_loss: 0.5128 - val_prob_loss: 0.2106 - val_dist_loss: 1.5110 - val_prob_kld: 0.0337 - val_dist_relevant_mae: 1.5105 - val_dist_relevant_mse: 7.7643 - val_dist_dist_iou_metric: 0.8417 - lr: 3.0000e-04\n",
      "Epoch 169/200\n",
      "3/3 [==============================] - 0s 8ms/step\n",
      "200/200 [==============================] - 15s 75ms/step - loss: 0.3234 - prob_loss: 0.1787 - dist_loss: 0.7234 - prob_kld: 0.0075 - dist_relevant_mae: 0.7229 - dist_relevant_mse: 1.6760 - dist_dist_iou_metric: 0.9253 - val_loss: 0.5104 - val_prob_loss: 0.2117 - val_dist_loss: 1.4932 - val_prob_kld: 0.0348 - val_dist_relevant_mae: 1.4927 - val_dist_relevant_mse: 7.5289 - val_dist_dist_iou_metric: 0.8441 - lr: 3.0000e-04\n",
      "Epoch 170/200\n",
      "3/3 [==============================] - 0s 10ms/step\n",
      "200/200 [==============================] - 19s 93ms/step - loss: 0.3304 - prob_loss: 0.1794 - dist_loss: 0.7549 - prob_kld: 0.0077 - dist_relevant_mae: 0.7545 - dist_relevant_mse: 1.7681 - dist_dist_iou_metric: 0.9225 - val_loss: 0.5221 - val_prob_loss: 0.2127 - val_dist_loss: 1.5474 - val_prob_kld: 0.0357 - val_dist_relevant_mae: 1.5470 - val_dist_relevant_mse: 8.2047 - val_dist_dist_iou_metric: 0.8384 - lr: 3.0000e-04\n",
      "Epoch 171/200\n",
      "3/3 [==============================] - 0s 11ms/step\n",
      "200/200 [==============================] - 15s 76ms/step - loss: 0.3294 - prob_loss: 0.1812 - dist_loss: 0.7412 - prob_kld: 0.0075 - dist_relevant_mae: 0.7407 - dist_relevant_mse: 1.7111 - dist_dist_iou_metric: 0.9237 - val_loss: 0.5174 - val_prob_loss: 0.2136 - val_dist_loss: 1.5187 - val_prob_kld: 0.0367 - val_dist_relevant_mae: 1.5183 - val_dist_relevant_mse: 7.6401 - val_dist_dist_iou_metric: 0.8426 - lr: 3.0000e-04\n",
      "Epoch 172/200\n",
      "3/3 [==============================] - 0s 12ms/step\n",
      "200/200 [==============================] - 14s 72ms/step - loss: 0.3336 - prob_loss: 0.1800 - dist_loss: 0.7680 - prob_kld: 0.0076 - dist_relevant_mae: 0.7675 - dist_relevant_mse: 1.7847 - dist_dist_iou_metric: 0.9215 - val_loss: 0.5222 - val_prob_loss: 0.2130 - val_dist_loss: 1.5460 - val_prob_kld: 0.0360 - val_dist_relevant_mae: 1.5455 - val_dist_relevant_mse: 8.5842 - val_dist_dist_iou_metric: 0.8389 - lr: 3.0000e-04\n",
      "Epoch 173/200\n",
      "3/3 [==============================] - 0s 9ms/step\n",
      "200/200 [==============================] - 14s 68ms/step - loss: 0.3271 - prob_loss: 0.1793 - dist_loss: 0.7391 - prob_kld: 0.0075 - dist_relevant_mae: 0.7386 - dist_relevant_mse: 1.6878 - dist_dist_iou_metric: 0.9244 - val_loss: 0.5080 - val_prob_loss: 0.2131 - val_dist_loss: 1.4746 - val_prob_kld: 0.0361 - val_dist_relevant_mae: 1.4741 - val_dist_relevant_mse: 7.2550 - val_dist_dist_iou_metric: 0.8439 - lr: 3.0000e-04\n",
      "Epoch 174/200\n",
      "3/3 [==============================] - 0s 9ms/step\n",
      "200/200 [==============================] - 15s 73ms/step - loss: 0.3278 - prob_loss: 0.1769 - dist_loss: 0.7541 - prob_kld: 0.0076 - dist_relevant_mae: 0.7536 - dist_relevant_mse: 1.7396 - dist_dist_iou_metric: 0.9224 - val_loss: 0.5171 - val_prob_loss: 0.2138 - val_dist_loss: 1.5167 - val_prob_kld: 0.0368 - val_dist_relevant_mae: 1.5163 - val_dist_relevant_mse: 7.5287 - val_dist_dist_iou_metric: 0.8406 - lr: 3.0000e-04\n",
      "Epoch 175/200\n",
      "3/3 [==============================] - 0s 7ms/step\n",
      "200/200 [==============================] - 15s 77ms/step - loss: 0.3254 - prob_loss: 0.1786 - dist_loss: 0.7339 - prob_kld: 0.0074 - dist_relevant_mae: 0.7335 - dist_relevant_mse: 1.6801 - dist_dist_iou_metric: 0.9244 - val_loss: 0.5174 - val_prob_loss: 0.2160 - val_dist_loss: 1.5070 - val_prob_kld: 0.0390 - val_dist_relevant_mae: 1.5066 - val_dist_relevant_mse: 7.7622 - val_dist_dist_iou_metric: 0.8427 - lr: 3.0000e-04\n",
      "Epoch 176/200\n",
      "3/3 [==============================] - 0s 11ms/step\n",
      "200/200 [==============================] - 15s 76ms/step - loss: 0.3272 - prob_loss: 0.1803 - dist_loss: 0.7343 - prob_kld: 0.0075 - dist_relevant_mae: 0.7339 - dist_relevant_mse: 1.7027 - dist_dist_iou_metric: 0.9243 - val_loss: 0.5163 - val_prob_loss: 0.2126 - val_dist_loss: 1.5183 - val_prob_kld: 0.0356 - val_dist_relevant_mae: 1.5179 - val_dist_relevant_mse: 7.7154 - val_dist_dist_iou_metric: 0.8397 - lr: 3.0000e-04\n",
      "Epoch 177/200\n",
      "3/3 [==============================] - 0s 7ms/step\n",
      "200/200 [==============================] - 15s 73ms/step - loss: 0.3248 - prob_loss: 0.1780 - dist_loss: 0.7340 - prob_kld: 0.0074 - dist_relevant_mae: 0.7336 - dist_relevant_mse: 1.6735 - dist_dist_iou_metric: 0.9246 - val_loss: 0.5159 - val_prob_loss: 0.2124 - val_dist_loss: 1.5173 - val_prob_kld: 0.0355 - val_dist_relevant_mae: 1.5169 - val_dist_relevant_mse: 7.7385 - val_dist_dist_iou_metric: 0.8407 - lr: 3.0000e-04\n",
      "Epoch 178/200\n",
      "3/3 [==============================] - 0s 7ms/step\n",
      "200/200 [==============================] - 14s 69ms/step - loss: 0.3282 - prob_loss: 0.1786 - dist_loss: 0.7479 - prob_kld: 0.0076 - dist_relevant_mae: 0.7475 - dist_relevant_mse: 1.6924 - dist_dist_iou_metric: 0.9233 - val_loss: 0.5048 - val_prob_loss: 0.2125 - val_dist_loss: 1.4616 - val_prob_kld: 0.0356 - val_dist_relevant_mae: 1.4611 - val_dist_relevant_mse: 7.2126 - val_dist_dist_iou_metric: 0.8460 - lr: 3.0000e-04\n",
      "Epoch 179/200\n",
      "3/3 [==============================] - 0s 5ms/step\n",
      "200/200 [==============================] - 15s 73ms/step - loss: 0.3263 - prob_loss: 0.1793 - dist_loss: 0.7353 - prob_kld: 0.0078 - dist_relevant_mae: 0.7349 - dist_relevant_mse: 1.6960 - dist_dist_iou_metric: 0.9245 - val_loss: 0.5096 - val_prob_loss: 0.2138 - val_dist_loss: 1.4790 - val_prob_kld: 0.0369 - val_dist_relevant_mae: 1.4785 - val_dist_relevant_mse: 7.5718 - val_dist_dist_iou_metric: 0.8441 - lr: 3.0000e-04\n",
      "Epoch 180/200\n",
      "3/3 [==============================] - 0s 13ms/step\n",
      "200/200 [==============================] - 15s 77ms/step - loss: 0.3274 - prob_loss: 0.1799 - dist_loss: 0.7378 - prob_kld: 0.0074 - dist_relevant_mae: 0.7373 - dist_relevant_mse: 1.6784 - dist_dist_iou_metric: 0.9243 - val_loss: 0.5148 - val_prob_loss: 0.2133 - val_dist_loss: 1.5076 - val_prob_kld: 0.0363 - val_dist_relevant_mae: 1.5071 - val_dist_relevant_mse: 7.5577 - val_dist_dist_iou_metric: 0.8430 - lr: 3.0000e-04\n",
      "Epoch 181/200\n",
      "3/3 [==============================] - 0s 13ms/step\n",
      "200/200 [==============================] - 15s 77ms/step - loss: 0.3299 - prob_loss: 0.1783 - dist_loss: 0.7582 - prob_kld: 0.0076 - dist_relevant_mae: 0.7577 - dist_relevant_mse: 1.7372 - dist_dist_iou_metric: 0.9225 - val_loss: 0.5156 - val_prob_loss: 0.2129 - val_dist_loss: 1.5136 - val_prob_kld: 0.0360 - val_dist_relevant_mae: 1.5131 - val_dist_relevant_mse: 7.7323 - val_dist_dist_iou_metric: 0.8422 - lr: 3.0000e-04\n",
      "Epoch 182/200\n",
      "3/3 [==============================] - 0s 11ms/step\n",
      "200/200 [==============================] - 15s 76ms/step - loss: 0.3188 - prob_loss: 0.1775 - dist_loss: 0.7064 - prob_kld: 0.0071 - dist_relevant_mae: 0.7060 - dist_relevant_mse: 1.5884 - dist_dist_iou_metric: 0.9273 - val_loss: 0.5038 - val_prob_loss: 0.2130 - val_dist_loss: 1.4541 - val_prob_kld: 0.0361 - val_dist_relevant_mae: 1.4537 - val_dist_relevant_mse: 6.9815 - val_dist_dist_iou_metric: 0.8457 - lr: 3.0000e-04\n",
      "Epoch 183/200\n",
      "3/3 [==============================] - 0s 10ms/step\n",
      "200/200 [==============================] - 14s 69ms/step - loss: 0.3212 - prob_loss: 0.1777 - dist_loss: 0.7177 - prob_kld: 0.0073 - dist_relevant_mae: 0.7173 - dist_relevant_mse: 1.6317 - dist_dist_iou_metric: 0.9256 - val_loss: 0.5059 - val_prob_loss: 0.2134 - val_dist_loss: 1.4624 - val_prob_kld: 0.0364 - val_dist_relevant_mae: 1.4620 - val_dist_relevant_mse: 7.4824 - val_dist_dist_iou_metric: 0.8461 - lr: 3.0000e-04\n",
      "Epoch 184/200\n",
      "3/3 [==============================] - 0s 10ms/step\n",
      "200/200 [==============================] - 14s 70ms/step - loss: 0.3207 - prob_loss: 0.1785 - dist_loss: 0.7110 - prob_kld: 0.0072 - dist_relevant_mae: 0.7106 - dist_relevant_mse: 1.5729 - dist_dist_iou_metric: 0.9270 - val_loss: 0.5104 - val_prob_loss: 0.2118 - val_dist_loss: 1.4929 - val_prob_kld: 0.0349 - val_dist_relevant_mae: 1.4924 - val_dist_relevant_mse: 7.3872 - val_dist_dist_iou_metric: 0.8437 - lr: 3.0000e-04\n",
      "Epoch 185/200\n",
      "3/3 [==============================] - 0s 7ms/step\n",
      "200/200 [==============================] - 16s 78ms/step - loss: 0.3279 - prob_loss: 0.1800 - dist_loss: 0.7392 - prob_kld: 0.0075 - dist_relevant_mae: 0.7387 - dist_relevant_mse: 1.6732 - dist_dist_iou_metric: 0.9243 - val_loss: 0.5028 - val_prob_loss: 0.2125 - val_dist_loss: 1.4515 - val_prob_kld: 0.0356 - val_dist_relevant_mae: 1.4511 - val_dist_relevant_mse: 7.1118 - val_dist_dist_iou_metric: 0.8453 - lr: 3.0000e-04\n",
      "Epoch 186/200\n",
      "3/3 [==============================] - 0s 6ms/step\n",
      "200/200 [==============================] - 15s 77ms/step - loss: 0.3333 - prob_loss: 0.1786 - dist_loss: 0.7739 - prob_kld: 0.0075 - dist_relevant_mae: 0.7734 - dist_relevant_mse: 1.7588 - dist_dist_iou_metric: 0.9209 - val_loss: 0.5103 - val_prob_loss: 0.2132 - val_dist_loss: 1.4856 - val_prob_kld: 0.0363 - val_dist_relevant_mae: 1.4851 - val_dist_relevant_mse: 7.3093 - val_dist_dist_iou_metric: 0.8438 - lr: 3.0000e-04\n",
      "Epoch 187/200\n",
      "3/3 [==============================] - 0s 8ms/step\n",
      "200/200 [==============================] - 16s 78ms/step - loss: 0.3214 - prob_loss: 0.1782 - dist_loss: 0.7157 - prob_kld: 0.0072 - dist_relevant_mae: 0.7152 - dist_relevant_mse: 1.5946 - dist_dist_iou_metric: 0.9262 - val_loss: 0.5203 - val_prob_loss: 0.2118 - val_dist_loss: 1.5425 - val_prob_kld: 0.0348 - val_dist_relevant_mae: 1.5420 - val_dist_relevant_mse: 7.6811 - val_dist_dist_iou_metric: 0.8412 - lr: 3.0000e-04\n",
      "Epoch 188/200\n",
      "3/3 [==============================] - 0s 9ms/step\n",
      "200/200 [==============================] - 18s 92ms/step - loss: 0.3246 - prob_loss: 0.1787 - dist_loss: 0.7295 - prob_kld: 0.0074 - dist_relevant_mae: 0.7290 - dist_relevant_mse: 1.6575 - dist_dist_iou_metric: 0.9248 - val_loss: 0.5005 - val_prob_loss: 0.2137 - val_dist_loss: 1.4339 - val_prob_kld: 0.0367 - val_dist_relevant_mae: 1.4335 - val_dist_relevant_mse: 6.8285 - val_dist_dist_iou_metric: 0.8491 - lr: 3.0000e-04\n",
      "Epoch 189/200\n",
      "3/3 [==============================] - 0s 7ms/step\n",
      "200/200 [==============================] - 15s 75ms/step - loss: 0.3222 - prob_loss: 0.1792 - dist_loss: 0.7149 - prob_kld: 0.0071 - dist_relevant_mae: 0.7145 - dist_relevant_mse: 1.6157 - dist_dist_iou_metric: 0.9266 - val_loss: 0.4938 - val_prob_loss: 0.2122 - val_dist_loss: 1.4076 - val_prob_kld: 0.0353 - val_dist_relevant_mae: 1.4072 - val_dist_relevant_mse: 6.6080 - val_dist_dist_iou_metric: 0.8507 - lr: 3.0000e-04\n",
      "Epoch 190/200\n",
      "3/3 [==============================] - 0s 12ms/step\n",
      "200/200 [==============================] - 14s 71ms/step - loss: 0.3191 - prob_loss: 0.1786 - dist_loss: 0.7027 - prob_kld: 0.0072 - dist_relevant_mae: 0.7022 - dist_relevant_mse: 1.5660 - dist_dist_iou_metric: 0.9277 - val_loss: 0.5118 - val_prob_loss: 0.2135 - val_dist_loss: 1.4917 - val_prob_kld: 0.0366 - val_dist_relevant_mae: 1.4912 - val_dist_relevant_mse: 7.2107 - val_dist_dist_iou_metric: 0.8433 - lr: 3.0000e-04\n",
      "Epoch 191/200\n",
      "3/3 [==============================] - 0s 7ms/step\n",
      "200/200 [==============================] - 15s 76ms/step - loss: 0.3325 - prob_loss: 0.1801 - dist_loss: 0.7622 - prob_kld: 0.0075 - dist_relevant_mae: 0.7617 - dist_relevant_mse: 1.7133 - dist_dist_iou_metric: 0.9220 - val_loss: 0.5202 - val_prob_loss: 0.2142 - val_dist_loss: 1.5299 - val_prob_kld: 0.0372 - val_dist_relevant_mae: 1.5295 - val_dist_relevant_mse: 7.9281 - val_dist_dist_iou_metric: 0.8420 - lr: 3.0000e-04\n",
      "Epoch 192/200\n",
      "3/3 [==============================] - 0s 10ms/step\n",
      "200/200 [==============================] - 16s 78ms/step - loss: 0.3222 - prob_loss: 0.1791 - dist_loss: 0.7154 - prob_kld: 0.0073 - dist_relevant_mae: 0.7150 - dist_relevant_mse: 1.6214 - dist_dist_iou_metric: 0.9258 - val_loss: 0.5059 - val_prob_loss: 0.2130 - val_dist_loss: 1.4648 - val_prob_kld: 0.0360 - val_dist_relevant_mae: 1.4643 - val_dist_relevant_mse: 7.3488 - val_dist_dist_iou_metric: 0.8462 - lr: 3.0000e-04\n",
      "Epoch 193/200\n",
      "3/3 [==============================] - 0s 9ms/step\n",
      "200/200 [==============================] - 16s 79ms/step - loss: 0.3240 - prob_loss: 0.1782 - dist_loss: 0.7286 - prob_kld: 0.0073 - dist_relevant_mae: 0.7282 - dist_relevant_mse: 1.6201 - dist_dist_iou_metric: 0.9252 - val_loss: 0.5302 - val_prob_loss: 0.2168 - val_dist_loss: 1.5674 - val_prob_kld: 0.0398 - val_dist_relevant_mae: 1.5670 - val_dist_relevant_mse: 7.8799 - val_dist_dist_iou_metric: 0.8395 - lr: 3.0000e-04\n",
      "Epoch 194/200\n",
      "3/3 [==============================] - 0s 10ms/step\n",
      "200/200 [==============================] - 16s 79ms/step - loss: 0.3228 - prob_loss: 0.1793 - dist_loss: 0.7177 - prob_kld: 0.0072 - dist_relevant_mae: 0.7173 - dist_relevant_mse: 1.5691 - dist_dist_iou_metric: 0.9258 - val_loss: 0.5295 - val_prob_loss: 0.2162 - val_dist_loss: 1.5663 - val_prob_kld: 0.0393 - val_dist_relevant_mae: 1.5658 - val_dist_relevant_mse: 7.7048 - val_dist_dist_iou_metric: 0.8361 - lr: 3.0000e-04\n",
      "Epoch 195/200\n",
      "3/3 [==============================] - 0s 8ms/step\n",
      "200/200 [==============================] - 14s 71ms/step - loss: 0.3295 - prob_loss: 0.1794 - dist_loss: 0.7507 - prob_kld: 0.0075 - dist_relevant_mae: 0.7503 - dist_relevant_mse: 1.6844 - dist_dist_iou_metric: 0.9233 - val_loss: 0.5124 - val_prob_loss: 0.2132 - val_dist_loss: 1.4959 - val_prob_kld: 0.0362 - val_dist_relevant_mae: 1.4955 - val_dist_relevant_mse: 7.5908 - val_dist_dist_iou_metric: 0.8416 - lr: 3.0000e-04\n",
      "Epoch 196/200\n",
      "3/3 [==============================] - 0s 10ms/step\n",
      "200/200 [==============================] - 14s 70ms/step - loss: 0.3274 - prob_loss: 0.1775 - dist_loss: 0.7490 - prob_kld: 0.0072 - dist_relevant_mae: 0.7486 - dist_relevant_mse: 1.6639 - dist_dist_iou_metric: 0.9235 - val_loss: 0.5000 - val_prob_loss: 0.2135 - val_dist_loss: 1.4328 - val_prob_kld: 0.0365 - val_dist_relevant_mae: 1.4323 - val_dist_relevant_mse: 7.1876 - val_dist_dist_iou_metric: 0.8484 - lr: 3.0000e-04\n",
      "Epoch 197/200\n",
      "3/3 [==============================] - 0s 9ms/step\n",
      "200/200 [==============================] - 15s 77ms/step - loss: 0.3189 - prob_loss: 0.1788 - dist_loss: 0.7005 - prob_kld: 0.0071 - dist_relevant_mae: 0.7000 - dist_relevant_mse: 1.5445 - dist_dist_iou_metric: 0.9271 - val_loss: 0.4947 - val_prob_loss: 0.2120 - val_dist_loss: 1.4132 - val_prob_kld: 0.0351 - val_dist_relevant_mae: 1.4127 - val_dist_relevant_mse: 6.7623 - val_dist_dist_iou_metric: 0.8503 - lr: 3.0000e-04\n",
      "Epoch 198/200\n",
      "3/3 [==============================] - 0s 6ms/step\n",
      "200/200 [==============================] - 16s 79ms/step - loss: 0.3214 - prob_loss: 0.1791 - dist_loss: 0.7112 - prob_kld: 0.0071 - dist_relevant_mae: 0.7107 - dist_relevant_mse: 1.5683 - dist_dist_iou_metric: 0.9267 - val_loss: 0.4995 - val_prob_loss: 0.2133 - val_dist_loss: 1.4310 - val_prob_kld: 0.0364 - val_dist_relevant_mae: 1.4306 - val_dist_relevant_mse: 6.9092 - val_dist_dist_iou_metric: 0.8487 - lr: 3.0000e-04\n",
      "Epoch 199/200\n",
      "3/3 [==============================] - 0s 9ms/step\n",
      "200/200 [==============================] - 16s 79ms/step - loss: 0.3195 - prob_loss: 0.1784 - dist_loss: 0.7058 - prob_kld: 0.0073 - dist_relevant_mae: 0.7053 - dist_relevant_mse: 1.5647 - dist_dist_iou_metric: 0.9268 - val_loss: 0.5070 - val_prob_loss: 0.2131 - val_dist_loss: 1.4696 - val_prob_kld: 0.0361 - val_dist_relevant_mae: 1.4691 - val_dist_relevant_mse: 7.3892 - val_dist_dist_iou_metric: 0.8460 - lr: 3.0000e-04\n",
      "Epoch 200/200\n",
      "3/3 [==============================] - 0s 15ms/step\n",
      "200/200 [==============================] - 15s 74ms/step - loss: 0.3191 - prob_loss: 0.1788 - dist_loss: 0.7013 - prob_kld: 0.0074 - dist_relevant_mae: 0.7008 - dist_relevant_mse: 1.5306 - dist_dist_iou_metric: 0.9279 - val_loss: 0.5138 - val_prob_loss: 0.2152 - val_dist_loss: 1.4930 - val_prob_kld: 0.0383 - val_dist_relevant_mae: 1.4926 - val_dist_relevant_mse: 7.5769 - val_dist_dist_iou_metric: 0.8444 - lr: 3.0000e-04\n",
      "\n",
      "Loading network weights from 'weights_best.h5'.\n"
     ]
    },
    {
     "output_type": "execute_result",
     "data": {
      "text/plain": [
       "<keras.callbacks.History at 0x7f82bde80a90>"
      ]
     },
     "metadata": {},
     "execution_count": 94
    }
   ],
   "source": [
    "model.train(train_imgs, train_masks, validation_data=(val_imgs, val_masks), augmenter=None, epochs=200, steps_per_epoch=200)"
   ]
  },
  {
   "cell_type": "code",
   "source": [
    "results = evaluate(model, zip(train_imgs, train_masks))\n",
    "results.describe()"
   ],
   "metadata": {
    "colab": {
     "base_uri": "https://localhost:8080/",
     "height": 977
    },
    "id": "zK_8BDixpax3",
    "outputId": "deefc6d6-58e9-4cfa-f5b7-a6cfb7c26a2d"
   },
   "execution_count": null,
   "outputs": [
    {
     "output_type": "stream",
     "name": "stderr",
     "text": [
      "\r0it [00:00, ?it/s]"
     ]
    },
    {
     "output_type": "stream",
     "name": "stdout",
     "text": [
      "1/1 [==============================] - 0s 367ms/step\n"
     ]
    },
    {
     "output_type": "stream",
     "name": "stderr",
     "text": [
      "\r1it [00:02,  2.45s/it]"
     ]
    },
    {
     "output_type": "stream",
     "name": "stdout",
     "text": [
      "1/1 [==============================] - 1s 812ms/step\n"
     ]
    },
    {
     "output_type": "stream",
     "name": "stderr",
     "text": [
      "\r2it [00:03,  1.58s/it]"
     ]
    },
    {
     "output_type": "stream",
     "name": "stdout",
     "text": [
      "1/1 [==============================] - 0s 25ms/step\n"
     ]
    },
    {
     "output_type": "stream",
     "name": "stderr",
     "text": [
      "\r3it [00:03,  1.09it/s]"
     ]
    },
    {
     "output_type": "stream",
     "name": "stdout",
     "text": [
      "1/1 [==============================] - 0s 23ms/step\n"
     ]
    },
    {
     "output_type": "stream",
     "name": "stderr",
     "text": [
      "\r4it [00:03,  1.59it/s]"
     ]
    },
    {
     "output_type": "stream",
     "name": "stdout",
     "text": [
      "1/1 [==============================] - 0s 24ms/step\n"
     ]
    },
    {
     "output_type": "stream",
     "name": "stderr",
     "text": [
      "\r5it [00:03,  2.23it/s]"
     ]
    },
    {
     "output_type": "stream",
     "name": "stdout",
     "text": [
      "1/1 [==============================] - 0s 23ms/step\n"
     ]
    },
    {
     "output_type": "stream",
     "name": "stderr",
     "text": [
      "\r6it [00:03,  3.02it/s]"
     ]
    },
    {
     "output_type": "stream",
     "name": "stdout",
     "text": [
      "1/1 [==============================] - 0s 27ms/step\n"
     ]
    },
    {
     "output_type": "stream",
     "name": "stderr",
     "text": [
      "\r7it [00:04,  3.61it/s]"
     ]
    },
    {
     "output_type": "stream",
     "name": "stdout",
     "text": [
      "1/1 [==============================] - 0s 25ms/step\n"
     ]
    },
    {
     "output_type": "stream",
     "name": "stderr",
     "text": [
      "\r8it [00:04,  4.22it/s]"
     ]
    },
    {
     "output_type": "stream",
     "name": "stdout",
     "text": [
      "1/1 [==============================] - 0s 31ms/step\n"
     ]
    },
    {
     "output_type": "stream",
     "name": "stderr",
     "text": [
      "\r9it [00:04,  4.88it/s]"
     ]
    },
    {
     "output_type": "stream",
     "name": "stdout",
     "text": [
      "1/1 [==============================] - 0s 24ms/step\n"
     ]
    },
    {
     "output_type": "stream",
     "name": "stderr",
     "text": [
      "\r10it [00:04,  5.70it/s]"
     ]
    },
    {
     "output_type": "stream",
     "name": "stdout",
     "text": [
      "1/1 [==============================] - 0s 26ms/step\n"
     ]
    },
    {
     "output_type": "stream",
     "name": "stderr",
     "text": [
      "\r11it [00:04,  5.94it/s]"
     ]
    },
    {
     "output_type": "stream",
     "name": "stdout",
     "text": [
      "1/1 [==============================] - 0s 22ms/step\n"
     ]
    },
    {
     "output_type": "stream",
     "name": "stderr",
     "text": [
      "\r12it [00:04,  6.39it/s]"
     ]
    },
    {
     "output_type": "stream",
     "name": "stdout",
     "text": [
      "1/1 [==============================] - 0s 28ms/step\n"
     ]
    },
    {
     "output_type": "stream",
     "name": "stderr",
     "text": [
      "\r13it [00:06,  1.30it/s]"
     ]
    },
    {
     "output_type": "stream",
     "name": "stdout",
     "text": [
      "1/1 [==============================] - 0s 23ms/step\n"
     ]
    },
    {
     "output_type": "stream",
     "name": "stderr",
     "text": [
      "\r14it [00:07,  1.72it/s]"
     ]
    },
    {
     "output_type": "stream",
     "name": "stdout",
     "text": [
      "1/1 [==============================] - 0s 24ms/step\n"
     ]
    },
    {
     "output_type": "stream",
     "name": "stderr",
     "text": [
      "\r15it [00:07,  2.25it/s]"
     ]
    },
    {
     "output_type": "stream",
     "name": "stdout",
     "text": [
      "1/1 [==============================] - 0s 23ms/step\n"
     ]
    },
    {
     "output_type": "stream",
     "name": "stderr",
     "text": [
      "\r16it [00:07,  2.91it/s]"
     ]
    },
    {
     "output_type": "stream",
     "name": "stdout",
     "text": [
      "1/1 [==============================] - 0s 33ms/step\n"
     ]
    },
    {
     "output_type": "stream",
     "name": "stderr",
     "text": [
      "\r17it [00:07,  3.50it/s]"
     ]
    },
    {
     "output_type": "stream",
     "name": "stdout",
     "text": [
      "1/1 [==============================] - 0s 25ms/step\n"
     ]
    },
    {
     "output_type": "stream",
     "name": "stderr",
     "text": [
      "\r18it [00:09,  1.19it/s]"
     ]
    },
    {
     "output_type": "stream",
     "name": "stdout",
     "text": [
      "1/1 [==============================] - 0s 23ms/step\n"
     ]
    },
    {
     "output_type": "stream",
     "name": "stderr",
     "text": [
      "\r19it [00:09,  1.58it/s]"
     ]
    },
    {
     "output_type": "stream",
     "name": "stdout",
     "text": [
      "1/1 [==============================] - 0s 26ms/step\n"
     ]
    },
    {
     "output_type": "stream",
     "name": "stderr",
     "text": [
      "\r20it [00:09,  2.03it/s]"
     ]
    },
    {
     "output_type": "stream",
     "name": "stdout",
     "text": [
      "1/1 [==============================] - 0s 24ms/step\n"
     ]
    },
    {
     "output_type": "stream",
     "name": "stderr",
     "text": [
      "\r21it [00:10,  2.56it/s]"
     ]
    },
    {
     "output_type": "stream",
     "name": "stdout",
     "text": [
      "1/1 [==============================] - 0s 25ms/step\n"
     ]
    },
    {
     "output_type": "stream",
     "name": "stderr",
     "text": [
      "\r22it [00:10,  3.13it/s]"
     ]
    },
    {
     "output_type": "stream",
     "name": "stdout",
     "text": [
      "1/1 [==============================] - 0s 25ms/step\n"
     ]
    },
    {
     "output_type": "stream",
     "name": "stderr",
     "text": [
      "\r23it [00:12,  1.03it/s]"
     ]
    },
    {
     "output_type": "stream",
     "name": "stdout",
     "text": [
      "1/1 [==============================] - 0s 33ms/step\n"
     ]
    },
    {
     "output_type": "stream",
     "name": "stderr",
     "text": [
      "\r24it [00:13,  1.32it/s]"
     ]
    },
    {
     "output_type": "stream",
     "name": "stdout",
     "text": [
      "1/1 [==============================] - 0s 36ms/step\n"
     ]
    },
    {
     "output_type": "stream",
     "name": "stderr",
     "text": [
      "\r25it [00:13,  1.67it/s]"
     ]
    },
    {
     "output_type": "stream",
     "name": "stdout",
     "text": [
      "1/1 [==============================] - 0s 35ms/step\n"
     ]
    },
    {
     "output_type": "stream",
     "name": "stderr",
     "text": [
      "\r26it [00:13,  2.10it/s]"
     ]
    },
    {
     "output_type": "stream",
     "name": "stdout",
     "text": [
      "1/1 [==============================] - 0s 37ms/step\n"
     ]
    },
    {
     "output_type": "stream",
     "name": "stderr",
     "text": [
      "\r27it [00:13,  2.36it/s]"
     ]
    },
    {
     "output_type": "stream",
     "name": "stdout",
     "text": [
      "1/1 [==============================] - 0s 37ms/step\n"
     ]
    },
    {
     "output_type": "stream",
     "name": "stderr",
     "text": [
      "\r28it [00:14,  2.67it/s]"
     ]
    },
    {
     "output_type": "stream",
     "name": "stdout",
     "text": [
      "1/1 [==============================] - 0s 34ms/step\n"
     ]
    },
    {
     "output_type": "stream",
     "name": "stderr",
     "text": [
      "\r29it [00:14,  2.98it/s]"
     ]
    },
    {
     "output_type": "stream",
     "name": "stdout",
     "text": [
      "1/1 [==============================] - 0s 34ms/step\n"
     ]
    },
    {
     "output_type": "stream",
     "name": "stderr",
     "text": [
      "\r30it [00:14,  3.16it/s]"
     ]
    },
    {
     "output_type": "stream",
     "name": "stdout",
     "text": [
      "1/1 [==============================] - 0s 39ms/step\n"
     ]
    },
    {
     "output_type": "stream",
     "name": "stderr",
     "text": [
      "\r31it [00:14,  3.38it/s]"
     ]
    },
    {
     "output_type": "stream",
     "name": "stdout",
     "text": [
      "1/1 [==============================] - 0s 38ms/step\n"
     ]
    },
    {
     "output_type": "stream",
     "name": "stderr",
     "text": [
      "\r32it [00:14,  3.68it/s]"
     ]
    },
    {
     "output_type": "stream",
     "name": "stdout",
     "text": [
      "1/1 [==============================] - 0s 39ms/step\n"
     ]
    },
    {
     "output_type": "stream",
     "name": "stderr",
     "text": [
      "\r33it [00:15,  4.09it/s]"
     ]
    },
    {
     "output_type": "stream",
     "name": "stdout",
     "text": [
      "1/1 [==============================] - 0s 34ms/step\n"
     ]
    },
    {
     "output_type": "stream",
     "name": "stderr",
     "text": [
      "\r34it [00:15,  4.36it/s]"
     ]
    },
    {
     "output_type": "stream",
     "name": "stdout",
     "text": [
      "1/1 [==============================] - 0s 36ms/step\n"
     ]
    },
    {
     "output_type": "stream",
     "name": "stderr",
     "text": [
      "\r35it [00:15,  4.64it/s]"
     ]
    },
    {
     "output_type": "stream",
     "name": "stdout",
     "text": [
      "1/1 [==============================] - 0s 38ms/step\n"
     ]
    },
    {
     "output_type": "stream",
     "name": "stderr",
     "text": [
      "\r36it [00:15,  4.56it/s]"
     ]
    },
    {
     "output_type": "stream",
     "name": "stdout",
     "text": [
      "1/1 [==============================] - 0s 40ms/step\n"
     ]
    },
    {
     "output_type": "stream",
     "name": "stderr",
     "text": [
      "\r37it [00:15,  4.48it/s]"
     ]
    },
    {
     "output_type": "stream",
     "name": "stdout",
     "text": [
      "1/1 [==============================] - 0s 39ms/step\n"
     ]
    },
    {
     "output_type": "stream",
     "name": "stderr",
     "text": [
      "38it [00:16,  2.33it/s]\n"
     ]
    },
    {
     "output_type": "execute_result",
     "data": {
      "text/plain": [
       "            dice        iou        map\n",
       "count  38.000000  38.000000  38.000000\n",
       "mean    0.968498   0.939264   0.923318\n",
       "std     0.014090   0.025917   0.033298\n",
       "min     0.927092   0.864092   0.852413\n",
       "25%     0.963951   0.930411   0.900804\n",
       "50%     0.973906   0.949140   0.921625\n",
       "75%     0.977443   0.955881   0.948753\n",
       "max     0.981971   0.964580   0.975793"
      ],
      "text/html": [
       "\n",
       "  <div id=\"df-fb771519-1f41-4769-a1cf-05e454a12743\">\n",
       "    <div class=\"colab-df-container\">\n",
       "      <div>\n",
       "<style scoped>\n",
       "    .dataframe tbody tr th:only-of-type {\n",
       "        vertical-align: middle;\n",
       "    }\n",
       "\n",
       "    .dataframe tbody tr th {\n",
       "        vertical-align: top;\n",
       "    }\n",
       "\n",
       "    .dataframe thead th {\n",
       "        text-align: right;\n",
       "    }\n",
       "</style>\n",
       "<table border=\"1\" class=\"dataframe\">\n",
       "  <thead>\n",
       "    <tr style=\"text-align: right;\">\n",
       "      <th></th>\n",
       "      <th>dice</th>\n",
       "      <th>iou</th>\n",
       "      <th>map</th>\n",
       "    </tr>\n",
       "  </thead>\n",
       "  <tbody>\n",
       "    <tr>\n",
       "      <th>count</th>\n",
       "      <td>38.000000</td>\n",
       "      <td>38.000000</td>\n",
       "      <td>38.000000</td>\n",
       "    </tr>\n",
       "    <tr>\n",
       "      <th>mean</th>\n",
       "      <td>0.968498</td>\n",
       "      <td>0.939264</td>\n",
       "      <td>0.923318</td>\n",
       "    </tr>\n",
       "    <tr>\n",
       "      <th>std</th>\n",
       "      <td>0.014090</td>\n",
       "      <td>0.025917</td>\n",
       "      <td>0.033298</td>\n",
       "    </tr>\n",
       "    <tr>\n",
       "      <th>min</th>\n",
       "      <td>0.927092</td>\n",
       "      <td>0.864092</td>\n",
       "      <td>0.852413</td>\n",
       "    </tr>\n",
       "    <tr>\n",
       "      <th>25%</th>\n",
       "      <td>0.963951</td>\n",
       "      <td>0.930411</td>\n",
       "      <td>0.900804</td>\n",
       "    </tr>\n",
       "    <tr>\n",
       "      <th>50%</th>\n",
       "      <td>0.973906</td>\n",
       "      <td>0.949140</td>\n",
       "      <td>0.921625</td>\n",
       "    </tr>\n",
       "    <tr>\n",
       "      <th>75%</th>\n",
       "      <td>0.977443</td>\n",
       "      <td>0.955881</td>\n",
       "      <td>0.948753</td>\n",
       "    </tr>\n",
       "    <tr>\n",
       "      <th>max</th>\n",
       "      <td>0.981971</td>\n",
       "      <td>0.964580</td>\n",
       "      <td>0.975793</td>\n",
       "    </tr>\n",
       "  </tbody>\n",
       "</table>\n",
       "</div>\n",
       "      <button class=\"colab-df-convert\" onclick=\"convertToInteractive('df-fb771519-1f41-4769-a1cf-05e454a12743')\"\n",
       "              title=\"Convert this dataframe to an interactive table.\"\n",
       "              style=\"display:none;\">\n",
       "        \n",
       "  <svg xmlns=\"http://www.w3.org/2000/svg\" height=\"24px\"viewBox=\"0 0 24 24\"\n",
       "       width=\"24px\">\n",
       "    <path d=\"M0 0h24v24H0V0z\" fill=\"none\"/>\n",
       "    <path d=\"M18.56 5.44l.94 2.06.94-2.06 2.06-.94-2.06-.94-.94-2.06-.94 2.06-2.06.94zm-11 1L8.5 8.5l.94-2.06 2.06-.94-2.06-.94L8.5 2.5l-.94 2.06-2.06.94zm10 10l.94 2.06.94-2.06 2.06-.94-2.06-.94-.94-2.06-.94 2.06-2.06.94z\"/><path d=\"M17.41 7.96l-1.37-1.37c-.4-.4-.92-.59-1.43-.59-.52 0-1.04.2-1.43.59L10.3 9.45l-7.72 7.72c-.78.78-.78 2.05 0 2.83L4 21.41c.39.39.9.59 1.41.59.51 0 1.02-.2 1.41-.59l7.78-7.78 2.81-2.81c.8-.78.8-2.07 0-2.86zM5.41 20L4 18.59l7.72-7.72 1.47 1.35L5.41 20z\"/>\n",
       "  </svg>\n",
       "      </button>\n",
       "      \n",
       "  <style>\n",
       "    .colab-df-container {\n",
       "      display:flex;\n",
       "      flex-wrap:wrap;\n",
       "      gap: 12px;\n",
       "    }\n",
       "\n",
       "    .colab-df-convert {\n",
       "      background-color: #E8F0FE;\n",
       "      border: none;\n",
       "      border-radius: 50%;\n",
       "      cursor: pointer;\n",
       "      display: none;\n",
       "      fill: #1967D2;\n",
       "      height: 32px;\n",
       "      padding: 0 0 0 0;\n",
       "      width: 32px;\n",
       "    }\n",
       "\n",
       "    .colab-df-convert:hover {\n",
       "      background-color: #E2EBFA;\n",
       "      box-shadow: 0px 1px 2px rgba(60, 64, 67, 0.3), 0px 1px 3px 1px rgba(60, 64, 67, 0.15);\n",
       "      fill: #174EA6;\n",
       "    }\n",
       "\n",
       "    [theme=dark] .colab-df-convert {\n",
       "      background-color: #3B4455;\n",
       "      fill: #D2E3FC;\n",
       "    }\n",
       "\n",
       "    [theme=dark] .colab-df-convert:hover {\n",
       "      background-color: #434B5C;\n",
       "      box-shadow: 0px 1px 3px 1px rgba(0, 0, 0, 0.15);\n",
       "      filter: drop-shadow(0px 1px 2px rgba(0, 0, 0, 0.3));\n",
       "      fill: #FFFFFF;\n",
       "    }\n",
       "  </style>\n",
       "\n",
       "      <script>\n",
       "        const buttonEl =\n",
       "          document.querySelector('#df-fb771519-1f41-4769-a1cf-05e454a12743 button.colab-df-convert');\n",
       "        buttonEl.style.display =\n",
       "          google.colab.kernel.accessAllowed ? 'block' : 'none';\n",
       "\n",
       "        async function convertToInteractive(key) {\n",
       "          const element = document.querySelector('#df-fb771519-1f41-4769-a1cf-05e454a12743');\n",
       "          const dataTable =\n",
       "            await google.colab.kernel.invokeFunction('convertToInteractive',\n",
       "                                                     [key], {});\n",
       "          if (!dataTable) return;\n",
       "\n",
       "          const docLinkHtml = 'Like what you see? Visit the ' +\n",
       "            '<a target=\"_blank\" href=https://colab.research.google.com/notebooks/data_table.ipynb>data table notebook</a>'\n",
       "            + ' to learn more about interactive tables.';\n",
       "          element.innerHTML = '';\n",
       "          dataTable['output_type'] = 'display_data';\n",
       "          await google.colab.output.renderOutput(dataTable, element);\n",
       "          const docLink = document.createElement('div');\n",
       "          docLink.innerHTML = docLinkHtml;\n",
       "          element.appendChild(docLink);\n",
       "        }\n",
       "      </script>\n",
       "    </div>\n",
       "  </div>\n",
       "  "
      ]
     },
     "metadata": {},
     "execution_count": 95
    }
   ]
  },
  {
   "cell_type": "code",
   "source": [
    "results = evaluate(model, zip(val_imgs, val_masks))\n",
    "results.describe()"
   ],
   "metadata": {
    "colab": {
     "base_uri": "https://localhost:8080/",
     "height": 387
    },
    "id": "c58Uxgg-pbI_",
    "outputId": "c4c5deae-8679-44fc-a21d-bddd6cc290c4"
   },
   "execution_count": null,
   "outputs": [
    {
     "output_type": "stream",
     "name": "stderr",
     "text": [
      "\r0it [00:00, ?it/s]"
     ]
    },
    {
     "output_type": "stream",
     "name": "stdout",
     "text": [
      "1/1 [==============================] - 0s 38ms/step\n"
     ]
    },
    {
     "output_type": "stream",
     "name": "stderr",
     "text": [
      "\r1it [00:00,  5.39it/s]"
     ]
    },
    {
     "output_type": "stream",
     "name": "stdout",
     "text": [
      "1/1 [==============================] - 0s 37ms/step\n"
     ]
    },
    {
     "output_type": "stream",
     "name": "stderr",
     "text": [
      "\r2it [00:00,  4.79it/s]"
     ]
    },
    {
     "output_type": "stream",
     "name": "stdout",
     "text": [
      "1/1 [==============================] - 0s 41ms/step\n"
     ]
    },
    {
     "output_type": "stream",
     "name": "stderr",
     "text": [
      "\r3it [00:04,  1.87s/it]"
     ]
    },
    {
     "output_type": "stream",
     "name": "stdout",
     "text": [
      "1/1 [==============================] - 0s 24ms/step\n"
     ]
    },
    {
     "output_type": "stream",
     "name": "stderr",
     "text": [
      "4it [00:04,  1.11s/it]\n"
     ]
    },
    {
     "output_type": "execute_result",
     "data": {
      "text/plain": [
       "           dice       iou       map\n",
       "count  4.000000  4.000000  4.000000\n",
       "mean   0.922260  0.857612  0.875311\n",
       "std    0.039585  0.068131  0.057207\n",
       "min    0.874816  0.777487  0.806172\n",
       "25%    0.900648  0.819583  0.842652\n",
       "50%    0.923338  0.857911  0.878813\n",
       "75%    0.944951  0.895941  0.911472\n",
       "max    0.967549  0.937139  0.937449"
      ],
      "text/html": [
       "\n",
       "  <div id=\"df-7b373a6d-aeea-49ce-b725-82be4447cd3a\">\n",
       "    <div class=\"colab-df-container\">\n",
       "      <div>\n",
       "<style scoped>\n",
       "    .dataframe tbody tr th:only-of-type {\n",
       "        vertical-align: middle;\n",
       "    }\n",
       "\n",
       "    .dataframe tbody tr th {\n",
       "        vertical-align: top;\n",
       "    }\n",
       "\n",
       "    .dataframe thead th {\n",
       "        text-align: right;\n",
       "    }\n",
       "</style>\n",
       "<table border=\"1\" class=\"dataframe\">\n",
       "  <thead>\n",
       "    <tr style=\"text-align: right;\">\n",
       "      <th></th>\n",
       "      <th>dice</th>\n",
       "      <th>iou</th>\n",
       "      <th>map</th>\n",
       "    </tr>\n",
       "  </thead>\n",
       "  <tbody>\n",
       "    <tr>\n",
       "      <th>count</th>\n",
       "      <td>4.000000</td>\n",
       "      <td>4.000000</td>\n",
       "      <td>4.000000</td>\n",
       "    </tr>\n",
       "    <tr>\n",
       "      <th>mean</th>\n",
       "      <td>0.922260</td>\n",
       "      <td>0.857612</td>\n",
       "      <td>0.875311</td>\n",
       "    </tr>\n",
       "    <tr>\n",
       "      <th>std</th>\n",
       "      <td>0.039585</td>\n",
       "      <td>0.068131</td>\n",
       "      <td>0.057207</td>\n",
       "    </tr>\n",
       "    <tr>\n",
       "      <th>min</th>\n",
       "      <td>0.874816</td>\n",
       "      <td>0.777487</td>\n",
       "      <td>0.806172</td>\n",
       "    </tr>\n",
       "    <tr>\n",
       "      <th>25%</th>\n",
       "      <td>0.900648</td>\n",
       "      <td>0.819583</td>\n",
       "      <td>0.842652</td>\n",
       "    </tr>\n",
       "    <tr>\n",
       "      <th>50%</th>\n",
       "      <td>0.923338</td>\n",
       "      <td>0.857911</td>\n",
       "      <td>0.878813</td>\n",
       "    </tr>\n",
       "    <tr>\n",
       "      <th>75%</th>\n",
       "      <td>0.944951</td>\n",
       "      <td>0.895941</td>\n",
       "      <td>0.911472</td>\n",
       "    </tr>\n",
       "    <tr>\n",
       "      <th>max</th>\n",
       "      <td>0.967549</td>\n",
       "      <td>0.937139</td>\n",
       "      <td>0.937449</td>\n",
       "    </tr>\n",
       "  </tbody>\n",
       "</table>\n",
       "</div>\n",
       "      <button class=\"colab-df-convert\" onclick=\"convertToInteractive('df-7b373a6d-aeea-49ce-b725-82be4447cd3a')\"\n",
       "              title=\"Convert this dataframe to an interactive table.\"\n",
       "              style=\"display:none;\">\n",
       "        \n",
       "  <svg xmlns=\"http://www.w3.org/2000/svg\" height=\"24px\"viewBox=\"0 0 24 24\"\n",
       "       width=\"24px\">\n",
       "    <path d=\"M0 0h24v24H0V0z\" fill=\"none\"/>\n",
       "    <path d=\"M18.56 5.44l.94 2.06.94-2.06 2.06-.94-2.06-.94-.94-2.06-.94 2.06-2.06.94zm-11 1L8.5 8.5l.94-2.06 2.06-.94-2.06-.94L8.5 2.5l-.94 2.06-2.06.94zm10 10l.94 2.06.94-2.06 2.06-.94-2.06-.94-.94-2.06-.94 2.06-2.06.94z\"/><path d=\"M17.41 7.96l-1.37-1.37c-.4-.4-.92-.59-1.43-.59-.52 0-1.04.2-1.43.59L10.3 9.45l-7.72 7.72c-.78.78-.78 2.05 0 2.83L4 21.41c.39.39.9.59 1.41.59.51 0 1.02-.2 1.41-.59l7.78-7.78 2.81-2.81c.8-.78.8-2.07 0-2.86zM5.41 20L4 18.59l7.72-7.72 1.47 1.35L5.41 20z\"/>\n",
       "  </svg>\n",
       "      </button>\n",
       "      \n",
       "  <style>\n",
       "    .colab-df-container {\n",
       "      display:flex;\n",
       "      flex-wrap:wrap;\n",
       "      gap: 12px;\n",
       "    }\n",
       "\n",
       "    .colab-df-convert {\n",
       "      background-color: #E8F0FE;\n",
       "      border: none;\n",
       "      border-radius: 50%;\n",
       "      cursor: pointer;\n",
       "      display: none;\n",
       "      fill: #1967D2;\n",
       "      height: 32px;\n",
       "      padding: 0 0 0 0;\n",
       "      width: 32px;\n",
       "    }\n",
       "\n",
       "    .colab-df-convert:hover {\n",
       "      background-color: #E2EBFA;\n",
       "      box-shadow: 0px 1px 2px rgba(60, 64, 67, 0.3), 0px 1px 3px 1px rgba(60, 64, 67, 0.15);\n",
       "      fill: #174EA6;\n",
       "    }\n",
       "\n",
       "    [theme=dark] .colab-df-convert {\n",
       "      background-color: #3B4455;\n",
       "      fill: #D2E3FC;\n",
       "    }\n",
       "\n",
       "    [theme=dark] .colab-df-convert:hover {\n",
       "      background-color: #434B5C;\n",
       "      box-shadow: 0px 1px 3px 1px rgba(0, 0, 0, 0.15);\n",
       "      filter: drop-shadow(0px 1px 2px rgba(0, 0, 0, 0.3));\n",
       "      fill: #FFFFFF;\n",
       "    }\n",
       "  </style>\n",
       "\n",
       "      <script>\n",
       "        const buttonEl =\n",
       "          document.querySelector('#df-7b373a6d-aeea-49ce-b725-82be4447cd3a button.colab-df-convert');\n",
       "        buttonEl.style.display =\n",
       "          google.colab.kernel.accessAllowed ? 'block' : 'none';\n",
       "\n",
       "        async function convertToInteractive(key) {\n",
       "          const element = document.querySelector('#df-7b373a6d-aeea-49ce-b725-82be4447cd3a');\n",
       "          const dataTable =\n",
       "            await google.colab.kernel.invokeFunction('convertToInteractive',\n",
       "                                                     [key], {});\n",
       "          if (!dataTable) return;\n",
       "\n",
       "          const docLinkHtml = 'Like what you see? Visit the ' +\n",
       "            '<a target=\"_blank\" href=https://colab.research.google.com/notebooks/data_table.ipynb>data table notebook</a>'\n",
       "            + ' to learn more about interactive tables.';\n",
       "          element.innerHTML = '';\n",
       "          dataTable['output_type'] = 'display_data';\n",
       "          await google.colab.output.renderOutput(dataTable, element);\n",
       "          const docLink = document.createElement('div');\n",
       "          docLink.innerHTML = docLinkHtml;\n",
       "          element.appendChild(docLink);\n",
       "        }\n",
       "      </script>\n",
       "    </div>\n",
       "  </div>\n",
       "  "
      ]
     },
     "metadata": {},
     "execution_count": 96
    }
   ]
  },
  {
   "cell_type": "code",
   "source": [
    "results = evaluate(model, zip(test_imgs, test_masks))\n",
    "results.describe()"
   ],
   "metadata": {
    "colab": {
     "base_uri": "https://localhost:8080/",
     "height": 960
    },
    "id": "lDdhppwypbgt",
    "outputId": "d09ffba5-05af-48b1-a9b0-86086c1afdcb"
   },
   "execution_count": null,
   "outputs": [
    {
     "output_type": "stream",
     "name": "stderr",
     "text": [
      "\r0it [00:00, ?it/s]"
     ]
    },
    {
     "output_type": "stream",
     "name": "stdout",
     "text": [
      "1/1 [==============================] - 1s 635ms/step\n"
     ]
    },
    {
     "output_type": "stream",
     "name": "stderr",
     "text": [
      "\r1it [00:00,  1.34it/s]"
     ]
    },
    {
     "output_type": "stream",
     "name": "stdout",
     "text": [
      "1/1 [==============================] - 0s 23ms/step\n"
     ]
    },
    {
     "output_type": "stream",
     "name": "stderr",
     "text": [
      "\r2it [00:00,  2.63it/s]"
     ]
    },
    {
     "output_type": "stream",
     "name": "stdout",
     "text": [
      "1/1 [==============================] - 0s 410ms/step\n"
     ]
    },
    {
     "output_type": "stream",
     "name": "stderr",
     "text": [
      "\r3it [00:01,  2.34it/s]"
     ]
    },
    {
     "output_type": "stream",
     "name": "stdout",
     "text": [
      "1/1 [==============================] - 0s 24ms/step\n"
     ]
    },
    {
     "output_type": "stream",
     "name": "stderr",
     "text": [
      "\r4it [00:01,  3.28it/s]"
     ]
    },
    {
     "output_type": "stream",
     "name": "stdout",
     "text": [
      "1/1 [==============================] - 0s 23ms/step\n"
     ]
    },
    {
     "output_type": "stream",
     "name": "stderr",
     "text": [
      "\r5it [00:01,  3.97it/s]"
     ]
    },
    {
     "output_type": "stream",
     "name": "stdout",
     "text": [
      "1/1 [==============================] - 0s 312ms/step\n"
     ]
    },
    {
     "output_type": "stream",
     "name": "stderr",
     "text": [
      "\r6it [00:02,  3.03it/s]"
     ]
    },
    {
     "output_type": "stream",
     "name": "stdout",
     "text": [
      "1/1 [==============================] - 0s 25ms/step\n"
     ]
    },
    {
     "output_type": "stream",
     "name": "stderr",
     "text": [
      "\r7it [00:07,  1.87s/it]"
     ]
    },
    {
     "output_type": "stream",
     "name": "stdout",
     "text": [
      "1/1 [==============================] - 0s 28ms/step\n"
     ]
    },
    {
     "output_type": "stream",
     "name": "stderr",
     "text": [
      "\r8it [00:07,  1.32s/it]"
     ]
    },
    {
     "output_type": "stream",
     "name": "stdout",
     "text": [
      "1/1 [==============================] - 0s 23ms/step\n"
     ]
    },
    {
     "output_type": "stream",
     "name": "stderr",
     "text": [
      "\r9it [00:07,  1.05it/s]"
     ]
    },
    {
     "output_type": "stream",
     "name": "stdout",
     "text": [
      "1/1 [==============================] - 1s 902ms/step\n"
     ]
    },
    {
     "output_type": "stream",
     "name": "stderr",
     "text": [
      "\r10it [00:09,  1.16s/it]"
     ]
    },
    {
     "output_type": "stream",
     "name": "stdout",
     "text": [
      "1/1 [==============================] - 0s 36ms/step\n"
     ]
    },
    {
     "output_type": "stream",
     "name": "stderr",
     "text": [
      "\r11it [00:09,  1.09it/s]"
     ]
    },
    {
     "output_type": "stream",
     "name": "stdout",
     "text": [
      "1/1 [==============================] - 0s 33ms/step\n"
     ]
    },
    {
     "output_type": "stream",
     "name": "stderr",
     "text": [
      "\r12it [00:09,  1.38it/s]"
     ]
    },
    {
     "output_type": "stream",
     "name": "stdout",
     "text": [
      "1/1 [==============================] - 0s 378ms/step\n"
     ]
    },
    {
     "output_type": "stream",
     "name": "stderr",
     "text": [
      "\r13it [00:10,  1.48it/s]"
     ]
    },
    {
     "output_type": "stream",
     "name": "stdout",
     "text": [
      "1/1 [==============================] - 0s 39ms/step\n"
     ]
    },
    {
     "output_type": "stream",
     "name": "stderr",
     "text": [
      "\r14it [00:13,  1.33s/it]"
     ]
    },
    {
     "output_type": "stream",
     "name": "stdout",
     "text": [
      "1/1 [==============================] - 0s 36ms/step\n"
     ]
    },
    {
     "output_type": "stream",
     "name": "stderr",
     "text": [
      "\r15it [00:13,  1.02it/s]"
     ]
    },
    {
     "output_type": "stream",
     "name": "stdout",
     "text": [
      "1/1 [==============================] - 0s 26ms/step\n"
     ]
    },
    {
     "output_type": "stream",
     "name": "stderr",
     "text": [
      "\r16it [00:13,  1.36it/s]"
     ]
    },
    {
     "output_type": "stream",
     "name": "stdout",
     "text": [
      "1/1 [==============================] - 0s 23ms/step\n"
     ]
    },
    {
     "output_type": "stream",
     "name": "stderr",
     "text": [
      "\r17it [00:13,  1.71it/s]"
     ]
    },
    {
     "output_type": "stream",
     "name": "stdout",
     "text": [
      "1/1 [==============================] - 0s 24ms/step\n"
     ]
    },
    {
     "output_type": "stream",
     "name": "stderr",
     "text": [
      "\r18it [00:13,  2.07it/s]"
     ]
    },
    {
     "output_type": "stream",
     "name": "stdout",
     "text": [
      "1/1 [==============================] - 0s 25ms/step\n"
     ]
    },
    {
     "output_type": "stream",
     "name": "stderr",
     "text": [
      "\r19it [00:14,  2.56it/s]"
     ]
    },
    {
     "output_type": "stream",
     "name": "stdout",
     "text": [
      "1/1 [==============================] - 0s 23ms/step\n"
     ]
    },
    {
     "output_type": "stream",
     "name": "stderr",
     "text": [
      "\r20it [00:14,  3.08it/s]"
     ]
    },
    {
     "output_type": "stream",
     "name": "stdout",
     "text": [
      "1/1 [==============================] - 0s 24ms/step\n"
     ]
    },
    {
     "output_type": "stream",
     "name": "stderr",
     "text": [
      "\r21it [00:14,  3.38it/s]"
     ]
    },
    {
     "output_type": "stream",
     "name": "stdout",
     "text": [
      "1/1 [==============================] - 0s 25ms/step\n"
     ]
    },
    {
     "output_type": "stream",
     "name": "stderr",
     "text": [
      "\r22it [00:15,  1.78it/s]"
     ]
    },
    {
     "output_type": "stream",
     "name": "stdout",
     "text": [
      "1/1 [==============================] - 0s 23ms/step\n"
     ]
    },
    {
     "output_type": "stream",
     "name": "stderr",
     "text": [
      "\r23it [00:15,  2.13it/s]"
     ]
    },
    {
     "output_type": "stream",
     "name": "stdout",
     "text": [
      "1/1 [==============================] - 0s 23ms/step\n"
     ]
    },
    {
     "output_type": "stream",
     "name": "stderr",
     "text": [
      "\r24it [00:16,  2.72it/s]"
     ]
    },
    {
     "output_type": "stream",
     "name": "stdout",
     "text": [
      "1/1 [==============================] - 0s 23ms/step\n"
     ]
    },
    {
     "output_type": "stream",
     "name": "stderr",
     "text": [
      "\r25it [00:16,  3.01it/s]"
     ]
    },
    {
     "output_type": "stream",
     "name": "stdout",
     "text": [
      "1/1 [==============================] - 0s 25ms/step\n"
     ]
    },
    {
     "output_type": "stream",
     "name": "stderr",
     "text": [
      "\r26it [00:16,  3.19it/s]"
     ]
    },
    {
     "output_type": "stream",
     "name": "stdout",
     "text": [
      "1/1 [==============================] - 0s 22ms/step\n"
     ]
    },
    {
     "output_type": "stream",
     "name": "stderr",
     "text": [
      "\r27it [00:16,  3.92it/s]"
     ]
    },
    {
     "output_type": "stream",
     "name": "stdout",
     "text": [
      "1/1 [==============================] - 0s 24ms/step\n"
     ]
    },
    {
     "output_type": "stream",
     "name": "stderr",
     "text": [
      "\r28it [00:16,  3.91it/s]"
     ]
    },
    {
     "output_type": "stream",
     "name": "stdout",
     "text": [
      "1/1 [==============================] - 0s 26ms/step\n"
     ]
    },
    {
     "output_type": "stream",
     "name": "stderr",
     "text": [
      "\r29it [00:17,  3.84it/s]"
     ]
    },
    {
     "output_type": "stream",
     "name": "stdout",
     "text": [
      "1/1 [==============================] - 0s 27ms/step\n"
     ]
    },
    {
     "output_type": "stream",
     "name": "stderr",
     "text": [
      "\r30it [00:18,  2.43it/s]"
     ]
    },
    {
     "output_type": "stream",
     "name": "stdout",
     "text": [
      "1/1 [==============================] - 0s 24ms/step\n"
     ]
    },
    {
     "output_type": "stream",
     "name": "stderr",
     "text": [
      "\r31it [00:18,  2.96it/s]"
     ]
    },
    {
     "output_type": "stream",
     "name": "stdout",
     "text": [
      "1/1 [==============================] - 0s 41ms/step\n"
     ]
    },
    {
     "output_type": "stream",
     "name": "stderr",
     "text": [
      "\r32it [00:45,  8.44s/it]"
     ]
    },
    {
     "output_type": "stream",
     "name": "stdout",
     "text": [
      "1/1 [==============================] - 0s 49ms/step\n"
     ]
    },
    {
     "output_type": "stream",
     "name": "stderr",
     "text": [
      "\r33it [00:45,  5.98s/it]"
     ]
    },
    {
     "output_type": "stream",
     "name": "stdout",
     "text": [
      "1/1 [==============================] - 0s 69ms/step\n"
     ]
    },
    {
     "output_type": "stream",
     "name": "stderr",
     "text": [
      "\r34it [00:46,  4.26s/it]"
     ]
    },
    {
     "output_type": "stream",
     "name": "stdout",
     "text": [
      "1/1 [==============================] - 0s 83ms/step\n"
     ]
    },
    {
     "output_type": "stream",
     "name": "stderr",
     "text": [
      "\r35it [00:46,  3.05s/it]"
     ]
    },
    {
     "output_type": "stream",
     "name": "stdout",
     "text": [
      "1/1 [==============================] - 0s 46ms/step\n"
     ]
    },
    {
     "output_type": "stream",
     "name": "stderr",
     "text": [
      "\r36it [00:46,  2.21s/it]"
     ]
    },
    {
     "output_type": "stream",
     "name": "stdout",
     "text": [
      "1/1 [==============================] - 0s 58ms/step\n"
     ]
    },
    {
     "output_type": "stream",
     "name": "stderr",
     "text": [
      "37it [00:47,  1.27s/it]\n"
     ]
    },
    {
     "output_type": "execute_result",
     "data": {
      "text/plain": [
       "            dice        iou        map\n",
       "count  37.000000  37.000000  37.000000\n",
       "mean    0.891242   0.812103   0.775718\n",
       "std     0.079755   0.118752   0.141445\n",
       "min     0.634220   0.464364   0.379684\n",
       "25%     0.879919   0.785585   0.762146\n",
       "50%     0.905044   0.826557   0.797657\n",
       "75%     0.951754   0.907948   0.855009\n",
       "max     0.975086   0.951383   0.977436"
      ],
      "text/html": [
       "\n",
       "  <div id=\"df-c99bec03-0bc3-41f3-a959-f8d06bd56064\">\n",
       "    <div class=\"colab-df-container\">\n",
       "      <div>\n",
       "<style scoped>\n",
       "    .dataframe tbody tr th:only-of-type {\n",
       "        vertical-align: middle;\n",
       "    }\n",
       "\n",
       "    .dataframe tbody tr th {\n",
       "        vertical-align: top;\n",
       "    }\n",
       "\n",
       "    .dataframe thead th {\n",
       "        text-align: right;\n",
       "    }\n",
       "</style>\n",
       "<table border=\"1\" class=\"dataframe\">\n",
       "  <thead>\n",
       "    <tr style=\"text-align: right;\">\n",
       "      <th></th>\n",
       "      <th>dice</th>\n",
       "      <th>iou</th>\n",
       "      <th>map</th>\n",
       "    </tr>\n",
       "  </thead>\n",
       "  <tbody>\n",
       "    <tr>\n",
       "      <th>count</th>\n",
       "      <td>37.000000</td>\n",
       "      <td>37.000000</td>\n",
       "      <td>37.000000</td>\n",
       "    </tr>\n",
       "    <tr>\n",
       "      <th>mean</th>\n",
       "      <td>0.891242</td>\n",
       "      <td>0.812103</td>\n",
       "      <td>0.775718</td>\n",
       "    </tr>\n",
       "    <tr>\n",
       "      <th>std</th>\n",
       "      <td>0.079755</td>\n",
       "      <td>0.118752</td>\n",
       "      <td>0.141445</td>\n",
       "    </tr>\n",
       "    <tr>\n",
       "      <th>min</th>\n",
       "      <td>0.634220</td>\n",
       "      <td>0.464364</td>\n",
       "      <td>0.379684</td>\n",
       "    </tr>\n",
       "    <tr>\n",
       "      <th>25%</th>\n",
       "      <td>0.879919</td>\n",
       "      <td>0.785585</td>\n",
       "      <td>0.762146</td>\n",
       "    </tr>\n",
       "    <tr>\n",
       "      <th>50%</th>\n",
       "      <td>0.905044</td>\n",
       "      <td>0.826557</td>\n",
       "      <td>0.797657</td>\n",
       "    </tr>\n",
       "    <tr>\n",
       "      <th>75%</th>\n",
       "      <td>0.951754</td>\n",
       "      <td>0.907948</td>\n",
       "      <td>0.855009</td>\n",
       "    </tr>\n",
       "    <tr>\n",
       "      <th>max</th>\n",
       "      <td>0.975086</td>\n",
       "      <td>0.951383</td>\n",
       "      <td>0.977436</td>\n",
       "    </tr>\n",
       "  </tbody>\n",
       "</table>\n",
       "</div>\n",
       "      <button class=\"colab-df-convert\" onclick=\"convertToInteractive('df-c99bec03-0bc3-41f3-a959-f8d06bd56064')\"\n",
       "              title=\"Convert this dataframe to an interactive table.\"\n",
       "              style=\"display:none;\">\n",
       "        \n",
       "  <svg xmlns=\"http://www.w3.org/2000/svg\" height=\"24px\"viewBox=\"0 0 24 24\"\n",
       "       width=\"24px\">\n",
       "    <path d=\"M0 0h24v24H0V0z\" fill=\"none\"/>\n",
       "    <path d=\"M18.56 5.44l.94 2.06.94-2.06 2.06-.94-2.06-.94-.94-2.06-.94 2.06-2.06.94zm-11 1L8.5 8.5l.94-2.06 2.06-.94-2.06-.94L8.5 2.5l-.94 2.06-2.06.94zm10 10l.94 2.06.94-2.06 2.06-.94-2.06-.94-.94-2.06-.94 2.06-2.06.94z\"/><path d=\"M17.41 7.96l-1.37-1.37c-.4-.4-.92-.59-1.43-.59-.52 0-1.04.2-1.43.59L10.3 9.45l-7.72 7.72c-.78.78-.78 2.05 0 2.83L4 21.41c.39.39.9.59 1.41.59.51 0 1.02-.2 1.41-.59l7.78-7.78 2.81-2.81c.8-.78.8-2.07 0-2.86zM5.41 20L4 18.59l7.72-7.72 1.47 1.35L5.41 20z\"/>\n",
       "  </svg>\n",
       "      </button>\n",
       "      \n",
       "  <style>\n",
       "    .colab-df-container {\n",
       "      display:flex;\n",
       "      flex-wrap:wrap;\n",
       "      gap: 12px;\n",
       "    }\n",
       "\n",
       "    .colab-df-convert {\n",
       "      background-color: #E8F0FE;\n",
       "      border: none;\n",
       "      border-radius: 50%;\n",
       "      cursor: pointer;\n",
       "      display: none;\n",
       "      fill: #1967D2;\n",
       "      height: 32px;\n",
       "      padding: 0 0 0 0;\n",
       "      width: 32px;\n",
       "    }\n",
       "\n",
       "    .colab-df-convert:hover {\n",
       "      background-color: #E2EBFA;\n",
       "      box-shadow: 0px 1px 2px rgba(60, 64, 67, 0.3), 0px 1px 3px 1px rgba(60, 64, 67, 0.15);\n",
       "      fill: #174EA6;\n",
       "    }\n",
       "\n",
       "    [theme=dark] .colab-df-convert {\n",
       "      background-color: #3B4455;\n",
       "      fill: #D2E3FC;\n",
       "    }\n",
       "\n",
       "    [theme=dark] .colab-df-convert:hover {\n",
       "      background-color: #434B5C;\n",
       "      box-shadow: 0px 1px 3px 1px rgba(0, 0, 0, 0.15);\n",
       "      filter: drop-shadow(0px 1px 2px rgba(0, 0, 0, 0.3));\n",
       "      fill: #FFFFFF;\n",
       "    }\n",
       "  </style>\n",
       "\n",
       "      <script>\n",
       "        const buttonEl =\n",
       "          document.querySelector('#df-c99bec03-0bc3-41f3-a959-f8d06bd56064 button.colab-df-convert');\n",
       "        buttonEl.style.display =\n",
       "          google.colab.kernel.accessAllowed ? 'block' : 'none';\n",
       "\n",
       "        async function convertToInteractive(key) {\n",
       "          const element = document.querySelector('#df-c99bec03-0bc3-41f3-a959-f8d06bd56064');\n",
       "          const dataTable =\n",
       "            await google.colab.kernel.invokeFunction('convertToInteractive',\n",
       "                                                     [key], {});\n",
       "          if (!dataTable) return;\n",
       "\n",
       "          const docLinkHtml = 'Like what you see? Visit the ' +\n",
       "            '<a target=\"_blank\" href=https://colab.research.google.com/notebooks/data_table.ipynb>data table notebook</a>'\n",
       "            + ' to learn more about interactive tables.';\n",
       "          element.innerHTML = '';\n",
       "          dataTable['output_type'] = 'display_data';\n",
       "          await google.colab.output.renderOutput(dataTable, element);\n",
       "          const docLink = document.createElement('div');\n",
       "          docLink.innerHTML = docLinkHtml;\n",
       "          element.appendChild(docLink);\n",
       "        }\n",
       "      </script>\n",
       "    </div>\n",
       "  </div>\n",
       "  "
      ]
     },
     "metadata": {},
     "execution_count": 97
    }
   ]
  },
  {
   "cell_type": "code",
   "source": [
    "model.optimize_thresholds(val_imgs, val_masks)"
   ],
   "metadata": {
    "colab": {
     "base_uri": "https://localhost:8080/"
    },
    "id": "_q-uQnoMpgPF",
    "outputId": "946d6dff-4eb3-4550-e5a5-6f4baec26c13"
   },
   "execution_count": null,
   "outputs": [
    {
     "output_type": "stream",
     "name": "stdout",
     "text": [
      "1/1 [==============================] - 0s 42ms/step\n",
      "1/1 [==============================] - 0s 45ms/step\n",
      "1/1 [==============================] - 0s 39ms/step\n",
      "1/1 [==============================] - 0s 38ms/step\n",
      "1/1 [==============================] - 0s 49ms/step\n",
      "1/1 [==============================] - 0s 47ms/step\n",
      "1/1 [==============================] - 0s 37ms/step\n",
      "1/1 [==============================] - 0s 44ms/step\n",
      "1/1 [==============================] - 0s 37ms/step\n"
     ]
    },
    {
     "output_type": "stream",
     "name": "stderr",
     "text": [
      "NMS threshold = 0.3:  80%|████████  | 16/20 [00:07<00:01,  2.20it/s, 0.518 -> 0.753]\n",
      "NMS threshold = 0.4:  80%|████████  | 16/20 [00:08<00:02,  1.87it/s, 0.518 -> 0.757]\n",
      "NMS threshold = 0.5:  80%|████████  | 16/20 [00:05<00:01,  2.71it/s, 0.518 -> 0.757]\n"
     ]
    },
    {
     "output_type": "stream",
     "name": "stdout",
     "text": [
      "Using optimized values: prob_thresh=0.519644, nms_thresh=0.4.\n",
      "Saving to 'thresholds.json'.\n"
     ]
    },
    {
     "output_type": "execute_result",
     "data": {
      "text/plain": [
       "{'prob': 0.5196440768410345, 'nms': 0.4}"
      ]
     },
     "metadata": {},
     "execution_count": 98
    }
   ]
  },
  {
   "cell_type": "code",
   "source": [
    "results = evaluate(model, zip(train_imgs, train_masks))\n",
    "results.describe()"
   ],
   "metadata": {
    "colab": {
     "base_uri": "https://localhost:8080/",
     "height": 977
    },
    "id": "k7cMwObppibS",
    "outputId": "5d581d00-6393-408a-8616-f0577f192383"
   },
   "execution_count": null,
   "outputs": [
    {
     "output_type": "stream",
     "name": "stderr",
     "text": [
      "\r0it [00:00, ?it/s]"
     ]
    },
    {
     "output_type": "stream",
     "name": "stdout",
     "text": [
      "1/1 [==============================] - 0s 27ms/step\n"
     ]
    },
    {
     "output_type": "stream",
     "name": "stderr",
     "text": [
      "\r1it [00:01,  1.78s/it]"
     ]
    },
    {
     "output_type": "stream",
     "name": "stdout",
     "text": [
      "1/1 [==============================] - 0s 26ms/step\n"
     ]
    },
    {
     "output_type": "stream",
     "name": "stderr",
     "text": [
      "\r2it [00:01,  1.23it/s]"
     ]
    },
    {
     "output_type": "stream",
     "name": "stdout",
     "text": [
      "1/1 [==============================] - 0s 24ms/step\n"
     ]
    },
    {
     "output_type": "stream",
     "name": "stderr",
     "text": [
      "\r3it [00:02,  2.01it/s]"
     ]
    },
    {
     "output_type": "stream",
     "name": "stdout",
     "text": [
      "1/1 [==============================] - 0s 23ms/step\n"
     ]
    },
    {
     "output_type": "stream",
     "name": "stderr",
     "text": [
      "\r4it [00:02,  2.67it/s]"
     ]
    },
    {
     "output_type": "stream",
     "name": "stdout",
     "text": [
      "1/1 [==============================] - 0s 33ms/step\n"
     ]
    },
    {
     "output_type": "stream",
     "name": "stderr",
     "text": [
      "\r5it [00:02,  3.43it/s]"
     ]
    },
    {
     "output_type": "stream",
     "name": "stdout",
     "text": [
      "1/1 [==============================] - 0s 24ms/step\n"
     ]
    },
    {
     "output_type": "stream",
     "name": "stderr",
     "text": [
      "\r6it [00:02,  4.20it/s]"
     ]
    },
    {
     "output_type": "stream",
     "name": "stdout",
     "text": [
      "1/1 [==============================] - 0s 23ms/step\n"
     ]
    },
    {
     "output_type": "stream",
     "name": "stderr",
     "text": [
      "\r7it [00:02,  4.73it/s]"
     ]
    },
    {
     "output_type": "stream",
     "name": "stdout",
     "text": [
      "1/1 [==============================] - 0s 26ms/step\n"
     ]
    },
    {
     "output_type": "stream",
     "name": "stderr",
     "text": [
      "\r8it [00:02,  5.20it/s]"
     ]
    },
    {
     "output_type": "stream",
     "name": "stdout",
     "text": [
      "1/1 [==============================] - 0s 22ms/step\n"
     ]
    },
    {
     "output_type": "stream",
     "name": "stderr",
     "text": [
      "\r9it [00:02,  6.04it/s]"
     ]
    },
    {
     "output_type": "stream",
     "name": "stdout",
     "text": [
      "1/1 [==============================] - 0s 25ms/step\n"
     ]
    },
    {
     "output_type": "stream",
     "name": "stderr",
     "text": [
      "\r10it [00:03,  6.73it/s]"
     ]
    },
    {
     "output_type": "stream",
     "name": "stdout",
     "text": [
      "1/1 [==============================] - 0s 22ms/step\n"
     ]
    },
    {
     "output_type": "stream",
     "name": "stderr",
     "text": [
      "\r11it [00:03,  6.85it/s]"
     ]
    },
    {
     "output_type": "stream",
     "name": "stdout",
     "text": [
      "1/1 [==============================] - 0s 24ms/step\n"
     ]
    },
    {
     "output_type": "stream",
     "name": "stderr",
     "text": [
      "\r12it [00:03,  7.25it/s]"
     ]
    },
    {
     "output_type": "stream",
     "name": "stdout",
     "text": [
      "1/1 [==============================] - 0s 24ms/step\n"
     ]
    },
    {
     "output_type": "stream",
     "name": "stderr",
     "text": [
      "\r13it [00:05,  1.13it/s]"
     ]
    },
    {
     "output_type": "stream",
     "name": "stdout",
     "text": [
      "1/1 [==============================] - 0s 34ms/step\n"
     ]
    },
    {
     "output_type": "stream",
     "name": "stderr",
     "text": [
      "\r14it [00:06,  1.45it/s]"
     ]
    },
    {
     "output_type": "stream",
     "name": "stdout",
     "text": [
      "1/1 [==============================] - 0s 39ms/step\n"
     ]
    },
    {
     "output_type": "stream",
     "name": "stderr",
     "text": [
      "\r15it [00:06,  1.84it/s]"
     ]
    },
    {
     "output_type": "stream",
     "name": "stdout",
     "text": [
      "1/1 [==============================] - 0s 42ms/step\n"
     ]
    },
    {
     "output_type": "stream",
     "name": "stderr",
     "text": [
      "\r16it [00:06,  2.33it/s]"
     ]
    },
    {
     "output_type": "stream",
     "name": "stdout",
     "text": [
      "1/1 [==============================] - 0s 36ms/step\n"
     ]
    },
    {
     "output_type": "stream",
     "name": "stderr",
     "text": [
      "\r17it [00:06,  2.76it/s]"
     ]
    },
    {
     "output_type": "stream",
     "name": "stdout",
     "text": [
      "1/1 [==============================] - 0s 38ms/step\n"
     ]
    },
    {
     "output_type": "stream",
     "name": "stderr",
     "text": [
      "\r18it [00:09,  1.11s/it]"
     ]
    },
    {
     "output_type": "stream",
     "name": "stdout",
     "text": [
      "1/1 [==============================] - 0s 33ms/step\n"
     ]
    },
    {
     "output_type": "stream",
     "name": "stderr",
     "text": [
      "\r19it [00:09,  1.18it/s]"
     ]
    },
    {
     "output_type": "stream",
     "name": "stdout",
     "text": [
      "1/1 [==============================] - 0s 37ms/step\n"
     ]
    },
    {
     "output_type": "stream",
     "name": "stderr",
     "text": [
      "\r20it [00:10,  1.50it/s]"
     ]
    },
    {
     "output_type": "stream",
     "name": "stdout",
     "text": [
      "1/1 [==============================] - 0s 24ms/step\n"
     ]
    },
    {
     "output_type": "stream",
     "name": "stderr",
     "text": [
      "\r21it [00:10,  1.95it/s]"
     ]
    },
    {
     "output_type": "stream",
     "name": "stdout",
     "text": [
      "1/1 [==============================] - 0s 24ms/step\n"
     ]
    },
    {
     "output_type": "stream",
     "name": "stderr",
     "text": [
      "\r22it [00:10,  2.46it/s]"
     ]
    },
    {
     "output_type": "stream",
     "name": "stdout",
     "text": [
      "1/1 [==============================] - 0s 30ms/step\n"
     ]
    },
    {
     "output_type": "stream",
     "name": "stderr",
     "text": [
      "\r23it [00:12,  1.05it/s]"
     ]
    },
    {
     "output_type": "stream",
     "name": "stdout",
     "text": [
      "1/1 [==============================] - 0s 22ms/step\n"
     ]
    },
    {
     "output_type": "stream",
     "name": "stderr",
     "text": [
      "\r24it [00:12,  1.40it/s]"
     ]
    },
    {
     "output_type": "stream",
     "name": "stdout",
     "text": [
      "1/1 [==============================] - 0s 26ms/step\n"
     ]
    },
    {
     "output_type": "stream",
     "name": "stderr",
     "text": [
      "\r25it [00:12,  1.83it/s]"
     ]
    },
    {
     "output_type": "stream",
     "name": "stdout",
     "text": [
      "1/1 [==============================] - 0s 25ms/step\n"
     ]
    },
    {
     "output_type": "stream",
     "name": "stderr",
     "text": [
      "\r26it [00:13,  2.37it/s]"
     ]
    },
    {
     "output_type": "stream",
     "name": "stdout",
     "text": [
      "1/1 [==============================] - 0s 24ms/step\n"
     ]
    },
    {
     "output_type": "stream",
     "name": "stderr",
     "text": [
      "\r27it [00:13,  2.86it/s]"
     ]
    },
    {
     "output_type": "stream",
     "name": "stdout",
     "text": [
      "1/1 [==============================] - 0s 22ms/step\n"
     ]
    },
    {
     "output_type": "stream",
     "name": "stderr",
     "text": [
      "\r28it [00:13,  3.33it/s]"
     ]
    },
    {
     "output_type": "stream",
     "name": "stdout",
     "text": [
      "1/1 [==============================] - 0s 24ms/step\n"
     ]
    },
    {
     "output_type": "stream",
     "name": "stderr",
     "text": [
      "\r29it [00:13,  3.85it/s]"
     ]
    },
    {
     "output_type": "stream",
     "name": "stdout",
     "text": [
      "1/1 [==============================] - 0s 23ms/step\n"
     ]
    },
    {
     "output_type": "stream",
     "name": "stderr",
     "text": [
      "\r30it [00:13,  4.29it/s]"
     ]
    },
    {
     "output_type": "stream",
     "name": "stdout",
     "text": [
      "1/1 [==============================] - 0s 24ms/step\n"
     ]
    },
    {
     "output_type": "stream",
     "name": "stderr",
     "text": [
      "\r31it [00:13,  4.77it/s]"
     ]
    },
    {
     "output_type": "stream",
     "name": "stdout",
     "text": [
      "1/1 [==============================] - 0s 25ms/step\n"
     ]
    },
    {
     "output_type": "stream",
     "name": "stderr",
     "text": [
      "\r32it [00:14,  5.29it/s]"
     ]
    },
    {
     "output_type": "stream",
     "name": "stdout",
     "text": [
      "1/1 [==============================] - 0s 26ms/step\n"
     ]
    },
    {
     "output_type": "stream",
     "name": "stderr",
     "text": [
      "\r33it [00:14,  6.00it/s]"
     ]
    },
    {
     "output_type": "stream",
     "name": "stdout",
     "text": [
      "1/1 [==============================] - 0s 24ms/step\n"
     ]
    },
    {
     "output_type": "stream",
     "name": "stderr",
     "text": [
      "\r34it [00:14,  6.49it/s]"
     ]
    },
    {
     "output_type": "stream",
     "name": "stdout",
     "text": [
      "1/1 [==============================] - 0s 28ms/step\n"
     ]
    },
    {
     "output_type": "stream",
     "name": "stderr",
     "text": [
      "\r35it [00:14,  6.84it/s]"
     ]
    },
    {
     "output_type": "stream",
     "name": "stdout",
     "text": [
      "1/1 [==============================] - 0s 27ms/step\n"
     ]
    },
    {
     "output_type": "stream",
     "name": "stderr",
     "text": [
      "\r36it [00:14,  6.75it/s]"
     ]
    },
    {
     "output_type": "stream",
     "name": "stdout",
     "text": [
      "1/1 [==============================] - 0s 26ms/step\n"
     ]
    },
    {
     "output_type": "stream",
     "name": "stderr",
     "text": [
      "\r37it [00:14,  6.83it/s]"
     ]
    },
    {
     "output_type": "stream",
     "name": "stdout",
     "text": [
      "1/1 [==============================] - 0s 26ms/step\n"
     ]
    },
    {
     "output_type": "stream",
     "name": "stderr",
     "text": [
      "38it [00:14,  2.55it/s]\n"
     ]
    },
    {
     "output_type": "execute_result",
     "data": {
      "text/plain": [
       "            dice        iou        map\n",
       "count  38.000000  38.000000  38.000000\n",
       "mean    0.968612   0.939481   0.923955\n",
       "std     0.014123   0.025975   0.033225\n",
       "min     0.926724   0.863454   0.852413\n",
       "25%     0.963951   0.930411   0.900804\n",
       "50%     0.973906   0.949140   0.921931\n",
       "75%     0.977443   0.955881   0.948753\n",
       "max     0.981971   0.964580   0.975793"
      ],
      "text/html": [
       "\n",
       "  <div id=\"df-91f1d37d-53ee-4edc-b21e-ce46b96c5ef8\">\n",
       "    <div class=\"colab-df-container\">\n",
       "      <div>\n",
       "<style scoped>\n",
       "    .dataframe tbody tr th:only-of-type {\n",
       "        vertical-align: middle;\n",
       "    }\n",
       "\n",
       "    .dataframe tbody tr th {\n",
       "        vertical-align: top;\n",
       "    }\n",
       "\n",
       "    .dataframe thead th {\n",
       "        text-align: right;\n",
       "    }\n",
       "</style>\n",
       "<table border=\"1\" class=\"dataframe\">\n",
       "  <thead>\n",
       "    <tr style=\"text-align: right;\">\n",
       "      <th></th>\n",
       "      <th>dice</th>\n",
       "      <th>iou</th>\n",
       "      <th>map</th>\n",
       "    </tr>\n",
       "  </thead>\n",
       "  <tbody>\n",
       "    <tr>\n",
       "      <th>count</th>\n",
       "      <td>38.000000</td>\n",
       "      <td>38.000000</td>\n",
       "      <td>38.000000</td>\n",
       "    </tr>\n",
       "    <tr>\n",
       "      <th>mean</th>\n",
       "      <td>0.968612</td>\n",
       "      <td>0.939481</td>\n",
       "      <td>0.923955</td>\n",
       "    </tr>\n",
       "    <tr>\n",
       "      <th>std</th>\n",
       "      <td>0.014123</td>\n",
       "      <td>0.025975</td>\n",
       "      <td>0.033225</td>\n",
       "    </tr>\n",
       "    <tr>\n",
       "      <th>min</th>\n",
       "      <td>0.926724</td>\n",
       "      <td>0.863454</td>\n",
       "      <td>0.852413</td>\n",
       "    </tr>\n",
       "    <tr>\n",
       "      <th>25%</th>\n",
       "      <td>0.963951</td>\n",
       "      <td>0.930411</td>\n",
       "      <td>0.900804</td>\n",
       "    </tr>\n",
       "    <tr>\n",
       "      <th>50%</th>\n",
       "      <td>0.973906</td>\n",
       "      <td>0.949140</td>\n",
       "      <td>0.921931</td>\n",
       "    </tr>\n",
       "    <tr>\n",
       "      <th>75%</th>\n",
       "      <td>0.977443</td>\n",
       "      <td>0.955881</td>\n",
       "      <td>0.948753</td>\n",
       "    </tr>\n",
       "    <tr>\n",
       "      <th>max</th>\n",
       "      <td>0.981971</td>\n",
       "      <td>0.964580</td>\n",
       "      <td>0.975793</td>\n",
       "    </tr>\n",
       "  </tbody>\n",
       "</table>\n",
       "</div>\n",
       "      <button class=\"colab-df-convert\" onclick=\"convertToInteractive('df-91f1d37d-53ee-4edc-b21e-ce46b96c5ef8')\"\n",
       "              title=\"Convert this dataframe to an interactive table.\"\n",
       "              style=\"display:none;\">\n",
       "        \n",
       "  <svg xmlns=\"http://www.w3.org/2000/svg\" height=\"24px\"viewBox=\"0 0 24 24\"\n",
       "       width=\"24px\">\n",
       "    <path d=\"M0 0h24v24H0V0z\" fill=\"none\"/>\n",
       "    <path d=\"M18.56 5.44l.94 2.06.94-2.06 2.06-.94-2.06-.94-.94-2.06-.94 2.06-2.06.94zm-11 1L8.5 8.5l.94-2.06 2.06-.94-2.06-.94L8.5 2.5l-.94 2.06-2.06.94zm10 10l.94 2.06.94-2.06 2.06-.94-2.06-.94-.94-2.06-.94 2.06-2.06.94z\"/><path d=\"M17.41 7.96l-1.37-1.37c-.4-.4-.92-.59-1.43-.59-.52 0-1.04.2-1.43.59L10.3 9.45l-7.72 7.72c-.78.78-.78 2.05 0 2.83L4 21.41c.39.39.9.59 1.41.59.51 0 1.02-.2 1.41-.59l7.78-7.78 2.81-2.81c.8-.78.8-2.07 0-2.86zM5.41 20L4 18.59l7.72-7.72 1.47 1.35L5.41 20z\"/>\n",
       "  </svg>\n",
       "      </button>\n",
       "      \n",
       "  <style>\n",
       "    .colab-df-container {\n",
       "      display:flex;\n",
       "      flex-wrap:wrap;\n",
       "      gap: 12px;\n",
       "    }\n",
       "\n",
       "    .colab-df-convert {\n",
       "      background-color: #E8F0FE;\n",
       "      border: none;\n",
       "      border-radius: 50%;\n",
       "      cursor: pointer;\n",
       "      display: none;\n",
       "      fill: #1967D2;\n",
       "      height: 32px;\n",
       "      padding: 0 0 0 0;\n",
       "      width: 32px;\n",
       "    }\n",
       "\n",
       "    .colab-df-convert:hover {\n",
       "      background-color: #E2EBFA;\n",
       "      box-shadow: 0px 1px 2px rgba(60, 64, 67, 0.3), 0px 1px 3px 1px rgba(60, 64, 67, 0.15);\n",
       "      fill: #174EA6;\n",
       "    }\n",
       "\n",
       "    [theme=dark] .colab-df-convert {\n",
       "      background-color: #3B4455;\n",
       "      fill: #D2E3FC;\n",
       "    }\n",
       "\n",
       "    [theme=dark] .colab-df-convert:hover {\n",
       "      background-color: #434B5C;\n",
       "      box-shadow: 0px 1px 3px 1px rgba(0, 0, 0, 0.15);\n",
       "      filter: drop-shadow(0px 1px 2px rgba(0, 0, 0, 0.3));\n",
       "      fill: #FFFFFF;\n",
       "    }\n",
       "  </style>\n",
       "\n",
       "      <script>\n",
       "        const buttonEl =\n",
       "          document.querySelector('#df-91f1d37d-53ee-4edc-b21e-ce46b96c5ef8 button.colab-df-convert');\n",
       "        buttonEl.style.display =\n",
       "          google.colab.kernel.accessAllowed ? 'block' : 'none';\n",
       "\n",
       "        async function convertToInteractive(key) {\n",
       "          const element = document.querySelector('#df-91f1d37d-53ee-4edc-b21e-ce46b96c5ef8');\n",
       "          const dataTable =\n",
       "            await google.colab.kernel.invokeFunction('convertToInteractive',\n",
       "                                                     [key], {});\n",
       "          if (!dataTable) return;\n",
       "\n",
       "          const docLinkHtml = 'Like what you see? Visit the ' +\n",
       "            '<a target=\"_blank\" href=https://colab.research.google.com/notebooks/data_table.ipynb>data table notebook</a>'\n",
       "            + ' to learn more about interactive tables.';\n",
       "          element.innerHTML = '';\n",
       "          dataTable['output_type'] = 'display_data';\n",
       "          await google.colab.output.renderOutput(dataTable, element);\n",
       "          const docLink = document.createElement('div');\n",
       "          docLink.innerHTML = docLinkHtml;\n",
       "          element.appendChild(docLink);\n",
       "        }\n",
       "      </script>\n",
       "    </div>\n",
       "  </div>\n",
       "  "
      ]
     },
     "metadata": {},
     "execution_count": 99
    }
   ]
  },
  {
   "cell_type": "code",
   "source": [
    "results = evaluate(model, zip(val_imgs, val_masks))\n",
    "results.describe()"
   ],
   "metadata": {
    "colab": {
     "base_uri": "https://localhost:8080/",
     "height": 387
    },
    "id": "xjRPpWiPpjsj",
    "outputId": "2c411a8d-34e5-4e64-b955-f35019f29412"
   },
   "execution_count": null,
   "outputs": [
    {
     "output_type": "stream",
     "name": "stderr",
     "text": [
      "\r0it [00:00, ?it/s]"
     ]
    },
    {
     "output_type": "stream",
     "name": "stdout",
     "text": [
      "1/1 [==============================] - 0s 29ms/step\n"
     ]
    },
    {
     "output_type": "stream",
     "name": "stderr",
     "text": [
      "\r1it [00:00,  7.73it/s]"
     ]
    },
    {
     "output_type": "stream",
     "name": "stdout",
     "text": [
      "1/1 [==============================] - 0s 25ms/step\n"
     ]
    },
    {
     "output_type": "stream",
     "name": "stderr",
     "text": [
      "\r2it [00:00,  7.10it/s]"
     ]
    },
    {
     "output_type": "stream",
     "name": "stdout",
     "text": [
      "1/1 [==============================] - 0s 25ms/step\n"
     ]
    },
    {
     "output_type": "stream",
     "name": "stderr",
     "text": [
      "\r3it [00:03,  1.56s/it]"
     ]
    },
    {
     "output_type": "stream",
     "name": "stdout",
     "text": [
      "1/1 [==============================] - 0s 26ms/step\n"
     ]
    },
    {
     "output_type": "stream",
     "name": "stderr",
     "text": [
      "4it [00:03,  1.07it/s]\n"
     ]
    },
    {
     "output_type": "execute_result",
     "data": {
      "text/plain": [
       "           dice       iou       map\n",
       "count  4.000000  4.000000  4.000000\n",
       "mean   0.922264  0.857617  0.876023\n",
       "std    0.039580  0.068123  0.056884\n",
       "min    0.874829  0.777507  0.806172\n",
       "25%    0.900651  0.819588  0.844785\n",
       "50%    0.923338  0.857911  0.880235\n",
       "75%    0.944951  0.895941  0.911472\n",
       "max    0.967549  0.937139  0.937449"
      ],
      "text/html": [
       "\n",
       "  <div id=\"df-7dbe99ec-ab27-4ae3-8955-3e70befe1401\">\n",
       "    <div class=\"colab-df-container\">\n",
       "      <div>\n",
       "<style scoped>\n",
       "    .dataframe tbody tr th:only-of-type {\n",
       "        vertical-align: middle;\n",
       "    }\n",
       "\n",
       "    .dataframe tbody tr th {\n",
       "        vertical-align: top;\n",
       "    }\n",
       "\n",
       "    .dataframe thead th {\n",
       "        text-align: right;\n",
       "    }\n",
       "</style>\n",
       "<table border=\"1\" class=\"dataframe\">\n",
       "  <thead>\n",
       "    <tr style=\"text-align: right;\">\n",
       "      <th></th>\n",
       "      <th>dice</th>\n",
       "      <th>iou</th>\n",
       "      <th>map</th>\n",
       "    </tr>\n",
       "  </thead>\n",
       "  <tbody>\n",
       "    <tr>\n",
       "      <th>count</th>\n",
       "      <td>4.000000</td>\n",
       "      <td>4.000000</td>\n",
       "      <td>4.000000</td>\n",
       "    </tr>\n",
       "    <tr>\n",
       "      <th>mean</th>\n",
       "      <td>0.922264</td>\n",
       "      <td>0.857617</td>\n",
       "      <td>0.876023</td>\n",
       "    </tr>\n",
       "    <tr>\n",
       "      <th>std</th>\n",
       "      <td>0.039580</td>\n",
       "      <td>0.068123</td>\n",
       "      <td>0.056884</td>\n",
       "    </tr>\n",
       "    <tr>\n",
       "      <th>min</th>\n",
       "      <td>0.874829</td>\n",
       "      <td>0.777507</td>\n",
       "      <td>0.806172</td>\n",
       "    </tr>\n",
       "    <tr>\n",
       "      <th>25%</th>\n",
       "      <td>0.900651</td>\n",
       "      <td>0.819588</td>\n",
       "      <td>0.844785</td>\n",
       "    </tr>\n",
       "    <tr>\n",
       "      <th>50%</th>\n",
       "      <td>0.923338</td>\n",
       "      <td>0.857911</td>\n",
       "      <td>0.880235</td>\n",
       "    </tr>\n",
       "    <tr>\n",
       "      <th>75%</th>\n",
       "      <td>0.944951</td>\n",
       "      <td>0.895941</td>\n",
       "      <td>0.911472</td>\n",
       "    </tr>\n",
       "    <tr>\n",
       "      <th>max</th>\n",
       "      <td>0.967549</td>\n",
       "      <td>0.937139</td>\n",
       "      <td>0.937449</td>\n",
       "    </tr>\n",
       "  </tbody>\n",
       "</table>\n",
       "</div>\n",
       "      <button class=\"colab-df-convert\" onclick=\"convertToInteractive('df-7dbe99ec-ab27-4ae3-8955-3e70befe1401')\"\n",
       "              title=\"Convert this dataframe to an interactive table.\"\n",
       "              style=\"display:none;\">\n",
       "        \n",
       "  <svg xmlns=\"http://www.w3.org/2000/svg\" height=\"24px\"viewBox=\"0 0 24 24\"\n",
       "       width=\"24px\">\n",
       "    <path d=\"M0 0h24v24H0V0z\" fill=\"none\"/>\n",
       "    <path d=\"M18.56 5.44l.94 2.06.94-2.06 2.06-.94-2.06-.94-.94-2.06-.94 2.06-2.06.94zm-11 1L8.5 8.5l.94-2.06 2.06-.94-2.06-.94L8.5 2.5l-.94 2.06-2.06.94zm10 10l.94 2.06.94-2.06 2.06-.94-2.06-.94-.94-2.06-.94 2.06-2.06.94z\"/><path d=\"M17.41 7.96l-1.37-1.37c-.4-.4-.92-.59-1.43-.59-.52 0-1.04.2-1.43.59L10.3 9.45l-7.72 7.72c-.78.78-.78 2.05 0 2.83L4 21.41c.39.39.9.59 1.41.59.51 0 1.02-.2 1.41-.59l7.78-7.78 2.81-2.81c.8-.78.8-2.07 0-2.86zM5.41 20L4 18.59l7.72-7.72 1.47 1.35L5.41 20z\"/>\n",
       "  </svg>\n",
       "      </button>\n",
       "      \n",
       "  <style>\n",
       "    .colab-df-container {\n",
       "      display:flex;\n",
       "      flex-wrap:wrap;\n",
       "      gap: 12px;\n",
       "    }\n",
       "\n",
       "    .colab-df-convert {\n",
       "      background-color: #E8F0FE;\n",
       "      border: none;\n",
       "      border-radius: 50%;\n",
       "      cursor: pointer;\n",
       "      display: none;\n",
       "      fill: #1967D2;\n",
       "      height: 32px;\n",
       "      padding: 0 0 0 0;\n",
       "      width: 32px;\n",
       "    }\n",
       "\n",
       "    .colab-df-convert:hover {\n",
       "      background-color: #E2EBFA;\n",
       "      box-shadow: 0px 1px 2px rgba(60, 64, 67, 0.3), 0px 1px 3px 1px rgba(60, 64, 67, 0.15);\n",
       "      fill: #174EA6;\n",
       "    }\n",
       "\n",
       "    [theme=dark] .colab-df-convert {\n",
       "      background-color: #3B4455;\n",
       "      fill: #D2E3FC;\n",
       "    }\n",
       "\n",
       "    [theme=dark] .colab-df-convert:hover {\n",
       "      background-color: #434B5C;\n",
       "      box-shadow: 0px 1px 3px 1px rgba(0, 0, 0, 0.15);\n",
       "      filter: drop-shadow(0px 1px 2px rgba(0, 0, 0, 0.3));\n",
       "      fill: #FFFFFF;\n",
       "    }\n",
       "  </style>\n",
       "\n",
       "      <script>\n",
       "        const buttonEl =\n",
       "          document.querySelector('#df-7dbe99ec-ab27-4ae3-8955-3e70befe1401 button.colab-df-convert');\n",
       "        buttonEl.style.display =\n",
       "          google.colab.kernel.accessAllowed ? 'block' : 'none';\n",
       "\n",
       "        async function convertToInteractive(key) {\n",
       "          const element = document.querySelector('#df-7dbe99ec-ab27-4ae3-8955-3e70befe1401');\n",
       "          const dataTable =\n",
       "            await google.colab.kernel.invokeFunction('convertToInteractive',\n",
       "                                                     [key], {});\n",
       "          if (!dataTable) return;\n",
       "\n",
       "          const docLinkHtml = 'Like what you see? Visit the ' +\n",
       "            '<a target=\"_blank\" href=https://colab.research.google.com/notebooks/data_table.ipynb>data table notebook</a>'\n",
       "            + ' to learn more about interactive tables.';\n",
       "          element.innerHTML = '';\n",
       "          dataTable['output_type'] = 'display_data';\n",
       "          await google.colab.output.renderOutput(dataTable, element);\n",
       "          const docLink = document.createElement('div');\n",
       "          docLink.innerHTML = docLinkHtml;\n",
       "          element.appendChild(docLink);\n",
       "        }\n",
       "      </script>\n",
       "    </div>\n",
       "  </div>\n",
       "  "
      ]
     },
     "metadata": {},
     "execution_count": 100
    }
   ]
  },
  {
   "cell_type": "code",
   "source": [
    "results = evaluate(model, zip(test_imgs, test_masks))\n",
    "results.describe()"
   ],
   "metadata": {
    "colab": {
     "base_uri": "https://localhost:8080/",
     "height": 960
    },
    "id": "4KiucbgZpkmk",
    "outputId": "09975c4d-76a4-4644-8d2b-99e5eea7d5b0"
   },
   "execution_count": null,
   "outputs": [
    {
     "output_type": "stream",
     "name": "stderr",
     "text": [
      "\r0it [00:00, ?it/s]"
     ]
    },
    {
     "output_type": "stream",
     "name": "stdout",
     "text": [
      "1/1 [==============================] - 0s 31ms/step\n"
     ]
    },
    {
     "output_type": "stream",
     "name": "stderr",
     "text": [
      "\r1it [00:00,  7.88it/s]"
     ]
    },
    {
     "output_type": "stream",
     "name": "stdout",
     "text": [
      "1/1 [==============================] - 0s 23ms/step\n"
     ]
    },
    {
     "output_type": "stream",
     "name": "stderr",
     "text": [
      "\r2it [00:00,  8.15it/s]"
     ]
    },
    {
     "output_type": "stream",
     "name": "stdout",
     "text": [
      "1/1 [==============================] - 0s 22ms/step\n",
      "1/1 [==============================] - 0s 26ms/step\n"
     ]
    },
    {
     "output_type": "stream",
     "name": "stderr",
     "text": [
      "\r4it [00:00,  8.70it/s]"
     ]
    },
    {
     "output_type": "stream",
     "name": "stdout",
     "text": [
      "1/1 [==============================] - 0s 27ms/step\n"
     ]
    },
    {
     "output_type": "stream",
     "name": "stderr",
     "text": [
      "\r5it [00:00,  7.52it/s]"
     ]
    },
    {
     "output_type": "stream",
     "name": "stdout",
     "text": [
      "1/1 [==============================] - 0s 28ms/step\n"
     ]
    },
    {
     "output_type": "stream",
     "name": "stderr",
     "text": [
      "\r6it [00:00,  6.57it/s]"
     ]
    },
    {
     "output_type": "stream",
     "name": "stdout",
     "text": [
      "1/1 [==============================] - 0s 31ms/step\n"
     ]
    },
    {
     "output_type": "stream",
     "name": "stderr",
     "text": [
      "\r7it [00:06,  1.88s/it]"
     ]
    },
    {
     "output_type": "stream",
     "name": "stdout",
     "text": [
      "1/1 [==============================] - 0s 39ms/step\n"
     ]
    },
    {
     "output_type": "stream",
     "name": "stderr",
     "text": [
      "\r8it [00:06,  1.38s/it]"
     ]
    },
    {
     "output_type": "stream",
     "name": "stdout",
     "text": [
      "1/1 [==============================] - 0s 43ms/step\n"
     ]
    },
    {
     "output_type": "stream",
     "name": "stderr",
     "text": [
      "\r9it [00:07,  1.02s/it]"
     ]
    },
    {
     "output_type": "stream",
     "name": "stdout",
     "text": [
      "1/1 [==============================] - 0s 38ms/step\n"
     ]
    },
    {
     "output_type": "stream",
     "name": "stderr",
     "text": [
      "\r10it [00:07,  1.20it/s]"
     ]
    },
    {
     "output_type": "stream",
     "name": "stdout",
     "text": [
      "1/1 [==============================] - 0s 30ms/step\n"
     ]
    },
    {
     "output_type": "stream",
     "name": "stderr",
     "text": [
      "\r11it [00:07,  1.51it/s]"
     ]
    },
    {
     "output_type": "stream",
     "name": "stdout",
     "text": [
      "1/1 [==============================] - 0s 25ms/step\n"
     ]
    },
    {
     "output_type": "stream",
     "name": "stderr",
     "text": [
      "\r12it [00:07,  1.91it/s]"
     ]
    },
    {
     "output_type": "stream",
     "name": "stdout",
     "text": [
      "1/1 [==============================] - 0s 25ms/step\n"
     ]
    },
    {
     "output_type": "stream",
     "name": "stderr",
     "text": [
      "\r13it [00:08,  2.45it/s]"
     ]
    },
    {
     "output_type": "stream",
     "name": "stdout",
     "text": [
      "1/1 [==============================] - 0s 26ms/step\n"
     ]
    },
    {
     "output_type": "stream",
     "name": "stderr",
     "text": [
      "\r14it [00:10,  1.10it/s]"
     ]
    },
    {
     "output_type": "stream",
     "name": "stdout",
     "text": [
      "1/1 [==============================] - 0s 22ms/step\n"
     ]
    },
    {
     "output_type": "stream",
     "name": "stderr",
     "text": [
      "\r15it [00:10,  1.51it/s]"
     ]
    },
    {
     "output_type": "stream",
     "name": "stdout",
     "text": [
      "1/1 [==============================] - 0s 23ms/step\n"
     ]
    },
    {
     "output_type": "stream",
     "name": "stderr",
     "text": [
      "\r16it [00:10,  1.96it/s]"
     ]
    },
    {
     "output_type": "stream",
     "name": "stdout",
     "text": [
      "1/1 [==============================] - 0s 24ms/step\n"
     ]
    },
    {
     "output_type": "stream",
     "name": "stderr",
     "text": [
      "\r17it [00:10,  2.37it/s]"
     ]
    },
    {
     "output_type": "stream",
     "name": "stdout",
     "text": [
      "1/1 [==============================] - 0s 25ms/step\n"
     ]
    },
    {
     "output_type": "stream",
     "name": "stderr",
     "text": [
      "\r18it [00:10,  2.67it/s]"
     ]
    },
    {
     "output_type": "stream",
     "name": "stdout",
     "text": [
      "1/1 [==============================] - 0s 25ms/step\n"
     ]
    },
    {
     "output_type": "stream",
     "name": "stderr",
     "text": [
      "\r19it [00:11,  3.20it/s]"
     ]
    },
    {
     "output_type": "stream",
     "name": "stdout",
     "text": [
      "1/1 [==============================] - 0s 27ms/step\n"
     ]
    },
    {
     "output_type": "stream",
     "name": "stderr",
     "text": [
      "\r20it [00:11,  3.69it/s]"
     ]
    },
    {
     "output_type": "stream",
     "name": "stdout",
     "text": [
      "1/1 [==============================] - 0s 25ms/step\n"
     ]
    },
    {
     "output_type": "stream",
     "name": "stderr",
     "text": [
      "\r21it [00:11,  3.81it/s]"
     ]
    },
    {
     "output_type": "stream",
     "name": "stdout",
     "text": [
      "1/1 [==============================] - 0s 29ms/step\n"
     ]
    },
    {
     "output_type": "stream",
     "name": "stderr",
     "text": [
      "\r22it [00:12,  1.89it/s]"
     ]
    },
    {
     "output_type": "stream",
     "name": "stdout",
     "text": [
      "1/1 [==============================] - 0s 24ms/step\n"
     ]
    },
    {
     "output_type": "stream",
     "name": "stderr",
     "text": [
      "\r23it [00:12,  2.23it/s]"
     ]
    },
    {
     "output_type": "stream",
     "name": "stdout",
     "text": [
      "1/1 [==============================] - 0s 23ms/step\n"
     ]
    },
    {
     "output_type": "stream",
     "name": "stderr",
     "text": [
      "\r24it [00:12,  2.86it/s]"
     ]
    },
    {
     "output_type": "stream",
     "name": "stdout",
     "text": [
      "1/1 [==============================] - 0s 28ms/step\n"
     ]
    },
    {
     "output_type": "stream",
     "name": "stderr",
     "text": [
      "\r25it [00:13,  3.08it/s]"
     ]
    },
    {
     "output_type": "stream",
     "name": "stdout",
     "text": [
      "1/1 [==============================] - 0s 23ms/step\n"
     ]
    },
    {
     "output_type": "stream",
     "name": "stderr",
     "text": [
      "\r26it [00:13,  3.30it/s]"
     ]
    },
    {
     "output_type": "stream",
     "name": "stdout",
     "text": [
      "1/1 [==============================] - 0s 27ms/step\n"
     ]
    },
    {
     "output_type": "stream",
     "name": "stderr",
     "text": [
      "\r27it [00:13,  3.99it/s]"
     ]
    },
    {
     "output_type": "stream",
     "name": "stdout",
     "text": [
      "1/1 [==============================] - 0s 30ms/step\n"
     ]
    },
    {
     "output_type": "stream",
     "name": "stderr",
     "text": [
      "\r28it [00:13,  3.96it/s]"
     ]
    },
    {
     "output_type": "stream",
     "name": "stdout",
     "text": [
      "1/1 [==============================] - 0s 25ms/step\n"
     ]
    },
    {
     "output_type": "stream",
     "name": "stderr",
     "text": [
      "\r29it [00:14,  3.82it/s]"
     ]
    },
    {
     "output_type": "stream",
     "name": "stdout",
     "text": [
      "1/1 [==============================] - 0s 26ms/step\n"
     ]
    },
    {
     "output_type": "stream",
     "name": "stderr",
     "text": [
      "\r30it [00:14,  2.40it/s]"
     ]
    },
    {
     "output_type": "stream",
     "name": "stdout",
     "text": [
      "1/1 [==============================] - 0s 28ms/step\n"
     ]
    },
    {
     "output_type": "stream",
     "name": "stderr",
     "text": [
      "\r31it [00:15,  2.89it/s]"
     ]
    },
    {
     "output_type": "stream",
     "name": "stdout",
     "text": [
      "1/1 [==============================] - 0s 45ms/step\n"
     ]
    },
    {
     "output_type": "stream",
     "name": "stderr",
     "text": [
      "\r32it [00:50, 10.92s/it]"
     ]
    },
    {
     "output_type": "stream",
     "name": "stdout",
     "text": [
      "1/1 [==============================] - 0s 34ms/step\n"
     ]
    },
    {
     "output_type": "stream",
     "name": "stderr",
     "text": [
      "\r33it [00:50,  7.71s/it]"
     ]
    },
    {
     "output_type": "stream",
     "name": "stdout",
     "text": [
      "1/1 [==============================] - 0s 45ms/step\n"
     ]
    },
    {
     "output_type": "stream",
     "name": "stderr",
     "text": [
      "\r34it [00:51,  5.45s/it]"
     ]
    },
    {
     "output_type": "stream",
     "name": "stdout",
     "text": [
      "1/1 [==============================] - 0s 33ms/step\n"
     ]
    },
    {
     "output_type": "stream",
     "name": "stderr",
     "text": [
      "\r35it [00:51,  3.86s/it]"
     ]
    },
    {
     "output_type": "stream",
     "name": "stdout",
     "text": [
      "1/1 [==============================] - 0s 38ms/step\n"
     ]
    },
    {
     "output_type": "stream",
     "name": "stderr",
     "text": [
      "\r36it [00:51,  2.77s/it]"
     ]
    },
    {
     "output_type": "stream",
     "name": "stdout",
     "text": [
      "1/1 [==============================] - 0s 35ms/step\n"
     ]
    },
    {
     "output_type": "stream",
     "name": "stderr",
     "text": [
      "37it [00:51,  1.40s/it]\n"
     ]
    },
    {
     "output_type": "execute_result",
     "data": {
      "text/plain": [
       "            dice        iou        map\n",
       "count  37.000000  37.000000  37.000000\n",
       "mean    0.891386   0.812313   0.776038\n",
       "std     0.079645   0.118574   0.141494\n",
       "min     0.634220   0.464364   0.379684\n",
       "25%     0.880161   0.785970   0.762146\n",
       "50%     0.905044   0.826557   0.797657\n",
       "75%     0.951754   0.907948   0.855009\n",
       "max     0.975086   0.951383   0.977436"
      ],
      "text/html": [
       "\n",
       "  <div id=\"df-96194630-e4a3-47c6-ab41-b0a8e9aa34ad\">\n",
       "    <div class=\"colab-df-container\">\n",
       "      <div>\n",
       "<style scoped>\n",
       "    .dataframe tbody tr th:only-of-type {\n",
       "        vertical-align: middle;\n",
       "    }\n",
       "\n",
       "    .dataframe tbody tr th {\n",
       "        vertical-align: top;\n",
       "    }\n",
       "\n",
       "    .dataframe thead th {\n",
       "        text-align: right;\n",
       "    }\n",
       "</style>\n",
       "<table border=\"1\" class=\"dataframe\">\n",
       "  <thead>\n",
       "    <tr style=\"text-align: right;\">\n",
       "      <th></th>\n",
       "      <th>dice</th>\n",
       "      <th>iou</th>\n",
       "      <th>map</th>\n",
       "    </tr>\n",
       "  </thead>\n",
       "  <tbody>\n",
       "    <tr>\n",
       "      <th>count</th>\n",
       "      <td>37.000000</td>\n",
       "      <td>37.000000</td>\n",
       "      <td>37.000000</td>\n",
       "    </tr>\n",
       "    <tr>\n",
       "      <th>mean</th>\n",
       "      <td>0.891386</td>\n",
       "      <td>0.812313</td>\n",
       "      <td>0.776038</td>\n",
       "    </tr>\n",
       "    <tr>\n",
       "      <th>std</th>\n",
       "      <td>0.079645</td>\n",
       "      <td>0.118574</td>\n",
       "      <td>0.141494</td>\n",
       "    </tr>\n",
       "    <tr>\n",
       "      <th>min</th>\n",
       "      <td>0.634220</td>\n",
       "      <td>0.464364</td>\n",
       "      <td>0.379684</td>\n",
       "    </tr>\n",
       "    <tr>\n",
       "      <th>25%</th>\n",
       "      <td>0.880161</td>\n",
       "      <td>0.785970</td>\n",
       "      <td>0.762146</td>\n",
       "    </tr>\n",
       "    <tr>\n",
       "      <th>50%</th>\n",
       "      <td>0.905044</td>\n",
       "      <td>0.826557</td>\n",
       "      <td>0.797657</td>\n",
       "    </tr>\n",
       "    <tr>\n",
       "      <th>75%</th>\n",
       "      <td>0.951754</td>\n",
       "      <td>0.907948</td>\n",
       "      <td>0.855009</td>\n",
       "    </tr>\n",
       "    <tr>\n",
       "      <th>max</th>\n",
       "      <td>0.975086</td>\n",
       "      <td>0.951383</td>\n",
       "      <td>0.977436</td>\n",
       "    </tr>\n",
       "  </tbody>\n",
       "</table>\n",
       "</div>\n",
       "      <button class=\"colab-df-convert\" onclick=\"convertToInteractive('df-96194630-e4a3-47c6-ab41-b0a8e9aa34ad')\"\n",
       "              title=\"Convert this dataframe to an interactive table.\"\n",
       "              style=\"display:none;\">\n",
       "        \n",
       "  <svg xmlns=\"http://www.w3.org/2000/svg\" height=\"24px\"viewBox=\"0 0 24 24\"\n",
       "       width=\"24px\">\n",
       "    <path d=\"M0 0h24v24H0V0z\" fill=\"none\"/>\n",
       "    <path d=\"M18.56 5.44l.94 2.06.94-2.06 2.06-.94-2.06-.94-.94-2.06-.94 2.06-2.06.94zm-11 1L8.5 8.5l.94-2.06 2.06-.94-2.06-.94L8.5 2.5l-.94 2.06-2.06.94zm10 10l.94 2.06.94-2.06 2.06-.94-2.06-.94-.94-2.06-.94 2.06-2.06.94z\"/><path d=\"M17.41 7.96l-1.37-1.37c-.4-.4-.92-.59-1.43-.59-.52 0-1.04.2-1.43.59L10.3 9.45l-7.72 7.72c-.78.78-.78 2.05 0 2.83L4 21.41c.39.39.9.59 1.41.59.51 0 1.02-.2 1.41-.59l7.78-7.78 2.81-2.81c.8-.78.8-2.07 0-2.86zM5.41 20L4 18.59l7.72-7.72 1.47 1.35L5.41 20z\"/>\n",
       "  </svg>\n",
       "      </button>\n",
       "      \n",
       "  <style>\n",
       "    .colab-df-container {\n",
       "      display:flex;\n",
       "      flex-wrap:wrap;\n",
       "      gap: 12px;\n",
       "    }\n",
       "\n",
       "    .colab-df-convert {\n",
       "      background-color: #E8F0FE;\n",
       "      border: none;\n",
       "      border-radius: 50%;\n",
       "      cursor: pointer;\n",
       "      display: none;\n",
       "      fill: #1967D2;\n",
       "      height: 32px;\n",
       "      padding: 0 0 0 0;\n",
       "      width: 32px;\n",
       "    }\n",
       "\n",
       "    .colab-df-convert:hover {\n",
       "      background-color: #E2EBFA;\n",
       "      box-shadow: 0px 1px 2px rgba(60, 64, 67, 0.3), 0px 1px 3px 1px rgba(60, 64, 67, 0.15);\n",
       "      fill: #174EA6;\n",
       "    }\n",
       "\n",
       "    [theme=dark] .colab-df-convert {\n",
       "      background-color: #3B4455;\n",
       "      fill: #D2E3FC;\n",
       "    }\n",
       "\n",
       "    [theme=dark] .colab-df-convert:hover {\n",
       "      background-color: #434B5C;\n",
       "      box-shadow: 0px 1px 3px 1px rgba(0, 0, 0, 0.15);\n",
       "      filter: drop-shadow(0px 1px 2px rgba(0, 0, 0, 0.3));\n",
       "      fill: #FFFFFF;\n",
       "    }\n",
       "  </style>\n",
       "\n",
       "      <script>\n",
       "        const buttonEl =\n",
       "          document.querySelector('#df-96194630-e4a3-47c6-ab41-b0a8e9aa34ad button.colab-df-convert');\n",
       "        buttonEl.style.display =\n",
       "          google.colab.kernel.accessAllowed ? 'block' : 'none';\n",
       "\n",
       "        async function convertToInteractive(key) {\n",
       "          const element = document.querySelector('#df-96194630-e4a3-47c6-ab41-b0a8e9aa34ad');\n",
       "          const dataTable =\n",
       "            await google.colab.kernel.invokeFunction('convertToInteractive',\n",
       "                                                     [key], {});\n",
       "          if (!dataTable) return;\n",
       "\n",
       "          const docLinkHtml = 'Like what you see? Visit the ' +\n",
       "            '<a target=\"_blank\" href=https://colab.research.google.com/notebooks/data_table.ipynb>data table notebook</a>'\n",
       "            + ' to learn more about interactive tables.';\n",
       "          element.innerHTML = '';\n",
       "          dataTable['output_type'] = 'display_data';\n",
       "          await google.colab.output.renderOutput(dataTable, element);\n",
       "          const docLink = document.createElement('div');\n",
       "          docLink.innerHTML = docLinkHtml;\n",
       "          element.appendChild(docLink);\n",
       "        }\n",
       "      </script>\n",
       "    </div>\n",
       "  </div>\n",
       "  "
      ]
     },
     "metadata": {},
     "execution_count": 101
    }
   ]
  },
  {
   "cell_type": "code",
   "source": [
    "from google.colab import files\n",
    "test_images = [\"Ganglioneuroblastoma_4.tif\", \"Neuroblastoma_2.tif\", \"normal_32.tif\"]\n",
    "preds = {}\n",
    "for i, name in enumerate(files_names):\n",
    "  if name in test_images:\n",
    "    img = test_imgs[i]\n",
    "    mask = test_masks[i]\n",
    "    pred = model.predict_instances(img)[0]\n",
    "    mask = np.squeeze(mask)\n",
    "    pred = map_mask(mask, pred)\n",
    "    preds[name] = pred"
   ],
   "metadata": {
    "colab": {
     "base_uri": "https://localhost:8080/"
    },
    "id": "lQQy5zGK2qYK",
    "outputId": "e0e127d1-ce5e-461e-9f5c-a81390742418"
   },
   "execution_count": null,
   "outputs": [
    {
     "output_type": "stream",
     "name": "stdout",
     "text": [
      "1/1 [==============================] - 0s 39ms/step\n",
      "1/1 [==============================] - 0s 44ms/step\n",
      "1/1 [==============================] - 0s 42ms/step\n"
     ]
    }
   ]
  },
  {
   "cell_type": "code",
   "source": [
    "plt.imshow(preds[\"Ganglioneuroblastoma_4.tif\"])"
   ],
   "metadata": {
    "colab": {
     "base_uri": "https://localhost:8080/",
     "height": 452
    },
    "id": "CL5rQWZm7FJQ",
    "outputId": "90595b21-2b0a-4820-80e4-6cf19c2c9dbe"
   },
   "execution_count": null,
   "outputs": [
    {
     "output_type": "execute_result",
     "data": {
      "text/plain": [
       "<matplotlib.image.AxesImage at 0x7f82bd68a320>"
      ]
     },
     "metadata": {},
     "execution_count": 103
    },
    {
     "output_type": "display_data",
     "data": {
      "text/plain": [
       "<Figure size 640x480 with 1 Axes>"
      ],
      "image/png": "[encoded data removed]"
     },
     "metadata": {}
    }
   ]
  }
 ],
 "metadata": {
  "accelerator": "GPU",
  "colab": {
   "provenance": [],
   "gpuType": "T4"
  },
  "kernelspec": {
   "display_name": "Python 3",
   "name": "python3"
  },
  "language_info": {
   "name": "python"
  }
 },
 "nbformat": 4,
 "nbformat_minor": 0
}