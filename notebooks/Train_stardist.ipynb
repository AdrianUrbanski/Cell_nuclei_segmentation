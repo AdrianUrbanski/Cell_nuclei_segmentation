{
 "cells": [
  {
   "cell_type": "markdown",
   "source": [
    "# Installing requirements"
   ],
   "metadata": {
    "id": "W9uhJ_nr4Q6H"
   }
  },
  {
   "cell_type": "code",
   "execution_count": null,
   "metadata": {
    "id": "0koGpnQPTZD8",
    "colab": {
     "base_uri": "https://localhost:8080/"
    },
    "outputId": "5e4c585c-ae60-4e65-eff0-af3982248685"
   },
   "outputs": [],
   "source": [
    "# Only when running in Colab\n",
    "!pip install git+https://github.com/AdrianUrbanski/Cell_nuclei_segmentation.git"
   ]
  },
  {
   "cell_type": "code",
   "execution_count": null,
   "metadata": {
    "colab": {
     "base_uri": "https://localhost:8080/"
    },
    "id": "R5Z1GvM-TeV-",
    "outputId": "61f85b12-ec35-445f-a61d-4edbbc0a6f38"
   },
   "outputs": [],
   "source": [
    "!pip install pytorch-lightning\n",
    "!pip install pytorch-toolbelt\n",
    "!pip install imagecodecs\n",
    "!pip install stardist\n",
    "!pip install wandb"
   ]
  },
  {
   "cell_type": "markdown",
   "source": [
    "# Imports"
   ],
   "metadata": {
    "id": "AzY1LcSw4TjR"
   }
  },
  {
   "cell_type": "code",
   "execution_count": null,
   "metadata": {
    "id": "QSaRGPwUTmxS"
   },
   "outputs": [],
   "source": [
    "from __future__ import annotations\n",
    "\n",
    "from os import listdir\n",
    "\n",
    "import imageio.v2 as imageio\n",
    "import matplotlib.pyplot as plt\n",
    "import wandb\n",
    "from csbdeep.utils import normalize\n",
    "from google.colab import drive\n",
    "from stardist.models import StarDist2D\n",
    "from stardist.plot import render_label"
   ]
  },
  {
   "cell_type": "markdown",
   "source": [
    "# Mounting Google Drive"
   ],
   "metadata": {
    "id": "fZcf8yN34UqF"
   }
  },
  {
   "cell_type": "code",
   "execution_count": null,
   "metadata": {
    "id": "ZTcIpHsATlZl",
    "colab": {
     "base_uri": "https://localhost:8080/"
    },
    "outputId": "a7d4ad55-7a10-4acd-fee1-d839452fd238"
   },
   "outputs": [],
   "source": [
    "drive.mount('/content/drive')"
   ]
  },
  {
   "cell_type": "markdown",
   "source": [
    "# Logging in to Wandb"
   ],
   "metadata": {
    "id": "9_Yt_S0e4X-g"
   }
  },
  {
   "cell_type": "code",
   "execution_count": null,
   "metadata": {
    "id": "8VgFkcaDTvJq",
    "colab": {
     "base_uri": "https://localhost:8080/",
     "height": 69
    },
    "outputId": "c1228d42-ac52-4641-8551-37d825a35541"
   },
   "outputs": [],
   "source": [
    "wandb.login()"
   ]
  },
  {
   "cell_type": "markdown",
   "source": [
    "# Loading data"
   ],
   "metadata": {
    "id": "rz4QcUNo4d8f"
   }
  },
  {
   "cell_type": "code",
   "execution_count": null,
   "metadata": {
    "id": "chG4GRbbTrAO"
   },
   "outputs": [],
   "source": [
    "PATH = '/content/drive/MyDrive/Cell_segmentation'\n",
    "files_names =  listdir(f'{PATH}/train/img')\n",
    "train_imgs = [imageio.imread(f'{PATH}/train/img/{f}') for f in files_names]\n",
    "train_masks = [imageio.imread(f'{PATH}/train/mask/{f}') for f in files_names]\n",
    "\n",
    "train_imgs = [normalize(img) if len(img.shape) == 2 else normalize(img[:, :, 0]) for img in train_imgs]\n",
    "train_masks = [img.astype(int) if len(img.shape) == 2 else img[:, :, 0].astype(int) for img in train_masks]\n",
    "\n",
    "files_names =  listdir(f'{PATH}/val/img')\n",
    "val_imgs = [imageio.imread(f'{PATH}/val/img/{f}') for f in files_names]\n",
    "val_masks = [imageio.imread(f'{PATH}/val/mask/{f}') for f in files_names]\n",
    "\n",
    "val_imgs = [normalize(img) if len(img.shape) == 2 else normalize(img[:, :, 0]) for img in val_imgs]\n",
    "val_masks = [img.astype(int) if len(img.shape) == 2 else img[:, :, 0].astype(int) for img in val_masks]"
   ]
  },
  {
   "cell_type": "markdown",
   "source": [
    "# Loading pretrained model"
   ],
   "metadata": {
    "id": "kvCqaVxh5CT7"
   }
  },
  {
   "cell_type": "code",
   "source": [
    "model = StarDist2D.from_pretrained('2D_versatile_fluo')"
   ],
   "metadata": {
    "colab": {
     "base_uri": "https://localhost:8080/"
    },
    "id": "Kpo-nlblUTTs",
    "outputId": "8fd61ed6-bbc2-4a3d-f7de-eddf13ee1826"
   },
   "execution_count": null,
   "outputs": []
  },
  {
   "cell_type": "code",
   "source": [
    "example_pred = model.predict_instances(val_imgs[0])\n",
    "plt.imshow(render_label(example_pred[0], val_imgs[0]))"
   ],
   "metadata": {
    "colab": {
     "base_uri": "https://localhost:8080/",
     "height": 470
    },
    "id": "sqSPvOBx5FXB",
    "outputId": "e319a4fb-11c0-45fd-8b82-2bd1837bed0b"
   },
   "execution_count": null,
   "outputs": []
  },
  {
   "cell_type": "markdown",
   "source": [
    "# Finetuning pretrained model"
   ],
   "metadata": {
    "id": "AWYFD2LL5dqF"
   }
  },
  {
   "cell_type": "code",
   "source": [
    "model.train(train_imgs, train_masks, validation_data=(val_imgs, val_masks), augmenter=None, epochs=10, steps_per_epoch=30)"
   ],
   "metadata": {
    "colab": {
     "base_uri": "https://localhost:8080/"
    },
    "id": "klpOYQ2nbHvY",
    "outputId": "b80f0ebc-ed35-4b00-ee65-638f20df4012",
    "pycharm": {
     "is_executing": true
    }
   },
   "execution_count": null,
   "outputs": []
  },
  {
   "cell_type": "code",
   "source": [
    "model.optimize_thresholds(val_imgs, val_masks)"
   ],
   "metadata": {
    "id": "-cMepQTtdjsU"
   },
   "execution_count": null,
   "outputs": []
  },
  {
   "cell_type": "code",
   "source": [
    "example_pred = model.predict_instances(val_imgs[0])\n",
    "plt.imshow(render_label(example_pred[0], val_imgs[0]))"
   ],
   "metadata": {
    "id": "Oq8RWB4Idrov"
   },
   "execution_count": null,
   "outputs": []
  }
 ],
 "metadata": {
  "accelerator": "GPU",
  "colab": {
   "provenance": []
  },
  "kernelspec": {
   "display_name": "Python 3",
   "name": "python3"
  },
  "language_info": {
   "name": "python"
  }
 },
 "nbformat": 4,
 "nbformat_minor": 0
}